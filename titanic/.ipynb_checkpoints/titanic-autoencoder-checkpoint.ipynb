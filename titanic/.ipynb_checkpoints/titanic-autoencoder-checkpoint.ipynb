{
 "cells": [
  {
   "cell_type": "code",
   "execution_count": 23,
   "metadata": {},
   "outputs": [],
   "source": [
    "import h2o"
   ]
  },
  {
   "cell_type": "code",
   "execution_count": 24,
   "metadata": {},
   "outputs": [
    {
     "name": "stdout",
     "output_type": "stream",
     "text": [
      "Checking whether there is an H2O instance running at http://localhost:54321. connected.\n",
      "Warning: Your H2O cluster version is too old (7 months and 6 days)! Please download and install the latest version from http://h2o.ai/download/\n"
     ]
    },
    {
     "data": {
      "text/html": [
       "<div style=\"overflow:auto\"><table style=\"width:50%\"><tr><td>H2O cluster uptime:</td>\n",
       "<td>1 day 15 hours 50 mins</td></tr>\n",
       "<tr><td>H2O cluster timezone:</td>\n",
       "<td>America/Santiago</td></tr>\n",
       "<tr><td>H2O data parsing timezone:</td>\n",
       "<td>UTC</td></tr>\n",
       "<tr><td>H2O cluster version:</td>\n",
       "<td>3.18.0.2</td></tr>\n",
       "<tr><td>H2O cluster version age:</td>\n",
       "<td>7 months and 6 days !!!</td></tr>\n",
       "<tr><td>H2O cluster name:</td>\n",
       "<td>H2O_from_python_maravenag_lbq9r3</td></tr>\n",
       "<tr><td>H2O cluster total nodes:</td>\n",
       "<td>1</td></tr>\n",
       "<tr><td>H2O cluster free memory:</td>\n",
       "<td>2.991 Gb</td></tr>\n",
       "<tr><td>H2O cluster total cores:</td>\n",
       "<td>8</td></tr>\n",
       "<tr><td>H2O cluster allowed cores:</td>\n",
       "<td>8</td></tr>\n",
       "<tr><td>H2O cluster status:</td>\n",
       "<td>locked, healthy</td></tr>\n",
       "<tr><td>H2O connection url:</td>\n",
       "<td>http://localhost:54321</td></tr>\n",
       "<tr><td>H2O connection proxy:</td>\n",
       "<td>None</td></tr>\n",
       "<tr><td>H2O internal security:</td>\n",
       "<td>False</td></tr>\n",
       "<tr><td>H2O API Extensions:</td>\n",
       "<td>XGBoost, Algos, AutoML, Core V3, Core V4</td></tr>\n",
       "<tr><td>Python version:</td>\n",
       "<td>3.6.5 final</td></tr></table></div>"
      ],
      "text/plain": [
       "--------------------------  ----------------------------------------\n",
       "H2O cluster uptime:         1 day 15 hours 50 mins\n",
       "H2O cluster timezone:       America/Santiago\n",
       "H2O data parsing timezone:  UTC\n",
       "H2O cluster version:        3.18.0.2\n",
       "H2O cluster version age:    7 months and 6 days !!!\n",
       "H2O cluster name:           H2O_from_python_maravenag_lbq9r3\n",
       "H2O cluster total nodes:    1\n",
       "H2O cluster free memory:    2.991 Gb\n",
       "H2O cluster total cores:    8\n",
       "H2O cluster allowed cores:  8\n",
       "H2O cluster status:         locked, healthy\n",
       "H2O connection url:         http://localhost:54321\n",
       "H2O connection proxy:\n",
       "H2O internal security:      False\n",
       "H2O API Extensions:         XGBoost, Algos, AutoML, Core V3, Core V4\n",
       "Python version:             3.6.5 final\n",
       "--------------------------  ----------------------------------------"
      ]
     },
     "metadata": {},
     "output_type": "display_data"
    }
   ],
   "source": [
    "h2o.init()\n",
    "h2o.remove_all()"
   ]
  },
  {
   "cell_type": "code",
   "execution_count": 25,
   "metadata": {},
   "outputs": [
    {
     "name": "stdout",
     "output_type": "stream",
     "text": [
      "Parse progress: |█████████████████████████████████████████████████████████| 100%\n"
     ]
    }
   ],
   "source": [
    "train = h2o.upload_file(\"data/train.csv\", destination_frame=\"train\")"
   ]
  },
  {
   "cell_type": "code",
   "execution_count": 26,
   "metadata": {},
   "outputs": [
    {
     "data": {
      "text/html": [
       "<table>\n",
       "<thead>\n",
       "<tr><th style=\"text-align: right;\">  PassengerId</th><th style=\"text-align: right;\">  Survived</th><th style=\"text-align: right;\">  Pclass</th><th>Name                                               </th><th>Sex   </th><th style=\"text-align: right;\">  Age</th><th style=\"text-align: right;\">  SibSp</th><th style=\"text-align: right;\">  Parch</th><th style=\"text-align: right;\">  Ticket</th><th style=\"text-align: right;\">   Fare</th><th>Cabin  </th><th>Embarked  </th></tr>\n",
       "</thead>\n",
       "<tbody>\n",
       "<tr><td style=\"text-align: right;\">            1</td><td style=\"text-align: right;\">         0</td><td style=\"text-align: right;\">       3</td><td>Braund, Mr. Owen Harris                            </td><td>male  </td><td style=\"text-align: right;\">   22</td><td style=\"text-align: right;\">      1</td><td style=\"text-align: right;\">      0</td><td style=\"text-align: right;\">     nan</td><td style=\"text-align: right;\"> 7.25  </td><td>       </td><td>S         </td></tr>\n",
       "<tr><td style=\"text-align: right;\">            2</td><td style=\"text-align: right;\">         1</td><td style=\"text-align: right;\">       1</td><td>Cumings, Mrs. John Bradley (Florence Briggs Thayer)</td><td>female</td><td style=\"text-align: right;\">   38</td><td style=\"text-align: right;\">      1</td><td style=\"text-align: right;\">      0</td><td style=\"text-align: right;\">     nan</td><td style=\"text-align: right;\">71.2833</td><td>C85    </td><td>C         </td></tr>\n",
       "<tr><td style=\"text-align: right;\">            3</td><td style=\"text-align: right;\">         1</td><td style=\"text-align: right;\">       3</td><td>Heikkinen, Miss. Laina                             </td><td>female</td><td style=\"text-align: right;\">   26</td><td style=\"text-align: right;\">      0</td><td style=\"text-align: right;\">      0</td><td style=\"text-align: right;\">     nan</td><td style=\"text-align: right;\"> 7.925 </td><td>       </td><td>S         </td></tr>\n",
       "</tbody>\n",
       "</table>"
      ]
     },
     "metadata": {},
     "output_type": "display_data"
    },
    {
     "data": {
      "text/plain": []
     },
     "execution_count": 26,
     "metadata": {},
     "output_type": "execute_result"
    }
   ],
   "source": [
    "train.head(3)\n",
    "#test no tiene la clases :o"
   ]
  },
  {
   "cell_type": "code",
   "execution_count": 27,
   "metadata": {},
   "outputs": [],
   "source": [
    "train = train.drop(\"PassengerId\")\n",
    "train = train.drop(\"Name\")\n",
    "train = train.drop(\"Cabin\")\n",
    "train = train.drop(\"Ticket\")"
   ]
  },
  {
   "cell_type": "code",
   "execution_count": 28,
   "metadata": {},
   "outputs": [],
   "source": [
    "train, test = train.split_frame(ratios=[0.7])"
   ]
  },
  {
   "cell_type": "code",
   "execution_count": 29,
   "metadata": {},
   "outputs": [
    {
     "data": {
      "text/html": [
       "<table>\n",
       "<thead>\n",
       "<tr><th style=\"text-align: right;\">  Survived</th><th style=\"text-align: right;\">  Pclass</th><th>Sex   </th><th style=\"text-align: right;\">  Age</th><th style=\"text-align: right;\">  SibSp</th><th style=\"text-align: right;\">  Parch</th><th style=\"text-align: right;\">   Fare</th><th>Embarked  </th></tr>\n",
       "</thead>\n",
       "<tbody>\n",
       "<tr><td style=\"text-align: right;\">         0</td><td style=\"text-align: right;\">       3</td><td>male  </td><td style=\"text-align: right;\">   22</td><td style=\"text-align: right;\">      1</td><td style=\"text-align: right;\">      0</td><td style=\"text-align: right;\"> 7.25  </td><td>S         </td></tr>\n",
       "<tr><td style=\"text-align: right;\">         1</td><td style=\"text-align: right;\">       1</td><td>female</td><td style=\"text-align: right;\">   38</td><td style=\"text-align: right;\">      1</td><td style=\"text-align: right;\">      0</td><td style=\"text-align: right;\">71.2833</td><td>C         </td></tr>\n",
       "<tr><td style=\"text-align: right;\">         1</td><td style=\"text-align: right;\">       3</td><td>female</td><td style=\"text-align: right;\">   26</td><td style=\"text-align: right;\">      0</td><td style=\"text-align: right;\">      0</td><td style=\"text-align: right;\"> 7.925 </td><td>S         </td></tr>\n",
       "<tr><td style=\"text-align: right;\">         1</td><td style=\"text-align: right;\">       1</td><td>female</td><td style=\"text-align: right;\">   35</td><td style=\"text-align: right;\">      1</td><td style=\"text-align: right;\">      0</td><td style=\"text-align: right;\">53.1   </td><td>S         </td></tr>\n",
       "<tr><td style=\"text-align: right;\">         0</td><td style=\"text-align: right;\">       3</td><td>male  </td><td style=\"text-align: right;\">   35</td><td style=\"text-align: right;\">      0</td><td style=\"text-align: right;\">      0</td><td style=\"text-align: right;\"> 8.05  </td><td>S         </td></tr>\n",
       "<tr><td style=\"text-align: right;\">         0</td><td style=\"text-align: right;\">       3</td><td>male  </td><td style=\"text-align: right;\">  nan</td><td style=\"text-align: right;\">      0</td><td style=\"text-align: right;\">      0</td><td style=\"text-align: right;\"> 8.4583</td><td>Q         </td></tr>\n",
       "<tr><td style=\"text-align: right;\">         0</td><td style=\"text-align: right;\">       1</td><td>male  </td><td style=\"text-align: right;\">   54</td><td style=\"text-align: right;\">      0</td><td style=\"text-align: right;\">      0</td><td style=\"text-align: right;\">51.8625</td><td>S         </td></tr>\n",
       "<tr><td style=\"text-align: right;\">         0</td><td style=\"text-align: right;\">       3</td><td>male  </td><td style=\"text-align: right;\">    2</td><td style=\"text-align: right;\">      3</td><td style=\"text-align: right;\">      1</td><td style=\"text-align: right;\">21.075 </td><td>S         </td></tr>\n",
       "<tr><td style=\"text-align: right;\">         1</td><td style=\"text-align: right;\">       3</td><td>female</td><td style=\"text-align: right;\">   27</td><td style=\"text-align: right;\">      0</td><td style=\"text-align: right;\">      2</td><td style=\"text-align: right;\">11.1333</td><td>S         </td></tr>\n",
       "<tr><td style=\"text-align: right;\">         1</td><td style=\"text-align: right;\">       2</td><td>female</td><td style=\"text-align: right;\">   14</td><td style=\"text-align: right;\">      1</td><td style=\"text-align: right;\">      0</td><td style=\"text-align: right;\">30.0708</td><td>C         </td></tr>\n",
       "</tbody>\n",
       "</table>"
      ]
     },
     "metadata": {},
     "output_type": "display_data"
    },
    {
     "data": {
      "text/plain": []
     },
     "execution_count": 29,
     "metadata": {},
     "output_type": "execute_result"
    }
   ],
   "source": [
    "train.head()"
   ]
  },
  {
   "cell_type": "code",
   "execution_count": 30,
   "metadata": {},
   "outputs": [],
   "source": [
    "train['Survived'] = train['Survived'].asfactor()\n",
    "train['Pclass'] = train['Pclass'].asfactor()\n",
    "train['Sex'] = train['Sex'].asfactor()\n",
    "train['Embarked'] = train['Embarked'].asfactor()\n",
    "\n",
    "test['Survived'] = test['Survived'].asfactor()\n",
    "test['Pclass'] = test['Pclass'].asfactor()\n",
    "test['Sex'] = test['Sex'].asfactor()\n",
    "test['Embarked'] = test['Embarked'].asfactor()"
   ]
  },
  {
   "cell_type": "markdown",
   "metadata": {},
   "source": [
    "#### Correr un autoML como baseline"
   ]
  },
  {
   "cell_type": "code",
   "execution_count": 31,
   "metadata": {},
   "outputs": [],
   "source": [
    "from h2o.automl import H2OAutoML"
   ]
  },
  {
   "cell_type": "code",
   "execution_count": 32,
   "metadata": {},
   "outputs": [],
   "source": [
    "target = \"Survived\""
   ]
  },
  {
   "cell_type": "code",
   "execution_count": 33,
   "metadata": {},
   "outputs": [],
   "source": [
    "train_cols = [x for x in train.col_names if x not in ['Survived']]"
   ]
  },
  {
   "cell_type": "code",
   "execution_count": 34,
   "metadata": {},
   "outputs": [
    {
     "name": "stdout",
     "output_type": "stream",
     "text": [
      "AutoML progress: |████████████████████████████████████████████████████████| 100%\n",
      "Parse progress: |█████████████████████████████████████████████████████████| 100%\n"
     ]
    }
   ],
   "source": [
    "aml = H2OAutoML(max_runtime_secs = 100)\n",
    "aml.train(x = train_cols, y = target,\n",
    "          training_frame = train, validation_frame=test)"
   ]
  },
  {
   "cell_type": "code",
   "execution_count": 35,
   "metadata": {},
   "outputs": [
    {
     "data": {
      "text/html": [
       "<table>\n",
       "<thead>\n",
       "<tr><th>model_id                                             </th><th style=\"text-align: right;\">     auc</th><th style=\"text-align: right;\">  logloss</th></tr>\n",
       "</thead>\n",
       "<tbody>\n",
       "<tr><td>StackedEnsemble_AllModels_0_AutoML_20181012_092717   </td><td style=\"text-align: right;\">0.871842</td><td style=\"text-align: right;\"> 0.421143</td></tr>\n",
       "<tr><td>GBM_grid_0_AutoML_20181012_092717_model_6            </td><td style=\"text-align: right;\">0.870671</td><td style=\"text-align: right;\"> 0.495645</td></tr>\n",
       "<tr><td>StackedEnsemble_BestOfFamily_0_AutoML_20181012_092717</td><td style=\"text-align: right;\">0.867188</td><td style=\"text-align: right;\"> 0.422534</td></tr>\n",
       "<tr><td>GBM_grid_0_AutoML_20181012_092717_model_3            </td><td style=\"text-align: right;\">0.864783</td><td style=\"text-align: right;\"> 0.431322</td></tr>\n",
       "<tr><td>GBM_grid_0_AutoML_20181012_092717_model_17           </td><td style=\"text-align: right;\">0.86322 </td><td style=\"text-align: right;\"> 0.422166</td></tr>\n",
       "<tr><td>GBM_grid_0_AutoML_20181012_092717_model_0            </td><td style=\"text-align: right;\">0.862683</td><td style=\"text-align: right;\"> 0.435234</td></tr>\n",
       "<tr><td>GBM_grid_0_AutoML_20181012_092717_model_1            </td><td style=\"text-align: right;\">0.860015</td><td style=\"text-align: right;\"> 0.429399</td></tr>\n",
       "<tr><td>GBM_grid_0_AutoML_20181012_092717_model_10           </td><td style=\"text-align: right;\">0.859149</td><td style=\"text-align: right;\"> 0.638773</td></tr>\n",
       "<tr><td>GBM_grid_0_AutoML_20181012_092717_model_14           </td><td style=\"text-align: right;\">0.859128</td><td style=\"text-align: right;\"> 0.631946</td></tr>\n",
       "<tr><td>GBM_grid_0_AutoML_20181012_092717_model_5            </td><td style=\"text-align: right;\">0.858896</td><td style=\"text-align: right;\"> 0.450585</td></tr>\n",
       "</tbody>\n",
       "</table>"
      ]
     },
     "metadata": {},
     "output_type": "display_data"
    },
    {
     "name": "stdout",
     "output_type": "stream",
     "text": [
      "\n"
     ]
    }
   ],
   "source": [
    "lb = aml.leaderboard\n",
    "print(lb)"
   ]
  },
  {
   "cell_type": "markdown",
   "metadata": {},
   "source": [
    "#### Ocupando un Autoencoder"
   ]
  },
  {
   "cell_type": "code",
   "execution_count": 36,
   "metadata": {},
   "outputs": [],
   "source": [
    "from h2o.estimators import H2OAutoEncoderEstimator"
   ]
  },
  {
   "cell_type": "code",
   "execution_count": 37,
   "metadata": {},
   "outputs": [],
   "source": [
    "autoencoder = H2OAutoEncoderEstimator(activation=\"Tanh\",\n",
    "                              hidden=[20],\n",
    "                              ignore_const_cols=False,\n",
    "                              epochs=1000)"
   ]
  },
  {
   "cell_type": "code",
   "execution_count": 38,
   "metadata": {},
   "outputs": [
    {
     "name": "stdout",
     "output_type": "stream",
     "text": [
      "deeplearning Model Build progress: |██████████████████████████████████████| 100%\n"
     ]
    }
   ],
   "source": [
    "autoencoder.train(x=train_cols, training_frame=train)"
   ]
  },
  {
   "cell_type": "code",
   "execution_count": 39,
   "metadata": {},
   "outputs": [
    {
     "name": "stdout",
     "output_type": "stream",
     "text": [
      "\n",
      "ModelMetricsAutoEncoder: deeplearning\n",
      "** Reported on train data. **\n",
      "\n",
      "MSE: 9.791901717333342e-05\n",
      "RMSE: 0.009895403840841132\n"
     ]
    },
    {
     "data": {
      "text/plain": []
     },
     "execution_count": 39,
     "metadata": {},
     "output_type": "execute_result"
    }
   ],
   "source": [
    "autoencoder._model_json[\"output\"][\"training_metrics\"]"
   ]
  },
  {
   "cell_type": "code",
   "execution_count": 40,
   "metadata": {},
   "outputs": [
    {
     "name": "stdout",
     "output_type": "stream",
     "text": [
      "deeplearning prediction progress: |███████████████████████████████████████| 100%\n"
     ]
    }
   ],
   "source": [
    "train_deep_feats = autoencoder.predict(train)\n",
    "train_deep_feats = train_deep_feats.cbind(train['Survived'])\n",
    "deep_cols = [x for x in train_deep_feats.col_names if x not in ['Survived']]"
   ]
  },
  {
   "cell_type": "code",
   "execution_count": 41,
   "metadata": {},
   "outputs": [
    {
     "data": {
      "text/html": [
       "<table>\n",
       "<thead>\n",
       "<tr><th style=\"text-align: right;\">  reconstr_Pclass.1</th><th style=\"text-align: right;\">  reconstr_Pclass.2</th><th style=\"text-align: right;\">  reconstr_Pclass.3</th><th style=\"text-align: right;\">  reconstr_Pclass.missing(NA)</th><th style=\"text-align: right;\">  reconstr_Embarked.C</th><th style=\"text-align: right;\">  reconstr_Embarked.Q</th><th style=\"text-align: right;\">  reconstr_Embarked.S</th><th style=\"text-align: right;\">  reconstr_Embarked.missing(NA)</th><th style=\"text-align: right;\">  reconstr_Sex.female</th><th style=\"text-align: right;\">  reconstr_Sex.male</th><th style=\"text-align: right;\">  reconstr_Sex.missing(NA)</th><th style=\"text-align: right;\">  reconstr_Age</th><th style=\"text-align: right;\">  reconstr_SibSp</th><th style=\"text-align: right;\">  reconstr_Parch</th><th style=\"text-align: right;\">  reconstr_Fare</th><th style=\"text-align: right;\">  Survived</th></tr>\n",
       "</thead>\n",
       "<tbody>\n",
       "<tr><td style=\"text-align: right;\">        -0.00662666</td><td style=\"text-align: right;\">         0.00365303</td><td style=\"text-align: right;\">        0.999986   </td><td style=\"text-align: right;\">                  0.00072321 </td><td style=\"text-align: right;\">          -0.0031474 </td><td style=\"text-align: right;\">          0.00396091 </td><td style=\"text-align: right;\">            0.999978 </td><td style=\"text-align: right;\">                    -0.00157814</td><td style=\"text-align: right;\">           0.00167343</td><td style=\"text-align: right;\">        0.999971   </td><td style=\"text-align: right;\">               0.000565704</td><td style=\"text-align: right;\">       21.2288</td><td style=\"text-align: right;\">       0.960238 </td><td style=\"text-align: right;\">      0.0380701 </td><td style=\"text-align: right;\">        5.65528</td><td style=\"text-align: right;\">         0</td></tr>\n",
       "<tr><td style=\"text-align: right;\">         0.999908  </td><td style=\"text-align: right;\">        -0.0138726 </td><td style=\"text-align: right;\">       -0.00492762 </td><td style=\"text-align: right;\">                 -0.00177227 </td><td style=\"text-align: right;\">           0.999938  </td><td style=\"text-align: right;\">         -0.00107659 </td><td style=\"text-align: right;\">            0.0107869</td><td style=\"text-align: right;\">                    -0.0174478 </td><td style=\"text-align: right;\">           0.999955  </td><td style=\"text-align: right;\">        0.00379788 </td><td style=\"text-align: right;\">              -0.00184704 </td><td style=\"text-align: right;\">       38.3891</td><td style=\"text-align: right;\">       0.867349 </td><td style=\"text-align: right;\">     -0.023295  </td><td style=\"text-align: right;\">      105.031  </td><td style=\"text-align: right;\">         1</td></tr>\n",
       "<tr><td style=\"text-align: right;\">        -0.0138457 </td><td style=\"text-align: right;\">        -0.0056744 </td><td style=\"text-align: right;\">        0.999986   </td><td style=\"text-align: right;\">                 -0.00038172 </td><td style=\"text-align: right;\">           0.00338994</td><td style=\"text-align: right;\">          0.00553157 </td><td style=\"text-align: right;\">            0.999977 </td><td style=\"text-align: right;\">                     0.00926802</td><td style=\"text-align: right;\">           0.999959  </td><td style=\"text-align: right;\">       -0.00437456 </td><td style=\"text-align: right;\">               0.000805467</td><td style=\"text-align: right;\">       26.5436</td><td style=\"text-align: right;\">       0.0275665</td><td style=\"text-align: right;\">     -0.00878027</td><td style=\"text-align: right;\">        9.83001</td><td style=\"text-align: right;\">         1</td></tr>\n",
       "<tr><td style=\"text-align: right;\">         0.999907  </td><td style=\"text-align: right;\">        -0.0123385 </td><td style=\"text-align: right;\">       -0.000263584</td><td style=\"text-align: right;\">                 -0.00130856 </td><td style=\"text-align: right;\">           0.00729188</td><td style=\"text-align: right;\">         -0.000275907</td><td style=\"text-align: right;\">            0.999975 </td><td style=\"text-align: right;\">                     0.00259744</td><td style=\"text-align: right;\">           0.999958  </td><td style=\"text-align: right;\">       -0.000820764</td><td style=\"text-align: right;\">              -0.00012565 </td><td style=\"text-align: right;\">       35.1906</td><td style=\"text-align: right;\">       0.78989  </td><td style=\"text-align: right;\">     -0.00189683</td><td style=\"text-align: right;\">       67.6956 </td><td style=\"text-align: right;\">         1</td></tr>\n",
       "<tr><td style=\"text-align: right;\">        -0.00639372</td><td style=\"text-align: right;\">         0.00508896</td><td style=\"text-align: right;\">        0.999987   </td><td style=\"text-align: right;\">                  0.000788236</td><td style=\"text-align: right;\">           0.00398719</td><td style=\"text-align: right;\">          0.00759914 </td><td style=\"text-align: right;\">            0.999977 </td><td style=\"text-align: right;\">                     0.00121206</td><td style=\"text-align: right;\">          -0.00021306</td><td style=\"text-align: right;\">        0.999969   </td><td style=\"text-align: right;\">               0.000873402</td><td style=\"text-align: right;\">       35.186 </td><td style=\"text-align: right;\">       0.101395 </td><td style=\"text-align: right;\">      0.018199  </td><td style=\"text-align: right;\">        5.0972 </td><td style=\"text-align: right;\">         0</td></tr>\n",
       "</tbody>\n",
       "</table>"
      ]
     },
     "metadata": {},
     "output_type": "display_data"
    },
    {
     "data": {
      "text/plain": []
     },
     "execution_count": 41,
     "metadata": {},
     "output_type": "execute_result"
    }
   ],
   "source": [
    "train_deep_feats.head(5)"
   ]
  },
  {
   "cell_type": "code",
   "execution_count": 42,
   "metadata": {},
   "outputs": [
    {
     "data": {
      "text/plain": [
       "['reconstr_Pclass.1',\n",
       " 'reconstr_Pclass.2',\n",
       " 'reconstr_Pclass.3',\n",
       " 'reconstr_Pclass.missing(NA)',\n",
       " 'reconstr_Embarked.C',\n",
       " 'reconstr_Embarked.Q',\n",
       " 'reconstr_Embarked.S',\n",
       " 'reconstr_Embarked.missing(NA)',\n",
       " 'reconstr_Sex.female',\n",
       " 'reconstr_Sex.male',\n",
       " 'reconstr_Sex.missing(NA)',\n",
       " 'reconstr_Age',\n",
       " 'reconstr_SibSp',\n",
       " 'reconstr_Parch',\n",
       " 'reconstr_Fare']"
      ]
     },
     "execution_count": 42,
     "metadata": {},
     "output_type": "execute_result"
    }
   ],
   "source": [
    "deep_cols"
   ]
  },
  {
   "cell_type": "code",
   "execution_count": 43,
   "metadata": {},
   "outputs": [
    {
     "name": "stdout",
     "output_type": "stream",
     "text": [
      "AutoML progress: |████████████████████████████████████████████████████████| 100%\n",
      "Parse progress: |█████████████████████████████████████████████████████████| 100%\n"
     ]
    }
   ],
   "source": [
    "aml2 = H2OAutoML(max_runtime_secs = 100)\n",
    "aml2.train(x = deep_cols, y = target,\n",
    "          training_frame = train_deep_feats)"
   ]
  },
  {
   "cell_type": "code",
   "execution_count": 45,
   "metadata": {},
   "outputs": [
    {
     "data": {
      "text/html": [
       "<table>\n",
       "<thead>\n",
       "<tr><th>model_id                                             </th><th style=\"text-align: right;\">     auc</th><th style=\"text-align: right;\">  logloss</th></tr>\n",
       "</thead>\n",
       "<tbody>\n",
       "<tr><td>StackedEnsemble_BestOfFamily_0_AutoML_20181012_093024</td><td style=\"text-align: right;\">0.878357</td><td style=\"text-align: right;\"> 0.41083 </td></tr>\n",
       "<tr><td>StackedEnsemble_AllModels_0_AutoML_20181012_093024   </td><td style=\"text-align: right;\">0.877938</td><td style=\"text-align: right;\"> 0.412758</td></tr>\n",
       "<tr><td>DeepLearning_grid_0_AutoML_20181012_093024_model_0   </td><td style=\"text-align: right;\">0.876944</td><td style=\"text-align: right;\"> 0.45684 </td></tr>\n",
       "<tr><td>GBM_grid_0_AutoML_20181012_093024_model_1            </td><td style=\"text-align: right;\">0.873936</td><td style=\"text-align: right;\"> 0.42065 </td></tr>\n",
       "<tr><td>GBM_grid_0_AutoML_20181012_093024_model_2            </td><td style=\"text-align: right;\">0.873621</td><td style=\"text-align: right;\"> 0.422073</td></tr>\n",
       "<tr><td>GBM_grid_0_AutoML_20181012_093024_model_7            </td><td style=\"text-align: right;\">0.873234</td><td style=\"text-align: right;\"> 0.523829</td></tr>\n",
       "<tr><td>GBM_grid_0_AutoML_20181012_093024_model_3            </td><td style=\"text-align: right;\">0.87235 </td><td style=\"text-align: right;\"> 0.42591 </td></tr>\n",
       "<tr><td>GBM_grid_0_AutoML_20181012_093024_model_8            </td><td style=\"text-align: right;\">0.871063</td><td style=\"text-align: right;\"> 0.433273</td></tr>\n",
       "<tr><td>GBM_grid_0_AutoML_20181012_093024_model_9            </td><td style=\"text-align: right;\">0.870819</td><td style=\"text-align: right;\"> 0.42676 </td></tr>\n",
       "<tr><td>DeepLearning_grid_0_AutoML_20181012_093024_model_1   </td><td style=\"text-align: right;\">0.863344</td><td style=\"text-align: right;\"> 0.495882</td></tr>\n",
       "</tbody>\n",
       "</table>"
      ]
     },
     "metadata": {},
     "output_type": "display_data"
    },
    {
     "name": "stdout",
     "output_type": "stream",
     "text": [
      "\n"
     ]
    }
   ],
   "source": [
    "lb = aml2.leaderboard\n",
    "print(lb)"
   ]
  },
  {
   "cell_type": "code",
   "execution_count": null,
   "metadata": {},
   "outputs": [],
   "source": []
  }
 ],
 "metadata": {
  "kernelspec": {
   "display_name": "Python [conda env:spike_basico]",
   "language": "python",
   "name": "conda-env-spike_basico-py"
  },
  "language_info": {
   "codemirror_mode": {
    "name": "ipython",
    "version": 3
   },
   "file_extension": ".py",
   "mimetype": "text/x-python",
   "name": "python",
   "nbconvert_exporter": "python",
   "pygments_lexer": "ipython3",
   "version": "3.6.5"
  }
 },
 "nbformat": 4,
 "nbformat_minor": 2
}
