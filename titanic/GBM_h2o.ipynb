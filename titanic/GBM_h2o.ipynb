{
 "cells": [
  {
   "cell_type": "code",
   "execution_count": 77,
   "metadata": {},
   "outputs": [],
   "source": [
    "import h2o"
   ]
  },
  {
   "cell_type": "code",
   "execution_count": 78,
   "metadata": {},
   "outputs": [
    {
     "name": "stdout",
     "output_type": "stream",
     "text": [
      "Checking whether there is an H2O instance running at http://localhost:54321. connected.\n",
      "Warning: Your H2O cluster version is too old (3 months and 20 days)! Please download and install the latest version from http://h2o.ai/download/\n"
     ]
    },
    {
     "data": {
      "text/html": [
       "<div style=\"overflow:auto\"><table style=\"width:50%\"><tr><td>H2O cluster uptime:</td>\n",
       "<td>2 hours 6 mins</td></tr>\n",
       "<tr><td>H2O cluster timezone:</td>\n",
       "<td>America/Santiago</td></tr>\n",
       "<tr><td>H2O data parsing timezone:</td>\n",
       "<td>UTC</td></tr>\n",
       "<tr><td>H2O cluster version:</td>\n",
       "<td>3.22.1.3</td></tr>\n",
       "<tr><td>H2O cluster version age:</td>\n",
       "<td>3 months and 20 days !!!</td></tr>\n",
       "<tr><td>H2O cluster name:</td>\n",
       "<td>H2O_from_python_maravenag_7jwpzr</td></tr>\n",
       "<tr><td>H2O cluster total nodes:</td>\n",
       "<td>1</td></tr>\n",
       "<tr><td>H2O cluster free memory:</td>\n",
       "<td>3.278 Gb</td></tr>\n",
       "<tr><td>H2O cluster total cores:</td>\n",
       "<td>8</td></tr>\n",
       "<tr><td>H2O cluster allowed cores:</td>\n",
       "<td>8</td></tr>\n",
       "<tr><td>H2O cluster status:</td>\n",
       "<td>locked, healthy</td></tr>\n",
       "<tr><td>H2O connection url:</td>\n",
       "<td>http://localhost:54321</td></tr>\n",
       "<tr><td>H2O connection proxy:</td>\n",
       "<td>None</td></tr>\n",
       "<tr><td>H2O internal security:</td>\n",
       "<td>False</td></tr>\n",
       "<tr><td>H2O API Extensions:</td>\n",
       "<td>XGBoost, Algos, AutoML, Core V3, Core V4</td></tr>\n",
       "<tr><td>Python version:</td>\n",
       "<td>3.6.7 final</td></tr></table></div>"
      ],
      "text/plain": [
       "--------------------------  ----------------------------------------\n",
       "H2O cluster uptime:         2 hours 6 mins\n",
       "H2O cluster timezone:       America/Santiago\n",
       "H2O data parsing timezone:  UTC\n",
       "H2O cluster version:        3.22.1.3\n",
       "H2O cluster version age:    3 months and 20 days !!!\n",
       "H2O cluster name:           H2O_from_python_maravenag_7jwpzr\n",
       "H2O cluster total nodes:    1\n",
       "H2O cluster free memory:    3.278 Gb\n",
       "H2O cluster total cores:    8\n",
       "H2O cluster allowed cores:  8\n",
       "H2O cluster status:         locked, healthy\n",
       "H2O connection url:         http://localhost:54321\n",
       "H2O connection proxy:\n",
       "H2O internal security:      False\n",
       "H2O API Extensions:         XGBoost, Algos, AutoML, Core V3, Core V4\n",
       "Python version:             3.6.7 final\n",
       "--------------------------  ----------------------------------------"
      ]
     },
     "metadata": {},
     "output_type": "display_data"
    }
   ],
   "source": [
    "h2o.init()"
   ]
  },
  {
   "cell_type": "code",
   "execution_count": 79,
   "metadata": {},
   "outputs": [
    {
     "name": "stdout",
     "output_type": "stream",
     "text": [
      "Parse progress: |█████████████████████████████████████████████████████████| 100%\n"
     ]
    }
   ],
   "source": [
    "train = h2o.upload_file(\"data/train.csv\", destination_frame=\"train\")"
   ]
  },
  {
   "cell_type": "code",
   "execution_count": 80,
   "metadata": {},
   "outputs": [],
   "source": [
    "train = train.drop(\"PassengerId\")\n",
    "train = train.drop(\"Name\")\n",
    "train = train.drop(\"Cabin\")\n",
    "train = train.drop(\"Ticket\")"
   ]
  },
  {
   "cell_type": "code",
   "execution_count": 81,
   "metadata": {},
   "outputs": [
    {
     "data": {
      "text/html": [
       "<table>\n",
       "<thead>\n",
       "<tr><th style=\"text-align: right;\">  Survived</th><th style=\"text-align: right;\">  Pclass</th><th>Sex   </th><th style=\"text-align: right;\">  Age</th><th style=\"text-align: right;\">  SibSp</th><th style=\"text-align: right;\">  Parch</th><th style=\"text-align: right;\">   Fare</th><th>Embarked  </th></tr>\n",
       "</thead>\n",
       "<tbody>\n",
       "<tr><td style=\"text-align: right;\">         0</td><td style=\"text-align: right;\">       3</td><td>male  </td><td style=\"text-align: right;\">   22</td><td style=\"text-align: right;\">      1</td><td style=\"text-align: right;\">      0</td><td style=\"text-align: right;\"> 7.25  </td><td>S         </td></tr>\n",
       "<tr><td style=\"text-align: right;\">         1</td><td style=\"text-align: right;\">       1</td><td>female</td><td style=\"text-align: right;\">   38</td><td style=\"text-align: right;\">      1</td><td style=\"text-align: right;\">      0</td><td style=\"text-align: right;\">71.2833</td><td>C         </td></tr>\n",
       "<tr><td style=\"text-align: right;\">         1</td><td style=\"text-align: right;\">       3</td><td>female</td><td style=\"text-align: right;\">   26</td><td style=\"text-align: right;\">      0</td><td style=\"text-align: right;\">      0</td><td style=\"text-align: right;\"> 7.925 </td><td>S         </td></tr>\n",
       "<tr><td style=\"text-align: right;\">         1</td><td style=\"text-align: right;\">       1</td><td>female</td><td style=\"text-align: right;\">   35</td><td style=\"text-align: right;\">      1</td><td style=\"text-align: right;\">      0</td><td style=\"text-align: right;\">53.1   </td><td>S         </td></tr>\n",
       "<tr><td style=\"text-align: right;\">         0</td><td style=\"text-align: right;\">       3</td><td>male  </td><td style=\"text-align: right;\">   35</td><td style=\"text-align: right;\">      0</td><td style=\"text-align: right;\">      0</td><td style=\"text-align: right;\"> 8.05  </td><td>S         </td></tr>\n",
       "<tr><td style=\"text-align: right;\">         0</td><td style=\"text-align: right;\">       3</td><td>male  </td><td style=\"text-align: right;\">  nan</td><td style=\"text-align: right;\">      0</td><td style=\"text-align: right;\">      0</td><td style=\"text-align: right;\"> 8.4583</td><td>Q         </td></tr>\n",
       "<tr><td style=\"text-align: right;\">         0</td><td style=\"text-align: right;\">       1</td><td>male  </td><td style=\"text-align: right;\">   54</td><td style=\"text-align: right;\">      0</td><td style=\"text-align: right;\">      0</td><td style=\"text-align: right;\">51.8625</td><td>S         </td></tr>\n",
       "<tr><td style=\"text-align: right;\">         0</td><td style=\"text-align: right;\">       3</td><td>male  </td><td style=\"text-align: right;\">    2</td><td style=\"text-align: right;\">      3</td><td style=\"text-align: right;\">      1</td><td style=\"text-align: right;\">21.075 </td><td>S         </td></tr>\n",
       "<tr><td style=\"text-align: right;\">         1</td><td style=\"text-align: right;\">       3</td><td>female</td><td style=\"text-align: right;\">   27</td><td style=\"text-align: right;\">      0</td><td style=\"text-align: right;\">      2</td><td style=\"text-align: right;\">11.1333</td><td>S         </td></tr>\n",
       "<tr><td style=\"text-align: right;\">         1</td><td style=\"text-align: right;\">       2</td><td>female</td><td style=\"text-align: right;\">   14</td><td style=\"text-align: right;\">      1</td><td style=\"text-align: right;\">      0</td><td style=\"text-align: right;\">30.0708</td><td>C         </td></tr>\n",
       "</tbody>\n",
       "</table>"
      ]
     },
     "metadata": {},
     "output_type": "display_data"
    },
    {
     "data": {
      "text/plain": []
     },
     "execution_count": 81,
     "metadata": {},
     "output_type": "execute_result"
    }
   ],
   "source": [
    "train.head()"
   ]
  },
  {
   "cell_type": "code",
   "execution_count": 82,
   "metadata": {},
   "outputs": [],
   "source": [
    "train['Survived'] = train['Survived'].asfactor()\n",
    "train['Pclass'] = train['Pclass'].asfactor()\n",
    "train['Sex'] = train['Sex'].asfactor()\n",
    "train['Embarked'] = train['Embarked'].asfactor()"
   ]
  },
  {
   "cell_type": "code",
   "execution_count": 83,
   "metadata": {},
   "outputs": [],
   "source": [
    "train, test = train.split_frame(ratios=[0.7])"
   ]
  },
  {
   "cell_type": "code",
   "execution_count": 84,
   "metadata": {},
   "outputs": [],
   "source": [
    "from h2o.estimators.gbm import H2OGradientBoostingEstimator"
   ]
  },
  {
   "cell_type": "code",
   "execution_count": 87,
   "metadata": {},
   "outputs": [],
   "source": [
    "model = H2OGradientBoostingEstimator(nfolds=5)"
   ]
  },
  {
   "cell_type": "code",
   "execution_count": 88,
   "metadata": {},
   "outputs": [],
   "source": [
    "train_cols = [x for x in train.col_names if x not in ['Survived']]"
   ]
  },
  {
   "cell_type": "code",
   "execution_count": 89,
   "metadata": {},
   "outputs": [
    {
     "name": "stdout",
     "output_type": "stream",
     "text": [
      "gbm Model Build progress: |███████████████████████████████████████████████| 100%\n"
     ]
    }
   ],
   "source": [
    "model.train(x=train_cols,y=\"Survived\",training_frame=train)"
   ]
  },
  {
   "cell_type": "code",
   "execution_count": 90,
   "metadata": {},
   "outputs": [
    {
     "data": {
      "image/png": "[encoded data removed]",
      "text/plain": [
       "<Figure size 1008x720 with 1 Axes>"
      ]
     },
     "metadata": {
      "needs_background": "light"
     },
     "output_type": "display_data"
    }
   ],
   "source": [
    "model.varimp_plot()"
   ]
  },
  {
   "cell_type": "code",
   "execution_count": 91,
   "metadata": {},
   "outputs": [],
   "source": [
    "import json"
   ]
  },
  {
   "cell_type": "code",
   "execution_count": 92,
   "metadata": {},
   "outputs": [],
   "source": [
    "variables = list(map(lambda x: {\n",
    "    'variable_name':x[0],\n",
    "    'relative_importance':x[1],\n",
    "    'scaled_importances':x[2],\n",
    "    'percentage':x[3]\n",
    "}, model.varimp()))"
   ]
  },
  {
   "cell_type": "code",
   "execution_count": 101,
   "metadata": {},
   "outputs": [],
   "source": [
    "gains_lift = json.loads(model.gains_lift(xval=True).as_data_frame().to_json(orient=\"table\",index=False))['data']"
   ]
  },
  {
   "cell_type": "code",
   "execution_count": 95,
   "metadata": {},
   "outputs": [],
   "source": [
    "training_metrics = {\n",
    "    \"MSE\": model.model_performance().mse(),\n",
    "    \"RMSE\": model.model_performance().rmse(),\n",
    "    \"LogLoss\": model.model_performance().logloss(),\n",
    "    \"Mean Per-Class Error\": model.model_performance().mean_per_class_error(),\n",
    "    \"AUC\":model.model_performance().auc(),\n",
    "    \"PR_AUC\": model.model_performance().pr_auc(),\n",
    "    \"Gini\": model.model_performance().gini()\n",
    "}"
   ]
  },
  {
   "cell_type": "code",
   "execution_count": 96,
   "metadata": {},
   "outputs": [],
   "source": [
    "xval_metrics = {\n",
    "    \"MSE\": model.model_performance(xval=True).mse(),\n",
    "    \"RMSE\": model.model_performance(xval=True).rmse(),\n",
    "    \"LogLoss\": model.model_performance(xval=True).logloss(),\n",
    "    \"Mean Per-Class Error\": model.model_performance(xval=True).mean_per_class_error(),\n",
    "    \"AUC\":model.model_performance(xval=True).auc(),\n",
    "    \"PR_AUC\": model.model_performance(xval=True).pr_auc(),\n",
    "    \"Gini\": model.model_performance(xval=True).gini()\n",
    "}"
   ]
  },
  {
   "cell_type": "code",
   "execution_count": null,
   "metadata": {},
   "outputs": [],
   "source": []
  },
  {
   "cell_type": "code",
   "execution_count": 127,
   "metadata": {},
   "outputs": [],
   "source": [
    "def generate_report(model):\n",
    "    try:\n",
    "        validation_metrics = {\n",
    "                    \"MSE\": model.model_performance(valid=True).mse(),\n",
    "                    \"RMSE\": model.model_performance(valid=True).rmse(),\n",
    "                    \"LogLoss\": model.model_performance(valid=True).logloss(),\n",
    "                    \"Mean Per-Class Error\": model.model_performance(valid=True).mean_per_class_error(),\n",
    "                    \"AUC\":model.model_performance(valid=True).auc(),\n",
    "                    \"PR_AUC\": model.model_performance(valid=True).pr_auc(),\n",
    "                    \"Gini\": model.model_performance(valid=True).gini()\n",
    "                }\n",
    "    except Exception as e:\n",
    "        validation_metrics = {}\n",
    "\n",
    "    try:\n",
    "        xval_metrics= {\n",
    "                    \"MSE\": model.model_performance(xval=True).mse(),\n",
    "                    \"RMSE\": model.model_performance(xval=True).rmse(),\n",
    "                    \"LogLoss\": model.model_performance(xval=True).logloss(),\n",
    "                    \"Mean Per-Class Error\": model.model_performance(xval=True).mean_per_class_error(),\n",
    "                    \"AUC\":model.model_performance(xval=True).auc(),\n",
    "                    \"PR_AUC\": model.model_performance(xval=True).pr_auc(),\n",
    "                    \"Gini\": model.model_performance(xval=True).gini() \n",
    "        }\n",
    "    except Exception as e:\n",
    "        xval_metrics = {}\n",
    "    \n",
    "    return {\n",
    "        'model_name': model.model_id,\n",
    "        'variables_importance':list(map(lambda x: {\n",
    "                                    'variable_name':x[0],\n",
    "                                    'relative_importance':x[1],\n",
    "                                    'scaled_importances':x[2],\n",
    "                                    'percentage':x[3]\n",
    "                                }, model.varimp())),\n",
    "        'gains_lift': json.loads(model.gains_lift(xval=True).as_data_frame().to_json(orient=\"table\",index=False))['data'],\n",
    "        'training_metrics':{\n",
    "                            \"MSE\": model.model_performance().mse(),\n",
    "                            \"RMSE\": model.model_performance().rmse(),\n",
    "                            \"LogLoss\": model.model_performance().logloss(),\n",
    "                            \"Mean Per-Class Error\": model.model_performance().mean_per_class_error(),\n",
    "                            \"AUC\":model.model_performance().auc(),\n",
    "                            \"PR_AUC\": model.model_performance().pr_auc(),\n",
    "                            \"Gini\": model.model_performance().gini()\n",
    "                        },\n",
    "        'validation_metrics':validation_metrics,\n",
    "        'xval_metrics':xval_metrics\n",
    "    }"
   ]
  },
  {
   "cell_type": "code",
   "execution_count": 128,
   "metadata": {},
   "outputs": [
    {
     "data": {
      "text/plain": [
       "{'model_name': 'GBM_model_python_1558025548122_104',\n",
       " 'variables_importance': [{'variable_name': 'Sex',\n",
       "   'relative_importance': 247.19891357421875,\n",
       "   'scaled_importances': 1.0,\n",
       "   'percentage': 0.472193845266491},\n",
       "  {'variable_name': 'Fare',\n",
       "   'relative_importance': 79.73954772949219,\n",
       "   'scaled_importances': 0.3225724036426692,\n",
       "   'percentage': 0.15231670365288663},\n",
       "  {'variable_name': 'Age',\n",
       "   'relative_importance': 79.13831329345703,\n",
       "   'scaled_importances': 0.32014021481407773,\n",
       "   'percentage': 0.15116823905749982},\n",
       "  {'variable_name': 'Pclass',\n",
       "   'relative_importance': 56.02534484863281,\n",
       "   'scaled_importances': 0.22664074060265568,\n",
       "   'percentage': 0.10701836279921333},\n",
       "  {'variable_name': 'SibSp',\n",
       "   'relative_importance': 38.44557189941406,\n",
       "   'scaled_importances': 0.15552484168936773,\n",
       "   'percentage': 0.07343787303176481},\n",
       "  {'variable_name': 'Embarked',\n",
       "   'relative_importance': 19.406673431396484,\n",
       "   'scaled_importances': 0.07850630551242227,\n",
       "   'percentage': 0.03707019427757659},\n",
       "  {'variable_name': 'Parch',\n",
       "   'relative_importance': 3.5571465492248535,\n",
       "   'scaled_importances': 0.014389814654896771,\n",
       "   'percentage': 0.006794781914567811}],\n",
       " 'gains_lift': [{'': '',\n",
       "   'group': 1,\n",
       "   'cumulative_data_fraction': 0.0111821086,\n",
       "   'lower_threshold': 0.9865839062,\n",
       "   'lift': 2.641350211,\n",
       "   'cumulative_lift': 2.641350211,\n",
       "   'response_rate': 1.0,\n",
       "   'score': 0.9880609617,\n",
       "   'cumulative_response_rate': 1.0,\n",
       "   'cumulative_score': 0.9880609617,\n",
       "   'capture_rate': 0.029535865,\n",
       "   'cumulative_capture_rate': 0.029535865,\n",
       "   'gain': 164.135021097,\n",
       "   'cumulative_gain': 164.135021097},\n",
       "  {'': '',\n",
       "   'group': 2,\n",
       "   'cumulative_data_fraction': 0.0207667732,\n",
       "   'lower_threshold': 0.9828148348,\n",
       "   'lift': 2.641350211,\n",
       "   'cumulative_lift': 2.641350211,\n",
       "   'response_rate': 1.0,\n",
       "   'score': 0.9846374883,\n",
       "   'cumulative_response_rate': 1.0,\n",
       "   'cumulative_score': 0.9864808971,\n",
       "   'capture_rate': 0.0253164557,\n",
       "   'cumulative_capture_rate': 0.0548523207,\n",
       "   'gain': 164.135021097,\n",
       "   'cumulative_gain': 164.135021097},\n",
       "  {'': '',\n",
       "   'group': 3,\n",
       "   'cumulative_data_fraction': 0.0303514377,\n",
       "   'lower_threshold': 0.9782434297,\n",
       "   'lift': 1.7609001406,\n",
       "   'cumulative_lift': 2.3633133467,\n",
       "   'response_rate': 0.6666666667,\n",
       "   'score': 0.980166076,\n",
       "   'cumulative_response_rate': 0.8947368421,\n",
       "   'cumulative_score': 0.984486743,\n",
       "   'capture_rate': 0.0168776371,\n",
       "   'cumulative_capture_rate': 0.0717299578,\n",
       "   'gain': 76.0900140647,\n",
       "   'cumulative_gain': 136.3313346658},\n",
       "  {'': '',\n",
       "   'group': 4,\n",
       "   'cumulative_data_fraction': 0.0415335463,\n",
       "   'lower_threshold': 0.9760773844,\n",
       "   'lift': 2.641350211,\n",
       "   'cumulative_lift': 2.4381694255,\n",
       "   'response_rate': 1.0,\n",
       "   'score': 0.9767701322,\n",
       "   'cumulative_response_rate': 0.9230769231,\n",
       "   'cumulative_score': 0.982409194,\n",
       "   'capture_rate': 0.029535865,\n",
       "   'cumulative_capture_rate': 0.1012658228,\n",
       "   'gain': 164.135021097,\n",
       "   'cumulative_gain': 143.8169425511},\n",
       "  {'': '',\n",
       "   'group': 5,\n",
       "   'cumulative_data_fraction': 0.0511182109,\n",
       "   'lower_threshold': 0.9729902237,\n",
       "   'lift': 2.2011251758,\n",
       "   'cumulative_lift': 2.3937236287,\n",
       "   'response_rate': 0.8333333333,\n",
       "   'score': 0.9739043201,\n",
       "   'cumulative_response_rate': 0.90625,\n",
       "   'cumulative_score': 0.9808145301,\n",
       "   'capture_rate': 0.0210970464,\n",
       "   'cumulative_capture_rate': 0.1223628692,\n",
       "   'gain': 120.1125175809,\n",
       "   'cumulative_gain': 139.3723628692},\n",
       "  {'': '',\n",
       "   'group': 6,\n",
       "   'cumulative_data_fraction': 0.1006389776,\n",
       "   'lower_threshold': 0.95249357,\n",
       "   'lift': 2.5561453655,\n",
       "   'cumulative_lift': 2.4736454357,\n",
       "   'response_rate': 0.9677419355,\n",
       "   'score': 0.9640628566,\n",
       "   'cumulative_response_rate': 0.9365079365,\n",
       "   'cumulative_score': 0.9725716431,\n",
       "   'capture_rate': 0.1265822785,\n",
       "   'cumulative_capture_rate': 0.2489451477,\n",
       "   'gain': 155.6145365455,\n",
       "   'cumulative_gain': 147.3645435671},\n",
       "  {'': '',\n",
       "   'group': 7,\n",
       "   'cumulative_data_fraction': 0.1501597444,\n",
       "   'lower_threshold': 0.9072806218,\n",
       "   'lift': 2.3857356744,\n",
       "   'cumulative_lift': 2.4446539187,\n",
       "   'response_rate': 0.9032258065,\n",
       "   'score': 0.9350214702,\n",
       "   'cumulative_response_rate': 0.9255319149,\n",
       "   'cumulative_score': 0.9601880754,\n",
       "   'capture_rate': 0.1181434599,\n",
       "   'cumulative_capture_rate': 0.3670886076,\n",
       "   'gain': 138.5735674425,\n",
       "   'cumulative_gain': 144.4653918664},\n",
       "  {'': '',\n",
       "   'group': 8,\n",
       "   'cumulative_data_fraction': 0.2012779553,\n",
       "   'lower_threshold': 0.8435407779,\n",
       "   'lift': 2.5588080169,\n",
       "   'cumulative_lift': 2.4736454357,\n",
       "   'response_rate': 0.96875,\n",
       "   'score': 0.8836915095,\n",
       "   'cumulative_response_rate': 0.9365079365,\n",
       "   'cumulative_score': 0.9407603762,\n",
       "   'capture_rate': 0.1308016878,\n",
       "   'cumulative_capture_rate': 0.4978902954,\n",
       "   'gain': 155.8808016878,\n",
       "   'cumulative_gain': 147.3645435671},\n",
       "  {'': '',\n",
       "   'group': 9,\n",
       "   'cumulative_data_fraction': 0.3003194888,\n",
       "   'lower_threshold': 0.5964767882,\n",
       "   'lift': 1.576289642,\n",
       "   'cumulative_lift': 2.1777089505,\n",
       "   'response_rate': 0.5967741935,\n",
       "   'score': 0.7304575283,\n",
       "   'cumulative_response_rate': 0.8244680851,\n",
       "   'cumulative_score': 0.8714051817,\n",
       "   'capture_rate': 0.1561181435,\n",
       "   'cumulative_capture_rate': 0.6540084388,\n",
       "   'gain': 57.6289642031,\n",
       "   'cumulative_gain': 117.7708950534},\n",
       "  {'': '',\n",
       "   'group': 10,\n",
       "   'cumulative_data_fraction': 0.4009584665,\n",
       "   'lower_threshold': 0.3053662251,\n",
       "   'lift': 1.2158596209,\n",
       "   'cumulative_lift': 1.9362886009,\n",
       "   'response_rate': 0.4603174603,\n",
       "   'score': 0.4435895751,\n",
       "   'cumulative_response_rate': 0.7330677291,\n",
       "   'cumulative_score': 0.7640251689,\n",
       "   'capture_rate': 0.1223628692,\n",
       "   'cumulative_capture_rate': 0.776371308,\n",
       "   'gain': 21.5859620923,\n",
       "   'cumulative_gain': 93.6288600871},\n",
       "  {'': '',\n",
       "   'group': 11,\n",
       "   'cumulative_data_fraction': 0.5,\n",
       "   'lower_threshold': 0.1784691169,\n",
       "   'lift': 0.7242411869,\n",
       "   'cumulative_lift': 1.6962025316,\n",
       "   'response_rate': 0.2741935484,\n",
       "   'score': 0.2349868355,\n",
       "   'cumulative_response_rate': 0.642172524,\n",
       "   'cumulative_score': 0.6592316332,\n",
       "   'capture_rate': 0.0717299578,\n",
       "   'cumulative_capture_rate': 0.8481012658,\n",
       "   'gain': -27.5758813121,\n",
       "   'cumulative_gain': 69.6202531646},\n",
       "  {'': '',\n",
       "   'group': 12,\n",
       "   'cumulative_data_fraction': 0.6006389776,\n",
       "   'lower_threshold': 0.1255088339,\n",
       "   'lift': 0.3354095506,\n",
       "   'cumulative_lift': 1.4681973247,\n",
       "   'response_rate': 0.126984127,\n",
       "   'score': 0.1514783344,\n",
       "   'cumulative_response_rate': 0.5558510638,\n",
       "   'cumulative_score': 0.5741559475,\n",
       "   'capture_rate': 0.0337552743,\n",
       "   'cumulative_capture_rate': 0.8818565401,\n",
       "   'gain': -66.4590449401,\n",
       "   'cumulative_gain': 46.8197324715},\n",
       "  {'': '',\n",
       "   'group': 13,\n",
       "   'cumulative_data_fraction': 0.7028753994,\n",
       "   'lower_threshold': 0.0969246341,\n",
       "   'lift': 0.2063554852,\n",
       "   'cumulative_lift': 1.2846566935,\n",
       "   'response_rate': 0.078125,\n",
       "   'score': 0.1090478996,\n",
       "   'cumulative_response_rate': 0.4863636364,\n",
       "   'cumulative_score': 0.5065038678,\n",
       "   'capture_rate': 0.0210970464,\n",
       "   'cumulative_capture_rate': 0.9029535865,\n",
       "   'gain': -79.3644514768,\n",
       "   'cumulative_gain': 28.4656693517},\n",
       "  {'': '',\n",
       "   'group': 14,\n",
       "   'cumulative_data_fraction': 0.8003194888,\n",
       "   'lower_threshold': 0.0799065732,\n",
       "   'lift': 0.2598049388,\n",
       "   'cumulative_lift': 1.1598743441,\n",
       "   'response_rate': 0.0983606557,\n",
       "   'score': 0.0885345742,\n",
       "   'cumulative_response_rate': 0.4391217565,\n",
       "   'cumulative_score': 0.4556133949,\n",
       "   'capture_rate': 0.0253164557,\n",
       "   'cumulative_capture_rate': 0.9282700422,\n",
       "   'gain': -74.0195061216,\n",
       "   'cumulative_gain': 15.9874344139},\n",
       "  {'': '',\n",
       "   'group': 15,\n",
       "   'cumulative_data_fraction': 0.8993610224,\n",
       "   'lower_threshold': 0.061987317,\n",
       "   'lift': 0.2982169593,\n",
       "   'cumulative_lift': 1.0649848986,\n",
       "   'response_rate': 0.1129032258,\n",
       "   'score': 0.0719610378,\n",
       "   'cumulative_response_rate': 0.4031971581,\n",
       "   'cumulative_score': 0.4133639346,\n",
       "   'capture_rate': 0.029535865,\n",
       "   'cumulative_capture_rate': 0.9578059072,\n",
       "   'gain': -70.1783040697,\n",
       "   'cumulative_gain': 6.4984898562},\n",
       "  {'': '',\n",
       "   'group': 16,\n",
       "   'cumulative_data_fraction': 1.0,\n",
       "   'lower_threshold': 0.0061294262,\n",
       "   'lift': 0.4192619382,\n",
       "   'cumulative_lift': 1.0,\n",
       "   'response_rate': 0.1587301587,\n",
       "   'score': 0.0456029035,\n",
       "   'cumulative_response_rate': 0.3785942492,\n",
       "   'cumulative_score': 0.3763528404,\n",
       "   'capture_rate': 0.0421940928,\n",
       "   'cumulative_capture_rate': 1.0,\n",
       "   'gain': -58.0738061751,\n",
       "   'cumulative_gain': 0.0}],\n",
       " 'training_metrics': {'MSE': 0.07338902468933112,\n",
       "  'RMSE': 0.2709040876201965,\n",
       "  'LogLoss': 0.2615489632249237,\n",
       "  'Mean Per-Class Error': [[0.2914671603945781, 0.09911273090147843]],\n",
       "  'AUC': 0.9590099031379822,\n",
       "  'PR_AUC': 0.9465740501956736,\n",
       "  'Gini': 0.9180198062759644},\n",
       " 'validation_metrics': {},\n",
       " 'xval_metrics': {'MSE': 0.136575329693181,\n",
       "  'RMSE': 0.36956099590349223,\n",
       "  'LogLoss': 0.4429743789412403,\n",
       "  'Mean Per-Class Error': [[0.32016356737157825, 0.1927912097447746]],\n",
       "  'AUC': 0.8523477921317236,\n",
       "  'PR_AUC': 0.8079449476306975,\n",
       "  'Gini': 0.7046955842634472}}"
      ]
     },
     "execution_count": 128,
     "metadata": {},
     "output_type": "execute_result"
    }
   ],
   "source": [
    "generate_report(model)"
   ]
  }
 ],
 "metadata": {
  "kernelspec": {
   "display_name": "Python [conda env:spike_basicoV2]",
   "language": "python",
   "name": "conda-env-spike_basicoV2-py"
  },
  "language_info": {
   "codemirror_mode": {
    "name": "ipython",
    "version": 3
   },
   "file_extension": ".py",
   "mimetype": "text/x-python",
   "name": "python",
   "nbconvert_exporter": "python",
   "pygments_lexer": "ipython3",
   "version": "3.6.7"
  }
 },
 "nbformat": 4,
 "nbformat_minor": 2
}
