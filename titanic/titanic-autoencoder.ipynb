{
 "cells": [
  {
   "cell_type": "code",
   "execution_count": 33,
   "metadata": {},
   "outputs": [],
   "source": [
    "import h2o"
   ]
  },
  {
   "cell_type": "code",
   "execution_count": 35,
   "metadata": {},
   "outputs": [
    {
     "name": "stdout",
     "output_type": "stream",
     "text": [
      "Checking whether there is an H2O instance running at http://localhost:54321. connected.\n",
      "Warning: Your H2O cluster version is too old (7 months and 4 days)! Please download and install the latest version from http://h2o.ai/download/\n"
     ]
    },
    {
     "data": {
      "text/html": [
       "<div style=\"overflow:auto\"><table style=\"width:50%\"><tr><td>H2O cluster uptime:</td>\n",
       "<td>10 mins 31 secs</td></tr>\n",
       "<tr><td>H2O cluster timezone:</td>\n",
       "<td>America/Santiago</td></tr>\n",
       "<tr><td>H2O data parsing timezone:</td>\n",
       "<td>UTC</td></tr>\n",
       "<tr><td>H2O cluster version:</td>\n",
       "<td>3.18.0.2</td></tr>\n",
       "<tr><td>H2O cluster version age:</td>\n",
       "<td>7 months and 4 days !!!</td></tr>\n",
       "<tr><td>H2O cluster name:</td>\n",
       "<td>H2O_from_python_maravenag_r26r3s</td></tr>\n",
       "<tr><td>H2O cluster total nodes:</td>\n",
       "<td>1</td></tr>\n",
       "<tr><td>H2O cluster free memory:</td>\n",
       "<td>3.221 Gb</td></tr>\n",
       "<tr><td>H2O cluster total cores:</td>\n",
       "<td>8</td></tr>\n",
       "<tr><td>H2O cluster allowed cores:</td>\n",
       "<td>8</td></tr>\n",
       "<tr><td>H2O cluster status:</td>\n",
       "<td>locked, healthy</td></tr>\n",
       "<tr><td>H2O connection url:</td>\n",
       "<td>http://localhost:54321</td></tr>\n",
       "<tr><td>H2O connection proxy:</td>\n",
       "<td>None</td></tr>\n",
       "<tr><td>H2O internal security:</td>\n",
       "<td>False</td></tr>\n",
       "<tr><td>H2O API Extensions:</td>\n",
       "<td>XGBoost, Algos, AutoML, Core V3, Core V4</td></tr>\n",
       "<tr><td>Python version:</td>\n",
       "<td>3.6.5 final</td></tr></table></div>"
      ],
      "text/plain": [
       "--------------------------  ----------------------------------------\n",
       "H2O cluster uptime:         10 mins 31 secs\n",
       "H2O cluster timezone:       America/Santiago\n",
       "H2O data parsing timezone:  UTC\n",
       "H2O cluster version:        3.18.0.2\n",
       "H2O cluster version age:    7 months and 4 days !!!\n",
       "H2O cluster name:           H2O_from_python_maravenag_r26r3s\n",
       "H2O cluster total nodes:    1\n",
       "H2O cluster free memory:    3.221 Gb\n",
       "H2O cluster total cores:    8\n",
       "H2O cluster allowed cores:  8\n",
       "H2O cluster status:         locked, healthy\n",
       "H2O connection url:         http://localhost:54321\n",
       "H2O connection proxy:\n",
       "H2O internal security:      False\n",
       "H2O API Extensions:         XGBoost, Algos, AutoML, Core V3, Core V4\n",
       "Python version:             3.6.5 final\n",
       "--------------------------  ----------------------------------------"
      ]
     },
     "metadata": {},
     "output_type": "display_data"
    }
   ],
   "source": [
    "h2o.init()\n",
    "h2o.remove_all()"
   ]
  },
  {
   "cell_type": "code",
   "execution_count": 36,
   "metadata": {},
   "outputs": [
    {
     "name": "stdout",
     "output_type": "stream",
     "text": [
      "Parse progress: |█████████████████████████████████████████████████████████| 100%\n"
     ]
    }
   ],
   "source": [
    "train = h2o.upload_file(\"data/train.csv\", destination_frame=\"train\")"
   ]
  },
  {
   "cell_type": "code",
   "execution_count": 37,
   "metadata": {},
   "outputs": [
    {
     "data": {
      "text/html": [
       "<table>\n",
       "<thead>\n",
       "<tr><th style=\"text-align: right;\">  PassengerId</th><th style=\"text-align: right;\">  Survived</th><th style=\"text-align: right;\">  Pclass</th><th>Name                                               </th><th>Sex   </th><th style=\"text-align: right;\">  Age</th><th style=\"text-align: right;\">  SibSp</th><th style=\"text-align: right;\">  Parch</th><th style=\"text-align: right;\">  Ticket</th><th style=\"text-align: right;\">   Fare</th><th>Cabin  </th><th>Embarked  </th></tr>\n",
       "</thead>\n",
       "<tbody>\n",
       "<tr><td style=\"text-align: right;\">            1</td><td style=\"text-align: right;\">         0</td><td style=\"text-align: right;\">       3</td><td>Braund, Mr. Owen Harris                            </td><td>male  </td><td style=\"text-align: right;\">   22</td><td style=\"text-align: right;\">      1</td><td style=\"text-align: right;\">      0</td><td style=\"text-align: right;\">     nan</td><td style=\"text-align: right;\"> 7.25  </td><td>       </td><td>S         </td></tr>\n",
       "<tr><td style=\"text-align: right;\">            2</td><td style=\"text-align: right;\">         1</td><td style=\"text-align: right;\">       1</td><td>Cumings, Mrs. John Bradley (Florence Briggs Thayer)</td><td>female</td><td style=\"text-align: right;\">   38</td><td style=\"text-align: right;\">      1</td><td style=\"text-align: right;\">      0</td><td style=\"text-align: right;\">     nan</td><td style=\"text-align: right;\">71.2833</td><td>C85    </td><td>C         </td></tr>\n",
       "<tr><td style=\"text-align: right;\">            3</td><td style=\"text-align: right;\">         1</td><td style=\"text-align: right;\">       3</td><td>Heikkinen, Miss. Laina                             </td><td>female</td><td style=\"text-align: right;\">   26</td><td style=\"text-align: right;\">      0</td><td style=\"text-align: right;\">      0</td><td style=\"text-align: right;\">     nan</td><td style=\"text-align: right;\"> 7.925 </td><td>       </td><td>S         </td></tr>\n",
       "</tbody>\n",
       "</table>"
      ]
     },
     "metadata": {},
     "output_type": "display_data"
    },
    {
     "data": {
      "text/plain": []
     },
     "execution_count": 37,
     "metadata": {},
     "output_type": "execute_result"
    }
   ],
   "source": [
    "train.head(3)\n",
    "#test no tiene la clases :o"
   ]
  },
  {
   "cell_type": "code",
   "execution_count": 38,
   "metadata": {},
   "outputs": [],
   "source": [
    "train = train.drop(\"PassengerId\")\n",
    "train = train.drop(\"Name\")\n",
    "train = train.drop(\"Cabin\")\n",
    "train = train.drop(\"Ticket\")"
   ]
  },
  {
   "cell_type": "code",
   "execution_count": 39,
   "metadata": {},
   "outputs": [],
   "source": [
    "train, test = train.split_frame(ratios=[0.7])"
   ]
  },
  {
   "cell_type": "code",
   "execution_count": 40,
   "metadata": {},
   "outputs": [
    {
     "data": {
      "text/html": [
       "<table>\n",
       "<thead>\n",
       "<tr><th style=\"text-align: right;\">  Survived</th><th style=\"text-align: right;\">  Pclass</th><th>Sex   </th><th style=\"text-align: right;\">  Age</th><th style=\"text-align: right;\">  SibSp</th><th style=\"text-align: right;\">  Parch</th><th style=\"text-align: right;\">   Fare</th><th>Embarked  </th></tr>\n",
       "</thead>\n",
       "<tbody>\n",
       "<tr><td style=\"text-align: right;\">         0</td><td style=\"text-align: right;\">       3</td><td>male  </td><td style=\"text-align: right;\">   22</td><td style=\"text-align: right;\">      1</td><td style=\"text-align: right;\">      0</td><td style=\"text-align: right;\"> 7.25  </td><td>S         </td></tr>\n",
       "<tr><td style=\"text-align: right;\">         1</td><td style=\"text-align: right;\">       1</td><td>female</td><td style=\"text-align: right;\">   38</td><td style=\"text-align: right;\">      1</td><td style=\"text-align: right;\">      0</td><td style=\"text-align: right;\">71.2833</td><td>C         </td></tr>\n",
       "<tr><td style=\"text-align: right;\">         1</td><td style=\"text-align: right;\">       3</td><td>female</td><td style=\"text-align: right;\">   26</td><td style=\"text-align: right;\">      0</td><td style=\"text-align: right;\">      0</td><td style=\"text-align: right;\"> 7.925 </td><td>S         </td></tr>\n",
       "<tr><td style=\"text-align: right;\">         1</td><td style=\"text-align: right;\">       1</td><td>female</td><td style=\"text-align: right;\">   35</td><td style=\"text-align: right;\">      1</td><td style=\"text-align: right;\">      0</td><td style=\"text-align: right;\">53.1   </td><td>S         </td></tr>\n",
       "<tr><td style=\"text-align: right;\">         0</td><td style=\"text-align: right;\">       1</td><td>male  </td><td style=\"text-align: right;\">   54</td><td style=\"text-align: right;\">      0</td><td style=\"text-align: right;\">      0</td><td style=\"text-align: right;\">51.8625</td><td>S         </td></tr>\n",
       "<tr><td style=\"text-align: right;\">         0</td><td style=\"text-align: right;\">       3</td><td>male  </td><td style=\"text-align: right;\">    2</td><td style=\"text-align: right;\">      3</td><td style=\"text-align: right;\">      1</td><td style=\"text-align: right;\">21.075 </td><td>S         </td></tr>\n",
       "<tr><td style=\"text-align: right;\">         1</td><td style=\"text-align: right;\">       3</td><td>female</td><td style=\"text-align: right;\">   27</td><td style=\"text-align: right;\">      0</td><td style=\"text-align: right;\">      2</td><td style=\"text-align: right;\">11.1333</td><td>S         </td></tr>\n",
       "<tr><td style=\"text-align: right;\">         1</td><td style=\"text-align: right;\">       2</td><td>female</td><td style=\"text-align: right;\">   14</td><td style=\"text-align: right;\">      1</td><td style=\"text-align: right;\">      0</td><td style=\"text-align: right;\">30.0708</td><td>C         </td></tr>\n",
       "<tr><td style=\"text-align: right;\">         1</td><td style=\"text-align: right;\">       3</td><td>female</td><td style=\"text-align: right;\">    4</td><td style=\"text-align: right;\">      1</td><td style=\"text-align: right;\">      1</td><td style=\"text-align: right;\">16.7   </td><td>S         </td></tr>\n",
       "<tr><td style=\"text-align: right;\">         0</td><td style=\"text-align: right;\">       3</td><td>male  </td><td style=\"text-align: right;\">   20</td><td style=\"text-align: right;\">      0</td><td style=\"text-align: right;\">      0</td><td style=\"text-align: right;\"> 8.05  </td><td>S         </td></tr>\n",
       "</tbody>\n",
       "</table>"
      ]
     },
     "metadata": {},
     "output_type": "display_data"
    },
    {
     "data": {
      "text/plain": []
     },
     "execution_count": 40,
     "metadata": {},
     "output_type": "execute_result"
    }
   ],
   "source": [
    "train.head()"
   ]
  },
  {
   "cell_type": "code",
   "execution_count": 41,
   "metadata": {},
   "outputs": [],
   "source": [
    "train['Survived'] = train['Survived'].asfactor()\n",
    "train['Pclass'] = train['Pclass'].asfactor()\n",
    "train['Sex'] = train['Sex'].asfactor()\n",
    "train['Embarked'] = train['Embarked'].asfactor()\n",
    "\n",
    "test['Survived'] = test['Survived'].asfactor()\n",
    "test['Pclass'] = test['Pclass'].asfactor()\n",
    "test['Sex'] = test['Sex'].asfactor()\n",
    "test['Embarked'] = test['Embarked'].asfactor()"
   ]
  },
  {
   "cell_type": "markdown",
   "metadata": {},
   "source": [
    "#### Correr un autoML como baseline"
   ]
  },
  {
   "cell_type": "code",
   "execution_count": 42,
   "metadata": {},
   "outputs": [],
   "source": [
    "from h2o.automl import H2OAutoML"
   ]
  },
  {
   "cell_type": "code",
   "execution_count": 43,
   "metadata": {},
   "outputs": [],
   "source": [
    "target = \"Survived\""
   ]
  },
  {
   "cell_type": "code",
   "execution_count": 44,
   "metadata": {},
   "outputs": [],
   "source": [
    "train_cols = [x for x in train.col_names if x not in ['Survived']]"
   ]
  },
  {
   "cell_type": "code",
   "execution_count": 45,
   "metadata": {},
   "outputs": [
    {
     "name": "stdout",
     "output_type": "stream",
     "text": [
      "AutoML progress: |████████████████████████████████████████████████████████| 100%\n",
      "Parse progress: |█████████████████████████████████████████████████████████| 100%\n"
     ]
    }
   ],
   "source": [
    "aml = H2OAutoML(max_runtime_secs = 100)\n",
    "aml.train(x = train_cols, y = target,\n",
    "          training_frame = train)"
   ]
  },
  {
   "cell_type": "code",
   "execution_count": 46,
   "metadata": {},
   "outputs": [
    {
     "data": {
      "text/html": [
       "<table>\n",
       "<thead>\n",
       "<tr><th>model_id                                             </th><th style=\"text-align: right;\">     auc</th><th style=\"text-align: right;\">  logloss</th></tr>\n",
       "</thead>\n",
       "<tbody>\n",
       "<tr><td>GBM_grid_0_AutoML_20181010_164706_model_14           </td><td style=\"text-align: right;\">0.867024</td><td style=\"text-align: right;\"> 0.413635</td></tr>\n",
       "<tr><td>StackedEnsemble_AllModels_0_AutoML_20181010_164706   </td><td style=\"text-align: right;\">0.866573</td><td style=\"text-align: right;\"> 0.411107</td></tr>\n",
       "<tr><td>GBM_grid_0_AutoML_20181010_164706_model_0            </td><td style=\"text-align: right;\">0.863811</td><td style=\"text-align: right;\"> 0.423598</td></tr>\n",
       "<tr><td>GBM_grid_0_AutoML_20181010_164706_model_3            </td><td style=\"text-align: right;\">0.863544</td><td style=\"text-align: right;\"> 0.419243</td></tr>\n",
       "<tr><td>StackedEnsemble_BestOfFamily_0_AutoML_20181010_164706</td><td style=\"text-align: right;\">0.863268</td><td style=\"text-align: right;\"> 0.41305 </td></tr>\n",
       "<tr><td>GBM_grid_0_AutoML_20181010_164706_model_2            </td><td style=\"text-align: right;\">0.85973 </td><td style=\"text-align: right;\"> 0.429969</td></tr>\n",
       "<tr><td>GBM_grid_0_AutoML_20181010_164706_model_5            </td><td style=\"text-align: right;\">0.85862 </td><td style=\"text-align: right;\"> 0.523054</td></tr>\n",
       "<tr><td>XRT_0_AutoML_20181010_164706                         </td><td style=\"text-align: right;\">0.858603</td><td style=\"text-align: right;\"> 0.500686</td></tr>\n",
       "<tr><td>GBM_grid_0_AutoML_20181010_164706_model_1            </td><td style=\"text-align: right;\">0.856617</td><td style=\"text-align: right;\"> 0.426647</td></tr>\n",
       "<tr><td>GBM_grid_0_AutoML_20181010_164706_model_6            </td><td style=\"text-align: right;\">0.853922</td><td style=\"text-align: right;\"> 0.436287</td></tr>\n",
       "</tbody>\n",
       "</table>"
      ]
     },
     "metadata": {},
     "output_type": "display_data"
    },
    {
     "name": "stdout",
     "output_type": "stream",
     "text": [
      "\n"
     ]
    }
   ],
   "source": [
    "lb = aml.leaderboard\n",
    "print(lb)"
   ]
  },
  {
   "cell_type": "markdown",
   "metadata": {},
   "source": [
    "#### Ocupando un Autoencoder"
   ]
  },
  {
   "cell_type": "code",
   "execution_count": 47,
   "metadata": {},
   "outputs": [],
   "source": [
    "from h2o.estimators import H2OAutoEncoderEstimator"
   ]
  },
  {
   "cell_type": "code",
   "execution_count": 53,
   "metadata": {},
   "outputs": [],
   "source": [
    "autoencoder = H2OAutoEncoderEstimator(activation=\"Tanh\",\n",
    "                              hidden=[10],\n",
    "                              ignore_const_cols=False,\n",
    "                              epochs=1000)"
   ]
  },
  {
   "cell_type": "code",
   "execution_count": 54,
   "metadata": {},
   "outputs": [
    {
     "name": "stdout",
     "output_type": "stream",
     "text": [
      "deeplearning Model Build progress: |██████████████████████████████████████| 100%\n"
     ]
    }
   ],
   "source": [
    "autoencoder.train(x=train_cols, training_frame=train)"
   ]
  },
  {
   "cell_type": "code",
   "execution_count": 55,
   "metadata": {},
   "outputs": [
    {
     "name": "stdout",
     "output_type": "stream",
     "text": [
      "\n",
      "ModelMetricsAutoEncoder: deeplearning\n",
      "** Reported on train data. **\n",
      "\n",
      "MSE: 9.907751523481976e-05\n",
      "RMSE: 0.009953768895992098\n"
     ]
    },
    {
     "data": {
      "text/plain": []
     },
     "execution_count": 55,
     "metadata": {},
     "output_type": "execute_result"
    }
   ],
   "source": [
    "autoencoder._model_json[\"output\"][\"training_metrics\"]"
   ]
  },
  {
   "cell_type": "code",
   "execution_count": 56,
   "metadata": {},
   "outputs": [
    {
     "name": "stdout",
     "output_type": "stream",
     "text": [
      "deeplearning prediction progress: |███████████████████████████████████████| 100%\n"
     ]
    }
   ],
   "source": [
    "train_deep_feats = autoencoder.predict(train)\n",
    "train_deep_feats = train_deep_feats.cbind(train['Survived'])\n",
    "deep_cols = [x for x in train_deep_feats.col_names if x not in ['Survived']]"
   ]
  },
  {
   "cell_type": "code",
   "execution_count": 57,
   "metadata": {},
   "outputs": [
    {
     "data": {
      "text/html": [
       "<table>\n",
       "<thead>\n",
       "<tr><th style=\"text-align: right;\">  reconstr_Pclass.1</th><th style=\"text-align: right;\">  reconstr_Pclass.2</th><th style=\"text-align: right;\">  reconstr_Pclass.3</th><th style=\"text-align: right;\">  reconstr_Pclass.missing(NA)</th><th style=\"text-align: right;\">  reconstr_Embarked.C</th><th style=\"text-align: right;\">  reconstr_Embarked.Q</th><th style=\"text-align: right;\">  reconstr_Embarked.S</th><th style=\"text-align: right;\">  reconstr_Embarked.missing(NA)</th><th style=\"text-align: right;\">  reconstr_Sex.female</th><th style=\"text-align: right;\">  reconstr_Sex.male</th><th style=\"text-align: right;\">  reconstr_Sex.missing(NA)</th><th style=\"text-align: right;\">  reconstr_Age</th><th style=\"text-align: right;\">  reconstr_SibSp</th><th style=\"text-align: right;\">  reconstr_Parch</th><th style=\"text-align: right;\">  reconstr_Fare</th><th style=\"text-align: right;\">  Survived</th></tr>\n",
       "</thead>\n",
       "<tbody>\n",
       "<tr><td style=\"text-align: right;\">       -0.00210315 </td><td style=\"text-align: right;\">        -0.00083475</td><td style=\"text-align: right;\">        0.999963   </td><td style=\"text-align: right;\">                  3.02864e-05</td><td style=\"text-align: right;\">          0.00632466 </td><td style=\"text-align: right;\">          -0.00228214</td><td style=\"text-align: right;\">            0.999959 </td><td style=\"text-align: right;\">                   -0.000443918</td><td style=\"text-align: right;\">           0.00654024</td><td style=\"text-align: right;\">         0.999966  </td><td style=\"text-align: right;\">               5.84124e-05</td><td style=\"text-align: right;\">       21.615 </td><td style=\"text-align: right;\">       0.986042 </td><td style=\"text-align: right;\">      0.00202164</td><td style=\"text-align: right;\">        5.32051</td><td style=\"text-align: right;\">         0</td></tr>\n",
       "<tr><td style=\"text-align: right;\">        0.999888   </td><td style=\"text-align: right;\">         0.00997586</td><td style=\"text-align: right;\">       -0.000783716</td><td style=\"text-align: right;\">                 -8.98257e-05</td><td style=\"text-align: right;\">          0.999452   </td><td style=\"text-align: right;\">          -0.00401009</td><td style=\"text-align: right;\">            0.0074651</td><td style=\"text-align: right;\">                    0.00373011 </td><td style=\"text-align: right;\">           0.999883  </td><td style=\"text-align: right;\">        -0.00984709</td><td style=\"text-align: right;\">               6.45369e-05</td><td style=\"text-align: right;\">       37.6701</td><td style=\"text-align: right;\">       1.04611  </td><td style=\"text-align: right;\">      0.105329  </td><td style=\"text-align: right;\">       69.7135 </td><td style=\"text-align: right;\">         1</td></tr>\n",
       "<tr><td style=\"text-align: right;\">        0.000725499</td><td style=\"text-align: right;\">         0.00189306</td><td style=\"text-align: right;\">        0.999964   </td><td style=\"text-align: right;\">                 -1.31737e-05</td><td style=\"text-align: right;\">          0.000538848</td><td style=\"text-align: right;\">          -0.00169568</td><td style=\"text-align: right;\">            0.999959 </td><td style=\"text-align: right;\">                    0.000511266</td><td style=\"text-align: right;\">           0.999881  </td><td style=\"text-align: right;\">        -0.0119323 </td><td style=\"text-align: right;\">               1.34342e-05</td><td style=\"text-align: right;\">       26.0363</td><td style=\"text-align: right;\">       0.0315288</td><td style=\"text-align: right;\">     -0.00520187</td><td style=\"text-align: right;\">       10.243  </td><td style=\"text-align: right;\">         1</td></tr>\n",
       "<tr><td style=\"text-align: right;\">        0.999967   </td><td style=\"text-align: right;\">         0.00111342</td><td style=\"text-align: right;\">       -0.00218641 </td><td style=\"text-align: right;\">                  5.16592e-05</td><td style=\"text-align: right;\">         -0.00269434 </td><td style=\"text-align: right;\">          -0.0019785 </td><td style=\"text-align: right;\">            0.999963 </td><td style=\"text-align: right;\">                   -0.00146157 </td><td style=\"text-align: right;\">           0.999882  </td><td style=\"text-align: right;\">         0.0129057 </td><td style=\"text-align: right;\">               0.00054469 </td><td style=\"text-align: right;\">       35.3663</td><td style=\"text-align: right;\">       1.00044  </td><td style=\"text-align: right;\">     -0.0104004 </td><td style=\"text-align: right;\">       52.8199 </td><td style=\"text-align: right;\">         1</td></tr>\n",
       "<tr><td style=\"text-align: right;\">        0.999967   </td><td style=\"text-align: right;\">        -0.00105024</td><td style=\"text-align: right;\">        0.00399298 </td><td style=\"text-align: right;\">                 -4.0018e-05 </td><td style=\"text-align: right;\">         -0.000361405</td><td style=\"text-align: right;\">          -0.00274086</td><td style=\"text-align: right;\">            0.999962 </td><td style=\"text-align: right;\">                    0.000589184</td><td style=\"text-align: right;\">          -0.00173386</td><td style=\"text-align: right;\">         0.999966  </td><td style=\"text-align: right;\">               0.000171051</td><td style=\"text-align: right;\">       54.1305</td><td style=\"text-align: right;\">      -0.0194887</td><td style=\"text-align: right;\">      0.0259139 </td><td style=\"text-align: right;\">       50.7752 </td><td style=\"text-align: right;\">         0</td></tr>\n",
       "</tbody>\n",
       "</table>"
      ]
     },
     "metadata": {},
     "output_type": "display_data"
    },
    {
     "data": {
      "text/plain": []
     },
     "execution_count": 57,
     "metadata": {},
     "output_type": "execute_result"
    }
   ],
   "source": [
    "train_deep_feats.head(5)"
   ]
  },
  {
   "cell_type": "code",
   "execution_count": 58,
   "metadata": {},
   "outputs": [
    {
     "data": {
      "text/plain": [
       "['reconstr_Pclass.1',\n",
       " 'reconstr_Pclass.2',\n",
       " 'reconstr_Pclass.3',\n",
       " 'reconstr_Pclass.missing(NA)',\n",
       " 'reconstr_Embarked.C',\n",
       " 'reconstr_Embarked.Q',\n",
       " 'reconstr_Embarked.S',\n",
       " 'reconstr_Embarked.missing(NA)',\n",
       " 'reconstr_Sex.female',\n",
       " 'reconstr_Sex.male',\n",
       " 'reconstr_Sex.missing(NA)',\n",
       " 'reconstr_Age',\n",
       " 'reconstr_SibSp',\n",
       " 'reconstr_Parch',\n",
       " 'reconstr_Fare']"
      ]
     },
     "execution_count": 58,
     "metadata": {},
     "output_type": "execute_result"
    }
   ],
   "source": [
    "deep_cols"
   ]
  },
  {
   "cell_type": "code",
   "execution_count": 59,
   "metadata": {},
   "outputs": [
    {
     "name": "stdout",
     "output_type": "stream",
     "text": [
      "AutoML progress: |████████████████████████████████████████████████████████| 100%\n",
      "Parse progress: |█████████████████████████████████████████████████████████| 100%\n"
     ]
    }
   ],
   "source": [
    "aml2 = H2OAutoML(max_runtime_secs = 100)\n",
    "aml2.train(x = deep_cols, y = target,\n",
    "          training_frame = train_deep_feats)"
   ]
  },
  {
   "cell_type": "code",
   "execution_count": 60,
   "metadata": {},
   "outputs": [
    {
     "data": {
      "text/html": [
       "<table>\n",
       "<thead>\n",
       "<tr><th>model_id                                             </th><th style=\"text-align: right;\">     auc</th><th style=\"text-align: right;\">  logloss</th></tr>\n",
       "</thead>\n",
       "<tbody>\n",
       "<tr><td>StackedEnsemble_BestOfFamily_0_AutoML_20181010_165048</td><td style=\"text-align: right;\">0.873951</td><td style=\"text-align: right;\"> 0.410339</td></tr>\n",
       "<tr><td>GBM_grid_0_AutoML_20181010_165048_model_7            </td><td style=\"text-align: right;\">0.87355 </td><td style=\"text-align: right;\"> 0.406645</td></tr>\n",
       "<tr><td>GBM_grid_0_AutoML_20181010_165048_model_3            </td><td style=\"text-align: right;\">0.873166</td><td style=\"text-align: right;\"> 0.417654</td></tr>\n",
       "<tr><td>GBM_grid_0_AutoML_20181010_165048_model_1            </td><td style=\"text-align: right;\">0.871747</td><td style=\"text-align: right;\"> 0.416754</td></tr>\n",
       "<tr><td>StackedEnsemble_AllModels_0_AutoML_20181010_165048   </td><td style=\"text-align: right;\">0.869152</td><td style=\"text-align: right;\"> 0.416793</td></tr>\n",
       "<tr><td>GBM_grid_0_AutoML_20181010_165048_model_15           </td><td style=\"text-align: right;\">0.863727</td><td style=\"text-align: right;\"> 0.426621</td></tr>\n",
       "<tr><td>GBM_grid_0_AutoML_20181010_165048_model_2            </td><td style=\"text-align: right;\">0.86351 </td><td style=\"text-align: right;\"> 0.427173</td></tr>\n",
       "<tr><td>XRT_0_AutoML_20181010_165048                         </td><td style=\"text-align: right;\">0.863302</td><td style=\"text-align: right;\"> 0.753715</td></tr>\n",
       "<tr><td>GBM_grid_0_AutoML_20181010_165048_model_0            </td><td style=\"text-align: right;\">0.860373</td><td style=\"text-align: right;\"> 0.442919</td></tr>\n",
       "<tr><td>GBM_grid_0_AutoML_20181010_165048_model_11           </td><td style=\"text-align: right;\">0.855582</td><td style=\"text-align: right;\"> 0.54175 </td></tr>\n",
       "</tbody>\n",
       "</table>"
      ]
     },
     "metadata": {},
     "output_type": "display_data"
    },
    {
     "name": "stdout",
     "output_type": "stream",
     "text": [
      "\n"
     ]
    }
   ],
   "source": [
    "lb = aml2.leaderboard\n",
    "print(lb)"
   ]
  },
  {
   "cell_type": "code",
   "execution_count": null,
   "metadata": {},
   "outputs": [],
   "source": []
  }
 ],
 "metadata": {
  "kernelspec": {
   "display_name": "Python [conda env:spike_basico]",
   "language": "python",
   "name": "conda-env-spike_basico-py"
  },
  "language_info": {
   "codemirror_mode": {
    "name": "ipython",
    "version": 3
   },
   "file_extension": ".py",
   "mimetype": "text/x-python",
   "name": "python",
   "nbconvert_exporter": "python",
   "pygments_lexer": "ipython3",
   "version": "3.6.5"
  }
 },
 "nbformat": 4,
 "nbformat_minor": 2
}
