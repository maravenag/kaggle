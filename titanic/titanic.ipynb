{
 "cells": [
  {
   "cell_type": "code",
   "execution_count": 1,
   "metadata": {},
   "outputs": [],
   "source": [
    "import h2o"
   ]
  },
  {
   "cell_type": "code",
   "execution_count": 2,
   "metadata": {},
   "outputs": [
    {
     "name": "stdout",
     "output_type": "stream",
     "text": [
      "Checking whether there is an H2O instance running at http://localhost:54321. connected.\n",
      "Warning: Your H2O cluster version is too old (6 months and 29 days)! Please download and install the latest version from http://h2o.ai/download/\n"
     ]
    },
    {
     "data": {
      "text/html": [
       "<div style=\"overflow:auto\"><table style=\"width:50%\"><tr><td>H2O cluster uptime:</td>\n",
       "<td>5 hours 18 mins</td></tr>\n",
       "<tr><td>H2O cluster timezone:</td>\n",
       "<td>America/Santiago</td></tr>\n",
       "<tr><td>H2O data parsing timezone:</td>\n",
       "<td>UTC</td></tr>\n",
       "<tr><td>H2O cluster version:</td>\n",
       "<td>3.18.0.2</td></tr>\n",
       "<tr><td>H2O cluster version age:</td>\n",
       "<td>6 months and 29 days !!!</td></tr>\n",
       "<tr><td>H2O cluster name:</td>\n",
       "<td>H2O_from_python_maravenag_szc3fv</td></tr>\n",
       "<tr><td>H2O cluster total nodes:</td>\n",
       "<td>1</td></tr>\n",
       "<tr><td>H2O cluster free memory:</td>\n",
       "<td>2.146 Gb</td></tr>\n",
       "<tr><td>H2O cluster total cores:</td>\n",
       "<td>8</td></tr>\n",
       "<tr><td>H2O cluster allowed cores:</td>\n",
       "<td>8</td></tr>\n",
       "<tr><td>H2O cluster status:</td>\n",
       "<td>locked, healthy</td></tr>\n",
       "<tr><td>H2O connection url:</td>\n",
       "<td>http://localhost:54321</td></tr>\n",
       "<tr><td>H2O connection proxy:</td>\n",
       "<td>None</td></tr>\n",
       "<tr><td>H2O internal security:</td>\n",
       "<td>False</td></tr>\n",
       "<tr><td>H2O API Extensions:</td>\n",
       "<td>XGBoost, Algos, AutoML, Core V3, Core V4</td></tr>\n",
       "<tr><td>Python version:</td>\n",
       "<td>3.6.5 final</td></tr></table></div>"
      ],
      "text/plain": [
       "--------------------------  ----------------------------------------\n",
       "H2O cluster uptime:         5 hours 18 mins\n",
       "H2O cluster timezone:       America/Santiago\n",
       "H2O data parsing timezone:  UTC\n",
       "H2O cluster version:        3.18.0.2\n",
       "H2O cluster version age:    6 months and 29 days !!!\n",
       "H2O cluster name:           H2O_from_python_maravenag_szc3fv\n",
       "H2O cluster total nodes:    1\n",
       "H2O cluster free memory:    2.146 Gb\n",
       "H2O cluster total cores:    8\n",
       "H2O cluster allowed cores:  8\n",
       "H2O cluster status:         locked, healthy\n",
       "H2O connection url:         http://localhost:54321\n",
       "H2O connection proxy:\n",
       "H2O internal security:      False\n",
       "H2O API Extensions:         XGBoost, Algos, AutoML, Core V3, Core V4\n",
       "Python version:             3.6.5 final\n",
       "--------------------------  ----------------------------------------"
      ]
     },
     "metadata": {},
     "output_type": "display_data"
    }
   ],
   "source": [
    "h2o.init()"
   ]
  },
  {
   "cell_type": "code",
   "execution_count": 3,
   "metadata": {},
   "outputs": [
    {
     "name": "stdout",
     "output_type": "stream",
     "text": [
      "Parse progress: |█████████████████████████████████████████████████████████| 100%\n"
     ]
    }
   ],
   "source": [
    "train = h2o.upload_file(\"data/train.csv\", destination_frame=\"train\")"
   ]
  },
  {
   "cell_type": "code",
   "execution_count": 4,
   "metadata": {},
   "outputs": [
    {
     "name": "stdout",
     "output_type": "stream",
     "text": [
      "Rows:891\n",
      "Cols:12\n",
      "\n",
      "\n"
     ]
    },
    {
     "data": {
      "text/html": [
       "<table>\n",
       "<thead>\n",
       "<tr><th>       </th><th>PassengerId      </th><th>Survived          </th><th>Pclass            </th><th>Name                                               </th><th>Sex   </th><th>Age               </th><th>SibSp             </th><th>Parch             </th><th>Ticket            </th><th>Fare             </th><th>Cabin  </th><th>Embarked  </th></tr>\n",
       "</thead>\n",
       "<tbody>\n",
       "<tr><td>type   </td><td>int              </td><td>int               </td><td>int               </td><td>string                                             </td><td>enum  </td><td>real              </td><td>int               </td><td>int               </td><td>int               </td><td>real             </td><td>enum   </td><td>enum      </td></tr>\n",
       "<tr><td>mins   </td><td>1.0              </td><td>0.0               </td><td>1.0               </td><td>NaN                                                </td><td>      </td><td>0.42              </td><td>0.0               </td><td>0.0               </td><td>693.0             </td><td>0.0              </td><td>       </td><td>          </td></tr>\n",
       "<tr><td>mean   </td><td>446.0            </td><td>0.3838383838383838</td><td>2.3086419753086447</td><td>NaN                                                </td><td>      </td><td>29.69911764705884 </td><td>0.5230078563411893</td><td>0.3815937149270483</td><td>260318.5491679275 </td><td>32.20420796857465</td><td>       </td><td>          </td></tr>\n",
       "<tr><td>maxs   </td><td>891.0            </td><td>1.0               </td><td>3.0               </td><td>NaN                                                </td><td>      </td><td>80.0              </td><td>8.0               </td><td>6.0               </td><td>3101298.0         </td><td>512.3292         </td><td>       </td><td>          </td></tr>\n",
       "<tr><td>sigma  </td><td>257.3538420152301</td><td>0.4865924542648575</td><td>0.8360712409770491</td><td>NaN                                                </td><td>      </td><td>14.526497332334035</td><td>1.1027434322934315</td><td>0.8060572211299488</td><td>471609.26868834975</td><td>49.69342859718089</td><td>       </td><td>          </td></tr>\n",
       "<tr><td>zeros  </td><td>0                </td><td>549               </td><td>0                 </td><td>0                                                  </td><td>      </td><td>0                 </td><td>608               </td><td>678               </td><td>0                 </td><td>15               </td><td>       </td><td>          </td></tr>\n",
       "<tr><td>missing</td><td>0                </td><td>0                 </td><td>0                 </td><td>0                                                  </td><td>0     </td><td>177               </td><td>0                 </td><td>0                 </td><td>230               </td><td>0                </td><td>687    </td><td>2         </td></tr>\n",
       "<tr><td>0      </td><td>1.0              </td><td>0.0               </td><td>3.0               </td><td>Braund, Mr. Owen Harris                            </td><td>male  </td><td>22.0              </td><td>1.0               </td><td>0.0               </td><td>nan               </td><td>7.25             </td><td>       </td><td>S         </td></tr>\n",
       "<tr><td>1      </td><td>2.0              </td><td>1.0               </td><td>1.0               </td><td>Cumings, Mrs. John Bradley (Florence Briggs Thayer)</td><td>female</td><td>38.0              </td><td>1.0               </td><td>0.0               </td><td>nan               </td><td>71.2833          </td><td>C85    </td><td>C         </td></tr>\n",
       "<tr><td>2      </td><td>3.0              </td><td>1.0               </td><td>3.0               </td><td>Heikkinen, Miss. Laina                             </td><td>female</td><td>26.0              </td><td>0.0               </td><td>0.0               </td><td>nan               </td><td>7.925            </td><td>       </td><td>S         </td></tr>\n",
       "<tr><td>3      </td><td>4.0              </td><td>1.0               </td><td>1.0               </td><td>Futrelle, Mrs. Jacques Heath (Lily May Peel)       </td><td>female</td><td>35.0              </td><td>1.0               </td><td>0.0               </td><td>113803.0          </td><td>53.1             </td><td>C123   </td><td>S         </td></tr>\n",
       "<tr><td>4      </td><td>5.0              </td><td>0.0               </td><td>3.0               </td><td>Allen, Mr. William Henry                           </td><td>male  </td><td>35.0              </td><td>0.0               </td><td>0.0               </td><td>373450.0          </td><td>8.05             </td><td>       </td><td>S         </td></tr>\n",
       "<tr><td>5      </td><td>6.0              </td><td>0.0               </td><td>3.0               </td><td>Moran, Mr. James                                   </td><td>male  </td><td>nan               </td><td>0.0               </td><td>0.0               </td><td>330877.0          </td><td>8.4583           </td><td>       </td><td>Q         </td></tr>\n",
       "<tr><td>6      </td><td>7.0              </td><td>0.0               </td><td>1.0               </td><td>McCarthy, Mr. Timothy J                            </td><td>male  </td><td>54.0              </td><td>0.0               </td><td>0.0               </td><td>17463.0           </td><td>51.8625          </td><td>E46    </td><td>S         </td></tr>\n",
       "<tr><td>7      </td><td>8.0              </td><td>0.0               </td><td>3.0               </td><td>Palsson, Master. Gosta Leonard                     </td><td>male  </td><td>2.0               </td><td>3.0               </td><td>1.0               </td><td>349909.0          </td><td>21.075           </td><td>       </td><td>S         </td></tr>\n",
       "<tr><td>8      </td><td>9.0              </td><td>1.0               </td><td>3.0               </td><td>Johnson, Mrs. Oscar W (Elisabeth Vilhelmina Berg)  </td><td>female</td><td>27.0              </td><td>0.0               </td><td>2.0               </td><td>347742.0          </td><td>11.1333          </td><td>       </td><td>S         </td></tr>\n",
       "<tr><td>9      </td><td>10.0             </td><td>1.0               </td><td>2.0               </td><td>Nasser, Mrs. Nicholas (Adele Achem)                </td><td>female</td><td>14.0              </td><td>1.0               </td><td>0.0               </td><td>237736.0          </td><td>30.0708          </td><td>       </td><td>C         </td></tr>\n",
       "</tbody>\n",
       "</table>"
      ]
     },
     "metadata": {},
     "output_type": "display_data"
    }
   ],
   "source": [
    "train.describe()\n",
    "#test no tiene la clases :o"
   ]
  },
  {
   "cell_type": "code",
   "execution_count": 5,
   "metadata": {},
   "outputs": [],
   "source": [
    "train = train.drop(\"PassengerId\")\n",
    "train = train.drop(\"Name\")\n",
    "train = train.drop(\"Cabin\")\n",
    "train = train.drop(\"Ticket\")"
   ]
  },
  {
   "cell_type": "code",
   "execution_count": 6,
   "metadata": {},
   "outputs": [],
   "source": [
    "train, test = train.split_frame(ratios=[0.7])"
   ]
  },
  {
   "cell_type": "code",
   "execution_count": 7,
   "metadata": {},
   "outputs": [
    {
     "data": {
      "text/html": [
       "<table>\n",
       "<thead>\n",
       "<tr><th style=\"text-align: right;\">  Survived</th><th style=\"text-align: right;\">  Pclass</th><th>Sex   </th><th style=\"text-align: right;\">  Age</th><th style=\"text-align: right;\">  SibSp</th><th style=\"text-align: right;\">  Parch</th><th style=\"text-align: right;\">   Fare</th><th>Embarked  </th></tr>\n",
       "</thead>\n",
       "<tbody>\n",
       "<tr><td style=\"text-align: right;\">         0</td><td style=\"text-align: right;\">       3</td><td>male  </td><td style=\"text-align: right;\">   22</td><td style=\"text-align: right;\">      1</td><td style=\"text-align: right;\">      0</td><td style=\"text-align: right;\"> 7.25  </td><td>S         </td></tr>\n",
       "<tr><td style=\"text-align: right;\">         1</td><td style=\"text-align: right;\">       1</td><td>female</td><td style=\"text-align: right;\">   38</td><td style=\"text-align: right;\">      1</td><td style=\"text-align: right;\">      0</td><td style=\"text-align: right;\">71.2833</td><td>C         </td></tr>\n",
       "<tr><td style=\"text-align: right;\">         1</td><td style=\"text-align: right;\">       3</td><td>female</td><td style=\"text-align: right;\">   26</td><td style=\"text-align: right;\">      0</td><td style=\"text-align: right;\">      0</td><td style=\"text-align: right;\"> 7.925 </td><td>S         </td></tr>\n",
       "<tr><td style=\"text-align: right;\">         1</td><td style=\"text-align: right;\">       1</td><td>female</td><td style=\"text-align: right;\">   35</td><td style=\"text-align: right;\">      1</td><td style=\"text-align: right;\">      0</td><td style=\"text-align: right;\">53.1   </td><td>S         </td></tr>\n",
       "<tr><td style=\"text-align: right;\">         0</td><td style=\"text-align: right;\">       3</td><td>male  </td><td style=\"text-align: right;\">   35</td><td style=\"text-align: right;\">      0</td><td style=\"text-align: right;\">      0</td><td style=\"text-align: right;\"> 8.05  </td><td>S         </td></tr>\n",
       "<tr><td style=\"text-align: right;\">         0</td><td style=\"text-align: right;\">       3</td><td>male  </td><td style=\"text-align: right;\">  nan</td><td style=\"text-align: right;\">      0</td><td style=\"text-align: right;\">      0</td><td style=\"text-align: right;\"> 8.4583</td><td>Q         </td></tr>\n",
       "<tr><td style=\"text-align: right;\">         0</td><td style=\"text-align: right;\">       1</td><td>male  </td><td style=\"text-align: right;\">   54</td><td style=\"text-align: right;\">      0</td><td style=\"text-align: right;\">      0</td><td style=\"text-align: right;\">51.8625</td><td>S         </td></tr>\n",
       "<tr><td style=\"text-align: right;\">         0</td><td style=\"text-align: right;\">       3</td><td>male  </td><td style=\"text-align: right;\">    2</td><td style=\"text-align: right;\">      3</td><td style=\"text-align: right;\">      1</td><td style=\"text-align: right;\">21.075 </td><td>S         </td></tr>\n",
       "<tr><td style=\"text-align: right;\">         1</td><td style=\"text-align: right;\">       3</td><td>female</td><td style=\"text-align: right;\">    4</td><td style=\"text-align: right;\">      1</td><td style=\"text-align: right;\">      1</td><td style=\"text-align: right;\">16.7   </td><td>S         </td></tr>\n",
       "<tr><td style=\"text-align: right;\">         1</td><td style=\"text-align: right;\">       1</td><td>female</td><td style=\"text-align: right;\">   58</td><td style=\"text-align: right;\">      0</td><td style=\"text-align: right;\">      0</td><td style=\"text-align: right;\">26.55  </td><td>S         </td></tr>\n",
       "</tbody>\n",
       "</table>"
      ]
     },
     "metadata": {},
     "output_type": "display_data"
    },
    {
     "data": {
      "text/plain": []
     },
     "execution_count": 7,
     "metadata": {},
     "output_type": "execute_result"
    }
   ],
   "source": [
    "train.head()"
   ]
  },
  {
   "cell_type": "code",
   "execution_count": 8,
   "metadata": {},
   "outputs": [],
   "source": [
    "train['Survived'] = train['Survived'].asfactor()\n",
    "train['Pclass'] = train['Pclass'].asfactor()\n",
    "train['Sex'] = train['Sex'].asfactor()\n",
    "train['Embarked'] = train['Embarked'].asfactor()\n",
    "\n",
    "test['Survived'] = test['Survived'].asfactor()\n",
    "test['Pclass'] = test['Pclass'].asfactor()\n",
    "test['Sex'] = test['Sex'].asfactor()\n",
    "test['Embarked'] = test['Embarked'].asfactor()"
   ]
  },
  {
   "cell_type": "markdown",
   "metadata": {},
   "source": [
    "#### Correr un autoML como baseline"
   ]
  },
  {
   "cell_type": "code",
   "execution_count": 9,
   "metadata": {},
   "outputs": [],
   "source": [
    "from h2o.automl import H2OAutoML"
   ]
  },
  {
   "cell_type": "code",
   "execution_count": 10,
   "metadata": {},
   "outputs": [],
   "source": [
    "target = \"Survived\""
   ]
  },
  {
   "cell_type": "code",
   "execution_count": 11,
   "metadata": {},
   "outputs": [],
   "source": [
    "train_cols = [x for x in train.col_names if x not in ['Survived']]"
   ]
  },
  {
   "cell_type": "code",
   "execution_count": 12,
   "metadata": {},
   "outputs": [
    {
     "name": "stdout",
     "output_type": "stream",
     "text": [
      "AutoML progress: |████████████████████████████████████████████████████████| 100%\n",
      "Parse progress: |█████████████████████████████████████████████████████████| 100%\n"
     ]
    }
   ],
   "source": [
    "aml = H2OAutoML(max_runtime_secs = 100)\n",
    "aml.train(x = train_cols, y = target,\n",
    "          training_frame = train, validation_frame=test)"
   ]
  },
  {
   "cell_type": "code",
   "execution_count": 14,
   "metadata": {},
   "outputs": [
    {
     "data": {
      "text/html": [
       "<table>\n",
       "<thead>\n",
       "<tr><th>model_id                                             </th><th style=\"text-align: right;\">     auc</th><th style=\"text-align: right;\">  logloss</th></tr>\n",
       "</thead>\n",
       "<tbody>\n",
       "<tr><td>StackedEnsemble_BestOfFamily_0_AutoML_20181004_222555</td><td style=\"text-align: right;\">0.87314 </td><td style=\"text-align: right;\"> 0.404598</td></tr>\n",
       "<tr><td>StackedEnsemble_AllModels_0_AutoML_20181004_222555   </td><td style=\"text-align: right;\">0.871352</td><td style=\"text-align: right;\"> 0.405517</td></tr>\n",
       "<tr><td>GBM_grid_0_AutoML_20181004_222555_model_0            </td><td style=\"text-align: right;\">0.867584</td><td style=\"text-align: right;\"> 0.411948</td></tr>\n",
       "<tr><td>GBM_grid_0_AutoML_20181004_222555_model_14           </td><td style=\"text-align: right;\">0.86505 </td><td style=\"text-align: right;\"> 0.417263</td></tr>\n",
       "<tr><td>GBM_grid_0_AutoML_20181004_222555_model_3            </td><td style=\"text-align: right;\">0.865017</td><td style=\"text-align: right;\"> 0.423372</td></tr>\n",
       "<tr><td>GBM_grid_0_AutoML_20181004_222555_model_2            </td><td style=\"text-align: right;\">0.864022</td><td style=\"text-align: right;\"> 0.42445 </td></tr>\n",
       "<tr><td>GBM_grid_0_AutoML_20181004_222555_model_13           </td><td style=\"text-align: right;\">0.863022</td><td style=\"text-align: right;\"> 0.450916</td></tr>\n",
       "<tr><td>GBM_grid_0_AutoML_20181004_222555_model_1            </td><td style=\"text-align: right;\">0.861924</td><td style=\"text-align: right;\"> 0.422671</td></tr>\n",
       "<tr><td>GLM_grid_0_AutoML_20181004_222555_model_0            </td><td style=\"text-align: right;\">0.857987</td><td style=\"text-align: right;\"> 0.437717</td></tr>\n",
       "<tr><td>XRT_0_AutoML_20181004_222555                         </td><td style=\"text-align: right;\">0.85703 </td><td style=\"text-align: right;\"> 0.507404</td></tr>\n",
       "</tbody>\n",
       "</table>"
      ]
     },
     "metadata": {},
     "output_type": "display_data"
    },
    {
     "name": "stdout",
     "output_type": "stream",
     "text": [
      "\n"
     ]
    }
   ],
   "source": [
    "lb = aml.leaderboard\n",
    "print(lb)"
   ]
  },
  {
   "cell_type": "markdown",
   "metadata": {},
   "source": [
    "#### Ocupando un Autoencoder"
   ]
  },
  {
   "cell_type": "code",
   "execution_count": 15,
   "metadata": {},
   "outputs": [],
   "source": [
    "from h2o.estimators import H2OAutoEncoderEstimator"
   ]
  },
  {
   "cell_type": "code",
   "execution_count": 16,
   "metadata": {},
   "outputs": [],
   "source": [
    "autoencoder = H2OAutoEncoderEstimator(activation=\"Tanh\",\n",
    "                              hidden=[5],\n",
    "                              ignore_const_cols=False,\n",
    "                              epochs=1000)"
   ]
  },
  {
   "cell_type": "code",
   "execution_count": 17,
   "metadata": {},
   "outputs": [
    {
     "name": "stdout",
     "output_type": "stream",
     "text": [
      "deeplearning Model Build progress: |██████████████████████████████████████| 100%\n"
     ]
    }
   ],
   "source": [
    "autoencoder.train(x=train_cols, training_frame=train)"
   ]
  },
  {
   "cell_type": "code",
   "execution_count": 18,
   "metadata": {},
   "outputs": [
    {
     "name": "stdout",
     "output_type": "stream",
     "text": [
      "\n",
      "ModelMetricsAutoEncoder: deeplearning\n",
      "** Reported on train data. **\n",
      "\n",
      "MSE: 0.0050799698002500955\n",
      "RMSE: 0.07127390686815263\n"
     ]
    },
    {
     "data": {
      "text/plain": []
     },
     "execution_count": 18,
     "metadata": {},
     "output_type": "execute_result"
    }
   ],
   "source": [
    "autoencoder._model_json[\"output\"][\"training_metrics\"]"
   ]
  },
  {
   "cell_type": "code",
   "execution_count": 40,
   "metadata": {},
   "outputs": [
    {
     "name": "stdout",
     "output_type": "stream",
     "text": [
      "deepfeatures progress: |██████████████████████████████████████████████████| 100%\n"
     ]
    }
   ],
   "source": [
    "train_deep_feats = autoencoder.deepfeatures(train, 0)\n",
    "train_deep_feats = train_deep_feats.cbind(train['Survived'])\n",
    "deep_cols = [x for x in train_deep_feats.col_names if x not in ['Survived']]"
   ]
  },
  {
   "cell_type": "code",
   "execution_count": 41,
   "metadata": {},
   "outputs": [
    {
     "name": "stdout",
     "output_type": "stream",
     "text": [
      "deeplearning Model Build progress: |██████████████████████████████████████| 100%\n",
      "\n",
      "ModelMetricsAutoEncoder: deeplearning\n",
      "** Reported on train data. **\n",
      "\n",
      "MSE: 0.005736324624306365\n",
      "RMSE: 0.0757385280046184\n"
     ]
    },
    {
     "data": {
      "text/plain": []
     },
     "execution_count": 41,
     "metadata": {},
     "output_type": "execute_result"
    }
   ],
   "source": [
    "autoencoder.train(x=train_cols, training_frame=test)\n",
    "autoencoder._model_json[\"output\"][\"training_metrics\"]"
   ]
  },
  {
   "cell_type": "code",
   "execution_count": 42,
   "metadata": {},
   "outputs": [
    {
     "name": "stdout",
     "output_type": "stream",
     "text": [
      "deepfeatures progress: |██████████████████████████████████████████████████| 100%\n"
     ]
    }
   ],
   "source": [
    "test_deep_feats = autoencoder.deepfeatures(test, 0)\n",
    "test_deep_feats = test_deep_feats.cbind(test['Survived'])"
   ]
  },
  {
   "cell_type": "code",
   "execution_count": 43,
   "metadata": {},
   "outputs": [
    {
     "data": {
      "text/html": [
       "<table>\n",
       "<thead>\n",
       "<tr><th style=\"text-align: right;\">  DF.L1.C1</th><th style=\"text-align: right;\">  DF.L1.C2</th><th style=\"text-align: right;\">  DF.L1.C3</th><th style=\"text-align: right;\">  DF.L1.C4</th><th style=\"text-align: right;\">  DF.L1.C5</th><th style=\"text-align: right;\">  Survived</th></tr>\n",
       "</thead>\n",
       "<tbody>\n",
       "<tr><td style=\"text-align: right;\"> -0.680757</td><td style=\"text-align: right;\">  0.869347</td><td style=\"text-align: right;\">  0.808257</td><td style=\"text-align: right;\">  0.88243 </td><td style=\"text-align: right;\"> -0.894286</td><td style=\"text-align: right;\">         0</td></tr>\n",
       "<tr><td style=\"text-align: right;\">  0.863555</td><td style=\"text-align: right;\"> -0.895482</td><td style=\"text-align: right;\">  0.81057 </td><td style=\"text-align: right;\"> -0.93484 </td><td style=\"text-align: right;\">  0.95416 </td><td style=\"text-align: right;\">         1</td></tr>\n",
       "<tr><td style=\"text-align: right;\"> -0.681467</td><td style=\"text-align: right;\">  0.869444</td><td style=\"text-align: right;\">  0.806785</td><td style=\"text-align: right;\">  0.882418</td><td style=\"text-align: right;\">  0.942474</td><td style=\"text-align: right;\">         1</td></tr>\n",
       "<tr><td style=\"text-align: right;\">  0.836916</td><td style=\"text-align: right;\">  0.86945 </td><td style=\"text-align: right;\">  0.804929</td><td style=\"text-align: right;\"> -0.887755</td><td style=\"text-align: right;\">  0.939821</td><td style=\"text-align: right;\">         1</td></tr>\n",
       "<tr><td style=\"text-align: right;\"> -0.678153</td><td style=\"text-align: right;\">  0.869552</td><td style=\"text-align: right;\">  0.807813</td><td style=\"text-align: right;\">  0.880667</td><td style=\"text-align: right;\"> -0.89452 </td><td style=\"text-align: right;\">         0</td></tr>\n",
       "<tr><td style=\"text-align: right;\"> -0.943842</td><td style=\"text-align: right;\"> -0.292784</td><td style=\"text-align: right;\"> -0.573188</td><td style=\"text-align: right;\">  0.429261</td><td style=\"text-align: right;\"> -0.385028</td><td style=\"text-align: right;\">         0</td></tr>\n",
       "<tr><td style=\"text-align: right;\">  0.839938</td><td style=\"text-align: right;\">  0.86965 </td><td style=\"text-align: right;\">  0.80551 </td><td style=\"text-align: right;\"> -0.89062 </td><td style=\"text-align: right;\"> -0.899347</td><td style=\"text-align: right;\">         0</td></tr>\n",
       "<tr><td style=\"text-align: right;\"> -0.684709</td><td style=\"text-align: right;\">  0.869673</td><td style=\"text-align: right;\">  0.809938</td><td style=\"text-align: right;\">  0.884541</td><td style=\"text-align: right;\"> -0.891969</td><td style=\"text-align: right;\">         0</td></tr>\n",
       "<tr><td style=\"text-align: right;\"> -0.684678</td><td style=\"text-align: right;\">  0.869397</td><td style=\"text-align: right;\">  0.808104</td><td style=\"text-align: right;\">  0.884527</td><td style=\"text-align: right;\">  0.943478</td><td style=\"text-align: right;\">         1</td></tr>\n",
       "<tr><td style=\"text-align: right;\">  0.837805</td><td style=\"text-align: right;\">  0.87013 </td><td style=\"text-align: right;\">  0.803775</td><td style=\"text-align: right;\"> -0.887199</td><td style=\"text-align: right;\">  0.939576</td><td style=\"text-align: right;\">         1</td></tr>\n",
       "</tbody>\n",
       "</table>"
      ]
     },
     "metadata": {},
     "output_type": "display_data"
    },
    {
     "data": {
      "text/plain": []
     },
     "execution_count": 43,
     "metadata": {},
     "output_type": "execute_result"
    }
   ],
   "source": [
    "train_deep_feats.head()"
   ]
  },
  {
   "cell_type": "code",
   "execution_count": 45,
   "metadata": {},
   "outputs": [
    {
     "data": {
      "text/html": [
       "<table>\n",
       "<thead>\n",
       "<tr><th style=\"text-align: right;\">  DF.L1.C1</th><th style=\"text-align: right;\">  DF.L1.C2</th><th style=\"text-align: right;\">  DF.L1.C3</th><th style=\"text-align: right;\">  DF.L1.C4</th><th style=\"text-align: right;\">  DF.L1.C5</th><th style=\"text-align: right;\">  Survived</th></tr>\n",
       "</thead>\n",
       "<tbody>\n",
       "<tr><td style=\"text-align: right;\">  0.90759 </td><td style=\"text-align: right;\"> -0.895927</td><td style=\"text-align: right;\"> -0.979157</td><td style=\"text-align: right;\"> -0.820317</td><td style=\"text-align: right;\">  0.844263</td><td style=\"text-align: right;\">         1</td></tr>\n",
       "<tr><td style=\"text-align: right;\">  0.858789</td><td style=\"text-align: right;\">  0.859697</td><td style=\"text-align: right;\">  0.885163</td><td style=\"text-align: right;\"> -0.805421</td><td style=\"text-align: right;\"> -0.530245</td><td style=\"text-align: right;\">         1</td></tr>\n",
       "<tr><td style=\"text-align: right;\"> -0.925509</td><td style=\"text-align: right;\">  0.739279</td><td style=\"text-align: right;\"> -0.97924 </td><td style=\"text-align: right;\">  0.41451 </td><td style=\"text-align: right;\">  0.845251</td><td style=\"text-align: right;\">         1</td></tr>\n",
       "<tr><td style=\"text-align: right;\"> -0.950977</td><td style=\"text-align: right;\">  0.859489</td><td style=\"text-align: right;\">  0.88413 </td><td style=\"text-align: right;\">  0.451284</td><td style=\"text-align: right;\">  0.826719</td><td style=\"text-align: right;\">         0</td></tr>\n",
       "<tr><td style=\"text-align: right;\">  0.289047</td><td style=\"text-align: right;\"> -0.982072</td><td style=\"text-align: right;\">  0.167303</td><td style=\"text-align: right;\">  0.169471</td><td style=\"text-align: right;\"> -0.116128</td><td style=\"text-align: right;\">         1</td></tr>\n",
       "<tr><td style=\"text-align: right;\"> -0.926462</td><td style=\"text-align: right;\">  0.741579</td><td style=\"text-align: right;\"> -0.979271</td><td style=\"text-align: right;\"> -0.819613</td><td style=\"text-align: right;\"> -0.48874 </td><td style=\"text-align: right;\">         0</td></tr>\n",
       "<tr><td style=\"text-align: right;\"> -0.950051</td><td style=\"text-align: right;\">  0.859744</td><td style=\"text-align: right;\">  0.884862</td><td style=\"text-align: right;\">  0.452669</td><td style=\"text-align: right;\">  0.829818</td><td style=\"text-align: right;\">         0</td></tr>\n",
       "<tr><td style=\"text-align: right;\">  0.905766</td><td style=\"text-align: right;\"> -0.897567</td><td style=\"text-align: right;\"> -0.979227</td><td style=\"text-align: right;\"> -0.820238</td><td style=\"text-align: right;\">  0.844668</td><td style=\"text-align: right;\">         0</td></tr>\n",
       "<tr><td style=\"text-align: right;\">  0.858312</td><td style=\"text-align: right;\"> -0.806626</td><td style=\"text-align: right;\">  0.884813</td><td style=\"text-align: right;\"> -0.805587</td><td style=\"text-align: right;\">  0.826089</td><td style=\"text-align: right;\">         1</td></tr>\n",
       "<tr><td style=\"text-align: right;\">  0.863734</td><td style=\"text-align: right;\">  0.859999</td><td style=\"text-align: right;\">  0.88574 </td><td style=\"text-align: right;\"> -0.806019</td><td style=\"text-align: right;\"> -0.528042</td><td style=\"text-align: right;\">         1</td></tr>\n",
       "</tbody>\n",
       "</table>"
      ]
     },
     "metadata": {},
     "output_type": "display_data"
    },
    {
     "data": {
      "text/plain": []
     },
     "execution_count": 45,
     "metadata": {},
     "output_type": "execute_result"
    }
   ],
   "source": [
    "test_deep_feats.head()"
   ]
  },
  {
   "cell_type": "code",
   "execution_count": 46,
   "metadata": {},
   "outputs": [],
   "source": [
    "deep_feats_name = [x for x in train_deep_feats.col_names if x not in [\"Survived\"]]"
   ]
  },
  {
   "cell_type": "code",
   "execution_count": 48,
   "metadata": {},
   "outputs": [
    {
     "name": "stdout",
     "output_type": "stream",
     "text": [
      "AutoML progress: |████████████████████████████████████████████████████████| 100%\n",
      "Parse progress: |█████████████████████████████████████████████████████████| 100%\n"
     ]
    }
   ],
   "source": [
    "aml2 = H2OAutoML(max_runtime_secs = 100)\n",
    "aml2.train(x = deep_feats_name, y = target,\n",
    "          training_frame = train_deep_feats, validation_frame=test_deep_feats)"
   ]
  },
  {
   "cell_type": "code",
   "execution_count": 49,
   "metadata": {},
   "outputs": [
    {
     "data": {
      "text/html": [
       "<table>\n",
       "<thead>\n",
       "<tr><th>model_id                                             </th><th style=\"text-align: right;\">     auc</th><th style=\"text-align: right;\">  logloss</th></tr>\n",
       "</thead>\n",
       "<tbody>\n",
       "<tr><td>GBM_grid_0_AutoML_20181004_223107_model_8            </td><td style=\"text-align: right;\">0.861728</td><td style=\"text-align: right;\"> 0.440265</td></tr>\n",
       "<tr><td>GBM_grid_0_AutoML_20181004_223107_model_1            </td><td style=\"text-align: right;\">0.860211</td><td style=\"text-align: right;\"> 0.431827</td></tr>\n",
       "<tr><td>StackedEnsemble_BestOfFamily_0_AutoML_20181004_223107</td><td style=\"text-align: right;\">0.859553</td><td style=\"text-align: right;\"> 0.429481</td></tr>\n",
       "<tr><td>GBM_grid_0_AutoML_20181004_223107_model_3            </td><td style=\"text-align: right;\">0.859336</td><td style=\"text-align: right;\"> 0.435661</td></tr>\n",
       "<tr><td>XRT_0_AutoML_20181004_223107                         </td><td style=\"text-align: right;\">0.858042</td><td style=\"text-align: right;\"> 0.546862</td></tr>\n",
       "<tr><td>GBM_grid_0_AutoML_20181004_223107_model_2            </td><td style=\"text-align: right;\">0.857182</td><td style=\"text-align: right;\"> 0.437872</td></tr>\n",
       "<tr><td>StackedEnsemble_AllModels_0_AutoML_20181004_223107   </td><td style=\"text-align: right;\">0.857052</td><td style=\"text-align: right;\"> 0.428944</td></tr>\n",
       "<tr><td>DeepLearning_0_AutoML_20181004_223107                </td><td style=\"text-align: right;\">0.851191</td><td style=\"text-align: right;\"> 0.440372</td></tr>\n",
       "<tr><td>GBM_grid_0_AutoML_20181004_223107_model_4            </td><td style=\"text-align: right;\">0.850489</td><td style=\"text-align: right;\"> 0.44762 </td></tr>\n",
       "<tr><td>GLM_grid_0_AutoML_20181004_223107_model_0            </td><td style=\"text-align: right;\">0.845558</td><td style=\"text-align: right;\"> 0.450853</td></tr>\n",
       "</tbody>\n",
       "</table>"
      ]
     },
     "metadata": {},
     "output_type": "display_data"
    },
    {
     "name": "stdout",
     "output_type": "stream",
     "text": [
      "\n"
     ]
    }
   ],
   "source": [
    "lb = aml2.leaderboard\n",
    "print(lb)"
   ]
  },
  {
   "cell_type": "code",
   "execution_count": 68,
   "metadata": {},
   "outputs": [],
   "source": [
    "from h2o.estimators import H2ODeepLearningEstimator"
   ]
  },
  {
   "cell_type": "code",
   "execution_count": 69,
   "metadata": {},
   "outputs": [],
   "source": [
    "model_deep = H2ODeepLearningEstimator(activation=\"Tanh\", hidden=[5,3], epochs=1000, model_id=\"deep\")"
   ]
  },
  {
   "cell_type": "code",
   "execution_count": 70,
   "metadata": {},
   "outputs": [
    {
     "name": "stdout",
     "output_type": "stream",
     "text": [
      "deeplearning Model Build progress: |██████████████████████████████████████| 100%\n"
     ]
    }
   ],
   "source": [
    "model_deep.train(x=deep_feats_name, y=target, training_frame=train_deep_feats, validation_frame=test_deep_feats)"
   ]
  },
  {
   "cell_type": "code",
   "execution_count": 71,
   "metadata": {},
   "outputs": [
    {
     "name": "stdout",
     "output_type": "stream",
     "text": [
      "Model Details\n",
      "=============\n",
      "H2ODeepLearningEstimator :  Deep Learning\n",
      "Model Key:  deep\n",
      "\n",
      "\n",
      "ModelMetricsBinomial: deeplearning\n",
      "** Reported on train data. **\n",
      "\n",
      "MSE: 0.13439675678288449\n",
      "RMSE: 0.36660163226980386\n",
      "LogLoss: 0.43131600960095834\n",
      "Mean Per-Class Error: 0.20794910830795998\n",
      "AUC: 0.8520987385819921\n",
      "Gini: 0.7041974771639843\n",
      "Confusion Matrix (Act/Pred) for max f1 @ threshold = 0.3681643473811702: \n"
     ]
    },
    {
     "data": {
      "text/html": [
       "<div style=\"overflow:auto\"><table style=\"width:50%\"><tr><td><b></b></td>\n",
       "<td><b>0</b></td>\n",
       "<td><b>1</b></td>\n",
       "<td><b>Error</b></td>\n",
       "<td><b>Rate</b></td></tr>\n",
       "<tr><td>0</td>\n",
       "<td>357.0</td>\n",
       "<td>23.0</td>\n",
       "<td>0.0605</td>\n",
       "<td> (23.0/380.0)</td></tr>\n",
       "<tr><td>1</td>\n",
       "<td>86.0</td>\n",
       "<td>156.0</td>\n",
       "<td>0.3554</td>\n",
       "<td> (86.0/242.0)</td></tr>\n",
       "<tr><td>Total</td>\n",
       "<td>443.0</td>\n",
       "<td>179.0</td>\n",
       "<td>0.1752</td>\n",
       "<td> (109.0/622.0)</td></tr></table></div>"
      ],
      "text/plain": [
       "       0    1    Error    Rate\n",
       "-----  ---  ---  -------  -------------\n",
       "0      357  23   0.0605   (23.0/380.0)\n",
       "1      86   156  0.3554   (86.0/242.0)\n",
       "Total  443  179  0.1752   (109.0/622.0)"
      ]
     },
     "metadata": {},
     "output_type": "display_data"
    },
    {
     "name": "stdout",
     "output_type": "stream",
     "text": [
      "Maximum Metrics: Maximum metrics at their respective thresholds\n",
      "\n"
     ]
    },
    {
     "data": {
      "text/html": [
       "<div style=\"overflow:auto\"><table style=\"width:50%\"><tr><td><b>metric</b></td>\n",
       "<td><b>threshold</b></td>\n",
       "<td><b>value</b></td>\n",
       "<td><b>idx</b></td></tr>\n",
       "<tr><td>max f1</td>\n",
       "<td>0.3681643</td>\n",
       "<td>0.7410926</td>\n",
       "<td>143.0</td></tr>\n",
       "<tr><td>max f2</td>\n",
       "<td>0.0756810</td>\n",
       "<td>0.7909605</td>\n",
       "<td>358.0</td></tr>\n",
       "<tr><td>max f0point5</td>\n",
       "<td>0.6326101</td>\n",
       "<td>0.8258427</td>\n",
       "<td>126.0</td></tr>\n",
       "<tr><td>max accuracy</td>\n",
       "<td>0.3681643</td>\n",
       "<td>0.8247588</td>\n",
       "<td>143.0</td></tr>\n",
       "<tr><td>max precision</td>\n",
       "<td>0.9370949</td>\n",
       "<td>1.0</td>\n",
       "<td>0.0</td></tr>\n",
       "<tr><td>max recall</td>\n",
       "<td>0.0755630</td>\n",
       "<td>1.0</td>\n",
       "<td>396.0</td></tr>\n",
       "<tr><td>max specificity</td>\n",
       "<td>0.9370949</td>\n",
       "<td>1.0</td>\n",
       "<td>0.0</td></tr>\n",
       "<tr><td>max absolute_mcc</td>\n",
       "<td>0.6326101</td>\n",
       "<td>0.6309343</td>\n",
       "<td>126.0</td></tr>\n",
       "<tr><td>max min_per_class_accuracy</td>\n",
       "<td>0.3352086</td>\n",
       "<td>0.7789474</td>\n",
       "<td>230.0</td></tr>\n",
       "<tr><td>max mean_per_class_accuracy</td>\n",
       "<td>0.3681643</td>\n",
       "<td>0.7920509</td>\n",
       "<td>143.0</td></tr></table></div>"
      ],
      "text/plain": [
       "metric                       threshold    value     idx\n",
       "---------------------------  -----------  --------  -----\n",
       "max f1                       0.368164     0.741093  143\n",
       "max f2                       0.075681     0.79096   358\n",
       "max f0point5                 0.63261      0.825843  126\n",
       "max accuracy                 0.368164     0.824759  143\n",
       "max precision                0.937095     1         0\n",
       "max recall                   0.075563     1         396\n",
       "max specificity              0.937095     1         0\n",
       "max absolute_mcc             0.63261      0.630934  126\n",
       "max min_per_class_accuracy   0.335209     0.778947  230\n",
       "max mean_per_class_accuracy  0.368164     0.792051  143"
      ]
     },
     "metadata": {},
     "output_type": "display_data"
    },
    {
     "name": "stdout",
     "output_type": "stream",
     "text": [
      "Gains/Lift Table: Avg response rate: 38.91 %\n",
      "\n"
     ]
    },
    {
     "data": {
      "text/html": [
       "<div style=\"overflow:auto\"><table style=\"width:50%\"><tr><td><b></b></td>\n",
       "<td><b>group</b></td>\n",
       "<td><b>cumulative_data_fraction</b></td>\n",
       "<td><b>lower_threshold</b></td>\n",
       "<td><b>lift</b></td>\n",
       "<td><b>cumulative_lift</b></td>\n",
       "<td><b>response_rate</b></td>\n",
       "<td><b>cumulative_response_rate</b></td>\n",
       "<td><b>capture_rate</b></td>\n",
       "<td><b>cumulative_capture_rate</b></td>\n",
       "<td><b>gain</b></td>\n",
       "<td><b>cumulative_gain</b></td></tr>\n",
       "<tr><td></td>\n",
       "<td>1</td>\n",
       "<td>0.0112540</td>\n",
       "<td>0.9370419</td>\n",
       "<td>2.5702479</td>\n",
       "<td>2.5702479</td>\n",
       "<td>1.0</td>\n",
       "<td>1.0</td>\n",
       "<td>0.0289256</td>\n",
       "<td>0.0289256</td>\n",
       "<td>157.0247934</td>\n",
       "<td>157.0247934</td></tr>\n",
       "<tr><td></td>\n",
       "<td>2</td>\n",
       "<td>0.0209003</td>\n",
       "<td>0.9370135</td>\n",
       "<td>2.5702479</td>\n",
       "<td>2.5702479</td>\n",
       "<td>1.0</td>\n",
       "<td>1.0</td>\n",
       "<td>0.0247934</td>\n",
       "<td>0.0537190</td>\n",
       "<td>157.0247934</td>\n",
       "<td>157.0247934</td></tr>\n",
       "<tr><td></td>\n",
       "<td>3</td>\n",
       "<td>0.0305466</td>\n",
       "<td>0.9369841</td>\n",
       "<td>2.5702479</td>\n",
       "<td>2.5702479</td>\n",
       "<td>1.0</td>\n",
       "<td>1.0</td>\n",
       "<td>0.0247934</td>\n",
       "<td>0.0785124</td>\n",
       "<td>157.0247934</td>\n",
       "<td>157.0247934</td></tr>\n",
       "<tr><td></td>\n",
       "<td>4</td>\n",
       "<td>0.0401929</td>\n",
       "<td>0.9369632</td>\n",
       "<td>2.5702479</td>\n",
       "<td>2.5702479</td>\n",
       "<td>1.0</td>\n",
       "<td>1.0</td>\n",
       "<td>0.0247934</td>\n",
       "<td>0.1033058</td>\n",
       "<td>157.0247934</td>\n",
       "<td>157.0247934</td></tr>\n",
       "<tr><td></td>\n",
       "<td>5</td>\n",
       "<td>0.0514469</td>\n",
       "<td>0.9369053</td>\n",
       "<td>2.5702479</td>\n",
       "<td>2.5702479</td>\n",
       "<td>1.0</td>\n",
       "<td>1.0</td>\n",
       "<td>0.0289256</td>\n",
       "<td>0.1322314</td>\n",
       "<td>157.0247934</td>\n",
       "<td>157.0247934</td></tr>\n",
       "<tr><td></td>\n",
       "<td>6</td>\n",
       "<td>0.1012862</td>\n",
       "<td>0.9057759</td>\n",
       "<td>2.5702479</td>\n",
       "<td>2.5702479</td>\n",
       "<td>1.0</td>\n",
       "<td>1.0</td>\n",
       "<td>0.1280992</td>\n",
       "<td>0.2603306</td>\n",
       "<td>157.0247934</td>\n",
       "<td>157.0247934</td></tr>\n",
       "<tr><td></td>\n",
       "<td>7</td>\n",
       "<td>0.1511254</td>\n",
       "<td>0.8805353</td>\n",
       "<td>2.3215143</td>\n",
       "<td>2.4882187</td>\n",
       "<td>0.9032258</td>\n",
       "<td>0.9680851</td>\n",
       "<td>0.1157025</td>\n",
       "<td>0.3760331</td>\n",
       "<td>132.1514263</td>\n",
       "<td>148.8218745</td></tr>\n",
       "<tr><td></td>\n",
       "<td>8</td>\n",
       "<td>0.2009646</td>\n",
       "<td>0.8264779</td>\n",
       "<td>2.4044255</td>\n",
       "<td>2.4674380</td>\n",
       "<td>0.9354839</td>\n",
       "<td>0.96</td>\n",
       "<td>0.1198347</td>\n",
       "<td>0.4958678</td>\n",
       "<td>140.4425487</td>\n",
       "<td>146.7438017</td></tr>\n",
       "<tr><td></td>\n",
       "<td>9</td>\n",
       "<td>0.3006431</td>\n",
       "<td>0.3679868</td>\n",
       "<td>1.5338576</td>\n",
       "<td>2.1579087</td>\n",
       "<td>0.5967742</td>\n",
       "<td>0.8395722</td>\n",
       "<td>0.1528926</td>\n",
       "<td>0.6487603</td>\n",
       "<td>53.3857638</td>\n",
       "<td>115.7908693</td></tr>\n",
       "<tr><td></td>\n",
       "<td>10</td>\n",
       "<td>0.4003215</td>\n",
       "<td>0.3654102</td>\n",
       "<td>0.9120235</td>\n",
       "<td>1.8476883</td>\n",
       "<td>0.3548387</td>\n",
       "<td>0.7188755</td>\n",
       "<td>0.0909091</td>\n",
       "<td>0.7396694</td>\n",
       "<td>-8.7976540</td>\n",
       "<td>84.7688274</td></tr>\n",
       "<tr><td></td>\n",
       "<td>11</td>\n",
       "<td>0.5016077</td>\n",
       "<td>0.3331808</td>\n",
       "<td>0.9383445</td>\n",
       "<td>1.6640708</td>\n",
       "<td>0.3650794</td>\n",
       "<td>0.6474359</td>\n",
       "<td>0.0950413</td>\n",
       "<td>0.8347107</td>\n",
       "<td>-6.1655516</td>\n",
       "<td>66.4070778</td></tr>\n",
       "<tr><td></td>\n",
       "<td>12</td>\n",
       "<td>0.5996785</td>\n",
       "<td>0.2014642</td>\n",
       "<td>0.1685408</td>\n",
       "<td>1.4194935</td>\n",
       "<td>0.0655738</td>\n",
       "<td>0.5522788</td>\n",
       "<td>0.0165289</td>\n",
       "<td>0.8512397</td>\n",
       "<td>-83.1459152</td>\n",
       "<td>41.9493497</td></tr>\n",
       "<tr><td></td>\n",
       "<td>13</td>\n",
       "<td>0.6993569</td>\n",
       "<td>0.1223039</td>\n",
       "<td>0.4974673</td>\n",
       "<td>1.2880783</td>\n",
       "<td>0.1935484</td>\n",
       "<td>0.5011494</td>\n",
       "<td>0.0495868</td>\n",
       "<td>0.9008264</td>\n",
       "<td>-50.2532658</td>\n",
       "<td>28.8078275</td></tr>\n",
       "<tr><td></td>\n",
       "<td>14</td>\n",
       "<td>0.7990354</td>\n",
       "<td>0.0755952</td>\n",
       "<td>0.3731005</td>\n",
       "<td>1.1739362</td>\n",
       "<td>0.1451613</td>\n",
       "<td>0.4567404</td>\n",
       "<td>0.0371901</td>\n",
       "<td>0.9380165</td>\n",
       "<td>-62.6899493</td>\n",
       "<td>17.3936179</td></tr>\n",
       "<tr><td></td>\n",
       "<td>15</td>\n",
       "<td>0.8987138</td>\n",
       "<td>0.0755800</td>\n",
       "<td>0.3731005</td>\n",
       "<td>1.0851136</td>\n",
       "<td>0.1451613</td>\n",
       "<td>0.4221825</td>\n",
       "<td>0.0371901</td>\n",
       "<td>0.9752066</td>\n",
       "<td>-62.6899493</td>\n",
       "<td>8.5113618</td></tr>\n",
       "<tr><td></td>\n",
       "<td>16</td>\n",
       "<td>1.0</td>\n",
       "<td>0.0755500</td>\n",
       "<td>0.2447855</td>\n",
       "<td>1.0</td>\n",
       "<td>0.0952381</td>\n",
       "<td>0.3890675</td>\n",
       "<td>0.0247934</td>\n",
       "<td>1.0</td>\n",
       "<td>-75.5214482</td>\n",
       "<td>0.0</td></tr></table></div>"
      ],
      "text/plain": [
       "    group    cumulative_data_fraction    lower_threshold    lift      cumulative_lift    response_rate    cumulative_response_rate    capture_rate    cumulative_capture_rate    gain      cumulative_gain\n",
       "--  -------  --------------------------  -----------------  --------  -----------------  ---------------  --------------------------  --------------  -------------------------  --------  -----------------\n",
       "    1        0.011254                    0.937042           2.57025   2.57025            1                1                           0.0289256       0.0289256                  157.025   157.025\n",
       "    2        0.0209003                   0.937013           2.57025   2.57025            1                1                           0.0247934       0.053719                   157.025   157.025\n",
       "    3        0.0305466                   0.936984           2.57025   2.57025            1                1                           0.0247934       0.0785124                  157.025   157.025\n",
       "    4        0.0401929                   0.936963           2.57025   2.57025            1                1                           0.0247934       0.103306                   157.025   157.025\n",
       "    5        0.0514469                   0.936905           2.57025   2.57025            1                1                           0.0289256       0.132231                   157.025   157.025\n",
       "    6        0.101286                    0.905776           2.57025   2.57025            1                1                           0.128099        0.260331                   157.025   157.025\n",
       "    7        0.151125                    0.880535           2.32151   2.48822            0.903226         0.968085                    0.115702        0.376033                   132.151   148.822\n",
       "    8        0.200965                    0.826478           2.40443   2.46744            0.935484         0.96                        0.119835        0.495868                   140.443   146.744\n",
       "    9        0.300643                    0.367987           1.53386   2.15791            0.596774         0.839572                    0.152893        0.64876                    53.3858   115.791\n",
       "    10       0.400322                    0.36541            0.912023  1.84769            0.354839         0.718876                    0.0909091       0.739669                   -8.79765  84.7688\n",
       "    11       0.501608                    0.333181           0.938344  1.66407            0.365079         0.647436                    0.0950413       0.834711                   -6.16555  66.4071\n",
       "    12       0.599678                    0.201464           0.168541  1.41949            0.0655738        0.552279                    0.0165289       0.85124                    -83.1459  41.9493\n",
       "    13       0.699357                    0.122304           0.497467  1.28808            0.193548         0.501149                    0.0495868       0.900826                   -50.2533  28.8078\n",
       "    14       0.799035                    0.0755952          0.373101  1.17394            0.145161         0.45674                     0.0371901       0.938017                   -62.6899  17.3936\n",
       "    15       0.898714                    0.07558            0.373101  1.08511            0.145161         0.422182                    0.0371901       0.975207                   -62.6899  8.51136\n",
       "    16       1                           0.07555            0.244786  1                  0.0952381        0.389068                    0.0247934       1                          -75.5214  0"
      ]
     },
     "metadata": {},
     "output_type": "display_data"
    },
    {
     "name": "stdout",
     "output_type": "stream",
     "text": [
      "\n",
      "\n",
      "ModelMetricsBinomial: deeplearning\n",
      "** Reported on validation data. **\n",
      "\n",
      "MSE: 0.326398288769354\n",
      "RMSE: 0.5713127766550946\n",
      "LogLoss: 0.898797735220735\n",
      "Mean Per-Class Error: 0.36508875739644964\n",
      "AUC: 0.5818639053254437\n",
      "Gini: 0.16372781065088748\n",
      "Confusion Matrix (Act/Pred) for max f1 @ threshold = 0.4704825946997156: \n"
     ]
    },
    {
     "data": {
      "text/html": [
       "<div style=\"overflow:auto\"><table style=\"width:50%\"><tr><td><b></b></td>\n",
       "<td><b>0</b></td>\n",
       "<td><b>1</b></td>\n",
       "<td><b>Error</b></td>\n",
       "<td><b>Rate</b></td></tr>\n",
       "<tr><td>0</td>\n",
       "<td>50.0</td>\n",
       "<td>119.0</td>\n",
       "<td>0.7041</td>\n",
       "<td> (119.0/169.0)</td></tr>\n",
       "<tr><td>1</td>\n",
       "<td>12.0</td>\n",
       "<td>88.0</td>\n",
       "<td>0.12</td>\n",
       "<td> (12.0/100.0)</td></tr>\n",
       "<tr><td>Total</td>\n",
       "<td>62.0</td>\n",
       "<td>207.0</td>\n",
       "<td>0.487</td>\n",
       "<td> (131.0/269.0)</td></tr></table></div>"
      ],
      "text/plain": [
       "       0    1    Error    Rate\n",
       "-----  ---  ---  -------  -------------\n",
       "0      50   119  0.7041   (119.0/169.0)\n",
       "1      12   88   0.12     (12.0/100.0)\n",
       "Total  62   207  0.487    (131.0/269.0)"
      ]
     },
     "metadata": {},
     "output_type": "display_data"
    },
    {
     "name": "stdout",
     "output_type": "stream",
     "text": [
      "Maximum Metrics: Maximum metrics at their respective thresholds\n",
      "\n"
     ]
    },
    {
     "data": {
      "text/html": [
       "<div style=\"overflow:auto\"><table style=\"width:50%\"><tr><td><b>metric</b></td>\n",
       "<td><b>threshold</b></td>\n",
       "<td><b>value</b></td>\n",
       "<td><b>idx</b></td></tr>\n",
       "<tr><td>max f1</td>\n",
       "<td>0.4704826</td>\n",
       "<td>0.5732899</td>\n",
       "<td>192.0</td></tr>\n",
       "<tr><td>max f2</td>\n",
       "<td>0.1429250</td>\n",
       "<td>0.7496252</td>\n",
       "<td>249.0</td></tr>\n",
       "<tr><td>max f0point5</td>\n",
       "<td>0.7815739</td>\n",
       "<td>0.5747126</td>\n",
       "<td>61.0</td></tr>\n",
       "<tr><td>max accuracy</td>\n",
       "<td>0.7993699</td>\n",
       "<td>0.6951673</td>\n",
       "<td>57.0</td></tr>\n",
       "<tr><td>max precision</td>\n",
       "<td>0.7993699</td>\n",
       "<td>0.6551724</td>\n",
       "<td>57.0</td></tr>\n",
       "<tr><td>max recall</td>\n",
       "<td>0.1429250</td>\n",
       "<td>1.0</td>\n",
       "<td>249.0</td></tr>\n",
       "<tr><td>max specificity</td>\n",
       "<td>0.9236921</td>\n",
       "<td>0.9940828</td>\n",
       "<td>0.0</td></tr>\n",
       "<tr><td>max absolute_mcc</td>\n",
       "<td>0.7815739</td>\n",
       "<td>0.3096282</td>\n",
       "<td>61.0</td></tr>\n",
       "<tr><td>max min_per_class_accuracy</td>\n",
       "<td>0.7454897</td>\n",
       "<td>0.5</td>\n",
       "<td>118.0</td></tr>\n",
       "<tr><td>max mean_per_class_accuracy</td>\n",
       "<td>0.7815739</td>\n",
       "<td>0.6349112</td>\n",
       "<td>61.0</td></tr></table></div>"
      ],
      "text/plain": [
       "metric                       threshold    value     idx\n",
       "---------------------------  -----------  --------  -----\n",
       "max f1                       0.470483     0.57329   192\n",
       "max f2                       0.142925     0.749625  249\n",
       "max f0point5                 0.781574     0.574713  61\n",
       "max accuracy                 0.79937      0.695167  57\n",
       "max precision                0.79937      0.655172  57\n",
       "max recall                   0.142925     1         249\n",
       "max specificity              0.923692     0.994083  0\n",
       "max absolute_mcc             0.781574     0.309628  61\n",
       "max min_per_class_accuracy   0.74549      0.5       118\n",
       "max mean_per_class_accuracy  0.781574     0.634911  61"
      ]
     },
     "metadata": {},
     "output_type": "display_data"
    },
    {
     "name": "stdout",
     "output_type": "stream",
     "text": [
      "Gains/Lift Table: Avg response rate: 37.17 %\n",
      "\n"
     ]
    },
    {
     "data": {
      "text/html": [
       "<div style=\"overflow:auto\"><table style=\"width:50%\"><tr><td><b></b></td>\n",
       "<td><b>group</b></td>\n",
       "<td><b>cumulative_data_fraction</b></td>\n",
       "<td><b>lower_threshold</b></td>\n",
       "<td><b>lift</b></td>\n",
       "<td><b>cumulative_lift</b></td>\n",
       "<td><b>response_rate</b></td>\n",
       "<td><b>cumulative_response_rate</b></td>\n",
       "<td><b>capture_rate</b></td>\n",
       "<td><b>cumulative_capture_rate</b></td>\n",
       "<td><b>gain</b></td>\n",
       "<td><b>cumulative_gain</b></td></tr>\n",
       "<tr><td></td>\n",
       "<td>1</td>\n",
       "<td>0.0111524</td>\n",
       "<td>0.9235266</td>\n",
       "<td>0.0</td>\n",
       "<td>0.0</td>\n",
       "<td>0.0</td>\n",
       "<td>0.0</td>\n",
       "<td>0.0</td>\n",
       "<td>0.0</td>\n",
       "<td>-100.0</td>\n",
       "<td>-100.0</td></tr>\n",
       "<tr><td></td>\n",
       "<td>2</td>\n",
       "<td>0.0223048</td>\n",
       "<td>0.9235029</td>\n",
       "<td>0.0</td>\n",
       "<td>0.0</td>\n",
       "<td>0.0</td>\n",
       "<td>0.0</td>\n",
       "<td>0.0</td>\n",
       "<td>0.0</td>\n",
       "<td>-100.0</td>\n",
       "<td>-100.0</td></tr>\n",
       "<tr><td></td>\n",
       "<td>3</td>\n",
       "<td>0.0334572</td>\n",
       "<td>0.9233887</td>\n",
       "<td>0.0</td>\n",
       "<td>0.0</td>\n",
       "<td>0.0</td>\n",
       "<td>0.0</td>\n",
       "<td>0.0</td>\n",
       "<td>0.0</td>\n",
       "<td>-100.0</td>\n",
       "<td>-100.0</td></tr>\n",
       "<tr><td></td>\n",
       "<td>4</td>\n",
       "<td>0.0408922</td>\n",
       "<td>0.9233749</td>\n",
       "<td>2.6900000</td>\n",
       "<td>0.4890909</td>\n",
       "<td>1.0</td>\n",
       "<td>0.1818182</td>\n",
       "<td>0.02</td>\n",
       "<td>0.02</td>\n",
       "<td>169.0000000</td>\n",
       "<td>-51.0909091</td></tr>\n",
       "<tr><td></td>\n",
       "<td>5</td>\n",
       "<td>0.0520446</td>\n",
       "<td>0.9233473</td>\n",
       "<td>1.7933333</td>\n",
       "<td>0.7685714</td>\n",
       "<td>0.6666667</td>\n",
       "<td>0.2857143</td>\n",
       "<td>0.02</td>\n",
       "<td>0.04</td>\n",
       "<td>79.3333333</td>\n",
       "<td>-23.1428571</td></tr>\n",
       "<tr><td></td>\n",
       "<td>6</td>\n",
       "<td>0.1003717</td>\n",
       "<td>0.9232774</td>\n",
       "<td>1.4484615</td>\n",
       "<td>1.0959259</td>\n",
       "<td>0.5384615</td>\n",
       "<td>0.4074074</td>\n",
       "<td>0.07</td>\n",
       "<td>0.11</td>\n",
       "<td>44.8461538</td>\n",
       "<td>9.5925926</td></tr>\n",
       "<tr><td></td>\n",
       "<td>7</td>\n",
       "<td>0.1524164</td>\n",
       "<td>0.8411542</td>\n",
       "<td>2.1135714</td>\n",
       "<td>1.4434146</td>\n",
       "<td>0.7857143</td>\n",
       "<td>0.5365854</td>\n",
       "<td>0.11</td>\n",
       "<td>0.22</td>\n",
       "<td>111.3571429</td>\n",
       "<td>44.3414634</td></tr>\n",
       "<tr><td></td>\n",
       "<td>8</td>\n",
       "<td>0.2007435</td>\n",
       "<td>0.7999827</td>\n",
       "<td>2.4830769</td>\n",
       "<td>1.6937037</td>\n",
       "<td>0.9230769</td>\n",
       "<td>0.6296296</td>\n",
       "<td>0.12</td>\n",
       "<td>0.34</td>\n",
       "<td>148.3076923</td>\n",
       "<td>69.3703704</td></tr>\n",
       "<tr><td></td>\n",
       "<td>9</td>\n",
       "<td>0.3011152</td>\n",
       "<td>0.7465749</td>\n",
       "<td>0.8966667</td>\n",
       "<td>1.4280247</td>\n",
       "<td>0.3333333</td>\n",
       "<td>0.5308642</td>\n",
       "<td>0.09</td>\n",
       "<td>0.43</td>\n",
       "<td>-10.3333333</td>\n",
       "<td>42.8024691</td></tr>\n",
       "<tr><td></td>\n",
       "<td>10</td>\n",
       "<td>0.4014870</td>\n",
       "<td>0.7455811</td>\n",
       "<td>0.4981481</td>\n",
       "<td>1.1955556</td>\n",
       "<td>0.1851852</td>\n",
       "<td>0.4444444</td>\n",
       "<td>0.05</td>\n",
       "<td>0.48</td>\n",
       "<td>-50.1851852</td>\n",
       "<td>19.5555556</td></tr>\n",
       "<tr><td></td>\n",
       "<td>11</td>\n",
       "<td>0.5018587</td>\n",
       "<td>0.7454524</td>\n",
       "<td>0.1992593</td>\n",
       "<td>0.9962963</td>\n",
       "<td>0.0740741</td>\n",
       "<td>0.3703704</td>\n",
       "<td>0.02</td>\n",
       "<td>0.5</td>\n",
       "<td>-80.0740741</td>\n",
       "<td>-0.3703704</td></tr>\n",
       "<tr><td></td>\n",
       "<td>12</td>\n",
       "<td>0.5985130</td>\n",
       "<td>0.6567527</td>\n",
       "<td>0.9311538</td>\n",
       "<td>0.9857764</td>\n",
       "<td>0.3461538</td>\n",
       "<td>0.3664596</td>\n",
       "<td>0.09</td>\n",
       "<td>0.59</td>\n",
       "<td>-6.8846154</td>\n",
       "<td>-1.4223602</td></tr>\n",
       "<tr><td></td>\n",
       "<td>13</td>\n",
       "<td>0.6988848</td>\n",
       "<td>0.5305364</td>\n",
       "<td>1.2951852</td>\n",
       "<td>1.0302128</td>\n",
       "<td>0.4814815</td>\n",
       "<td>0.3829787</td>\n",
       "<td>0.13</td>\n",
       "<td>0.72</td>\n",
       "<td>29.5185185</td>\n",
       "<td>3.0212766</td></tr>\n",
       "<tr><td></td>\n",
       "<td>14</td>\n",
       "<td>0.7992565</td>\n",
       "<td>0.3227433</td>\n",
       "<td>1.5940741</td>\n",
       "<td>1.1010233</td>\n",
       "<td>0.5925926</td>\n",
       "<td>0.4093023</td>\n",
       "<td>0.16</td>\n",
       "<td>0.88</td>\n",
       "<td>59.4074074</td>\n",
       "<td>10.1023256</td></tr>\n",
       "<tr><td></td>\n",
       "<td>15</td>\n",
       "<td>0.8996283</td>\n",
       "<td>0.2876537</td>\n",
       "<td>0.6974074</td>\n",
       "<td>1.0559917</td>\n",
       "<td>0.2592593</td>\n",
       "<td>0.3925620</td>\n",
       "<td>0.07</td>\n",
       "<td>0.95</td>\n",
       "<td>-30.2592593</td>\n",
       "<td>5.5991736</td></tr>\n",
       "<tr><td></td>\n",
       "<td>16</td>\n",
       "<td>1.0</td>\n",
       "<td>0.1425927</td>\n",
       "<td>0.4981481</td>\n",
       "<td>1.0</td>\n",
       "<td>0.1851852</td>\n",
       "<td>0.3717472</td>\n",
       "<td>0.05</td>\n",
       "<td>1.0</td>\n",
       "<td>-50.1851852</td>\n",
       "<td>0.0</td></tr></table></div>"
      ],
      "text/plain": [
       "    group    cumulative_data_fraction    lower_threshold    lift      cumulative_lift    response_rate    cumulative_response_rate    capture_rate    cumulative_capture_rate    gain      cumulative_gain\n",
       "--  -------  --------------------------  -----------------  --------  -----------------  ---------------  --------------------------  --------------  -------------------------  --------  -----------------\n",
       "    1        0.0111524                   0.923527           0         0                  0                0                           0               0                          -100      -100\n",
       "    2        0.0223048                   0.923503           0         0                  0                0                           0               0                          -100      -100\n",
       "    3        0.0334572                   0.923389           0         0                  0                0                           0               0                          -100      -100\n",
       "    4        0.0408922                   0.923375           2.69      0.489091           1                0.181818                    0.02            0.02                       169       -51.0909\n",
       "    5        0.0520446                   0.923347           1.79333   0.768571           0.666667         0.285714                    0.02            0.04                       79.3333   -23.1429\n",
       "    6        0.100372                    0.923277           1.44846   1.09593            0.538462         0.407407                    0.07            0.11                       44.8462   9.59259\n",
       "    7        0.152416                    0.841154           2.11357   1.44341            0.785714         0.536585                    0.11            0.22                       111.357   44.3415\n",
       "    8        0.200743                    0.799983           2.48308   1.6937             0.923077         0.62963                     0.12            0.34                       148.308   69.3704\n",
       "    9        0.301115                    0.746575           0.896667  1.42802            0.333333         0.530864                    0.09            0.43                       -10.3333  42.8025\n",
       "    10       0.401487                    0.745581           0.498148  1.19556            0.185185         0.444444                    0.05            0.48                       -50.1852  19.5556\n",
       "    11       0.501859                    0.745452           0.199259  0.996296           0.0740741        0.37037                     0.02            0.5                        -80.0741  -0.37037\n",
       "    12       0.598513                    0.656753           0.931154  0.985776           0.346154         0.36646                     0.09            0.59                       -6.88462  -1.42236\n",
       "    13       0.698885                    0.530536           1.29519   1.03021            0.481481         0.382979                    0.13            0.72                       29.5185   3.02128\n",
       "    14       0.799257                    0.322743           1.59407   1.10102            0.592593         0.409302                    0.16            0.88                       59.4074   10.1023\n",
       "    15       0.899628                    0.287654           0.697407  1.05599            0.259259         0.392562                    0.07            0.95                       -30.2593  5.59917\n",
       "    16       1                           0.142593           0.498148  1                  0.185185         0.371747                    0.05            1                          -50.1852  0"
      ]
     },
     "metadata": {},
     "output_type": "display_data"
    },
    {
     "name": "stdout",
     "output_type": "stream",
     "text": [
      "\n",
      "Scoring History: \n"
     ]
    },
    {
     "data": {
      "text/html": [
       "<div style=\"overflow:auto\"><table style=\"width:50%\"><tr><td><b></b></td>\n",
       "<td><b>timestamp</b></td>\n",
       "<td><b>duration</b></td>\n",
       "<td><b>training_speed</b></td>\n",
       "<td><b>epochs</b></td>\n",
       "<td><b>iterations</b></td>\n",
       "<td><b>samples</b></td>\n",
       "<td><b>training_rmse</b></td>\n",
       "<td><b>training_logloss</b></td>\n",
       "<td><b>training_auc</b></td>\n",
       "<td><b>training_lift</b></td>\n",
       "<td><b>training_classification_error</b></td>\n",
       "<td><b>validation_rmse</b></td>\n",
       "<td><b>validation_logloss</b></td>\n",
       "<td><b>validation_auc</b></td>\n",
       "<td><b>validation_lift</b></td>\n",
       "<td><b>validation_classification_error</b></td></tr>\n",
       "<tr><td></td>\n",
       "<td>2018-10-04 22:45:52</td>\n",
       "<td> 0.000 sec</td>\n",
       "<td>None</td>\n",
       "<td>0.0</td>\n",
       "<td>0</td>\n",
       "<td>0.0</td>\n",
       "<td>nan</td>\n",
       "<td>nan</td>\n",
       "<td>nan</td>\n",
       "<td>nan</td>\n",
       "<td>nan</td>\n",
       "<td>nan</td>\n",
       "<td>nan</td>\n",
       "<td>nan</td>\n",
       "<td>nan</td>\n",
       "<td>nan</td></tr>\n",
       "<tr><td></td>\n",
       "<td>2018-10-04 22:45:52</td>\n",
       "<td> 0.022 sec</td>\n",
       "<td>691111 obs/sec</td>\n",
       "<td>10.0</td>\n",
       "<td>1</td>\n",
       "<td>6220.0</td>\n",
       "<td>0.3666016</td>\n",
       "<td>0.4313160</td>\n",
       "<td>0.8520987</td>\n",
       "<td>2.5702479</td>\n",
       "<td>0.1752412</td>\n",
       "<td>0.5713128</td>\n",
       "<td>0.8987977</td>\n",
       "<td>0.5818639</td>\n",
       "<td>0.0</td>\n",
       "<td>0.4869888</td></tr>\n",
       "<tr><td></td>\n",
       "<td>2018-10-04 22:45:52</td>\n",
       "<td> 0.807 sec</td>\n",
       "<td>792356 obs/sec</td>\n",
       "<td>1000.0</td>\n",
       "<td>100</td>\n",
       "<td>622000.0</td>\n",
       "<td>0.3652097</td>\n",
       "<td>0.4235788</td>\n",
       "<td>0.8614071</td>\n",
       "<td>2.5702479</td>\n",
       "<td>0.2106109</td>\n",
       "<td>0.6394700</td>\n",
       "<td>1.4099840</td>\n",
       "<td>0.5652367</td>\n",
       "<td>0.0</td>\n",
       "<td>0.4684015</td></tr>\n",
       "<tr><td></td>\n",
       "<td>2018-10-04 22:45:52</td>\n",
       "<td> 0.814 sec</td>\n",
       "<td>791348 obs/sec</td>\n",
       "<td>1000.0</td>\n",
       "<td>100</td>\n",
       "<td>622000.0</td>\n",
       "<td>0.3666016</td>\n",
       "<td>0.4313160</td>\n",
       "<td>0.8520987</td>\n",
       "<td>2.5702479</td>\n",
       "<td>0.1752412</td>\n",
       "<td>0.5713128</td>\n",
       "<td>0.8987977</td>\n",
       "<td>0.5818639</td>\n",
       "<td>0.0</td>\n",
       "<td>0.4869888</td></tr></table></div>"
      ],
      "text/plain": [
       "    timestamp            duration    training_speed    epochs    iterations    samples    training_rmse    training_logloss    training_auc    training_lift    training_classification_error    validation_rmse    validation_logloss    validation_auc    validation_lift    validation_classification_error\n",
       "--  -------------------  ----------  ----------------  --------  ------------  ---------  ---------------  ------------------  --------------  ---------------  -------------------------------  -----------------  --------------------  ----------------  -----------------  ---------------------------------\n",
       "    2018-10-04 22:45:52  0.000 sec                     0         0             0          nan              nan                 nan             nan              nan                              nan                nan                   nan               nan                nan\n",
       "    2018-10-04 22:45:52  0.022 sec   691111 obs/sec    10        1             6220       0.366602         0.431316            0.852099        2.57025          0.175241                         0.571313           0.898798              0.581864          0                  0.486989\n",
       "    2018-10-04 22:45:52  0.807 sec   792356 obs/sec    1000      100           622000     0.36521          0.423579            0.861407        2.57025          0.210611                         0.63947            1.40998               0.565237          0                  0.468401\n",
       "    2018-10-04 22:45:52  0.814 sec   791348 obs/sec    1000      100           622000     0.366602         0.431316            0.852099        2.57025          0.175241                         0.571313           0.898798              0.581864          0                  0.486989"
      ]
     },
     "metadata": {},
     "output_type": "display_data"
    },
    {
     "name": "stdout",
     "output_type": "stream",
     "text": [
      "Variable Importances: \n"
     ]
    },
    {
     "data": {
      "text/html": [
       "<div style=\"overflow:auto\"><table style=\"width:50%\"><tr><td><b>variable</b></td>\n",
       "<td><b>relative_importance</b></td>\n",
       "<td><b>scaled_importance</b></td>\n",
       "<td><b>percentage</b></td></tr>\n",
       "<tr><td>DF.L1.C3</td>\n",
       "<td>1.0</td>\n",
       "<td>1.0</td>\n",
       "<td>0.3246925</td></tr>\n",
       "<tr><td>DF.L1.C5</td>\n",
       "<td>0.7228473</td>\n",
       "<td>0.7228473</td>\n",
       "<td>0.2347031</td></tr>\n",
       "<tr><td>DF.L1.C2</td>\n",
       "<td>0.4832063</td>\n",
       "<td>0.4832063</td>\n",
       "<td>0.1568935</td></tr>\n",
       "<tr><td>DF.L1.C4</td>\n",
       "<td>0.4613491</td>\n",
       "<td>0.4613491</td>\n",
       "<td>0.1497966</td></tr>\n",
       "<tr><td>DF.L1.C1</td>\n",
       "<td>0.4124342</td>\n",
       "<td>0.4124342</td>\n",
       "<td>0.1339143</td></tr></table></div>"
      ],
      "text/plain": [
       "variable    relative_importance    scaled_importance    percentage\n",
       "----------  ---------------------  -------------------  ------------\n",
       "DF.L1.C3    1                      1                    0.324693\n",
       "DF.L1.C5    0.722847               0.722847             0.234703\n",
       "DF.L1.C2    0.483206               0.483206             0.156893\n",
       "DF.L1.C4    0.461349               0.461349             0.149797\n",
       "DF.L1.C1    0.412434               0.412434             0.133914"
      ]
     },
     "metadata": {},
     "output_type": "display_data"
    },
    {
     "data": {
      "text/plain": [
       "<bound method ModelBase.summary of >"
      ]
     },
     "execution_count": 71,
     "metadata": {},
     "output_type": "execute_result"
    }
   ],
   "source": [
    "model_deep.summary"
   ]
  },
  {
   "cell_type": "code",
   "execution_count": null,
   "metadata": {},
   "outputs": [],
   "source": []
  }
 ],
 "metadata": {
  "kernelspec": {
   "display_name": "Python [conda env:spike_basico]",
   "language": "python",
   "name": "conda-env-spike_basico-py"
  },
  "language_info": {
   "codemirror_mode": {
    "name": "ipython",
    "version": 3
   },
   "file_extension": ".py",
   "mimetype": "text/x-python",
   "name": "python",
   "nbconvert_exporter": "python",
   "pygments_lexer": "ipython3",
   "version": "3.6.5"
  }
 },
 "nbformat": 4,
 "nbformat_minor": 2
}
