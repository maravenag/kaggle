{
 "cells": [
  {
   "cell_type": "code",
   "execution_count": 1,
   "metadata": {},
   "outputs": [],
   "source": [
    "import h2o"
   ]
  },
  {
   "cell_type": "code",
   "execution_count": 2,
   "metadata": {},
   "outputs": [
    {
     "name": "stdout",
     "output_type": "stream",
     "text": [
      "Checking whether there is an H2O instance running at http://localhost:54321. connected.\n",
      "Warning: Your H2O cluster version is too old (6 months and 29 days)! Please download and install the latest version from http://h2o.ai/download/\n"
     ]
    },
    {
     "data": {
      "text/html": [
       "<div style=\"overflow:auto\"><table style=\"width:50%\"><tr><td>H2O cluster uptime:</td>\n",
       "<td>3 hours 39 mins</td></tr>\n",
       "<tr><td>H2O cluster timezone:</td>\n",
       "<td>America/Santiago</td></tr>\n",
       "<tr><td>H2O data parsing timezone:</td>\n",
       "<td>UTC</td></tr>\n",
       "<tr><td>H2O cluster version:</td>\n",
       "<td>3.18.0.2</td></tr>\n",
       "<tr><td>H2O cluster version age:</td>\n",
       "<td>6 months and 29 days !!!</td></tr>\n",
       "<tr><td>H2O cluster name:</td>\n",
       "<td>H2O_from_python_maravenag_szc3fv</td></tr>\n",
       "<tr><td>H2O cluster total nodes:</td>\n",
       "<td>1</td></tr>\n",
       "<tr><td>H2O cluster free memory:</td>\n",
       "<td>2.205 Gb</td></tr>\n",
       "<tr><td>H2O cluster total cores:</td>\n",
       "<td>8</td></tr>\n",
       "<tr><td>H2O cluster allowed cores:</td>\n",
       "<td>8</td></tr>\n",
       "<tr><td>H2O cluster status:</td>\n",
       "<td>locked, healthy</td></tr>\n",
       "<tr><td>H2O connection url:</td>\n",
       "<td>http://localhost:54321</td></tr>\n",
       "<tr><td>H2O connection proxy:</td>\n",
       "<td>None</td></tr>\n",
       "<tr><td>H2O internal security:</td>\n",
       "<td>False</td></tr>\n",
       "<tr><td>H2O API Extensions:</td>\n",
       "<td>XGBoost, Algos, AutoML, Core V3, Core V4</td></tr>\n",
       "<tr><td>Python version:</td>\n",
       "<td>3.6.5 final</td></tr></table></div>"
      ],
      "text/plain": [
       "--------------------------  ----------------------------------------\n",
       "H2O cluster uptime:         3 hours 39 mins\n",
       "H2O cluster timezone:       America/Santiago\n",
       "H2O data parsing timezone:  UTC\n",
       "H2O cluster version:        3.18.0.2\n",
       "H2O cluster version age:    6 months and 29 days !!!\n",
       "H2O cluster name:           H2O_from_python_maravenag_szc3fv\n",
       "H2O cluster total nodes:    1\n",
       "H2O cluster free memory:    2.205 Gb\n",
       "H2O cluster total cores:    8\n",
       "H2O cluster allowed cores:  8\n",
       "H2O cluster status:         locked, healthy\n",
       "H2O connection url:         http://localhost:54321\n",
       "H2O connection proxy:\n",
       "H2O internal security:      False\n",
       "H2O API Extensions:         XGBoost, Algos, AutoML, Core V3, Core V4\n",
       "Python version:             3.6.5 final\n",
       "--------------------------  ----------------------------------------"
      ]
     },
     "metadata": {},
     "output_type": "display_data"
    }
   ],
   "source": [
    "h2o.init()"
   ]
  },
  {
   "cell_type": "code",
   "execution_count": 27,
   "metadata": {},
   "outputs": [
    {
     "name": "stdout",
     "output_type": "stream",
     "text": [
      "Parse progress: |█████████████████████████████████████████████████████████| 100%\n"
     ]
    }
   ],
   "source": [
    "train = h2o.upload_file(\"data/train.csv\", destination_frame=\"train\")"
   ]
  },
  {
   "cell_type": "code",
   "execution_count": 28,
   "metadata": {},
   "outputs": [
    {
     "name": "stdout",
     "output_type": "stream",
     "text": [
      "Rows:891\n",
      "Cols:12\n",
      "\n",
      "\n"
     ]
    },
    {
     "data": {
      "text/html": [
       "<table>\n",
       "<thead>\n",
       "<tr><th>       </th><th>PassengerId      </th><th>Survived          </th><th>Pclass            </th><th>Name                                               </th><th>Sex   </th><th>Age               </th><th>SibSp             </th><th>Parch             </th><th>Ticket            </th><th>Fare             </th><th>Cabin  </th><th>Embarked  </th></tr>\n",
       "</thead>\n",
       "<tbody>\n",
       "<tr><td>type   </td><td>int              </td><td>int               </td><td>int               </td><td>string                                             </td><td>enum  </td><td>real              </td><td>int               </td><td>int               </td><td>int               </td><td>real             </td><td>enum   </td><td>enum      </td></tr>\n",
       "<tr><td>mins   </td><td>1.0              </td><td>0.0               </td><td>1.0               </td><td>NaN                                                </td><td>      </td><td>0.42              </td><td>0.0               </td><td>0.0               </td><td>693.0             </td><td>0.0              </td><td>       </td><td>          </td></tr>\n",
       "<tr><td>mean   </td><td>446.0            </td><td>0.3838383838383838</td><td>2.3086419753086447</td><td>NaN                                                </td><td>      </td><td>29.69911764705884 </td><td>0.5230078563411893</td><td>0.3815937149270483</td><td>260318.5491679275 </td><td>32.20420796857465</td><td>       </td><td>          </td></tr>\n",
       "<tr><td>maxs   </td><td>891.0            </td><td>1.0               </td><td>3.0               </td><td>NaN                                                </td><td>      </td><td>80.0              </td><td>8.0               </td><td>6.0               </td><td>3101298.0         </td><td>512.3292         </td><td>       </td><td>          </td></tr>\n",
       "<tr><td>sigma  </td><td>257.3538420152301</td><td>0.4865924542648575</td><td>0.8360712409770491</td><td>NaN                                                </td><td>      </td><td>14.526497332334035</td><td>1.1027434322934315</td><td>0.8060572211299488</td><td>471609.26868834975</td><td>49.69342859718089</td><td>       </td><td>          </td></tr>\n",
       "<tr><td>zeros  </td><td>0                </td><td>549               </td><td>0                 </td><td>0                                                  </td><td>      </td><td>0                 </td><td>608               </td><td>678               </td><td>0                 </td><td>15               </td><td>       </td><td>          </td></tr>\n",
       "<tr><td>missing</td><td>0                </td><td>0                 </td><td>0                 </td><td>0                                                  </td><td>0     </td><td>177               </td><td>0                 </td><td>0                 </td><td>230               </td><td>0                </td><td>687    </td><td>2         </td></tr>\n",
       "<tr><td>0      </td><td>1.0              </td><td>0.0               </td><td>3.0               </td><td>Braund, Mr. Owen Harris                            </td><td>male  </td><td>22.0              </td><td>1.0               </td><td>0.0               </td><td>nan               </td><td>7.25             </td><td>       </td><td>S         </td></tr>\n",
       "<tr><td>1      </td><td>2.0              </td><td>1.0               </td><td>1.0               </td><td>Cumings, Mrs. John Bradley (Florence Briggs Thayer)</td><td>female</td><td>38.0              </td><td>1.0               </td><td>0.0               </td><td>nan               </td><td>71.2833          </td><td>C85    </td><td>C         </td></tr>\n",
       "<tr><td>2      </td><td>3.0              </td><td>1.0               </td><td>3.0               </td><td>Heikkinen, Miss. Laina                             </td><td>female</td><td>26.0              </td><td>0.0               </td><td>0.0               </td><td>nan               </td><td>7.925            </td><td>       </td><td>S         </td></tr>\n",
       "<tr><td>3      </td><td>4.0              </td><td>1.0               </td><td>1.0               </td><td>Futrelle, Mrs. Jacques Heath (Lily May Peel)       </td><td>female</td><td>35.0              </td><td>1.0               </td><td>0.0               </td><td>113803.0          </td><td>53.1             </td><td>C123   </td><td>S         </td></tr>\n",
       "<tr><td>4      </td><td>5.0              </td><td>0.0               </td><td>3.0               </td><td>Allen, Mr. William Henry                           </td><td>male  </td><td>35.0              </td><td>0.0               </td><td>0.0               </td><td>373450.0          </td><td>8.05             </td><td>       </td><td>S         </td></tr>\n",
       "<tr><td>5      </td><td>6.0              </td><td>0.0               </td><td>3.0               </td><td>Moran, Mr. James                                   </td><td>male  </td><td>nan               </td><td>0.0               </td><td>0.0               </td><td>330877.0          </td><td>8.4583           </td><td>       </td><td>Q         </td></tr>\n",
       "<tr><td>6      </td><td>7.0              </td><td>0.0               </td><td>1.0               </td><td>McCarthy, Mr. Timothy J                            </td><td>male  </td><td>54.0              </td><td>0.0               </td><td>0.0               </td><td>17463.0           </td><td>51.8625          </td><td>E46    </td><td>S         </td></tr>\n",
       "<tr><td>7      </td><td>8.0              </td><td>0.0               </td><td>3.0               </td><td>Palsson, Master. Gosta Leonard                     </td><td>male  </td><td>2.0               </td><td>3.0               </td><td>1.0               </td><td>349909.0          </td><td>21.075           </td><td>       </td><td>S         </td></tr>\n",
       "<tr><td>8      </td><td>9.0              </td><td>1.0               </td><td>3.0               </td><td>Johnson, Mrs. Oscar W (Elisabeth Vilhelmina Berg)  </td><td>female</td><td>27.0              </td><td>0.0               </td><td>2.0               </td><td>347742.0          </td><td>11.1333          </td><td>       </td><td>S         </td></tr>\n",
       "<tr><td>9      </td><td>10.0             </td><td>1.0               </td><td>2.0               </td><td>Nasser, Mrs. Nicholas (Adele Achem)                </td><td>female</td><td>14.0              </td><td>1.0               </td><td>0.0               </td><td>237736.0          </td><td>30.0708          </td><td>       </td><td>C         </td></tr>\n",
       "</tbody>\n",
       "</table>"
      ]
     },
     "metadata": {},
     "output_type": "display_data"
    }
   ],
   "source": [
    "train.describe()\n",
    "#test no tiene la clases :o"
   ]
  },
  {
   "cell_type": "code",
   "execution_count": 29,
   "metadata": {},
   "outputs": [],
   "source": [
    "train = train.drop(\"PassengerId\")\n",
    "train = train.drop(\"Name\")\n",
    "train = train.drop(\"Cabin\")\n",
    "train = train.drop(\"Ticket\")"
   ]
  },
  {
   "cell_type": "code",
   "execution_count": 30,
   "metadata": {},
   "outputs": [],
   "source": [
    "train, test = train.split_frame(ratios=[0.7])"
   ]
  },
  {
   "cell_type": "code",
   "execution_count": 35,
   "metadata": {},
   "outputs": [
    {
     "data": {
      "text/html": [
       "<table>\n",
       "<thead>\n",
       "<tr><th style=\"text-align: right;\">  Survived</th><th style=\"text-align: right;\">  Pclass</th><th>Sex   </th><th style=\"text-align: right;\">  Age</th><th style=\"text-align: right;\">  SibSp</th><th style=\"text-align: right;\">  Parch</th><th style=\"text-align: right;\">   Fare</th><th>Embarked  </th></tr>\n",
       "</thead>\n",
       "<tbody>\n",
       "<tr><td style=\"text-align: right;\">         1</td><td style=\"text-align: right;\">       1</td><td>female</td><td style=\"text-align: right;\">   38</td><td style=\"text-align: right;\">      1</td><td style=\"text-align: right;\">      0</td><td style=\"text-align: right;\">71.2833</td><td>C         </td></tr>\n",
       "<tr><td style=\"text-align: right;\">         1</td><td style=\"text-align: right;\">       3</td><td>female</td><td style=\"text-align: right;\">   26</td><td style=\"text-align: right;\">      0</td><td style=\"text-align: right;\">      0</td><td style=\"text-align: right;\"> 7.925 </td><td>S         </td></tr>\n",
       "<tr><td style=\"text-align: right;\">         0</td><td style=\"text-align: right;\">       3</td><td>male  </td><td style=\"text-align: right;\">   35</td><td style=\"text-align: right;\">      0</td><td style=\"text-align: right;\">      0</td><td style=\"text-align: right;\"> 8.05  </td><td>S         </td></tr>\n",
       "<tr><td style=\"text-align: right;\">         0</td><td style=\"text-align: right;\">       1</td><td>male  </td><td style=\"text-align: right;\">   54</td><td style=\"text-align: right;\">      0</td><td style=\"text-align: right;\">      0</td><td style=\"text-align: right;\">51.8625</td><td>S         </td></tr>\n",
       "<tr><td style=\"text-align: right;\">         0</td><td style=\"text-align: right;\">       3</td><td>male  </td><td style=\"text-align: right;\">    2</td><td style=\"text-align: right;\">      3</td><td style=\"text-align: right;\">      1</td><td style=\"text-align: right;\">21.075 </td><td>S         </td></tr>\n",
       "<tr><td style=\"text-align: right;\">         1</td><td style=\"text-align: right;\">       2</td><td>female</td><td style=\"text-align: right;\">   14</td><td style=\"text-align: right;\">      1</td><td style=\"text-align: right;\">      0</td><td style=\"text-align: right;\">30.0708</td><td>C         </td></tr>\n",
       "<tr><td style=\"text-align: right;\">         1</td><td style=\"text-align: right;\">       3</td><td>female</td><td style=\"text-align: right;\">    4</td><td style=\"text-align: right;\">      1</td><td style=\"text-align: right;\">      1</td><td style=\"text-align: right;\">16.7   </td><td>S         </td></tr>\n",
       "<tr><td style=\"text-align: right;\">         1</td><td style=\"text-align: right;\">       1</td><td>female</td><td style=\"text-align: right;\">   58</td><td style=\"text-align: right;\">      0</td><td style=\"text-align: right;\">      0</td><td style=\"text-align: right;\">26.55  </td><td>S         </td></tr>\n",
       "<tr><td style=\"text-align: right;\">         0</td><td style=\"text-align: right;\">       3</td><td>male  </td><td style=\"text-align: right;\">   20</td><td style=\"text-align: right;\">      0</td><td style=\"text-align: right;\">      0</td><td style=\"text-align: right;\"> 8.05  </td><td>S         </td></tr>\n",
       "<tr><td style=\"text-align: right;\">         0</td><td style=\"text-align: right;\">       3</td><td>male  </td><td style=\"text-align: right;\">   39</td><td style=\"text-align: right;\">      1</td><td style=\"text-align: right;\">      5</td><td style=\"text-align: right;\">31.275 </td><td>S         </td></tr>\n",
       "</tbody>\n",
       "</table>"
      ]
     },
     "metadata": {},
     "output_type": "display_data"
    },
    {
     "data": {
      "text/plain": []
     },
     "execution_count": 35,
     "metadata": {},
     "output_type": "execute_result"
    }
   ],
   "source": [
    "train.head()"
   ]
  },
  {
   "cell_type": "code",
   "execution_count": 36,
   "metadata": {},
   "outputs": [],
   "source": [
    "train['Survived'] = train['Survived'].asfactor()\n",
    "train['Pclass'] = train['Pclass'].asfactor()\n",
    "train['Sex'] = train['Sex'].asfactor()\n",
    "train['Embarked'] = train['Embarked'].asfactor()\n",
    "\n",
    "test['Survived'] = test['Survived'].asfactor()\n",
    "test['Pclass'] = test['Pclass'].asfactor()\n",
    "test['Sex'] = test['Sex'].asfactor()\n",
    "test['Embarked'] = test['Embarked'].asfactor()"
   ]
  },
  {
   "cell_type": "markdown",
   "metadata": {},
   "source": [
    "#### Correr un autoML como baseline"
   ]
  },
  {
   "cell_type": "code",
   "execution_count": 37,
   "metadata": {},
   "outputs": [],
   "source": [
    "from h2o.automl import H2OAutoML"
   ]
  },
  {
   "cell_type": "code",
   "execution_count": 38,
   "metadata": {},
   "outputs": [],
   "source": [
    "target = \"Survived\""
   ]
  },
  {
   "cell_type": "code",
   "execution_count": 39,
   "metadata": {},
   "outputs": [],
   "source": [
    "train_cols = [x for x in train.col_names if x not in ['Survived']]"
   ]
  },
  {
   "cell_type": "code",
   "execution_count": 41,
   "metadata": {},
   "outputs": [
    {
     "name": "stdout",
     "output_type": "stream",
     "text": [
      "AutoML progress: |████████████████████████████████████████████████████████| 100%\n",
      "Parse progress: |█████████████████████████████████████████████████████████| 100%\n"
     ]
    }
   ],
   "source": [
    "aml = H2OAutoML(max_runtime_secs = 100)\n",
    "aml.train(x = train_cols, y = target,\n",
    "          training_frame = train, validation_frame=test)"
   ]
  },
  {
   "cell_type": "code",
   "execution_count": 42,
   "metadata": {},
   "outputs": [
    {
     "data": {
      "text/html": [
       "<table>\n",
       "<thead>\n",
       "<tr><th>model_id                                             </th><th style=\"text-align: right;\">     auc</th><th style=\"text-align: right;\">  logloss</th></tr>\n",
       "</thead>\n",
       "<tbody>\n",
       "<tr><td>StackedEnsemble_BestOfFamily_0_AutoML_20181004_210221</td><td style=\"text-align: right;\">0.864279</td><td style=\"text-align: right;\"> 0.422145</td></tr>\n",
       "<tr><td>StackedEnsemble_AllModels_0_AutoML_20181004_210221   </td><td style=\"text-align: right;\">0.863625</td><td style=\"text-align: right;\"> 0.421457</td></tr>\n",
       "<tr><td>GBM_grid_0_AutoML_20181004_210221_model_5            </td><td style=\"text-align: right;\">0.859924</td><td style=\"text-align: right;\"> 0.434899</td></tr>\n",
       "<tr><td>GBM_grid_0_AutoML_20181004_210221_model_7            </td><td style=\"text-align: right;\">0.856311</td><td style=\"text-align: right;\"> 0.459063</td></tr>\n",
       "<tr><td>GLM_grid_0_AutoML_20181004_210221_model_0            </td><td style=\"text-align: right;\">0.854106</td><td style=\"text-align: right;\"> 0.447691</td></tr>\n",
       "<tr><td>GBM_grid_0_AutoML_20181004_210221_model_1            </td><td style=\"text-align: right;\">0.85348 </td><td style=\"text-align: right;\"> 0.44485 </td></tr>\n",
       "<tr><td>GBM_grid_0_AutoML_20181004_210221_model_2            </td><td style=\"text-align: right;\">0.853119</td><td style=\"text-align: right;\"> 0.445809</td></tr>\n",
       "<tr><td>GBM_grid_0_AutoML_20181004_210221_model_6            </td><td style=\"text-align: right;\">0.847978</td><td style=\"text-align: right;\"> 0.592098</td></tr>\n",
       "<tr><td>XRT_0_AutoML_20181004_210221                         </td><td style=\"text-align: right;\">0.847185</td><td style=\"text-align: right;\"> 0.575999</td></tr>\n",
       "<tr><td>GBM_grid_0_AutoML_20181004_210221_model_3            </td><td style=\"text-align: right;\">0.846393</td><td style=\"text-align: right;\"> 0.457228</td></tr>\n",
       "</tbody>\n",
       "</table>"
      ]
     },
     "metadata": {},
     "output_type": "display_data"
    },
    {
     "name": "stdout",
     "output_type": "stream",
     "text": [
      "\n"
     ]
    }
   ],
   "source": [
    "lb = aml.leaderboard\n",
    "print(lb)"
   ]
  },
  {
   "cell_type": "markdown",
   "metadata": {},
   "source": [
    "#### Ocupando un Autoencoder"
   ]
  },
  {
   "cell_type": "code",
   "execution_count": 51,
   "metadata": {},
   "outputs": [],
   "source": [
    "from h2o.estimators import H2OAutoEncoderEstimator"
   ]
  },
  {
   "cell_type": "code",
   "execution_count": 82,
   "metadata": {},
   "outputs": [],
   "source": [
    "autoencoder = H2OAutoEncoderEstimator(activation=\"Tanh\",\n",
    "                              hidden=[5],\n",
    "                              ignore_const_cols=False,\n",
    "                              epochs=1000)"
   ]
  },
  {
   "cell_type": "code",
   "execution_count": 83,
   "metadata": {},
   "outputs": [
    {
     "name": "stdout",
     "output_type": "stream",
     "text": [
      "deeplearning Model Build progress: |██████████████████████████████████████| 100%\n"
     ]
    }
   ],
   "source": [
    "autoencoder.train(x=train_cols, training_frame=train)"
   ]
  },
  {
   "cell_type": "code",
   "execution_count": 84,
   "metadata": {},
   "outputs": [
    {
     "name": "stdout",
     "output_type": "stream",
     "text": [
      "\n",
      "ModelMetricsAutoEncoder: deeplearning\n",
      "** Reported on train data. **\n",
      "\n",
      "MSE: 0.005040743728558393\n",
      "RMSE: 0.07099819524860046\n"
     ]
    },
    {
     "data": {
      "text/plain": []
     },
     "execution_count": 84,
     "metadata": {},
     "output_type": "execute_result"
    }
   ],
   "source": [
    "autoencoder._model_json[\"output\"][\"training_metrics\"]"
   ]
  },
  {
   "cell_type": "code",
   "execution_count": 93,
   "metadata": {},
   "outputs": [
    {
     "name": "stdout",
     "output_type": "stream",
     "text": [
      "deepfeatures progress: |██████████████████████████████████████████████████| 100%\n"
     ]
    }
   ],
   "source": [
    "train_deep_feats = autoencoder.deepfeatures(train, 0)\n",
    "deep_feats = deep_feats.cbind(train['Survived'])\n",
    "deep_cols = [x for x in deep_feats.col_names if x not in ['Survived']]"
   ]
  },
  {
   "cell_type": "code",
   "execution_count": 95,
   "metadata": {},
   "outputs": [
    {
     "name": "stdout",
     "output_type": "stream",
     "text": [
      "deeplearning Model Build progress: |██████████████████████████████████████| 100%\n",
      "\n",
      "ModelMetricsAutoEncoder: deeplearning\n",
      "** Reported on train data. **\n",
      "\n",
      "MSE: 0.006234375483659974\n",
      "RMSE: 0.07895806154953385\n"
     ]
    },
    {
     "data": {
      "text/plain": []
     },
     "execution_count": 95,
     "metadata": {},
     "output_type": "execute_result"
    }
   ],
   "source": [
    "autoencoder.train(x=train_cols, training_frame=test)\n",
    "autoencoder._model_json[\"output\"][\"training_metrics\"]"
   ]
  },
  {
   "cell_type": "code",
   "execution_count": 103,
   "metadata": {},
   "outputs": [
    {
     "name": "stdout",
     "output_type": "stream",
     "text": [
      "deepfeatures progress: |██████████████████████████████████████████████████| 100%\n"
     ]
    }
   ],
   "source": [
    "test_deep_feats = autoencoder.deepfeatures(test, 0)\n",
    "test_deep_feats = test_deep_feats.cbind(test['Survived'])"
   ]
  },
  {
   "cell_type": "code",
   "execution_count": 107,
   "metadata": {},
   "outputs": [
    {
     "data": {
      "text/html": [
       "<table>\n",
       "<thead>\n",
       "<tr><th style=\"text-align: right;\">  DF.L1.C1</th><th style=\"text-align: right;\">  DF.L1.C2</th><th style=\"text-align: right;\">  DF.L1.C3</th><th style=\"text-align: right;\">  DF.L1.C4</th><th style=\"text-align: right;\">  DF.L1.C5</th><th style=\"text-align: right;\">  Survived</th></tr>\n",
       "</thead>\n",
       "<tbody>\n",
       "<tr><td style=\"text-align: right;\"> -0.273902</td><td style=\"text-align: right;\">  0.96165 </td><td style=\"text-align: right;\">  0.910731</td><td style=\"text-align: right;\">  0.574897</td><td style=\"text-align: right;\">-0.98633  </td><td style=\"text-align: right;\">         1</td></tr>\n",
       "<tr><td style=\"text-align: right;\"> -0.167885</td><td style=\"text-align: right;\">  0.610158</td><td style=\"text-align: right;\"> -0.630537</td><td style=\"text-align: right;\">  0.80459 </td><td style=\"text-align: right;\"> 0.871302 </td><td style=\"text-align: right;\">         1</td></tr>\n",
       "<tr><td style=\"text-align: right;\"> -0.827111</td><td style=\"text-align: right;\"> -0.932499</td><td style=\"text-align: right;\"> -0.637633</td><td style=\"text-align: right;\">  0.80221 </td><td style=\"text-align: right;\"> 0.87075  </td><td style=\"text-align: right;\">         0</td></tr>\n",
       "<tr><td style=\"text-align: right;\"> -0.86055 </td><td style=\"text-align: right;\"> -0.400184</td><td style=\"text-align: right;\"> -0.39584 </td><td style=\"text-align: right;\">  0.831914</td><td style=\"text-align: right;\">-0.986425 </td><td style=\"text-align: right;\">         0</td></tr>\n",
       "<tr><td style=\"text-align: right;\"> -0.828361</td><td style=\"text-align: right;\"> -0.932076</td><td style=\"text-align: right;\"> -0.642454</td><td style=\"text-align: right;\">  0.80213 </td><td style=\"text-align: right;\"> 0.872174 </td><td style=\"text-align: right;\">         0</td></tr>\n",
       "<tr><td style=\"text-align: right;\"> -0.155802</td><td style=\"text-align: right;\">  0.63537 </td><td style=\"text-align: right;\">  0.580681</td><td style=\"text-align: right;\"> -0.804745</td><td style=\"text-align: right;\">-0.0508045</td><td style=\"text-align: right;\">         1</td></tr>\n",
       "<tr><td style=\"text-align: right;\"> -0.170349</td><td style=\"text-align: right;\">  0.611169</td><td style=\"text-align: right;\"> -0.632936</td><td style=\"text-align: right;\">  0.804443</td><td style=\"text-align: right;\"> 0.872034 </td><td style=\"text-align: right;\">         1</td></tr>\n",
       "<tr><td style=\"text-align: right;\"> -0.277788</td><td style=\"text-align: right;\">  0.96124 </td><td style=\"text-align: right;\"> -0.385314</td><td style=\"text-align: right;\">  0.833995</td><td style=\"text-align: right;\">-0.986361 </td><td style=\"text-align: right;\">         1</td></tr>\n",
       "<tr><td style=\"text-align: right;\"> -0.827417</td><td style=\"text-align: right;\"> -0.932452</td><td style=\"text-align: right;\"> -0.638025</td><td style=\"text-align: right;\">  0.801942</td><td style=\"text-align: right;\"> 0.871072 </td><td style=\"text-align: right;\">         0</td></tr>\n",
       "<tr><td style=\"text-align: right;\"> -0.828341</td><td style=\"text-align: right;\"> -0.932167</td><td style=\"text-align: right;\"> -0.642105</td><td style=\"text-align: right;\">  0.802866</td><td style=\"text-align: right;\"> 0.871221 </td><td style=\"text-align: right;\">         0</td></tr>\n",
       "</tbody>\n",
       "</table>"
      ]
     },
     "metadata": {},
     "output_type": "display_data"
    },
    {
     "data": {
      "text/plain": []
     },
     "execution_count": 107,
     "metadata": {},
     "output_type": "execute_result"
    }
   ],
   "source": [
    "deep_feats.head()"
   ]
  },
  {
   "cell_type": "code",
   "execution_count": 108,
   "metadata": {},
   "outputs": [
    {
     "data": {
      "text/html": [
       "<table>\n",
       "<thead>\n",
       "<tr><th style=\"text-align: right;\">  DF.L1.C1</th><th style=\"text-align: right;\">  DF.L1.C2</th><th style=\"text-align: right;\">  DF.L1.C3</th><th style=\"text-align: right;\">  DF.L1.C4</th><th style=\"text-align: right;\">  DF.L1.C5</th><th style=\"text-align: right;\">  Survived</th></tr>\n",
       "</thead>\n",
       "<tbody>\n",
       "<tr><td style=\"text-align: right;\">  0.925153</td><td style=\"text-align: right;\">  0.612716</td><td style=\"text-align: right;\"> -0.510325</td><td style=\"text-align: right;\"> -0.816533</td><td style=\"text-align: right;\">  0.931002</td><td style=\"text-align: right;\">         0</td></tr>\n",
       "<tr><td style=\"text-align: right;\">  0.926149</td><td style=\"text-align: right;\">  0.748487</td><td style=\"text-align: right;\"> -0.212582</td><td style=\"text-align: right;\">  0.854018</td><td style=\"text-align: right;\"> -0.694501</td><td style=\"text-align: right;\">         1</td></tr>\n",
       "<tr><td style=\"text-align: right;\">  0.767294</td><td style=\"text-align: right;\">  0.596371</td><td style=\"text-align: right;\">  0.698844</td><td style=\"text-align: right;\"> -0.902859</td><td style=\"text-align: right;\">  0.463372</td><td style=\"text-align: right;\">         0</td></tr>\n",
       "<tr><td style=\"text-align: right;\">  0.926058</td><td style=\"text-align: right;\">  0.60685 </td><td style=\"text-align: right;\"> -0.530862</td><td style=\"text-align: right;\"> -0.808017</td><td style=\"text-align: right;\"> -0.699674</td><td style=\"text-align: right;\">         1</td></tr>\n",
       "<tr><td style=\"text-align: right;\">  0.772524</td><td style=\"text-align: right;\">  0.596726</td><td style=\"text-align: right;\">  0.691351</td><td style=\"text-align: right;\"> -0.906183</td><td style=\"text-align: right;\">  0.464983</td><td style=\"text-align: right;\">         0</td></tr>\n",
       "<tr><td style=\"text-align: right;\"> -0.824052</td><td style=\"text-align: right;\">  0.47891 </td><td style=\"text-align: right;\"> -0.55041 </td><td style=\"text-align: right;\">  0.852127</td><td style=\"text-align: right;\">  0.930992</td><td style=\"text-align: right;\">         1</td></tr>\n",
       "<tr><td style=\"text-align: right;\"> -0.822958</td><td style=\"text-align: right;\">  0.479146</td><td style=\"text-align: right;\"> -0.55038 </td><td style=\"text-align: right;\">  0.853038</td><td style=\"text-align: right;\">  0.930967</td><td style=\"text-align: right;\">         0</td></tr>\n",
       "<tr><td style=\"text-align: right;\">  0.926755</td><td style=\"text-align: right;\">  0.607375</td><td style=\"text-align: right;\"> -0.53598 </td><td style=\"text-align: right;\"> -0.811229</td><td style=\"text-align: right;\"> -0.6981  </td><td style=\"text-align: right;\">         0</td></tr>\n",
       "<tr><td style=\"text-align: right;\">  0.92498 </td><td style=\"text-align: right;\">  0.61279 </td><td style=\"text-align: right;\"> -0.508033</td><td style=\"text-align: right;\"> -0.814611</td><td style=\"text-align: right;\">  0.93092 </td><td style=\"text-align: right;\">         0</td></tr>\n",
       "<tr><td style=\"text-align: right;\">  0.923436</td><td style=\"text-align: right;\"> -0.353502</td><td style=\"text-align: right;\">  0.61122 </td><td style=\"text-align: right;\">  0.843367</td><td style=\"text-align: right;\">  0.537947</td><td style=\"text-align: right;\">         0</td></tr>\n",
       "</tbody>\n",
       "</table>"
      ]
     },
     "metadata": {},
     "output_type": "display_data"
    },
    {
     "data": {
      "text/plain": []
     },
     "execution_count": 108,
     "metadata": {},
     "output_type": "execute_result"
    }
   ],
   "source": [
    "test_deep_feats.head()"
   ]
  },
  {
   "cell_type": "code",
   "execution_count": 109,
   "metadata": {},
   "outputs": [
    {
     "data": {
      "text/plain": [
       "['DF.L1.C1', 'DF.L1.C2', 'DF.L1.C3', 'DF.L1.C4', 'DF.L1.C5']"
      ]
     },
     "execution_count": 109,
     "metadata": {},
     "output_type": "execute_result"
    }
   ],
   "source": [
    "deep_feats_names = [x for x in deep_feats.col_names if x not in [\"Survived\"]]\n",
    "deep_feats_names"
   ]
  },
  {
   "cell_type": "code",
   "execution_count": 110,
   "metadata": {},
   "outputs": [
    {
     "name": "stdout",
     "output_type": "stream",
     "text": [
      "AutoML progress: |████████████████████████████████████████████████████████| 100%\n",
      "Parse progress: |█████████████████████████████████████████████████████████| 100%\n"
     ]
    }
   ],
   "source": [
    "aml2 = H2OAutoML(max_runtime_secs = 100)\n",
    "aml2.train(x = deep_feats_names, y = target,\n",
    "          training_frame = deep_feats, validation_frame=test_deep_feats)"
   ]
  },
  {
   "cell_type": "code",
   "execution_count": 111,
   "metadata": {},
   "outputs": [
    {
     "data": {
      "text/html": [
       "<table>\n",
       "<thead>\n",
       "<tr><th>model_id                                             </th><th style=\"text-align: right;\">     auc</th><th style=\"text-align: right;\">  logloss</th></tr>\n",
       "</thead>\n",
       "<tbody>\n",
       "<tr><td>StackedEnsemble_AllModels_0_AutoML_20181004_212202   </td><td style=\"text-align: right;\">0.860965</td><td style=\"text-align: right;\"> 0.447042</td></tr>\n",
       "<tr><td>StackedEnsemble_BestOfFamily_0_AutoML_20181004_212202</td><td style=\"text-align: right;\">0.858162</td><td style=\"text-align: right;\"> 0.448842</td></tr>\n",
       "<tr><td>GBM_grid_0_AutoML_20181004_212202_model_14           </td><td style=\"text-align: right;\">0.857862</td><td style=\"text-align: right;\"> 0.467077</td></tr>\n",
       "<tr><td>GBM_grid_0_AutoML_20181004_212202_model_5            </td><td style=\"text-align: right;\">0.852709</td><td style=\"text-align: right;\"> 0.448698</td></tr>\n",
       "<tr><td>GBM_grid_0_AutoML_20181004_212202_model_3            </td><td style=\"text-align: right;\">0.848548</td><td style=\"text-align: right;\"> 0.455586</td></tr>\n",
       "<tr><td>GBM_grid_0_AutoML_20181004_212202_model_9            </td><td style=\"text-align: right;\">0.847645</td><td style=\"text-align: right;\"> 0.521087</td></tr>\n",
       "<tr><td>GBM_grid_0_AutoML_20181004_212202_model_2            </td><td style=\"text-align: right;\">0.842714</td><td style=\"text-align: right;\"> 0.462415</td></tr>\n",
       "<tr><td>GBM_grid_0_AutoML_20181004_212202_model_1            </td><td style=\"text-align: right;\">0.842188</td><td style=\"text-align: right;\"> 0.460997</td></tr>\n",
       "<tr><td>GBM_grid_0_AutoML_20181004_212202_model_6            </td><td style=\"text-align: right;\">0.841179</td><td style=\"text-align: right;\"> 0.537509</td></tr>\n",
       "<tr><td>XRT_0_AutoML_20181004_212202                         </td><td style=\"text-align: right;\">0.838846</td><td style=\"text-align: right;\"> 0.581463</td></tr>\n",
       "</tbody>\n",
       "</table>"
      ]
     },
     "metadata": {},
     "output_type": "display_data"
    },
    {
     "name": "stdout",
     "output_type": "stream",
     "text": [
      "\n"
     ]
    }
   ],
   "source": [
    "lb = aml2.leaderboard\n",
    "print(lb)"
   ]
  },
  {
   "cell_type": "code",
   "execution_count": null,
   "metadata": {},
   "outputs": [],
   "source": []
  }
 ],
 "metadata": {
  "kernelspec": {
   "display_name": "Python [conda env:spike_basico]",
   "language": "python",
   "name": "conda-env-spike_basico-py"
  },
  "language_info": {
   "codemirror_mode": {
    "name": "ipython",
    "version": 3
   },
   "file_extension": ".py",
   "mimetype": "text/x-python",
   "name": "python",
   "nbconvert_exporter": "python",
   "pygments_lexer": "ipython3",
   "version": "3.6.5"
  }
 },
 "nbformat": 4,
 "nbformat_minor": 2
}
