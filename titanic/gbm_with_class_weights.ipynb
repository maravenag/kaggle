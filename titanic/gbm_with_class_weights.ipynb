{
 "cells": [
  {
   "cell_type": "code",
   "execution_count": 1,
   "metadata": {},
   "outputs": [],
   "source": [
    "def generate_report(model):\n",
    "    try:\n",
    "        validation_metrics = {\n",
    "                    \"MSE\": model.model_performance(valid=True).mse(),\n",
    "                    \"RMSE\": model.model_performance(valid=True).rmse(),\n",
    "                    #\"LogLoss\": model.model_performance(valid=True).logloss(),\n",
    "                    #\"Mean Per-Class Error\": model.model_performance(valid=True).mean_per_class_error(),\n",
    "                    \"AUC\":model.model_performance(valid=True).auc(),\n",
    "                    \"PR_AUC\": model.model_performance(valid=True).pr_auc(),\n",
    "                    #\"Gini\": model.model_performance(valid=True).gini()\n",
    "                }\n",
    "    except Exception as e:\n",
    "        validation_metrics = {}\n",
    "\n",
    "    try:\n",
    "        xval_metrics= {\n",
    "                    \"MSE\": model.model_performance(xval=True).mse(),\n",
    "                    \"RMSE\": model.model_performance(xval=True).rmse(),\n",
    "                    #\"LogLoss\": model.model_performance(xval=True).logloss(),\n",
    "                    #\"Mean Per-Class Error\": model.model_performance(xval=True).mean_per_class_error(),\n",
    "                    \"AUC\":model.model_performance(xval=True).auc(),\n",
    "                    \"PR_AUC\": model.model_performance(xval=True).pr_auc(),\n",
    "                    #\"Gini\": model.model_performance(xval=True).gini() \n",
    "        }\n",
    "    except Exception as e:\n",
    "        xval_metrics = {}\n",
    "    \n",
    "    return {\n",
    "        'model_name': model.model_id,\n",
    "        #'gains_lift': json.loads(model.gains_lift(xval=True).as_data_frame().to_json(orient=\"table\",index=False))['data'],\n",
    "        'training_metrics':{\n",
    "                            \"MSE\": model.model_performance().mse(),\n",
    "                            \"RMSE\": model.model_performance().rmse(),\n",
    "                            #\"LogLoss\": model.model_performance().logloss(),\n",
    "                            #\"Mean Per-Class Error\": model.model_performance().mean_per_class_error(),\n",
    "                            \"AUC\":model.model_performance().auc(),\n",
    "                            \"PR_AUC\": model.model_performance().pr_auc(),\n",
    "                            #\"Gini\": model.model_performance().gini()\n",
    "                        },\n",
    "        'validation_metrics':validation_metrics,\n",
    "        'xval_metrics':xval_metrics\n",
    "    }"
   ]
  },
  {
   "cell_type": "code",
   "execution_count": 2,
   "metadata": {},
   "outputs": [],
   "source": [
    "import h2o"
   ]
  },
  {
   "cell_type": "code",
   "execution_count": 3,
   "metadata": {},
   "outputs": [
    {
     "name": "stdout",
     "output_type": "stream",
     "text": [
      "Checking whether there is an H2O instance running at http://localhost:54321..... not found.\n",
      "Attempting to start a local H2O server...\n",
      "  Java Version: java version \"1.8.0_172\"; Java(TM) SE Runtime Environment (build 1.8.0_172-b11); Java HotSpot(TM) 64-Bit Server VM (build 25.172-b11, mixed mode)\n",
      "  Starting server from /anaconda2/envs/spike_basicoV3/lib/python3.6/site-packages/h2o/backend/bin/h2o.jar\n",
      "  Ice root: /var/folders/3z/5qxln1rj4zjblz0l0hvy0n540000gn/T/tmpeq_6sr5a\n",
      "  JVM stdout: /var/folders/3z/5qxln1rj4zjblz0l0hvy0n540000gn/T/tmpeq_6sr5a/h2o_maravenag_started_from_python.out\n",
      "  JVM stderr: /var/folders/3z/5qxln1rj4zjblz0l0hvy0n540000gn/T/tmpeq_6sr5a/h2o_maravenag_started_from_python.err\n",
      "  Server is running at http://127.0.0.1:54321\n",
      "Connecting to H2O server at http://127.0.0.1:54321... successful.\n",
      "Warning: Your H2O cluster version is too old (4 months and 14 days)! Please download and install the latest version from http://h2o.ai/download/\n"
     ]
    },
    {
     "data": {
      "text/html": [
       "<div style=\"overflow:auto\"><table style=\"width:50%\"><tr><td>H2O cluster uptime:</td>\n",
       "<td>01 secs</td></tr>\n",
       "<tr><td>H2O cluster timezone:</td>\n",
       "<td>America/Santiago</td></tr>\n",
       "<tr><td>H2O data parsing timezone:</td>\n",
       "<td>UTC</td></tr>\n",
       "<tr><td>H2O cluster version:</td>\n",
       "<td>3.22.1.4</td></tr>\n",
       "<tr><td>H2O cluster version age:</td>\n",
       "<td>4 months and 14 days !!!</td></tr>\n",
       "<tr><td>H2O cluster name:</td>\n",
       "<td>H2O_from_python_maravenag_1iqg9k</td></tr>\n",
       "<tr><td>H2O cluster total nodes:</td>\n",
       "<td>1</td></tr>\n",
       "<tr><td>H2O cluster free memory:</td>\n",
       "<td>3.556 Gb</td></tr>\n",
       "<tr><td>H2O cluster total cores:</td>\n",
       "<td>0</td></tr>\n",
       "<tr><td>H2O cluster allowed cores:</td>\n",
       "<td>0</td></tr>\n",
       "<tr><td>H2O cluster status:</td>\n",
       "<td>accepting new members, healthy</td></tr>\n",
       "<tr><td>H2O connection url:</td>\n",
       "<td>http://127.0.0.1:54321</td></tr>\n",
       "<tr><td>H2O connection proxy:</td>\n",
       "<td>None</td></tr>\n",
       "<tr><td>H2O internal security:</td>\n",
       "<td>False</td></tr>\n",
       "<tr><td>H2O API Extensions:</td>\n",
       "<td>Amazon S3, XGBoost, Algos, AutoML, Core V3, Core V4</td></tr>\n",
       "<tr><td>Python version:</td>\n",
       "<td>3.6.7 final</td></tr></table></div>"
      ],
      "text/plain": [
       "--------------------------  ---------------------------------------------------\n",
       "H2O cluster uptime:         01 secs\n",
       "H2O cluster timezone:       America/Santiago\n",
       "H2O data parsing timezone:  UTC\n",
       "H2O cluster version:        3.22.1.4\n",
       "H2O cluster version age:    4 months and 14 days !!!\n",
       "H2O cluster name:           H2O_from_python_maravenag_1iqg9k\n",
       "H2O cluster total nodes:    1\n",
       "H2O cluster free memory:    3.556 Gb\n",
       "H2O cluster total cores:    0\n",
       "H2O cluster allowed cores:  0\n",
       "H2O cluster status:         accepting new members, healthy\n",
       "H2O connection url:         http://127.0.0.1:54321\n",
       "H2O connection proxy:\n",
       "H2O internal security:      False\n",
       "H2O API Extensions:         Amazon S3, XGBoost, Algos, AutoML, Core V3, Core V4\n",
       "Python version:             3.6.7 final\n",
       "--------------------------  ---------------------------------------------------"
      ]
     },
     "metadata": {},
     "output_type": "display_data"
    }
   ],
   "source": [
    "h2o.init()"
   ]
  },
  {
   "cell_type": "code",
   "execution_count": 4,
   "metadata": {},
   "outputs": [
    {
     "name": "stdout",
     "output_type": "stream",
     "text": [
      "Parse progress: |█████████████████████████████████████████████████████████| 100%\n"
     ]
    }
   ],
   "source": [
    "train = h2o.upload_file(\"data/train.csv\", destination_frame=\"train\")"
   ]
  },
  {
   "cell_type": "code",
   "execution_count": 5,
   "metadata": {},
   "outputs": [
    {
     "name": "stdout",
     "output_type": "stream",
     "text": [
      "Parse progress: |█████████████████████████████████████████████████████████| 100%\n"
     ]
    }
   ],
   "source": [
    "data = h2o.upload_file(\"data/train.csv\", destination_frame=\"data\")"
   ]
  },
  {
   "cell_type": "code",
   "execution_count": 6,
   "metadata": {},
   "outputs": [],
   "source": [
    "train = train.drop(\"PassengerId\")\n",
    "train = train.drop(\"Name\")\n",
    "train = train.drop(\"Cabin\")\n",
    "train = train.drop(\"Ticket\")"
   ]
  },
  {
   "cell_type": "code",
   "execution_count": 7,
   "metadata": {},
   "outputs": [
    {
     "data": {
      "text/html": [
       "<table>\n",
       "<thead>\n",
       "<tr><th style=\"text-align: right;\">  Survived</th><th style=\"text-align: right;\">  Pclass</th><th>Sex   </th><th style=\"text-align: right;\">  Age</th><th style=\"text-align: right;\">  SibSp</th><th style=\"text-align: right;\">  Parch</th><th style=\"text-align: right;\">   Fare</th><th>Embarked  </th></tr>\n",
       "</thead>\n",
       "<tbody>\n",
       "<tr><td style=\"text-align: right;\">         0</td><td style=\"text-align: right;\">       3</td><td>male  </td><td style=\"text-align: right;\">   22</td><td style=\"text-align: right;\">      1</td><td style=\"text-align: right;\">      0</td><td style=\"text-align: right;\"> 7.25  </td><td>S         </td></tr>\n",
       "<tr><td style=\"text-align: right;\">         1</td><td style=\"text-align: right;\">       1</td><td>female</td><td style=\"text-align: right;\">   38</td><td style=\"text-align: right;\">      1</td><td style=\"text-align: right;\">      0</td><td style=\"text-align: right;\">71.2833</td><td>C         </td></tr>\n",
       "<tr><td style=\"text-align: right;\">         1</td><td style=\"text-align: right;\">       3</td><td>female</td><td style=\"text-align: right;\">   26</td><td style=\"text-align: right;\">      0</td><td style=\"text-align: right;\">      0</td><td style=\"text-align: right;\"> 7.925 </td><td>S         </td></tr>\n",
       "<tr><td style=\"text-align: right;\">         1</td><td style=\"text-align: right;\">       1</td><td>female</td><td style=\"text-align: right;\">   35</td><td style=\"text-align: right;\">      1</td><td style=\"text-align: right;\">      0</td><td style=\"text-align: right;\">53.1   </td><td>S         </td></tr>\n",
       "<tr><td style=\"text-align: right;\">         0</td><td style=\"text-align: right;\">       3</td><td>male  </td><td style=\"text-align: right;\">   35</td><td style=\"text-align: right;\">      0</td><td style=\"text-align: right;\">      0</td><td style=\"text-align: right;\"> 8.05  </td><td>S         </td></tr>\n",
       "<tr><td style=\"text-align: right;\">         0</td><td style=\"text-align: right;\">       3</td><td>male  </td><td style=\"text-align: right;\">  nan</td><td style=\"text-align: right;\">      0</td><td style=\"text-align: right;\">      0</td><td style=\"text-align: right;\"> 8.4583</td><td>Q         </td></tr>\n",
       "<tr><td style=\"text-align: right;\">         0</td><td style=\"text-align: right;\">       1</td><td>male  </td><td style=\"text-align: right;\">   54</td><td style=\"text-align: right;\">      0</td><td style=\"text-align: right;\">      0</td><td style=\"text-align: right;\">51.8625</td><td>S         </td></tr>\n",
       "<tr><td style=\"text-align: right;\">         0</td><td style=\"text-align: right;\">       3</td><td>male  </td><td style=\"text-align: right;\">    2</td><td style=\"text-align: right;\">      3</td><td style=\"text-align: right;\">      1</td><td style=\"text-align: right;\">21.075 </td><td>S         </td></tr>\n",
       "<tr><td style=\"text-align: right;\">         1</td><td style=\"text-align: right;\">       3</td><td>female</td><td style=\"text-align: right;\">   27</td><td style=\"text-align: right;\">      0</td><td style=\"text-align: right;\">      2</td><td style=\"text-align: right;\">11.1333</td><td>S         </td></tr>\n",
       "<tr><td style=\"text-align: right;\">         1</td><td style=\"text-align: right;\">       2</td><td>female</td><td style=\"text-align: right;\">   14</td><td style=\"text-align: right;\">      1</td><td style=\"text-align: right;\">      0</td><td style=\"text-align: right;\">30.0708</td><td>C         </td></tr>\n",
       "</tbody>\n",
       "</table>"
      ]
     },
     "metadata": {},
     "output_type": "display_data"
    },
    {
     "data": {
      "text/plain": []
     },
     "execution_count": 7,
     "metadata": {},
     "output_type": "execute_result"
    }
   ],
   "source": [
    "train.head()"
   ]
  },
  {
   "cell_type": "code",
   "execution_count": 8,
   "metadata": {},
   "outputs": [],
   "source": [
    "train['Survived'] = train['Survived'].asfactor()\n",
    "train['Pclass'] = train['Pclass'].asfactor()\n",
    "train['Sex'] = train['Sex'].asfactor()\n",
    "train['Embarked'] = train['Embarked'].asfactor()"
   ]
  },
  {
   "cell_type": "code",
   "execution_count": 9,
   "metadata": {},
   "outputs": [],
   "source": [
    "train, test = train.split_frame(ratios=[0.7])"
   ]
  },
  {
   "cell_type": "code",
   "execution_count": 10,
   "metadata": {},
   "outputs": [],
   "source": [
    "from h2o.estimators.gbm import H2OGradientBoostingEstimator"
   ]
  },
  {
   "cell_type": "code",
   "execution_count": 11,
   "metadata": {},
   "outputs": [],
   "source": [
    "model = H2OGradientBoostingEstimator(nfolds=5,seed = 1234)"
   ]
  },
  {
   "cell_type": "code",
   "execution_count": 12,
   "metadata": {},
   "outputs": [],
   "source": [
    "train_cols = [x for x in train.col_names if x not in ['Survived']]"
   ]
  },
  {
   "cell_type": "code",
   "execution_count": 13,
   "metadata": {},
   "outputs": [
    {
     "name": "stdout",
     "output_type": "stream",
     "text": [
      "gbm Model Build progress: |███████████████████████████████████████████████| 100%\n"
     ]
    }
   ],
   "source": [
    "model.train(x=train_cols,y=\"Survived\",training_frame=train, validation_frame=test)"
   ]
  },
  {
   "cell_type": "code",
   "execution_count": 14,
   "metadata": {},
   "outputs": [],
   "source": [
    "from sklearn.utils import compute_class_weight"
   ]
  },
  {
   "cell_type": "code",
   "execution_count": 15,
   "metadata": {},
   "outputs": [
    {
     "data": {
      "text/plain": [
       "array([0.81147541, 1.30263158])"
      ]
     },
     "execution_count": 15,
     "metadata": {},
     "output_type": "execute_result"
    }
   ],
   "source": [
    "compute_class_weight(class_weight=\"balanced\",y=data['Survived'].as_data_frame().values.flatten(),classes=[0,1])"
   ]
  },
  {
   "cell_type": "code",
   "execution_count": 16,
   "metadata": {},
   "outputs": [],
   "source": [
    "import numpy as np"
   ]
  },
  {
   "cell_type": "code",
   "execution_count": 17,
   "metadata": {},
   "outputs": [],
   "source": [
    "train = train.as_data_frame()\n",
    "test = test.as_data_frame()"
   ]
  },
  {
   "cell_type": "code",
   "execution_count": 18,
   "metadata": {},
   "outputs": [],
   "source": [
    "train['weights'] = train.apply(lambda x: 0.81147541 if x['Survived'] == 0 else 1.30263158, axis=1)\n",
    "test['weights'] = test.apply(lambda x: 0.81147541 if x['Survived'] == 0 else 1.30263158, axis=1)"
   ]
  },
  {
   "cell_type": "code",
   "execution_count": 19,
   "metadata": {},
   "outputs": [
    {
     "name": "stdout",
     "output_type": "stream",
     "text": [
      "Parse progress: |█████████████████████████████████████████████████████████| 100%\n",
      "Parse progress: |█████████████████████████████████████████████████████████| 100%\n"
     ]
    }
   ],
   "source": [
    "train = h2o.H2OFrame(train, destination_frame=\"train\")\n",
    "test = h2o.H2OFrame(test, destination_frame=\"test\")"
   ]
  },
  {
   "cell_type": "code",
   "execution_count": 20,
   "metadata": {},
   "outputs": [],
   "source": [
    "test['Survived'] = test['Survived'].asfactor()\n",
    "test['Pclass'] = test['Pclass'].asfactor()\n",
    "test['Sex'] = test['Sex'].asfactor()\n",
    "test['Embarked'] = test['Embarked'].asfactor()\n",
    "\n",
    "train['Survived'] = train['Survived'].asfactor()\n",
    "train['Pclass'] = train['Pclass'].asfactor()\n",
    "train['Sex'] = train['Sex'].asfactor()\n",
    "train['Embarked'] = train['Embarked'].asfactor()"
   ]
  },
  {
   "cell_type": "code",
   "execution_count": 21,
   "metadata": {},
   "outputs": [
    {
     "data": {
      "text/html": [
       "<table>\n",
       "<thead>\n",
       "<tr><th style=\"text-align: right;\">  Survived</th><th style=\"text-align: right;\">  Pclass</th><th>Sex   </th><th style=\"text-align: right;\">  Age</th><th style=\"text-align: right;\">  SibSp</th><th style=\"text-align: right;\">  Parch</th><th style=\"text-align: right;\">   Fare</th><th>Embarked  </th><th style=\"text-align: right;\">  weights</th></tr>\n",
       "</thead>\n",
       "<tbody>\n",
       "<tr><td style=\"text-align: right;\">         0</td><td style=\"text-align: right;\">       3</td><td>male  </td><td style=\"text-align: right;\">   22</td><td style=\"text-align: right;\">      1</td><td style=\"text-align: right;\">      0</td><td style=\"text-align: right;\"> 7.25  </td><td>S         </td><td style=\"text-align: right;\"> 0.811475</td></tr>\n",
       "<tr><td style=\"text-align: right;\">         1</td><td style=\"text-align: right;\">       1</td><td>female</td><td style=\"text-align: right;\">   38</td><td style=\"text-align: right;\">      1</td><td style=\"text-align: right;\">      0</td><td style=\"text-align: right;\">71.2833</td><td>C         </td><td style=\"text-align: right;\"> 1.30263 </td></tr>\n",
       "<tr><td style=\"text-align: right;\">         1</td><td style=\"text-align: right;\">       3</td><td>female</td><td style=\"text-align: right;\">   26</td><td style=\"text-align: right;\">      0</td><td style=\"text-align: right;\">      0</td><td style=\"text-align: right;\"> 7.925 </td><td>S         </td><td style=\"text-align: right;\"> 1.30263 </td></tr>\n",
       "<tr><td style=\"text-align: right;\">         1</td><td style=\"text-align: right;\">       1</td><td>female</td><td style=\"text-align: right;\">   35</td><td style=\"text-align: right;\">      1</td><td style=\"text-align: right;\">      0</td><td style=\"text-align: right;\">53.1   </td><td>S         </td><td style=\"text-align: right;\"> 1.30263 </td></tr>\n",
       "</tbody>\n",
       "</table>"
      ]
     },
     "metadata": {},
     "output_type": "display_data"
    },
    {
     "data": {
      "text/plain": []
     },
     "execution_count": 21,
     "metadata": {},
     "output_type": "execute_result"
    }
   ],
   "source": [
    "train.head(4)"
   ]
  },
  {
   "cell_type": "code",
   "execution_count": 22,
   "metadata": {},
   "outputs": [],
   "source": [
    "model_ = H2OGradientBoostingEstimator(nfolds=5,seed = 1234)"
   ]
  },
  {
   "cell_type": "code",
   "execution_count": 23,
   "metadata": {},
   "outputs": [
    {
     "name": "stdout",
     "output_type": "stream",
     "text": [
      "gbm Model Build progress: |███████████████████████████████████████████████| 100%\n"
     ]
    }
   ],
   "source": [
    "model_.train(x=train_cols,y=\"Survived\",training_frame=train, weights_column=\"weights\", validation_frame=test)"
   ]
  },
  {
   "cell_type": "code",
   "execution_count": 24,
   "metadata": {},
   "outputs": [
    {
     "data": {
      "text/plain": [
       "{'model_name': 'GBM_model_python_1561905836437_1',\n",
       " 'training_metrics': {'MSE': 0.07778793433823798,\n",
       "  'RMSE': 0.2789048840343926,\n",
       "  'AUC': 0.9600408149830486,\n",
       "  'PR_AUC': 0.9484224837169406},\n",
       " 'validation_metrics': {'MSE': 0.14460516875484294,\n",
       "  'RMSE': 0.38026986306417043,\n",
       "  'AUC': 0.8332456140350877,\n",
       "  'PR_AUC': 0.7581140750212818},\n",
       " 'xval_metrics': {'MSE': 0.13499045456018224,\n",
       "  'RMSE': 0.36741047148956196,\n",
       "  'AUC': 0.863730621111879,\n",
       "  'PR_AUC': 0.8425867886396248}}"
      ]
     },
     "execution_count": 24,
     "metadata": {},
     "output_type": "execute_result"
    }
   ],
   "source": [
    "generate_report(model)"
   ]
  },
  {
   "cell_type": "code",
   "execution_count": 25,
   "metadata": {},
   "outputs": [
    {
     "data": {
      "text/plain": [
       "{'model_name': 'GBM_model_python_1561905836437_620',\n",
       " 'training_metrics': {'MSE': 0.08201718439371315,\n",
       "  'RMSE': 0.28638642494663247,\n",
       "  'AUC': 0.9617469251615622,\n",
       "  'PR_AUC': 0.9638140981323172},\n",
       " 'validation_metrics': {'MSE': 0.15951110833172838,\n",
       "  'RMSE': 0.3993884178737891,\n",
       "  'AUC': 0.8352339181286561,\n",
       "  'PR_AUC': 0.8337328854958274},\n",
       " 'xval_metrics': {'MSE': 0.1439616185756131,\n",
       "  'RMSE': 0.3794227438828794,\n",
       "  'AUC': 0.8628254501168476,\n",
       "  'PR_AUC': 0.8878867513945812}}"
      ]
     },
     "execution_count": 25,
     "metadata": {},
     "output_type": "execute_result"
    }
   ],
   "source": [
    "generate_report(model_)"
   ]
  },
  {
   "cell_type": "code",
   "execution_count": null,
   "metadata": {},
   "outputs": [],
   "source": []
  }
 ],
 "metadata": {
  "kernelspec": {
   "display_name": "Python [conda env:spike_basicoV3]",
   "language": "python",
   "name": "conda-env-spike_basicoV3-py"
  },
  "language_info": {
   "codemirror_mode": {
    "name": "ipython",
    "version": 3
   },
   "file_extension": ".py",
   "mimetype": "text/x-python",
   "name": "python",
   "nbconvert_exporter": "python",
   "pygments_lexer": "ipython3",
   "version": "3.6.7"
  }
 },
 "nbformat": 4,
 "nbformat_minor": 2
}
