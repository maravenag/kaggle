{
 "cells": [
  {
   "cell_type": "code",
   "execution_count": 1,
   "metadata": {},
   "outputs": [
    {
     "name": "stderr",
     "output_type": "stream",
     "text": [
      "Using TensorFlow backend.\n"
     ]
    }
   ],
   "source": [
    "import pandas as pd\n",
    "import matplotlib.pyplot as plt\n",
    "from keras.models import Sequential\n",
    "from keras.layers import Dense\n",
    "from keras.layers import LSTM, Dropout, Activation\n",
    "from sklearn.preprocessing import MinMaxScaler\n",
    "from sklearn.model_selection import train_test_split\n",
    "from sklearn.metrics import mean_squared_error"
   ]
  },
  {
   "cell_type": "code",
   "execution_count": 2,
   "metadata": {},
   "outputs": [],
   "source": [
    "from keras.optimizers import Adamax"
   ]
  },
  {
   "cell_type": "code",
   "execution_count": 3,
   "metadata": {},
   "outputs": [],
   "source": [
    "#loading the data\n",
    "data = pd.read_csv(\"insurance.csv\")"
   ]
  },
  {
   "cell_type": "code",
   "execution_count": 4,
   "metadata": {},
   "outputs": [
    {
     "data": {
      "text/html": [
       "<div>\n",
       "<style scoped>\n",
       "    .dataframe tbody tr th:only-of-type {\n",
       "        vertical-align: middle;\n",
       "    }\n",
       "\n",
       "    .dataframe tbody tr th {\n",
       "        vertical-align: top;\n",
       "    }\n",
       "\n",
       "    .dataframe thead th {\n",
       "        text-align: right;\n",
       "    }\n",
       "</style>\n",
       "<table border=\"1\" class=\"dataframe\">\n",
       "  <thead>\n",
       "    <tr style=\"text-align: right;\">\n",
       "      <th></th>\n",
       "      <th>age</th>\n",
       "      <th>sex</th>\n",
       "      <th>bmi</th>\n",
       "      <th>children</th>\n",
       "      <th>smoker</th>\n",
       "      <th>region</th>\n",
       "      <th>charges</th>\n",
       "    </tr>\n",
       "  </thead>\n",
       "  <tbody>\n",
       "    <tr>\n",
       "      <th>0</th>\n",
       "      <td>19</td>\n",
       "      <td>female</td>\n",
       "      <td>27.900</td>\n",
       "      <td>0</td>\n",
       "      <td>yes</td>\n",
       "      <td>southwest</td>\n",
       "      <td>16884.92400</td>\n",
       "    </tr>\n",
       "    <tr>\n",
       "      <th>1</th>\n",
       "      <td>18</td>\n",
       "      <td>male</td>\n",
       "      <td>33.770</td>\n",
       "      <td>1</td>\n",
       "      <td>no</td>\n",
       "      <td>southeast</td>\n",
       "      <td>1725.55230</td>\n",
       "    </tr>\n",
       "    <tr>\n",
       "      <th>2</th>\n",
       "      <td>28</td>\n",
       "      <td>male</td>\n",
       "      <td>33.000</td>\n",
       "      <td>3</td>\n",
       "      <td>no</td>\n",
       "      <td>southeast</td>\n",
       "      <td>4449.46200</td>\n",
       "    </tr>\n",
       "    <tr>\n",
       "      <th>3</th>\n",
       "      <td>33</td>\n",
       "      <td>male</td>\n",
       "      <td>22.705</td>\n",
       "      <td>0</td>\n",
       "      <td>no</td>\n",
       "      <td>northwest</td>\n",
       "      <td>21984.47061</td>\n",
       "    </tr>\n",
       "    <tr>\n",
       "      <th>4</th>\n",
       "      <td>32</td>\n",
       "      <td>male</td>\n",
       "      <td>28.880</td>\n",
       "      <td>0</td>\n",
       "      <td>no</td>\n",
       "      <td>northwest</td>\n",
       "      <td>3866.85520</td>\n",
       "    </tr>\n",
       "  </tbody>\n",
       "</table>\n",
       "</div>"
      ],
      "text/plain": [
       "   age     sex     bmi  children smoker     region      charges\n",
       "0   19  female  27.900         0    yes  southwest  16884.92400\n",
       "1   18    male  33.770         1     no  southeast   1725.55230\n",
       "2   28    male  33.000         3     no  southeast   4449.46200\n",
       "3   33    male  22.705         0     no  northwest  21984.47061\n",
       "4   32    male  28.880         0     no  northwest   3866.85520"
      ]
     },
     "execution_count": 4,
     "metadata": {},
     "output_type": "execute_result"
    }
   ],
   "source": [
    "data.head()"
   ]
  },
  {
   "cell_type": "code",
   "execution_count": 5,
   "metadata": {},
   "outputs": [
    {
     "data": {
      "text/plain": [
       "age         0\n",
       "sex         0\n",
       "bmi         0\n",
       "children    0\n",
       "smoker      0\n",
       "region      0\n",
       "charges     0\n",
       "dtype: int64"
      ]
     },
     "execution_count": 5,
     "metadata": {},
     "output_type": "execute_result"
    }
   ],
   "source": [
    "#check for NaN\n",
    "data.isna().sum()"
   ]
  },
  {
   "cell_type": "code",
   "execution_count": 6,
   "metadata": {},
   "outputs": [
    {
     "data": {
      "text/plain": [
       "array([[<matplotlib.axes._subplots.AxesSubplot object at 0x1225f28d0>,\n",
       "        <matplotlib.axes._subplots.AxesSubplot object at 0x10e246e48>],\n",
       "       [<matplotlib.axes._subplots.AxesSubplot object at 0x10e2774e0>,\n",
       "        <matplotlib.axes._subplots.AxesSubplot object at 0x10f157b70>]],\n",
       "      dtype=object)"
      ]
     },
     "execution_count": 6,
     "metadata": {},
     "output_type": "execute_result"
    },
    {
     "data": {
      "image/png": "[encoded data removed]",
      "text/plain": [
       "<Figure size 1440x1440 with 4 Axes>"
      ]
     },
     "metadata": {},
     "output_type": "display_data"
    }
   ],
   "source": [
    "#data histogram\n",
    "data.hist(figsize=(20,20))"
   ]
  },
  {
   "cell_type": "code",
   "execution_count": 7,
   "metadata": {},
   "outputs": [],
   "source": [
    "#one hot encoding for categorical variables\n",
    "data = pd.get_dummies(data=data)"
   ]
  },
  {
   "cell_type": "code",
   "execution_count": 8,
   "metadata": {},
   "outputs": [
    {
     "data": {
      "text/html": [
       "<div>\n",
       "<style scoped>\n",
       "    .dataframe tbody tr th:only-of-type {\n",
       "        vertical-align: middle;\n",
       "    }\n",
       "\n",
       "    .dataframe tbody tr th {\n",
       "        vertical-align: top;\n",
       "    }\n",
       "\n",
       "    .dataframe thead th {\n",
       "        text-align: right;\n",
       "    }\n",
       "</style>\n",
       "<table border=\"1\" class=\"dataframe\">\n",
       "  <thead>\n",
       "    <tr style=\"text-align: right;\">\n",
       "      <th></th>\n",
       "      <th>age</th>\n",
       "      <th>bmi</th>\n",
       "      <th>children</th>\n",
       "      <th>charges</th>\n",
       "      <th>sex_female</th>\n",
       "      <th>sex_male</th>\n",
       "      <th>smoker_no</th>\n",
       "      <th>smoker_yes</th>\n",
       "      <th>region_northeast</th>\n",
       "      <th>region_northwest</th>\n",
       "      <th>region_southeast</th>\n",
       "      <th>region_southwest</th>\n",
       "    </tr>\n",
       "  </thead>\n",
       "  <tbody>\n",
       "    <tr>\n",
       "      <th>0</th>\n",
       "      <td>19</td>\n",
       "      <td>27.900</td>\n",
       "      <td>0</td>\n",
       "      <td>16884.92400</td>\n",
       "      <td>1</td>\n",
       "      <td>0</td>\n",
       "      <td>0</td>\n",
       "      <td>1</td>\n",
       "      <td>0</td>\n",
       "      <td>0</td>\n",
       "      <td>0</td>\n",
       "      <td>1</td>\n",
       "    </tr>\n",
       "    <tr>\n",
       "      <th>1</th>\n",
       "      <td>18</td>\n",
       "      <td>33.770</td>\n",
       "      <td>1</td>\n",
       "      <td>1725.55230</td>\n",
       "      <td>0</td>\n",
       "      <td>1</td>\n",
       "      <td>1</td>\n",
       "      <td>0</td>\n",
       "      <td>0</td>\n",
       "      <td>0</td>\n",
       "      <td>1</td>\n",
       "      <td>0</td>\n",
       "    </tr>\n",
       "    <tr>\n",
       "      <th>2</th>\n",
       "      <td>28</td>\n",
       "      <td>33.000</td>\n",
       "      <td>3</td>\n",
       "      <td>4449.46200</td>\n",
       "      <td>0</td>\n",
       "      <td>1</td>\n",
       "      <td>1</td>\n",
       "      <td>0</td>\n",
       "      <td>0</td>\n",
       "      <td>0</td>\n",
       "      <td>1</td>\n",
       "      <td>0</td>\n",
       "    </tr>\n",
       "    <tr>\n",
       "      <th>3</th>\n",
       "      <td>33</td>\n",
       "      <td>22.705</td>\n",
       "      <td>0</td>\n",
       "      <td>21984.47061</td>\n",
       "      <td>0</td>\n",
       "      <td>1</td>\n",
       "      <td>1</td>\n",
       "      <td>0</td>\n",
       "      <td>0</td>\n",
       "      <td>1</td>\n",
       "      <td>0</td>\n",
       "      <td>0</td>\n",
       "    </tr>\n",
       "    <tr>\n",
       "      <th>4</th>\n",
       "      <td>32</td>\n",
       "      <td>28.880</td>\n",
       "      <td>0</td>\n",
       "      <td>3866.85520</td>\n",
       "      <td>0</td>\n",
       "      <td>1</td>\n",
       "      <td>1</td>\n",
       "      <td>0</td>\n",
       "      <td>0</td>\n",
       "      <td>1</td>\n",
       "      <td>0</td>\n",
       "      <td>0</td>\n",
       "    </tr>\n",
       "  </tbody>\n",
       "</table>\n",
       "</div>"
      ],
      "text/plain": [
       "   age     bmi  children      charges  sex_female  sex_male  smoker_no  \\\n",
       "0   19  27.900         0  16884.92400           1         0          0   \n",
       "1   18  33.770         1   1725.55230           0         1          1   \n",
       "2   28  33.000         3   4449.46200           0         1          1   \n",
       "3   33  22.705         0  21984.47061           0         1          1   \n",
       "4   32  28.880         0   3866.85520           0         1          1   \n",
       "\n",
       "   smoker_yes  region_northeast  region_northwest  region_southeast  \\\n",
       "0           1                 0                 0                 0   \n",
       "1           0                 0                 0                 1   \n",
       "2           0                 0                 0                 1   \n",
       "3           0                 0                 1                 0   \n",
       "4           0                 0                 1                 0   \n",
       "\n",
       "   region_southwest  \n",
       "0                 1  \n",
       "1                 0  \n",
       "2                 0  \n",
       "3                 0  \n",
       "4                 0  "
      ]
     },
     "execution_count": 8,
     "metadata": {},
     "output_type": "execute_result"
    }
   ],
   "source": [
    "data.head()"
   ]
  },
  {
   "cell_type": "code",
   "execution_count": 9,
   "metadata": {},
   "outputs": [],
   "source": [
    "feat_tools_x = data[['charges','age','bmi','children','sex_female','sex_male','smoker_no','smoker_yes','region_northeast','region_northwest','region_southeast','region_southwest']]\n",
    "x = data[['age','bmi','children','sex_female','sex_male','smoker_no','smoker_yes','region_northeast','region_northwest','region_southeast','region_southwest']]\n",
    "y = data[['charges']]"
   ]
  },
  {
   "cell_type": "code",
   "execution_count": 10,
   "metadata": {},
   "outputs": [],
   "source": [
    "# create scaler for x's and y\n",
    "x_scaler = MinMaxScaler()\n",
    "x_scaler.fit(x)\n",
    "x = x_scaler.transform(x)"
   ]
  },
  {
   "cell_type": "code",
   "execution_count": 11,
   "metadata": {},
   "outputs": [],
   "source": [
    "y_scaler = MinMaxScaler()\n",
    "y_scaler.fit(y)\n",
    "y = y_scaler.transform(y)"
   ]
  },
  {
   "cell_type": "code",
   "execution_count": 12,
   "metadata": {},
   "outputs": [],
   "source": [
    "X_train, X_test, y_train, y_test = train_test_split(x, y, test_size=0.3, random_state=22)"
   ]
  },
  {
   "cell_type": "code",
   "execution_count": 13,
   "metadata": {},
   "outputs": [],
   "source": [
    "adamax = Adamax(lr=0.03)"
   ]
  },
  {
   "cell_type": "code",
   "execution_count": 14,
   "metadata": {},
   "outputs": [],
   "source": [
    "model = Sequential()\n",
    "model.add(Dense(40,activation=\"tanh\",input_shape=(X_train.shape[1],)))\n",
    "model.add(Dense(20,activation=\"tanh\"))\n",
    "model.add(Dense(5,activation=\"tanh\"))\n",
    "model.add(Dense(1, activation=\"linear\"))\n",
    "model.compile(loss='mae', optimizer=adamax, metrics=['mse'])"
   ]
  },
  {
   "cell_type": "code",
   "execution_count": 15,
   "metadata": {},
   "outputs": [],
   "source": [
    "history = model.fit(X_train, y_train, epochs=60, batch_size=16, verbose=0, shuffle=False)"
   ]
  },
  {
   "cell_type": "code",
   "execution_count": 16,
   "metadata": {},
   "outputs": [
    {
     "data": {
      "image/png": "[encoded data removed]",
      "text/plain": [
       "<Figure size 432x288 with 1 Axes>"
      ]
     },
     "metadata": {},
     "output_type": "display_data"
    }
   ],
   "source": [
    "plt.plot(history.history['mean_squared_error'])\n",
    "plt.legend(['mean_squared_error'])\n",
    "plt.show()"
   ]
  },
  {
   "cell_type": "code",
   "execution_count": 17,
   "metadata": {},
   "outputs": [
    {
     "data": {
      "text/plain": [
       "0.009986907805803455"
      ]
     },
     "execution_count": 17,
     "metadata": {},
     "output_type": "execute_result"
    }
   ],
   "source": [
    "predictions = model.predict(X_test)\n",
    "mean_squared_error(y_test, predictions)"
   ]
  },
  {
   "cell_type": "code",
   "execution_count": 18,
   "metadata": {},
   "outputs": [],
   "source": [
    "pred_ = y_scaler.inverse_transform(predictions)\n",
    "real_ = y_scaler.inverse_transform(y_test)"
   ]
  },
  {
   "cell_type": "code",
   "execution_count": 19,
   "metadata": {},
   "outputs": [
    {
     "data": {
      "image/png": "[encoded data removed]",
      "text/plain": [
       "<Figure size 432x288 with 1 Axes>"
      ]
     },
     "metadata": {},
     "output_type": "display_data"
    }
   ],
   "source": [
    "plt.plot(predictions ,y_test,'ro')\n",
    "plt.xlabel(\"prediction_value\")\n",
    "plt.ylabel(\"real_value\")\n",
    "plt.ylim(ymin=-0.1, ymax=1)\n",
    "plt.xlim(xmin=-0.1, xmax=1)\n",
    "plt.show()"
   ]
  },
  {
   "cell_type": "code",
   "execution_count": 20,
   "metadata": {},
   "outputs": [],
   "source": [
    "### Testing with Tree\n",
    "from sklearn.ensemble import GradientBoostingRegressor"
   ]
  },
  {
   "cell_type": "code",
   "execution_count": 44,
   "metadata": {},
   "outputs": [
    {
     "data": {
      "text/plain": [
       "GradientBoostingRegressor(alpha=0.9, criterion='friedman_mse', init=None,\n",
       "             learning_rate=0.01, loss='ls', max_depth=7, max_features=None,\n",
       "             max_leaf_nodes=None, min_impurity_decrease=0.0,\n",
       "             min_impurity_split=None, min_samples_leaf=1,\n",
       "             min_samples_split=2, min_weight_fraction_leaf=0.0,\n",
       "             n_estimators=300, presort='auto', random_state=0,\n",
       "             subsample=1.0, verbose=0, warm_start=False)"
      ]
     },
     "execution_count": 44,
     "metadata": {},
     "output_type": "execute_result"
    }
   ],
   "source": [
    "est = GradientBoostingRegressor(n_estimators=300, learning_rate=0.01,\n",
    "                                max_depth=7,\n",
    "                                random_state=0,\n",
    "                                loss='ls')\n",
    "est.fit(X_train, y_train.ravel())"
   ]
  },
  {
   "cell_type": "code",
   "execution_count": 45,
   "metadata": {},
   "outputs": [
    {
     "data": {
      "text/plain": [
       "0.00677794152010859"
      ]
     },
     "execution_count": 45,
     "metadata": {},
     "output_type": "execute_result"
    }
   ],
   "source": [
    "predictions_ = est.predict(X_test)\n",
    "mean_squared_error(y_test, predictions_)"
   ]
  },
  {
   "cell_type": "code",
   "execution_count": 46,
   "metadata": {},
   "outputs": [
    {
     "data": {
      "image/png": "[encoded data removed]",
      "text/plain": [
       "<Figure size 432x288 with 1 Axes>"
      ]
     },
     "metadata": {},
     "output_type": "display_data"
    }
   ],
   "source": [
    "plt.plot(predictions_ ,y_test,'ro')\n",
    "plt.xlabel(\"prediction_value\")\n",
    "plt.ylabel(\"real_value\")\n",
    "plt.ylim(ymin=-0.1, ymax=1)\n",
    "plt.xlim(xmin=-0.1, xmax=1)\n",
    "plt.show()"
   ]
  },
  {
   "cell_type": "code",
   "execution_count": 47,
   "metadata": {},
   "outputs": [],
   "source": [
    "### using featuretools\n",
    "import featuretools as ft"
   ]
  },
  {
   "cell_type": "code",
   "execution_count": 32,
   "metadata": {},
   "outputs": [
    {
     "name": "stdout",
     "output_type": "stream",
     "text": [
      "2018-09-14 12:10:23,871 featuretools.entityset - WARNING    index id not found in dataframe, creating new integer column\n"
     ]
    },
    {
     "data": {
      "text/plain": [
       "Entityset: insurance\n",
       "  Entities:\n",
       "    insurance [Rows: 1338, Columns: 13]\n",
       "  Relationships:\n",
       "    No relationships"
      ]
     },
     "execution_count": 32,
     "metadata": {},
     "output_type": "execute_result"
    }
   ],
   "source": [
    "es = ft.EntitySet(id='insurance')\n",
    "es.entity_from_dataframe(entity_id='insurance', dataframe = feat_tools_x, index='id')"
   ]
  },
  {
   "cell_type": "code",
   "execution_count": 33,
   "metadata": {},
   "outputs": [
    {
     "data": {
      "text/plain": [
       "Entityset: insurance\n",
       "  Entities:\n",
       "    insurance [Rows: 1338, Columns: 12]\n",
       "    insurance_data [Rows: 1338, Columns: 2]\n",
       "  Relationships:\n",
       "    insurance.id -> insurance_data.id"
      ]
     },
     "execution_count": 33,
     "metadata": {},
     "output_type": "execute_result"
    }
   ],
   "source": [
    "es.normalize_entity(new_entity_id=\"insurance_data\",\n",
    "                    base_entity_id=\"insurance\",\n",
    "                    index=\"id\",\n",
    "                    additional_variables=['charges'])"
   ]
  },
  {
   "cell_type": "code",
   "execution_count": 34,
   "metadata": {},
   "outputs": [
    {
     "name": "stdout",
     "output_type": "stream",
     "text": [
      "Built 78 features\n",
      "Elapsed: 00:04 | Remaining: 00:00 | Progress: 100%|██████████| Calculated: 11/11 chunks\n"
     ]
    }
   ],
   "source": [
    "feature_matrix, feature_names = ft.dfs(entityset=es, \n",
    "    target_entity = 'insurance', \n",
    "    max_depth = 5, \n",
    "    verbose = 2,\n",
    "    n_jobs = 1)"
   ]
  },
  {
   "cell_type": "code",
   "execution_count": 35,
   "metadata": {},
   "outputs": [
    {
     "data": {
      "text/plain": [
       "Index(['age', 'bmi', 'children', 'sex_female', 'sex_male', 'smoker_no',\n",
       "       'smoker_yes', 'region_northeast', 'region_northwest',\n",
       "       'region_southeast', 'region_southwest', 'insurance_data.charges',\n",
       "       'insurance_data.SUM(insurance.age)',\n",
       "       'insurance_data.SUM(insurance.bmi)',\n",
       "       'insurance_data.SUM(insurance.children)',\n",
       "       'insurance_data.SUM(insurance.sex_female)',\n",
       "       'insurance_data.SUM(insurance.sex_male)',\n",
       "       'insurance_data.SUM(insurance.smoker_no)',\n",
       "       'insurance_data.SUM(insurance.smoker_yes)',\n",
       "       'insurance_data.SUM(insurance.region_northeast)',\n",
       "       'insurance_data.SUM(insurance.region_northwest)',\n",
       "       'insurance_data.SUM(insurance.region_southeast)',\n",
       "       'insurance_data.SUM(insurance.region_southwest)',\n",
       "       'insurance_data.STD(insurance.age)',\n",
       "       'insurance_data.STD(insurance.bmi)',\n",
       "       'insurance_data.STD(insurance.children)',\n",
       "       'insurance_data.STD(insurance.sex_female)',\n",
       "       'insurance_data.STD(insurance.sex_male)',\n",
       "       'insurance_data.STD(insurance.smoker_no)',\n",
       "       'insurance_data.STD(insurance.smoker_yes)',\n",
       "       'insurance_data.STD(insurance.region_northeast)',\n",
       "       'insurance_data.STD(insurance.region_northwest)',\n",
       "       'insurance_data.STD(insurance.region_southeast)',\n",
       "       'insurance_data.STD(insurance.region_southwest)',\n",
       "       'insurance_data.MAX(insurance.age)',\n",
       "       'insurance_data.MAX(insurance.bmi)',\n",
       "       'insurance_data.MAX(insurance.children)',\n",
       "       'insurance_data.MAX(insurance.sex_female)',\n",
       "       'insurance_data.MAX(insurance.sex_male)',\n",
       "       'insurance_data.MAX(insurance.smoker_no)',\n",
       "       'insurance_data.MAX(insurance.smoker_yes)',\n",
       "       'insurance_data.MAX(insurance.region_northeast)',\n",
       "       'insurance_data.MAX(insurance.region_northwest)',\n",
       "       'insurance_data.MAX(insurance.region_southeast)',\n",
       "       'insurance_data.MAX(insurance.region_southwest)',\n",
       "       'insurance_data.SKEW(insurance.age)',\n",
       "       'insurance_data.SKEW(insurance.bmi)',\n",
       "       'insurance_data.SKEW(insurance.children)',\n",
       "       'insurance_data.SKEW(insurance.sex_female)',\n",
       "       'insurance_data.SKEW(insurance.sex_male)',\n",
       "       'insurance_data.SKEW(insurance.smoker_no)',\n",
       "       'insurance_data.SKEW(insurance.smoker_yes)',\n",
       "       'insurance_data.SKEW(insurance.region_northeast)',\n",
       "       'insurance_data.SKEW(insurance.region_northwest)',\n",
       "       'insurance_data.SKEW(insurance.region_southeast)',\n",
       "       'insurance_data.SKEW(insurance.region_southwest)',\n",
       "       'insurance_data.MIN(insurance.age)',\n",
       "       'insurance_data.MIN(insurance.bmi)',\n",
       "       'insurance_data.MIN(insurance.children)',\n",
       "       'insurance_data.MIN(insurance.sex_female)',\n",
       "       'insurance_data.MIN(insurance.sex_male)',\n",
       "       'insurance_data.MIN(insurance.smoker_no)',\n",
       "       'insurance_data.MIN(insurance.smoker_yes)',\n",
       "       'insurance_data.MIN(insurance.region_northeast)',\n",
       "       'insurance_data.MIN(insurance.region_northwest)',\n",
       "       'insurance_data.MIN(insurance.region_southeast)',\n",
       "       'insurance_data.MIN(insurance.region_southwest)',\n",
       "       'insurance_data.MEAN(insurance.age)',\n",
       "       'insurance_data.MEAN(insurance.bmi)',\n",
       "       'insurance_data.MEAN(insurance.children)',\n",
       "       'insurance_data.MEAN(insurance.sex_female)',\n",
       "       'insurance_data.MEAN(insurance.sex_male)',\n",
       "       'insurance_data.MEAN(insurance.smoker_no)',\n",
       "       'insurance_data.MEAN(insurance.smoker_yes)',\n",
       "       'insurance_data.MEAN(insurance.region_northeast)',\n",
       "       'insurance_data.MEAN(insurance.region_northwest)',\n",
       "       'insurance_data.MEAN(insurance.region_southeast)',\n",
       "       'insurance_data.MEAN(insurance.region_southwest)'],\n",
       "      dtype='object')"
      ]
     },
     "execution_count": 35,
     "metadata": {},
     "output_type": "execute_result"
    }
   ],
   "source": [
    "feature_matrix.columns"
   ]
  },
  {
   "cell_type": "code",
   "execution_count": 38,
   "metadata": {},
   "outputs": [
    {
     "data": {
      "text/html": [
       "<div>\n",
       "<style scoped>\n",
       "    .dataframe tbody tr th:only-of-type {\n",
       "        vertical-align: middle;\n",
       "    }\n",
       "\n",
       "    .dataframe tbody tr th {\n",
       "        vertical-align: top;\n",
       "    }\n",
       "\n",
       "    .dataframe thead th {\n",
       "        text-align: right;\n",
       "    }\n",
       "</style>\n",
       "<table border=\"1\" class=\"dataframe\">\n",
       "  <thead>\n",
       "    <tr style=\"text-align: right;\">\n",
       "      <th></th>\n",
       "      <th>age</th>\n",
       "      <th>bmi</th>\n",
       "      <th>children</th>\n",
       "      <th>sex_female</th>\n",
       "      <th>sex_male</th>\n",
       "      <th>smoker_no</th>\n",
       "      <th>smoker_yes</th>\n",
       "      <th>region_northeast</th>\n",
       "      <th>region_northwest</th>\n",
       "      <th>region_southeast</th>\n",
       "      <th>...</th>\n",
       "      <th>insurance_data.MEAN(insurance.bmi)</th>\n",
       "      <th>insurance_data.MEAN(insurance.children)</th>\n",
       "      <th>insurance_data.MEAN(insurance.sex_female)</th>\n",
       "      <th>insurance_data.MEAN(insurance.sex_male)</th>\n",
       "      <th>insurance_data.MEAN(insurance.smoker_no)</th>\n",
       "      <th>insurance_data.MEAN(insurance.smoker_yes)</th>\n",
       "      <th>insurance_data.MEAN(insurance.region_northeast)</th>\n",
       "      <th>insurance_data.MEAN(insurance.region_northwest)</th>\n",
       "      <th>insurance_data.MEAN(insurance.region_southeast)</th>\n",
       "      <th>insurance_data.MEAN(insurance.region_southwest)</th>\n",
       "    </tr>\n",
       "    <tr>\n",
       "      <th>id</th>\n",
       "      <th></th>\n",
       "      <th></th>\n",
       "      <th></th>\n",
       "      <th></th>\n",
       "      <th></th>\n",
       "      <th></th>\n",
       "      <th></th>\n",
       "      <th></th>\n",
       "      <th></th>\n",
       "      <th></th>\n",
       "      <th></th>\n",
       "      <th></th>\n",
       "      <th></th>\n",
       "      <th></th>\n",
       "      <th></th>\n",
       "      <th></th>\n",
       "      <th></th>\n",
       "      <th></th>\n",
       "      <th></th>\n",
       "      <th></th>\n",
       "      <th></th>\n",
       "    </tr>\n",
       "  </thead>\n",
       "  <tbody>\n",
       "    <tr>\n",
       "      <th>0</th>\n",
       "      <td>19</td>\n",
       "      <td>27.9</td>\n",
       "      <td>0</td>\n",
       "      <td>1</td>\n",
       "      <td>0</td>\n",
       "      <td>0</td>\n",
       "      <td>1</td>\n",
       "      <td>0</td>\n",
       "      <td>0</td>\n",
       "      <td>0</td>\n",
       "      <td>...</td>\n",
       "      <td>27.9</td>\n",
       "      <td>0</td>\n",
       "      <td>1</td>\n",
       "      <td>0</td>\n",
       "      <td>0</td>\n",
       "      <td>1</td>\n",
       "      <td>0</td>\n",
       "      <td>0</td>\n",
       "      <td>0</td>\n",
       "      <td>1</td>\n",
       "    </tr>\n",
       "  </tbody>\n",
       "</table>\n",
       "<p>1 rows × 78 columns</p>\n",
       "</div>"
      ],
      "text/plain": [
       "    age   bmi  children  sex_female  sex_male  smoker_no  smoker_yes  \\\n",
       "id                                                                     \n",
       "0    19  27.9         0           1         0          0           1   \n",
       "\n",
       "    region_northeast  region_northwest  region_southeast  \\\n",
       "id                                                         \n",
       "0                  0                 0                 0   \n",
       "\n",
       "                         ...                         \\\n",
       "id                       ...                          \n",
       "0                        ...                          \n",
       "\n",
       "    insurance_data.MEAN(insurance.bmi)  \\\n",
       "id                                       \n",
       "0                                 27.9   \n",
       "\n",
       "    insurance_data.MEAN(insurance.children)  \\\n",
       "id                                            \n",
       "0                                         0   \n",
       "\n",
       "    insurance_data.MEAN(insurance.sex_female)  \\\n",
       "id                                              \n",
       "0                                           1   \n",
       "\n",
       "    insurance_data.MEAN(insurance.sex_male)  \\\n",
       "id                                            \n",
       "0                                         0   \n",
       "\n",
       "    insurance_data.MEAN(insurance.smoker_no)  \\\n",
       "id                                             \n",
       "0                                          0   \n",
       "\n",
       "    insurance_data.MEAN(insurance.smoker_yes)  \\\n",
       "id                                              \n",
       "0                                           1   \n",
       "\n",
       "    insurance_data.MEAN(insurance.region_northeast)  \\\n",
       "id                                                    \n",
       "0                                                 0   \n",
       "\n",
       "    insurance_data.MEAN(insurance.region_northwest)  \\\n",
       "id                                                    \n",
       "0                                                 0   \n",
       "\n",
       "    insurance_data.MEAN(insurance.region_southeast)  \\\n",
       "id                                                    \n",
       "0                                                 0   \n",
       "\n",
       "    insurance_data.MEAN(insurance.region_southwest)  \n",
       "id                                                   \n",
       "0                                                 1  \n",
       "\n",
       "[1 rows x 78 columns]"
      ]
     },
     "execution_count": 38,
     "metadata": {},
     "output_type": "execute_result"
    }
   ],
   "source": [
    "feature_matrix.head(1)"
   ]
  },
  {
   "cell_type": "code",
   "execution_count": null,
   "metadata": {},
   "outputs": [],
   "source": []
  }
 ],
 "metadata": {
  "kernelspec": {
   "display_name": "Python [conda env:matias]",
   "language": "python",
   "name": "conda-env-matias-py"
  },
  "language_info": {
   "codemirror_mode": {
    "name": "ipython",
    "version": 3
   },
   "file_extension": ".py",
   "mimetype": "text/x-python",
   "name": "python",
   "nbconvert_exporter": "python",
   "pygments_lexer": "ipython3",
   "version": "3.6.5"
  }
 },
 "nbformat": 4,
 "nbformat_minor": 2
}
