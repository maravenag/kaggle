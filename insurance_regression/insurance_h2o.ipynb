{
 "cells": [
  {
   "cell_type": "code",
   "execution_count": 1,
   "metadata": {},
   "outputs": [],
   "source": [
    "import h2o"
   ]
  },
  {
   "cell_type": "code",
   "execution_count": 2,
   "metadata": {},
   "outputs": [
    {
     "name": "stdout",
     "output_type": "stream",
     "text": [
      "Checking whether there is an H2O instance running at http://localhost:54321..... not found.\n",
      "Attempting to start a local H2O server...\n",
      "  Java Version: java version \"1.8.0_172\"; Java(TM) SE Runtime Environment (build 1.8.0_172-b11); Java HotSpot(TM) 64-Bit Server VM (build 25.172-b11, mixed mode)\n",
      "  Starting server from /anaconda2/envs/spike_basico/h2o_jar/h2o.jar\n",
      "  Ice root: /var/folders/3z/5qxln1rj4zjblz0l0hvy0n540000gn/T/tmpb1ve7wlv\n",
      "  JVM stdout: /var/folders/3z/5qxln1rj4zjblz0l0hvy0n540000gn/T/tmpb1ve7wlv/h2o_maravenag_started_from_python.out\n",
      "  JVM stderr: /var/folders/3z/5qxln1rj4zjblz0l0hvy0n540000gn/T/tmpb1ve7wlv/h2o_maravenag_started_from_python.err\n",
      "  Server is running at http://127.0.0.1:54321\n",
      "Connecting to H2O server at http://127.0.0.1:54321... successful.\n",
      "Warning: Your H2O cluster version is too old (6 months and 23 days)! Please download and install the latest version from http://h2o.ai/download/\n"
     ]
    },
    {
     "data": {
      "text/html": [
       "<div style=\"overflow:auto\"><table style=\"width:50%\"><tr><td>H2O cluster uptime:</td>\n",
       "<td>04 secs</td></tr>\n",
       "<tr><td>H2O cluster timezone:</td>\n",
       "<td>America/Santiago</td></tr>\n",
       "<tr><td>H2O data parsing timezone:</td>\n",
       "<td>UTC</td></tr>\n",
       "<tr><td>H2O cluster version:</td>\n",
       "<td>3.18.0.2</td></tr>\n",
       "<tr><td>H2O cluster version age:</td>\n",
       "<td>6 months and 23 days !!!</td></tr>\n",
       "<tr><td>H2O cluster name:</td>\n",
       "<td>H2O_from_python_maravenag_i95zyc</td></tr>\n",
       "<tr><td>H2O cluster total nodes:</td>\n",
       "<td>1</td></tr>\n",
       "<tr><td>H2O cluster free memory:</td>\n",
       "<td>3.556 Gb</td></tr>\n",
       "<tr><td>H2O cluster total cores:</td>\n",
       "<td>8</td></tr>\n",
       "<tr><td>H2O cluster allowed cores:</td>\n",
       "<td>8</td></tr>\n",
       "<tr><td>H2O cluster status:</td>\n",
       "<td>accepting new members, healthy</td></tr>\n",
       "<tr><td>H2O connection url:</td>\n",
       "<td>http://127.0.0.1:54321</td></tr>\n",
       "<tr><td>H2O connection proxy:</td>\n",
       "<td>None</td></tr>\n",
       "<tr><td>H2O internal security:</td>\n",
       "<td>False</td></tr>\n",
       "<tr><td>H2O API Extensions:</td>\n",
       "<td>XGBoost, Algos, AutoML, Core V3, Core V4</td></tr>\n",
       "<tr><td>Python version:</td>\n",
       "<td>3.6.5 final</td></tr></table></div>"
      ],
      "text/plain": [
       "--------------------------  ----------------------------------------\n",
       "H2O cluster uptime:         04 secs\n",
       "H2O cluster timezone:       America/Santiago\n",
       "H2O data parsing timezone:  UTC\n",
       "H2O cluster version:        3.18.0.2\n",
       "H2O cluster version age:    6 months and 23 days !!!\n",
       "H2O cluster name:           H2O_from_python_maravenag_i95zyc\n",
       "H2O cluster total nodes:    1\n",
       "H2O cluster free memory:    3.556 Gb\n",
       "H2O cluster total cores:    8\n",
       "H2O cluster allowed cores:  8\n",
       "H2O cluster status:         accepting new members, healthy\n",
       "H2O connection url:         http://127.0.0.1:54321\n",
       "H2O connection proxy:\n",
       "H2O internal security:      False\n",
       "H2O API Extensions:         XGBoost, Algos, AutoML, Core V3, Core V4\n",
       "Python version:             3.6.5 final\n",
       "--------------------------  ----------------------------------------"
      ]
     },
     "metadata": {},
     "output_type": "display_data"
    }
   ],
   "source": [
    "h2o.init()"
   ]
  },
  {
   "cell_type": "code",
   "execution_count": 7,
   "metadata": {},
   "outputs": [
    {
     "name": "stdout",
     "output_type": "stream",
     "text": [
      "Parse progress: |█████████████████████████████████████████████████████████| 100%\n"
     ]
    }
   ],
   "source": [
    "data = h2o.upload_file(path=\"insurance.csv\",destination_frame=\"insurance\")"
   ]
  },
  {
   "cell_type": "code",
   "execution_count": 8,
   "metadata": {},
   "outputs": [
    {
     "name": "stdout",
     "output_type": "stream",
     "text": [
      "Rows:1338\n",
      "Cols:7\n",
      "\n",
      "\n"
     ]
    },
    {
     "data": {
      "text/html": [
       "<table>\n",
       "<thead>\n",
       "<tr><th>       </th><th>age               </th><th>sex   </th><th>bmi               </th><th>children          </th><th>smoker  </th><th>region   </th><th>charges           </th></tr>\n",
       "</thead>\n",
       "<tbody>\n",
       "<tr><td>type   </td><td>int               </td><td>enum  </td><td>real              </td><td>int               </td><td>enum    </td><td>enum     </td><td>real              </td></tr>\n",
       "<tr><td>mins   </td><td>18.0              </td><td>      </td><td>15.96             </td><td>0.0               </td><td>        </td><td>         </td><td>1121.8739         </td></tr>\n",
       "<tr><td>mean   </td><td>39.20702541106125 </td><td>      </td><td>30.663396860986524</td><td>1.0949177877429015</td><td>        </td><td>         </td><td>13270.422265141255</td></tr>\n",
       "<tr><td>maxs   </td><td>64.0              </td><td>      </td><td>53.13             </td><td>5.0               </td><td>        </td><td>         </td><td>63770.42801       </td></tr>\n",
       "<tr><td>sigma  </td><td>14.049960379216147</td><td>      </td><td>6.098186911679012 </td><td>1.205492739781914 </td><td>        </td><td>         </td><td>12110.011236693992</td></tr>\n",
       "<tr><td>zeros  </td><td>0                 </td><td>      </td><td>0                 </td><td>574               </td><td>        </td><td>         </td><td>0                 </td></tr>\n",
       "<tr><td>missing</td><td>0                 </td><td>0     </td><td>0                 </td><td>0                 </td><td>0       </td><td>0        </td><td>0                 </td></tr>\n",
       "<tr><td>0      </td><td>19.0              </td><td>female</td><td>27.9              </td><td>0.0               </td><td>yes     </td><td>southwest</td><td>16884.924         </td></tr>\n",
       "<tr><td>1      </td><td>18.0              </td><td>male  </td><td>33.77             </td><td>1.0               </td><td>no      </td><td>southeast</td><td>1725.5523         </td></tr>\n",
       "<tr><td>2      </td><td>28.0              </td><td>male  </td><td>33.0              </td><td>3.0               </td><td>no      </td><td>southeast</td><td>4449.462          </td></tr>\n",
       "<tr><td>3      </td><td>33.0              </td><td>male  </td><td>22.705            </td><td>0.0               </td><td>no      </td><td>northwest</td><td>21984.47061       </td></tr>\n",
       "<tr><td>4      </td><td>32.0              </td><td>male  </td><td>28.88             </td><td>0.0               </td><td>no      </td><td>northwest</td><td>3866.8552         </td></tr>\n",
       "<tr><td>5      </td><td>31.0              </td><td>female</td><td>25.74             </td><td>0.0               </td><td>no      </td><td>southeast</td><td>3756.6216         </td></tr>\n",
       "<tr><td>6      </td><td>46.0              </td><td>female</td><td>33.44             </td><td>1.0               </td><td>no      </td><td>southeast</td><td>8240.5896         </td></tr>\n",
       "<tr><td>7      </td><td>37.0              </td><td>female</td><td>27.74             </td><td>3.0               </td><td>no      </td><td>northwest</td><td>7281.5056         </td></tr>\n",
       "<tr><td>8      </td><td>37.0              </td><td>male  </td><td>29.83             </td><td>2.0               </td><td>no      </td><td>northeast</td><td>6406.4107         </td></tr>\n",
       "<tr><td>9      </td><td>60.0              </td><td>female</td><td>25.84             </td><td>0.0               </td><td>no      </td><td>northwest</td><td>28923.13692       </td></tr>\n",
       "</tbody>\n",
       "</table>"
      ]
     },
     "metadata": {},
     "output_type": "display_data"
    }
   ],
   "source": [
    "data.describe()"
   ]
  },
  {
   "cell_type": "code",
   "execution_count": 9,
   "metadata": {},
   "outputs": [],
   "source": [
    "data['sex'] = data['sex'].asfactor()\n",
    "data['smoker'] = data['smoker'].asfactor()\n",
    "data['region'] = data['region'].asfactor()"
   ]
  },
  {
   "cell_type": "code",
   "execution_count": 14,
   "metadata": {},
   "outputs": [],
   "source": [
    "train, test = data.split_frame(ratios=([0.7,]))"
   ]
  },
  {
   "cell_type": "code",
   "execution_count": 10,
   "metadata": {},
   "outputs": [
    {
     "name": "stdout",
     "output_type": "stream",
     "text": [
      "Rows:1338\n",
      "Cols:7\n",
      "\n",
      "\n"
     ]
    },
    {
     "data": {
      "text/html": [
       "<table>\n",
       "<thead>\n",
       "<tr><th>       </th><th>age               </th><th>sex   </th><th>bmi               </th><th>children          </th><th>smoker  </th><th>region   </th><th>charges           </th></tr>\n",
       "</thead>\n",
       "<tbody>\n",
       "<tr><td>type   </td><td>int               </td><td>enum  </td><td>real              </td><td>int               </td><td>enum    </td><td>enum     </td><td>real              </td></tr>\n",
       "<tr><td>mins   </td><td>18.0              </td><td>      </td><td>15.96             </td><td>0.0               </td><td>        </td><td>         </td><td>1121.8739         </td></tr>\n",
       "<tr><td>mean   </td><td>39.20702541106125 </td><td>      </td><td>30.663396860986524</td><td>1.0949177877429015</td><td>        </td><td>         </td><td>13270.422265141255</td></tr>\n",
       "<tr><td>maxs   </td><td>64.0              </td><td>      </td><td>53.13             </td><td>5.0               </td><td>        </td><td>         </td><td>63770.42801       </td></tr>\n",
       "<tr><td>sigma  </td><td>14.049960379216147</td><td>      </td><td>6.098186911679012 </td><td>1.205492739781914 </td><td>        </td><td>         </td><td>12110.011236693992</td></tr>\n",
       "<tr><td>zeros  </td><td>0                 </td><td>      </td><td>0                 </td><td>574               </td><td>        </td><td>         </td><td>0                 </td></tr>\n",
       "<tr><td>missing</td><td>0                 </td><td>0     </td><td>0                 </td><td>0                 </td><td>0       </td><td>0        </td><td>0                 </td></tr>\n",
       "<tr><td>0      </td><td>19.0              </td><td>female</td><td>27.9              </td><td>0.0               </td><td>yes     </td><td>southwest</td><td>16884.924         </td></tr>\n",
       "<tr><td>1      </td><td>18.0              </td><td>male  </td><td>33.77             </td><td>1.0               </td><td>no      </td><td>southeast</td><td>1725.5523         </td></tr>\n",
       "<tr><td>2      </td><td>28.0              </td><td>male  </td><td>33.0              </td><td>3.0               </td><td>no      </td><td>southeast</td><td>4449.462          </td></tr>\n",
       "<tr><td>3      </td><td>33.0              </td><td>male  </td><td>22.705            </td><td>0.0               </td><td>no      </td><td>northwest</td><td>21984.47061       </td></tr>\n",
       "<tr><td>4      </td><td>32.0              </td><td>male  </td><td>28.88             </td><td>0.0               </td><td>no      </td><td>northwest</td><td>3866.8552         </td></tr>\n",
       "<tr><td>5      </td><td>31.0              </td><td>female</td><td>25.74             </td><td>0.0               </td><td>no      </td><td>southeast</td><td>3756.6216         </td></tr>\n",
       "<tr><td>6      </td><td>46.0              </td><td>female</td><td>33.44             </td><td>1.0               </td><td>no      </td><td>southeast</td><td>8240.5896         </td></tr>\n",
       "<tr><td>7      </td><td>37.0              </td><td>female</td><td>27.74             </td><td>3.0               </td><td>no      </td><td>northwest</td><td>7281.5056         </td></tr>\n",
       "<tr><td>8      </td><td>37.0              </td><td>male  </td><td>29.83             </td><td>2.0               </td><td>no      </td><td>northeast</td><td>6406.4107         </td></tr>\n",
       "<tr><td>9      </td><td>60.0              </td><td>female</td><td>25.84             </td><td>0.0               </td><td>no      </td><td>northwest</td><td>28923.13692       </td></tr>\n",
       "</tbody>\n",
       "</table>"
      ]
     },
     "metadata": {},
     "output_type": "display_data"
    }
   ],
   "source": [
    "data.describe()"
   ]
  },
  {
   "cell_type": "code",
   "execution_count": 11,
   "metadata": {},
   "outputs": [],
   "source": [
    "y = \"charges\""
   ]
  },
  {
   "cell_type": "code",
   "execution_count": 12,
   "metadata": {},
   "outputs": [],
   "source": [
    "from h2o.estimators import H2OXGBoostEstimator"
   ]
  },
  {
   "cell_type": "code",
   "execution_count": 15,
   "metadata": {},
   "outputs": [],
   "source": [
    "param = {\n",
    "      \"ntrees\" : 100\n",
    "    , \"max_depth\" : 10\n",
    "    , \"learn_rate\" : 0.02\n",
    "    , \"sample_rate\" : 0.7\n",
    "    , \"col_sample_rate_per_tree\" : 0.9\n",
    "    , \"min_rows\" : 5\n",
    "    , \"seed\": 4241\n",
    "    , \"score_tree_interval\": 100\n",
    "    }"
   ]
  },
  {
   "cell_type": "code",
   "execution_count": 25,
   "metadata": {},
   "outputs": [],
   "source": [
    "col_names = [x for x in train.col_names if x not in [\"charges\"]]"
   ]
  },
  {
   "cell_type": "code",
   "execution_count": 26,
   "metadata": {},
   "outputs": [
    {
     "data": {
      "text/plain": [
       "['age', 'sex', 'bmi', 'children', 'smoker', 'region']"
      ]
     },
     "execution_count": 26,
     "metadata": {},
     "output_type": "execute_result"
    }
   ],
   "source": [
    "col_names"
   ]
  },
  {
   "cell_type": "code",
   "execution_count": 27,
   "metadata": {},
   "outputs": [
    {
     "name": "stdout",
     "output_type": "stream",
     "text": [
      "xgboost Model Build progress: |███████████████████████████████████████████| 100%\n"
     ]
    }
   ],
   "source": [
    "model = H2OXGBoostEstimator(**param)\n",
    "model.train(x=train.col_names,y=y,training_frame=train,validation_frame=test)"
   ]
  },
  {
   "cell_type": "code",
   "execution_count": 28,
   "metadata": {},
   "outputs": [
    {
     "data": {
      "text/html": [
       "<table>\n",
       "<thead>\n",
       "<tr><th style=\"text-align: right;\">  age</th><th>sex   </th><th style=\"text-align: right;\">   bmi</th><th style=\"text-align: right;\">  children</th><th>smoker  </th><th>region   </th><th style=\"text-align: right;\">  charges</th></tr>\n",
       "</thead>\n",
       "<tbody>\n",
       "<tr><td style=\"text-align: right;\">   31</td><td>female</td><td style=\"text-align: right;\">25.74 </td><td style=\"text-align: right;\">         0</td><td>no      </td><td>southeast</td><td style=\"text-align: right;\">  3756.62</td></tr>\n",
       "<tr><td style=\"text-align: right;\">   46</td><td>female</td><td style=\"text-align: right;\">33.44 </td><td style=\"text-align: right;\">         1</td><td>no      </td><td>southeast</td><td style=\"text-align: right;\">  8240.59</td></tr>\n",
       "<tr><td style=\"text-align: right;\">   60</td><td>female</td><td style=\"text-align: right;\">25.84 </td><td style=\"text-align: right;\">         0</td><td>no      </td><td>northwest</td><td style=\"text-align: right;\"> 28923.1 </td></tr>\n",
       "<tr><td style=\"text-align: right;\">   23</td><td>male  </td><td style=\"text-align: right;\">34.4  </td><td style=\"text-align: right;\">         0</td><td>no      </td><td>southwest</td><td style=\"text-align: right;\">  1826.84</td></tr>\n",
       "<tr><td style=\"text-align: right;\">   27</td><td>male  </td><td style=\"text-align: right;\">42.13 </td><td style=\"text-align: right;\">         0</td><td>yes     </td><td>southeast</td><td style=\"text-align: right;\"> 39611.8 </td></tr>\n",
       "<tr><td style=\"text-align: right;\">   28</td><td>male  </td><td style=\"text-align: right;\">36.4  </td><td style=\"text-align: right;\">         1</td><td>yes     </td><td>southwest</td><td style=\"text-align: right;\"> 51194.6 </td></tr>\n",
       "<tr><td style=\"text-align: right;\">   19</td><td>male  </td><td style=\"text-align: right;\">20.425</td><td style=\"text-align: right;\">         0</td><td>no      </td><td>northwest</td><td style=\"text-align: right;\">  1625.43</td></tr>\n",
       "<tr><td style=\"text-align: right;\">   26</td><td>male  </td><td style=\"text-align: right;\">20.8  </td><td style=\"text-align: right;\">         0</td><td>no      </td><td>southwest</td><td style=\"text-align: right;\">  2302.3 </td></tr>\n",
       "<tr><td style=\"text-align: right;\">   37</td><td>female</td><td style=\"text-align: right;\">30.8  </td><td style=\"text-align: right;\">         2</td><td>no      </td><td>southeast</td><td style=\"text-align: right;\">  6313.76</td></tr>\n",
       "<tr><td style=\"text-align: right;\">   18</td><td>female</td><td style=\"text-align: right;\">38.665</td><td style=\"text-align: right;\">         2</td><td>no      </td><td>northeast</td><td style=\"text-align: right;\">  3393.36</td></tr>\n",
       "</tbody>\n",
       "</table>"
      ]
     },
     "metadata": {},
     "output_type": "display_data"
    },
    {
     "data": {
      "text/plain": []
     },
     "execution_count": 28,
     "metadata": {},
     "output_type": "execute_result"
    }
   ],
   "source": [
    "test.head()"
   ]
  },
  {
   "cell_type": "code",
   "execution_count": 29,
   "metadata": {},
   "outputs": [],
   "source": [
    "import matplotlib.pyplot as plt"
   ]
  },
  {
   "cell_type": "code",
   "execution_count": 42,
   "metadata": {},
   "outputs": [
    {
     "name": "stdout",
     "output_type": "stream",
     "text": [
      "xgboost prediction progress: |████████████████████████████████████████████| 100%\n"
     ]
    }
   ],
   "source": [
    "predictions = model.predict(test)"
   ]
  },
  {
   "cell_type": "code",
   "execution_count": 44,
   "metadata": {},
   "outputs": [],
   "source": [
    "preds = predictions.as_data_frame()"
   ]
  },
  {
   "cell_type": "code",
   "execution_count": 47,
   "metadata": {},
   "outputs": [],
   "source": [
    "preds = preds['predict'].tolist()"
   ]
  },
  {
   "cell_type": "code",
   "execution_count": 57,
   "metadata": {},
   "outputs": [],
   "source": [
    "real = test.as_data_frame()\n",
    "real = real['charges'].tolist()"
   ]
  },
  {
   "cell_type": "code",
   "execution_count": 58,
   "metadata": {},
   "outputs": [
    {
     "data": {
      "text/plain": [
       "[<matplotlib.lines.Line2D at 0x10b4a8da0>]"
      ]
     },
     "execution_count": 58,
     "metadata": {},
     "output_type": "execute_result"
    },
    {
     "data": {
      "image/png": "[encoded data removed]",
      "text/plain": [
       "<Figure size 432x288 with 1 Axes>"
      ]
     },
     "metadata": {},
     "output_type": "display_data"
    }
   ],
   "source": [
    "plt.plot(preds,real,'ro')"
   ]
  },
  {
   "cell_type": "code",
   "execution_count": null,
   "metadata": {},
   "outputs": [],
   "source": []
  }
 ],
 "metadata": {
  "kernelspec": {
   "display_name": "Python [conda env:spike_basico]",
   "language": "python",
   "name": "conda-env-spike_basico-py"
  },
  "language_info": {
   "codemirror_mode": {
    "name": "ipython",
    "version": 3
   },
   "file_extension": ".py",
   "mimetype": "text/x-python",
   "name": "python",
   "nbconvert_exporter": "python",
   "pygments_lexer": "ipython3",
   "version": "3.6.5"
  }
 },
 "nbformat": 4,
 "nbformat_minor": 2
}
