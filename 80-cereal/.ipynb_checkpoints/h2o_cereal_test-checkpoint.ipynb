{
 "cells": [
  {
   "cell_type": "code",
   "execution_count": 4,
   "metadata": {},
   "outputs": [
    {
     "name": "stdout",
     "output_type": "stream",
     "text": [
      "Checking whether there is an H2O instance running at http://localhost:54321. connected.\n"
     ]
    },
    {
     "data": {
      "text/html": [
       "<div style=\"overflow:auto\"><table style=\"width:50%\"><tr><td>H2O cluster uptime:</td>\n",
       "<td>6 mins 14 secs</td></tr>\n",
       "<tr><td>H2O cluster timezone:</td>\n",
       "<td>America/Santiago</td></tr>\n",
       "<tr><td>H2O data parsing timezone:</td>\n",
       "<td>UTC</td></tr>\n",
       "<tr><td>H2O cluster version:</td>\n",
       "<td>3.22.0.3</td></tr>\n",
       "<tr><td>H2O cluster version age:</td>\n",
       "<td>11 days </td></tr>\n",
       "<tr><td>H2O cluster name:</td>\n",
       "<td>H2O_from_python_maravenag_3wzuvj</td></tr>\n",
       "<tr><td>H2O cluster total nodes:</td>\n",
       "<td>1</td></tr>\n",
       "<tr><td>H2O cluster free memory:</td>\n",
       "<td>3.267 Gb</td></tr>\n",
       "<tr><td>H2O cluster total cores:</td>\n",
       "<td>8</td></tr>\n",
       "<tr><td>H2O cluster allowed cores:</td>\n",
       "<td>8</td></tr>\n",
       "<tr><td>H2O cluster status:</td>\n",
       "<td>locked, healthy</td></tr>\n",
       "<tr><td>H2O connection url:</td>\n",
       "<td>http://localhost:54321</td></tr>\n",
       "<tr><td>H2O connection proxy:</td>\n",
       "<td>None</td></tr>\n",
       "<tr><td>H2O internal security:</td>\n",
       "<td>False</td></tr>\n",
       "<tr><td>H2O API Extensions:</td>\n",
       "<td>XGBoost, Algos, AutoML, Core V3, Core V4</td></tr>\n",
       "<tr><td>Python version:</td>\n",
       "<td>3.6.7 final</td></tr></table></div>"
      ],
      "text/plain": [
       "--------------------------  ----------------------------------------\n",
       "H2O cluster uptime:         6 mins 14 secs\n",
       "H2O cluster timezone:       America/Santiago\n",
       "H2O data parsing timezone:  UTC\n",
       "H2O cluster version:        3.22.0.3\n",
       "H2O cluster version age:    11 days\n",
       "H2O cluster name:           H2O_from_python_maravenag_3wzuvj\n",
       "H2O cluster total nodes:    1\n",
       "H2O cluster free memory:    3.267 Gb\n",
       "H2O cluster total cores:    8\n",
       "H2O cluster allowed cores:  8\n",
       "H2O cluster status:         locked, healthy\n",
       "H2O connection url:         http://localhost:54321\n",
       "H2O connection proxy:\n",
       "H2O internal security:      False\n",
       "H2O API Extensions:         XGBoost, Algos, AutoML, Core V3, Core V4\n",
       "Python version:             3.6.7 final\n",
       "--------------------------  ----------------------------------------"
      ]
     },
     "metadata": {},
     "output_type": "display_data"
    }
   ],
   "source": [
    "import h2o\n",
    "h2o.init()\n",
    "h2o.remove_all()"
   ]
  },
  {
   "cell_type": "code",
   "execution_count": 5,
   "metadata": {},
   "outputs": [
    {
     "name": "stdout",
     "output_type": "stream",
     "text": [
      "Parse progress: |█████████████████████████████████████████████████████████| 100%\n"
     ]
    }
   ],
   "source": [
    "data = h2o.upload_file(\"cereal.csv\", destination_frame=\"train\")\n",
    "data = data.drop(\"name\")\n",
    "data['mfr'] = data['mfr'].asfactor()\n",
    "data['type'] = data['type'].asfactor()\n",
    "target = \"rating\"\n",
    "train = data\n",
    "train_cols = [x for x in train.col_names if x not in ['rating']]"
   ]
  },
  {
   "cell_type": "code",
   "execution_count": 6,
   "metadata": {},
   "outputs": [
    {
     "name": "stdout",
     "output_type": "stream",
     "text": [
      "gbm Model Build progress: |███████████████████████████████████████████████| 100%\n"
     ]
    }
   ],
   "source": [
    "from h2o.estimators.gbm import H2OGradientBoostingEstimator\n",
    "\n",
    "param = {\n",
    "      \"ntrees\" : 500\n",
    "    , \"max_depth\" : 5\n",
    "    , \"learn_rate\" : 0.01\n",
    "    , \"sample_rate\" : 0.7\n",
    "    , \"col_sample_rate_per_tree\" : 0.9\n",
    "    , \"min_rows\" : 5\n",
    "    , \"seed\": 4241\n",
    "    , \"score_tree_interval\": 100\n",
    "    , \"nfolds\": 4\n",
    "    }\n",
    "\n",
    "model = H2OGradientBoostingEstimator(**param)\n",
    "model.train(x=train_cols,y=target,training_frame=train)"
   ]
  },
  {
   "cell_type": "code",
   "execution_count": 10,
   "metadata": {},
   "outputs": [
    {
     "name": "stdout",
     "output_type": "stream",
     "text": [
      "PartialDependencePlot progress: |█████████████████████████████████████████| 100%\n",
      "PartialDependence: Partial Dependence Plot of model GBM_model_python_1546460926971_3 on column 'mfr'\n",
      "\n"
     ]
    },
    {
     "data": {
      "text/html": [
       "<div style=\"overflow:auto\"><table style=\"width:50%\"><tr><td><b>mfr</b></td>\n",
       "<td><b>mean_response</b></td>\n",
       "<td><b>stddev_response</b></td>\n",
       "<td><b>std_error_mean_response</b></td></tr>\n",
       "<tr><td>A</td>\n",
       "<td>43.6941270</td>\n",
       "<td>12.7267250</td>\n",
       "<td>1.4503449</td></tr>\n",
       "<tr><td>G</td>\n",
       "<td>41.6348644</td>\n",
       "<td>12.9255745</td>\n",
       "<td>1.4730059</td></tr>\n",
       "<tr><td>K</td>\n",
       "<td>43.0796921</td>\n",
       "<td>12.6627576</td>\n",
       "<td>1.4430552</td></tr>\n",
       "<tr><td>N</td>\n",
       "<td>45.4081634</td>\n",
       "<td>13.2075859</td>\n",
       "<td>1.5051441</td></tr>\n",
       "<tr><td>P</td>\n",
       "<td>43.6587576</td>\n",
       "<td>12.1888570</td>\n",
       "<td>1.3890492</td></tr>\n",
       "<tr><td>Q</td>\n",
       "<td>40.8973709</td>\n",
       "<td>13.1649567</td>\n",
       "<td>1.5002861</td></tr>\n",
       "<tr><td>R</td>\n",
       "<td>42.5279104</td>\n",
       "<td>12.1827647</td>\n",
       "<td>1.3883549</td></tr></table></div>"
      ],
      "text/plain": [
       "mfr    mean_response    stddev_response    std_error_mean_response\n",
       "-----  ---------------  -----------------  -------------------------\n",
       "A      43.6941          12.7267            1.45034\n",
       "G      41.6349          12.9256            1.47301\n",
       "K      43.0797          12.6628            1.44306\n",
       "N      45.4082          13.2076            1.50514\n",
       "P      43.6588          12.1889            1.38905\n",
       "Q      40.8974          13.165             1.50029\n",
       "R      42.5279          12.1828            1.38835"
      ]
     },
     "metadata": {},
     "output_type": "display_data"
    },
    {
     "name": "stdout",
     "output_type": "stream",
     "text": [
      "PartialDependence: Partial Dependence Plot of model GBM_model_python_1546460926971_3 on column 'type'\n",
      "\n"
     ]
    },
    {
     "data": {
      "text/html": [
       "<div style=\"overflow:auto\"><table style=\"width:50%\"><tr><td><b>type</b></td>\n",
       "<td><b>mean_response</b></td>\n",
       "<td><b>stddev_response</b></td>\n",
       "<td><b>std_error_mean_response</b></td></tr>\n",
       "<tr><td>C</td>\n",
       "<td>42.6866524</td>\n",
       "<td>13.3781723</td>\n",
       "<td>1.5245842</td></tr>\n",
       "<tr><td>H</td>\n",
       "<td>42.6866524</td>\n",
       "<td>13.3781723</td>\n",
       "<td>1.5245842</td></tr></table></div>"
      ],
      "text/plain": [
       "type    mean_response    stddev_response    std_error_mean_response\n",
       "------  ---------------  -----------------  -------------------------\n",
       "C       42.6867          13.3782            1.52458\n",
       "H       42.6867          13.3782            1.52458"
      ]
     },
     "metadata": {},
     "output_type": "display_data"
    },
    {
     "name": "stdout",
     "output_type": "stream",
     "text": [
      "PartialDependence: Partial Dependence Plot of model GBM_model_python_1546460926971_3 on column 'calories'\n",
      "\n"
     ]
    },
    {
     "data": {
      "text/html": [
       "<div style=\"overflow:auto\"><table style=\"width:50%\"><tr><td><b>calories</b></td>\n",
       "<td><b>mean_response</b></td>\n",
       "<td><b>stddev_response</b></td>\n",
       "<td><b>std_error_mean_response</b></td></tr>\n",
       "<tr><td>50.0</td>\n",
       "<td>52.4474147</td>\n",
       "<td>9.9019117</td>\n",
       "<td>1.1284276</td></tr>\n",
       "<tr><td>55.7894737</td>\n",
       "<td>52.4474147</td>\n",
       "<td>9.9019117</td>\n",
       "<td>1.1284276</td></tr>\n",
       "<tr><td>61.5789474</td>\n",
       "<td>52.4474147</td>\n",
       "<td>9.9019117</td>\n",
       "<td>1.1284276</td></tr>\n",
       "<tr><td>67.3684211</td>\n",
       "<td>52.4474147</td>\n",
       "<td>9.9019117</td>\n",
       "<td>1.1284276</td></tr>\n",
       "<tr><td>73.1578947</td>\n",
       "<td>52.4474147</td>\n",
       "<td>9.9019117</td>\n",
       "<td>1.1284276</td></tr>\n",
       "<tr><td>78.9473684</td>\n",
       "<td>49.8570220</td>\n",
       "<td>10.4244647</td>\n",
       "<td>1.1879780</td></tr>\n",
       "<tr><td>84.7368421</td>\n",
       "<td>49.8570220</td>\n",
       "<td>10.4244647</td>\n",
       "<td>1.1879780</td></tr>\n",
       "<tr><td>90.5263158</td>\n",
       "<td>49.6749552</td>\n",
       "<td>10.4469807</td>\n",
       "<td>1.1905439</td></tr>\n",
       "<tr><td>96.3157895</td>\n",
       "<td>42.6639461</td>\n",
       "<td>10.3582932</td>\n",
       "<td>1.1804371</td></tr>\n",
       "<tr><td>102.1052632</td>\n",
       "<td>42.6639461</td>\n",
       "<td>10.3582932</td>\n",
       "<td>1.1804371</td></tr>\n",
       "<tr><td>107.8947368</td>\n",
       "<td>40.6802983</td>\n",
       "<td>10.3472848</td>\n",
       "<td>1.1791825</td></tr>\n",
       "<tr><td>113.6842105</td>\n",
       "<td>40.6585031</td>\n",
       "<td>10.3736269</td>\n",
       "<td>1.1821845</td></tr>\n",
       "<tr><td>119.4736842</td>\n",
       "<td>40.2088790</td>\n",
       "<td>10.4507380</td>\n",
       "<td>1.1909721</td></tr>\n",
       "<tr><td>125.2631579</td>\n",
       "<td>40.0520437</td>\n",
       "<td>10.4869487</td>\n",
       "<td>1.1950987</td></tr>\n",
       "<tr><td>131.0526316</td>\n",
       "<td>40.0343236</td>\n",
       "<td>10.4867922</td>\n",
       "<td>1.1950809</td></tr>\n",
       "<tr><td>136.8421053</td>\n",
       "<td>39.9942674</td>\n",
       "<td>10.4940121</td>\n",
       "<td>1.1959037</td></tr>\n",
       "<tr><td>142.6315789</td>\n",
       "<td>39.9942674</td>\n",
       "<td>10.4940121</td>\n",
       "<td>1.1959037</td></tr>\n",
       "<tr><td>148.4210526</td>\n",
       "<td>39.9942674</td>\n",
       "<td>10.4940121</td>\n",
       "<td>1.1959037</td></tr>\n",
       "<tr><td>154.2105263</td>\n",
       "<td>39.9942674</td>\n",
       "<td>10.4940121</td>\n",
       "<td>1.1959037</td></tr>\n",
       "<tr><td>160.0</td>\n",
       "<td>39.9942674</td>\n",
       "<td>10.4940121</td>\n",
       "<td>1.1959037</td></tr></table></div>"
      ],
      "text/plain": [
       "calories    mean_response    stddev_response    std_error_mean_response\n",
       "----------  ---------------  -----------------  -------------------------\n",
       "50          52.4474          9.90191            1.12843\n",
       "55.7895     52.4474          9.90191            1.12843\n",
       "61.5789     52.4474          9.90191            1.12843\n",
       "67.3684     52.4474          9.90191            1.12843\n",
       "73.1579     52.4474          9.90191            1.12843\n",
       "78.9474     49.857           10.4245            1.18798\n",
       "84.7368     49.857           10.4245            1.18798\n",
       "90.5263     49.675           10.447             1.19054\n",
       "96.3158     42.6639          10.3583            1.18044\n",
       "102.105     42.6639          10.3583            1.18044\n",
       "107.895     40.6803          10.3473            1.17918\n",
       "113.684     40.6585          10.3736            1.18218\n",
       "119.474     40.2089          10.4507            1.19097\n",
       "125.263     40.052           10.4869            1.1951\n",
       "131.053     40.0343          10.4868            1.19508\n",
       "136.842     39.9943          10.494             1.1959\n",
       "142.632     39.9943          10.494             1.1959\n",
       "148.421     39.9943          10.494             1.1959\n",
       "154.211     39.9943          10.494             1.1959\n",
       "160         39.9943          10.494             1.1959"
      ]
     },
     "metadata": {},
     "output_type": "display_data"
    },
    {
     "name": "stdout",
     "output_type": "stream",
     "text": [
      "PartialDependence: Partial Dependence Plot of model GBM_model_python_1546460926971_3 on column 'protein'\n",
      "\n"
     ]
    },
    {
     "data": {
      "text/html": [
       "<div style=\"overflow:auto\"><table style=\"width:50%\"><tr><td><b>protein</b></td>\n",
       "<td><b>mean_response</b></td>\n",
       "<td><b>stddev_response</b></td>\n",
       "<td><b>std_error_mean_response</b></td></tr>\n",
       "<tr><td>1.0</td>\n",
       "<td>39.9755780</td>\n",
       "<td>13.2838696</td>\n",
       "<td>1.5138374</td></tr>\n",
       "<tr><td>2.0</td>\n",
       "<td>42.0718039</td>\n",
       "<td>11.9932710</td>\n",
       "<td>1.3667601</td></tr>\n",
       "<tr><td>3.0</td>\n",
       "<td>43.9600449</td>\n",
       "<td>12.6290165</td>\n",
       "<td>1.4392100</td></tr>\n",
       "<tr><td>4.0</td>\n",
       "<td>45.0010108</td>\n",
       "<td>12.4999139</td>\n",
       "<td>1.4244974</td></tr>\n",
       "<tr><td>5.0</td>\n",
       "<td>45.0010108</td>\n",
       "<td>12.4999139</td>\n",
       "<td>1.4244974</td></tr>\n",
       "<tr><td>6.0</td>\n",
       "<td>45.0010108</td>\n",
       "<td>12.4999139</td>\n",
       "<td>1.4244974</td></tr></table></div>"
      ],
      "text/plain": [
       "protein    mean_response    stddev_response    std_error_mean_response\n",
       "---------  ---------------  -----------------  -------------------------\n",
       "1          39.9756          13.2839            1.51384\n",
       "2          42.0718          11.9933            1.36676\n",
       "3          43.96            12.629             1.43921\n",
       "4          45.001           12.4999            1.4245\n",
       "5          45.001           12.4999            1.4245\n",
       "6          45.001           12.4999            1.4245"
      ]
     },
     "metadata": {},
     "output_type": "display_data"
    },
    {
     "name": "stdout",
     "output_type": "stream",
     "text": [
      "PartialDependence: Partial Dependence Plot of model GBM_model_python_1546460926971_3 on column 'fat'\n",
      "\n"
     ]
    },
    {
     "data": {
      "text/html": [
       "<div style=\"overflow:auto\"><table style=\"width:50%\"><tr><td><b>fat</b></td>\n",
       "<td><b>mean_response</b></td>\n",
       "<td><b>stddev_response</b></td>\n",
       "<td><b>std_error_mean_response</b></td></tr>\n",
       "<tr><td>0.0</td>\n",
       "<td>44.5986213</td>\n",
       "<td>12.8162969</td>\n",
       "<td>1.4605526</td></tr>\n",
       "<tr><td>1.0</td>\n",
       "<td>42.0265070</td>\n",
       "<td>12.9300347</td>\n",
       "<td>1.4735142</td></tr>\n",
       "<tr><td>2.0</td>\n",
       "<td>41.5827747</td>\n",
       "<td>12.8963885</td>\n",
       "<td>1.4696799</td></tr>\n",
       "<tr><td>3.0</td>\n",
       "<td>41.5524488</td>\n",
       "<td>12.8931917</td>\n",
       "<td>1.4693156</td></tr>\n",
       "<tr><td>4.0</td>\n",
       "<td>41.5524488</td>\n",
       "<td>12.8931917</td>\n",
       "<td>1.4693156</td></tr>\n",
       "<tr><td>5.0</td>\n",
       "<td>41.5524488</td>\n",
       "<td>12.8931917</td>\n",
       "<td>1.4693156</td></tr></table></div>"
      ],
      "text/plain": [
       "fat    mean_response    stddev_response    std_error_mean_response\n",
       "-----  ---------------  -----------------  -------------------------\n",
       "0      44.5986          12.8163            1.46055\n",
       "1      42.0265          12.93              1.47351\n",
       "2      41.5828          12.8964            1.46968\n",
       "3      41.5524          12.8932            1.46932\n",
       "4      41.5524          12.8932            1.46932\n",
       "5      41.5524          12.8932            1.46932"
      ]
     },
     "metadata": {},
     "output_type": "display_data"
    },
    {
     "data": {
      "text/plain": [
       "[, , , , ]"
      ]
     },
     "execution_count": 10,
     "metadata": {},
     "output_type": "execute_result"
    },
    {
     "data": {
      "image/png": "[encoded data removed]",
      "text/plain": [
       "<Figure size 504x720 with 5 Axes>"
      ]
     },
     "metadata": {
      "needs_background": "light"
     },
     "output_type": "display_data"
    }
   ],
   "source": [
    "model.partial_plot(train, cols=train_cols[0:5], plot=True)"
   ]
  },
  {
   "cell_type": "code",
   "execution_count": null,
   "metadata": {},
   "outputs": [],
   "source": []
  }
 ],
 "metadata": {
  "kernelspec": {
   "display_name": "Python [conda env:spike_basicoV2]",
   "language": "python",
   "name": "conda-env-spike_basicoV2-py"
  },
  "language_info": {
   "codemirror_mode": {
    "name": "ipython",
    "version": 3
   },
   "file_extension": ".py",
   "mimetype": "text/x-python",
   "name": "python",
   "nbconvert_exporter": "python",
   "pygments_lexer": "ipython3",
   "version": "3.6.7"
  }
 },
 "nbformat": 4,
 "nbformat_minor": 2
}
