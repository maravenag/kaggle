{
 "cells": [
  {
   "cell_type": "code",
   "execution_count": null,
   "metadata": {},
   "outputs": [
    {
     "name": "stdout",
     "output_type": "stream",
     "text": [
      "Checking whether there is an H2O instance running at http://localhost:54321..... not found.\n",
      "Attempting to start a local H2O server...\n",
      "  Java Version: java version \"1.8.0_172\"; Java(TM) SE Runtime Environment (build 1.8.0_172-b11); Java HotSpot(TM) 64-Bit Server VM (build 25.172-b11, mixed mode)\n",
      "  Starting server from /anaconda2/envs/spike_basicoV2/lib/python3.6/site-packages/h2o/backend/bin/h2o.jar\n",
      "  Ice root: /var/folders/3z/5qxln1rj4zjblz0l0hvy0n540000gn/T/tmp6j7lbtey\n",
      "  JVM stdout: /var/folders/3z/5qxln1rj4zjblz0l0hvy0n540000gn/T/tmp6j7lbtey/h2o_maravenag_started_from_python.out\n",
      "  JVM stderr: /var/folders/3z/5qxln1rj4zjblz0l0hvy0n540000gn/T/tmp6j7lbtey/h2o_maravenag_started_from_python.err\n"
     ]
    }
   ],
   "source": [
    "import h2o\n",
    "h2o.init()\n",
    "h2o.remove_all()"
   ]
  },
  {
   "cell_type": "code",
   "execution_count": 2,
   "metadata": {},
   "outputs": [
    {
     "name": "stdout",
     "output_type": "stream",
     "text": [
      "Parse progress: |█████████████████████████████████████████████████████████| 100%\n"
     ]
    }
   ],
   "source": [
    "data = h2o.upload_file(\"cereal.csv\", destination_frame=\"train\")"
   ]
  },
  {
   "cell_type": "code",
   "execution_count": 3,
   "metadata": {},
   "outputs": [],
   "source": [
    "data = data.drop(\"name\") #TODO w2v of names"
   ]
  },
  {
   "cell_type": "code",
   "execution_count": 4,
   "metadata": {},
   "outputs": [
    {
     "name": "stdout",
     "output_type": "stream",
     "text": [
      "Rows:77\n",
      "Cols:15\n",
      "\n",
      "\n"
     ]
    },
    {
     "data": {
      "text/html": [
       "<table>\n",
       "<thead>\n",
       "<tr><th>       </th><th>mfr  </th><th>type  </th><th>calories          </th><th>protein          </th><th>fat               </th><th>sodium            </th><th>fiber             </th><th>carbo             </th><th>sugars            </th><th>potass           </th><th>vitamins          </th><th>shelf             </th><th>weight             </th><th>cups               </th><th>rating            </th></tr>\n",
       "</thead>\n",
       "<tbody>\n",
       "<tr><td>type   </td><td>enum </td><td>enum  </td><td>int               </td><td>int              </td><td>int               </td><td>int               </td><td>real              </td><td>real              </td><td>int               </td><td>int              </td><td>int               </td><td>int               </td><td>real               </td><td>real               </td><td>real              </td></tr>\n",
       "<tr><td>mins   </td><td>     </td><td>      </td><td>50.0              </td><td>1.0              </td><td>0.0               </td><td>0.0               </td><td>0.0               </td><td>-1.0              </td><td>-1.0              </td><td>-1.0             </td><td>0.0               </td><td>1.0               </td><td>0.5                </td><td>0.25               </td><td>18.042851         </td></tr>\n",
       "<tr><td>mean   </td><td>     </td><td>      </td><td>106.8831168831169 </td><td>2.545454545454545</td><td>1.0129870129870129</td><td>159.67532467532473</td><td>2.1519480519480525</td><td>14.597402597402601</td><td>6.922077922077923 </td><td>96.07792207792208</td><td>28.246753246753244</td><td>2.2077922077922074</td><td>1.0296103896103896 </td><td>0.8210389610389608 </td><td>42.665704987012965</td></tr>\n",
       "<tr><td>maxs   </td><td>     </td><td>      </td><td>160.0             </td><td>6.0              </td><td>5.0               </td><td>320.0             </td><td>14.0              </td><td>23.0              </td><td>15.0              </td><td>330.0            </td><td>100.0             </td><td>3.0               </td><td>1.5                </td><td>1.5                </td><td>93.704912         </td></tr>\n",
       "<tr><td>sigma  </td><td>     </td><td>      </td><td>19.484119056820845</td><td>1.094789748445534</td><td>1.0064725594803927</td><td>83.83229524009316 </td><td>2.3833639643872226</td><td>4.278956280325907 </td><td>4.4448853924193585</td><td>71.2868125092621 </td><td>22.342522500566307</td><td>0.832524100135788 </td><td>0.15047679973689213</td><td>0.23271613844691388</td><td>14.047288743735217</td></tr>\n",
       "<tr><td>zeros  </td><td>     </td><td>      </td><td>0                 </td><td>0                </td><td>27                </td><td>9                 </td><td>19                </td><td>0                 </td><td>7                 </td><td>0                </td><td>8                 </td><td>0                 </td><td>0                  </td><td>0                  </td><td>0                 </td></tr>\n",
       "<tr><td>missing</td><td>0    </td><td>0     </td><td>0                 </td><td>0                </td><td>0                 </td><td>0                 </td><td>0                 </td><td>0                 </td><td>0                 </td><td>0                </td><td>0                 </td><td>0                 </td><td>0                  </td><td>0                  </td><td>0                 </td></tr>\n",
       "<tr><td>0      </td><td>N    </td><td>C     </td><td>70.0              </td><td>4.0              </td><td>1.0               </td><td>130.0             </td><td>10.0              </td><td>5.0               </td><td>6.0               </td><td>280.0            </td><td>25.0              </td><td>3.0               </td><td>1.0                </td><td>0.33               </td><td>68.402973         </td></tr>\n",
       "<tr><td>1      </td><td>Q    </td><td>C     </td><td>120.0             </td><td>3.0              </td><td>5.0               </td><td>15.0              </td><td>2.0               </td><td>8.0               </td><td>8.0               </td><td>135.0            </td><td>0.0               </td><td>3.0               </td><td>1.0                </td><td>1.0                </td><td>33.983679         </td></tr>\n",
       "<tr><td>2      </td><td>K    </td><td>C     </td><td>70.0              </td><td>4.0              </td><td>1.0               </td><td>260.0             </td><td>9.0               </td><td>7.0               </td><td>5.0               </td><td>320.0            </td><td>25.0              </td><td>3.0               </td><td>1.0                </td><td>0.33               </td><td>59.425505         </td></tr>\n",
       "<tr><td>3      </td><td>K    </td><td>C     </td><td>50.0              </td><td>4.0              </td><td>0.0               </td><td>140.0             </td><td>14.0              </td><td>8.0               </td><td>0.0               </td><td>330.0            </td><td>25.0              </td><td>3.0               </td><td>1.0                </td><td>0.5                </td><td>93.704912         </td></tr>\n",
       "<tr><td>4      </td><td>R    </td><td>C     </td><td>110.0             </td><td>2.0              </td><td>2.0               </td><td>200.0             </td><td>1.0               </td><td>14.0              </td><td>8.0               </td><td>-1.0             </td><td>25.0              </td><td>3.0               </td><td>1.0                </td><td>0.75               </td><td>34.384843         </td></tr>\n",
       "<tr><td>5      </td><td>G    </td><td>C     </td><td>110.0             </td><td>2.0              </td><td>2.0               </td><td>180.0             </td><td>1.5               </td><td>10.5              </td><td>10.0              </td><td>70.0             </td><td>25.0              </td><td>1.0               </td><td>1.0                </td><td>0.75               </td><td>29.509541         </td></tr>\n",
       "<tr><td>6      </td><td>K    </td><td>C     </td><td>110.0             </td><td>2.0              </td><td>0.0               </td><td>125.0             </td><td>1.0               </td><td>11.0              </td><td>14.0              </td><td>30.0             </td><td>25.0              </td><td>2.0               </td><td>1.0                </td><td>1.0                </td><td>33.174094         </td></tr>\n",
       "<tr><td>7      </td><td>G    </td><td>C     </td><td>130.0             </td><td>3.0              </td><td>2.0               </td><td>210.0             </td><td>2.0               </td><td>18.0              </td><td>8.0               </td><td>100.0            </td><td>25.0              </td><td>3.0               </td><td>1.33               </td><td>0.75               </td><td>37.038562         </td></tr>\n",
       "<tr><td>8      </td><td>R    </td><td>C     </td><td>90.0              </td><td>2.0              </td><td>1.0               </td><td>200.0             </td><td>4.0               </td><td>15.0              </td><td>6.0               </td><td>125.0            </td><td>25.0              </td><td>1.0               </td><td>1.0                </td><td>0.67               </td><td>49.120253         </td></tr>\n",
       "<tr><td>9      </td><td>P    </td><td>C     </td><td>90.0              </td><td>3.0              </td><td>0.0               </td><td>210.0             </td><td>5.0               </td><td>13.0              </td><td>5.0               </td><td>190.0            </td><td>25.0              </td><td>3.0               </td><td>1.0                </td><td>0.67               </td><td>53.313813         </td></tr>\n",
       "</tbody>\n",
       "</table>"
      ]
     },
     "metadata": {},
     "output_type": "display_data"
    }
   ],
   "source": [
    "data.describe()"
   ]
  },
  {
   "cell_type": "code",
   "execution_count": 5,
   "metadata": {},
   "outputs": [],
   "source": [
    "data['mfr'] = data['mfr'].asfactor()\n",
    "data['type'] = data['type'].asfactor()"
   ]
  },
  {
   "cell_type": "code",
   "execution_count": 6,
   "metadata": {},
   "outputs": [
    {
     "data": {
      "text/html": [
       "<table>\n",
       "<thead>\n",
       "<tr><th>mfr  </th><th>type  </th><th style=\"text-align: right;\">  calories</th><th style=\"text-align: right;\">  protein</th><th style=\"text-align: right;\">  fat</th><th style=\"text-align: right;\">  sodium</th><th style=\"text-align: right;\">  fiber</th><th style=\"text-align: right;\">  carbo</th><th style=\"text-align: right;\">  sugars</th><th style=\"text-align: right;\">  potass</th><th style=\"text-align: right;\">  vitamins</th><th style=\"text-align: right;\">  shelf</th><th style=\"text-align: right;\">  weight</th><th style=\"text-align: right;\">  cups</th><th style=\"text-align: right;\">  rating</th></tr>\n",
       "</thead>\n",
       "<tbody>\n",
       "<tr><td>N    </td><td>C     </td><td style=\"text-align: right;\">        70</td><td style=\"text-align: right;\">        4</td><td style=\"text-align: right;\">    1</td><td style=\"text-align: right;\">     130</td><td style=\"text-align: right;\">   10  </td><td style=\"text-align: right;\">    5  </td><td style=\"text-align: right;\">       6</td><td style=\"text-align: right;\">     280</td><td style=\"text-align: right;\">        25</td><td style=\"text-align: right;\">      3</td><td style=\"text-align: right;\">    1   </td><td style=\"text-align: right;\">  0.33</td><td style=\"text-align: right;\"> 68.403 </td></tr>\n",
       "<tr><td>Q    </td><td>C     </td><td style=\"text-align: right;\">       120</td><td style=\"text-align: right;\">        3</td><td style=\"text-align: right;\">    5</td><td style=\"text-align: right;\">      15</td><td style=\"text-align: right;\">    2  </td><td style=\"text-align: right;\">    8  </td><td style=\"text-align: right;\">       8</td><td style=\"text-align: right;\">     135</td><td style=\"text-align: right;\">         0</td><td style=\"text-align: right;\">      3</td><td style=\"text-align: right;\">    1   </td><td style=\"text-align: right;\">  1   </td><td style=\"text-align: right;\"> 33.9837</td></tr>\n",
       "<tr><td>K    </td><td>C     </td><td style=\"text-align: right;\">        70</td><td style=\"text-align: right;\">        4</td><td style=\"text-align: right;\">    1</td><td style=\"text-align: right;\">     260</td><td style=\"text-align: right;\">    9  </td><td style=\"text-align: right;\">    7  </td><td style=\"text-align: right;\">       5</td><td style=\"text-align: right;\">     320</td><td style=\"text-align: right;\">        25</td><td style=\"text-align: right;\">      3</td><td style=\"text-align: right;\">    1   </td><td style=\"text-align: right;\">  0.33</td><td style=\"text-align: right;\"> 59.4255</td></tr>\n",
       "<tr><td>K    </td><td>C     </td><td style=\"text-align: right;\">        50</td><td style=\"text-align: right;\">        4</td><td style=\"text-align: right;\">    0</td><td style=\"text-align: right;\">     140</td><td style=\"text-align: right;\">   14  </td><td style=\"text-align: right;\">    8  </td><td style=\"text-align: right;\">       0</td><td style=\"text-align: right;\">     330</td><td style=\"text-align: right;\">        25</td><td style=\"text-align: right;\">      3</td><td style=\"text-align: right;\">    1   </td><td style=\"text-align: right;\">  0.5 </td><td style=\"text-align: right;\"> 93.7049</td></tr>\n",
       "<tr><td>R    </td><td>C     </td><td style=\"text-align: right;\">       110</td><td style=\"text-align: right;\">        2</td><td style=\"text-align: right;\">    2</td><td style=\"text-align: right;\">     200</td><td style=\"text-align: right;\">    1  </td><td style=\"text-align: right;\">   14  </td><td style=\"text-align: right;\">       8</td><td style=\"text-align: right;\">      -1</td><td style=\"text-align: right;\">        25</td><td style=\"text-align: right;\">      3</td><td style=\"text-align: right;\">    1   </td><td style=\"text-align: right;\">  0.75</td><td style=\"text-align: right;\"> 34.3848</td></tr>\n",
       "<tr><td>G    </td><td>C     </td><td style=\"text-align: right;\">       110</td><td style=\"text-align: right;\">        2</td><td style=\"text-align: right;\">    2</td><td style=\"text-align: right;\">     180</td><td style=\"text-align: right;\">    1.5</td><td style=\"text-align: right;\">   10.5</td><td style=\"text-align: right;\">      10</td><td style=\"text-align: right;\">      70</td><td style=\"text-align: right;\">        25</td><td style=\"text-align: right;\">      1</td><td style=\"text-align: right;\">    1   </td><td style=\"text-align: right;\">  0.75</td><td style=\"text-align: right;\"> 29.5095</td></tr>\n",
       "<tr><td>K    </td><td>C     </td><td style=\"text-align: right;\">       110</td><td style=\"text-align: right;\">        2</td><td style=\"text-align: right;\">    0</td><td style=\"text-align: right;\">     125</td><td style=\"text-align: right;\">    1  </td><td style=\"text-align: right;\">   11  </td><td style=\"text-align: right;\">      14</td><td style=\"text-align: right;\">      30</td><td style=\"text-align: right;\">        25</td><td style=\"text-align: right;\">      2</td><td style=\"text-align: right;\">    1   </td><td style=\"text-align: right;\">  1   </td><td style=\"text-align: right;\"> 33.1741</td></tr>\n",
       "<tr><td>G    </td><td>C     </td><td style=\"text-align: right;\">       130</td><td style=\"text-align: right;\">        3</td><td style=\"text-align: right;\">    2</td><td style=\"text-align: right;\">     210</td><td style=\"text-align: right;\">    2  </td><td style=\"text-align: right;\">   18  </td><td style=\"text-align: right;\">       8</td><td style=\"text-align: right;\">     100</td><td style=\"text-align: right;\">        25</td><td style=\"text-align: right;\">      3</td><td style=\"text-align: right;\">    1.33</td><td style=\"text-align: right;\">  0.75</td><td style=\"text-align: right;\"> 37.0386</td></tr>\n",
       "<tr><td>R    </td><td>C     </td><td style=\"text-align: right;\">        90</td><td style=\"text-align: right;\">        2</td><td style=\"text-align: right;\">    1</td><td style=\"text-align: right;\">     200</td><td style=\"text-align: right;\">    4  </td><td style=\"text-align: right;\">   15  </td><td style=\"text-align: right;\">       6</td><td style=\"text-align: right;\">     125</td><td style=\"text-align: right;\">        25</td><td style=\"text-align: right;\">      1</td><td style=\"text-align: right;\">    1   </td><td style=\"text-align: right;\">  0.67</td><td style=\"text-align: right;\"> 49.1203</td></tr>\n",
       "<tr><td>P    </td><td>C     </td><td style=\"text-align: right;\">        90</td><td style=\"text-align: right;\">        3</td><td style=\"text-align: right;\">    0</td><td style=\"text-align: right;\">     210</td><td style=\"text-align: right;\">    5  </td><td style=\"text-align: right;\">   13  </td><td style=\"text-align: right;\">       5</td><td style=\"text-align: right;\">     190</td><td style=\"text-align: right;\">        25</td><td style=\"text-align: right;\">      3</td><td style=\"text-align: right;\">    1   </td><td style=\"text-align: right;\">  0.67</td><td style=\"text-align: right;\"> 53.3138</td></tr>\n",
       "</tbody>\n",
       "</table>"
      ]
     },
     "metadata": {},
     "output_type": "display_data"
    },
    {
     "data": {
      "text/plain": []
     },
     "execution_count": 6,
     "metadata": {},
     "output_type": "execute_result"
    }
   ],
   "source": [
    "data.head()"
   ]
  },
  {
   "cell_type": "code",
   "execution_count": 6,
   "metadata": {},
   "outputs": [],
   "source": [
    "target = \"rating\""
   ]
  },
  {
   "cell_type": "code",
   "execution_count": 7,
   "metadata": {},
   "outputs": [],
   "source": [
    "train = data"
   ]
  },
  {
   "cell_type": "code",
   "execution_count": 8,
   "metadata": {},
   "outputs": [],
   "source": [
    "train_cols = [x for x in train.col_names if x not in ['rating']]"
   ]
  },
  {
   "cell_type": "code",
   "execution_count": 10,
   "metadata": {},
   "outputs": [
    {
     "name": "stdout",
     "output_type": "stream",
     "text": [
      "gbm Model Build progress: |███████████████████████████████████████████████| 100%\n",
      "Model Details\n",
      "=============\n",
      "H2OGradientBoostingEstimator :  Gradient Boosting Machine\n",
      "Model Key:  GBM_model_python_1545243703001_1\n",
      "\n",
      "\n",
      "ModelMetricsRegression: gbm\n",
      "** Reported on train data. **\n",
      "\n",
      "MSE: 6.2228350786976225\n",
      "RMSE: 2.4945610994116025\n",
      "MAE: 1.2651518784560167\n",
      "RMSLE: 0.04192571453871199\n",
      "Mean Residual Deviance: 6.2228350786976225\n",
      "\n",
      "ModelMetricsRegression: gbm\n",
      "** Reported on cross-validation data. **\n",
      "\n",
      "MSE: 39.20597626305361\n",
      "RMSE: 6.261467580611882\n",
      "MAE: 4.040082666020219\n",
      "RMSLE: 0.11762409578767191\n",
      "Mean Residual Deviance: 39.20597626305361\n",
      "Cross-Validation Metrics Summary: \n"
     ]
    },
    {
     "data": {
      "text/html": [
       "<div style=\"overflow:auto\"><table style=\"width:50%\"><tr><td><b></b></td>\n",
       "<td><b>mean</b></td>\n",
       "<td><b>sd</b></td>\n",
       "<td><b>cv_1_valid</b></td>\n",
       "<td><b>cv_2_valid</b></td>\n",
       "<td><b>cv_3_valid</b></td>\n",
       "<td><b>cv_4_valid</b></td></tr>\n",
       "<tr><td>mae</td>\n",
       "<td>3.9295704</td>\n",
       "<td>0.6733386</td>\n",
       "<td>3.2805583</td>\n",
       "<td>5.572972</td>\n",
       "<td>3.5054836</td>\n",
       "<td>3.3592682</td></tr>\n",
       "<tr><td>mean_residual_deviance</td>\n",
       "<td>36.04489</td>\n",
       "<td>20.596418</td>\n",
       "<td>17.60915</td>\n",
       "<td>86.40001</td>\n",
       "<td>17.992186</td>\n",
       "<td>22.17822</td></tr>\n",
       "<tr><td>mse</td>\n",
       "<td>36.04489</td>\n",
       "<td>20.596418</td>\n",
       "<td>17.60915</td>\n",
       "<td>86.40001</td>\n",
       "<td>17.992186</td>\n",
       "<td>22.17822</td></tr>\n",
       "<tr><td>r2</td>\n",
       "<td>0.8256223</td>\n",
       "<td>0.0766181</td>\n",
       "<td>0.8823534</td>\n",
       "<td>0.6380476</td>\n",
       "<td>0.8909230</td>\n",
       "<td>0.8911652</td></tr>\n",
       "<tr><td>residual_deviance</td>\n",
       "<td>36.04489</td>\n",
       "<td>20.596418</td>\n",
       "<td>17.60915</td>\n",
       "<td>86.40001</td>\n",
       "<td>17.992186</td>\n",
       "<td>22.17822</td></tr>\n",
       "<tr><td>rmse</td>\n",
       "<td>5.6106453</td>\n",
       "<td>1.5108854</td>\n",
       "<td>4.196326</td>\n",
       "<td>9.29516</td>\n",
       "<td>4.2417197</td>\n",
       "<td>4.709376</td></tr>\n",
       "<tr><td>rmsle</td>\n",
       "<td>0.1126838</td>\n",
       "<td>0.0176023</td>\n",
       "<td>0.1047854</td>\n",
       "<td>0.1525038</td>\n",
       "<td>0.0840496</td>\n",
       "<td>0.1093964</td></tr></table></div>"
      ],
      "text/plain": [
       "                        mean      sd         cv_1_valid    cv_2_valid    cv_3_valid    cv_4_valid\n",
       "----------------------  --------  ---------  ------------  ------------  ------------  ------------\n",
       "mae                     3.92957   0.673339   3.28056       5.57297       3.50548       3.35927\n",
       "mean_residual_deviance  36.0449   20.5964    17.6091       86.4          17.9922       22.1782\n",
       "mse                     36.0449   20.5964    17.6091       86.4          17.9922       22.1782\n",
       "r2                      0.825622  0.0766181  0.882353      0.638048      0.890923      0.891165\n",
       "residual_deviance       36.0449   20.5964    17.6091       86.4          17.9922       22.1782\n",
       "rmse                    5.61065   1.51089    4.19633       9.29516       4.24172       4.70938\n",
       "rmsle                   0.112684  0.0176023  0.104785      0.152504      0.0840496     0.109396"
      ]
     },
     "metadata": {},
     "output_type": "display_data"
    },
    {
     "name": "stdout",
     "output_type": "stream",
     "text": [
      "Scoring History: \n"
     ]
    },
    {
     "data": {
      "text/html": [
       "<div style=\"overflow:auto\"><table style=\"width:50%\"><tr><td><b></b></td>\n",
       "<td><b>timestamp</b></td>\n",
       "<td><b>duration</b></td>\n",
       "<td><b>number_of_trees</b></td>\n",
       "<td><b>training_rmse</b></td>\n",
       "<td><b>training_mae</b></td>\n",
       "<td><b>training_deviance</b></td></tr>\n",
       "<tr><td></td>\n",
       "<td>2018-12-19 15:22:14</td>\n",
       "<td> 1.514 sec</td>\n",
       "<td>0.0</td>\n",
       "<td>13.9557743</td>\n",
       "<td>10.9426264</td>\n",
       "<td>194.7636367</td></tr>\n",
       "<tr><td></td>\n",
       "<td>2018-12-19 15:22:14</td>\n",
       "<td> 1.639 sec</td>\n",
       "<td>100.0</td>\n",
       "<td>6.8207205</td>\n",
       "<td>4.7483717</td>\n",
       "<td>46.5222280</td></tr>\n",
       "<tr><td></td>\n",
       "<td>2018-12-19 15:22:14</td>\n",
       "<td> 1.751 sec</td>\n",
       "<td>200.0</td>\n",
       "<td>4.3331405</td>\n",
       "<td>2.7254025</td>\n",
       "<td>18.7761065</td></tr>\n",
       "<tr><td></td>\n",
       "<td>2018-12-19 15:22:14</td>\n",
       "<td> 1.861 sec</td>\n",
       "<td>300.0</td>\n",
       "<td>3.2949960</td>\n",
       "<td>1.9439074</td>\n",
       "<td>10.8569984</td></tr>\n",
       "<tr><td></td>\n",
       "<td>2018-12-19 15:22:14</td>\n",
       "<td> 1.972 sec</td>\n",
       "<td>400.0</td>\n",
       "<td>2.8189042</td>\n",
       "<td>1.5236804</td>\n",
       "<td>7.9462209</td></tr>\n",
       "<tr><td></td>\n",
       "<td>2018-12-19 15:22:14</td>\n",
       "<td> 2.075 sec</td>\n",
       "<td>500.0</td>\n",
       "<td>2.4945611</td>\n",
       "<td>1.2651519</td>\n",
       "<td>6.2228351</td></tr></table></div>"
      ],
      "text/plain": [
       "    timestamp            duration    number_of_trees    training_rmse    training_mae    training_deviance\n",
       "--  -------------------  ----------  -----------------  ---------------  --------------  -------------------\n",
       "    2018-12-19 15:22:14  1.514 sec   0                  13.9558          10.9426         194.764\n",
       "    2018-12-19 15:22:14  1.639 sec   100                6.82072          4.74837         46.5222\n",
       "    2018-12-19 15:22:14  1.751 sec   200                4.33314          2.7254          18.7761\n",
       "    2018-12-19 15:22:14  1.861 sec   300                3.295            1.94391         10.857\n",
       "    2018-12-19 15:22:14  1.972 sec   400                2.8189           1.52368         7.94622\n",
       "    2018-12-19 15:22:14  2.075 sec   500                2.49456          1.26515         6.22284"
      ]
     },
     "metadata": {},
     "output_type": "display_data"
    },
    {
     "name": "stdout",
     "output_type": "stream",
     "text": [
      "Variable Importances: \n"
     ]
    },
    {
     "data": {
      "text/html": [
       "<div style=\"overflow:auto\"><table style=\"width:50%\"><tr><td><b>variable</b></td>\n",
       "<td><b>relative_importance</b></td>\n",
       "<td><b>scaled_importance</b></td>\n",
       "<td><b>percentage</b></td></tr>\n",
       "<tr><td>sugars</td>\n",
       "<td>358447.6250000</td>\n",
       "<td>1.0</td>\n",
       "<td>0.5316570</td></tr>\n",
       "<tr><td>calories</td>\n",
       "<td>167654.75</td>\n",
       "<td>0.4677245</td>\n",
       "<td>0.2486690</td></tr>\n",
       "<tr><td>mfr</td>\n",
       "<td>32043.8906250</td>\n",
       "<td>0.0893963</td>\n",
       "<td>0.0475282</td></tr>\n",
       "<tr><td>protein</td>\n",
       "<td>28198.1914062</td>\n",
       "<td>0.0786675</td>\n",
       "<td>0.0418241</td></tr>\n",
       "<tr><td>potass</td>\n",
       "<td>24467.6777344</td>\n",
       "<td>0.0682601</td>\n",
       "<td>0.0362910</td></tr>\n",
       "<tr><td>fiber</td>\n",
       "<td>16190.1298828</td>\n",
       "<td>0.0451674</td>\n",
       "<td>0.0240135</td></tr>\n",
       "<tr><td>sodium</td>\n",
       "<td>16138.3535156</td>\n",
       "<td>0.0450229</td>\n",
       "<td>0.0239367</td></tr>\n",
       "<tr><td>carbo</td>\n",
       "<td>12735.4404297</td>\n",
       "<td>0.0355294</td>\n",
       "<td>0.0188895</td></tr>\n",
       "<tr><td>fat</td>\n",
       "<td>11254.6074219</td>\n",
       "<td>0.0313982</td>\n",
       "<td>0.0166931</td></tr>\n",
       "<tr><td>shelf</td>\n",
       "<td>3377.1188965</td>\n",
       "<td>0.0094215</td>\n",
       "<td>0.0050090</td></tr>\n",
       "<tr><td>cups</td>\n",
       "<td>3009.0754395</td>\n",
       "<td>0.0083947</td>\n",
       "<td>0.0044631</td></tr>\n",
       "<tr><td>vitamins</td>\n",
       "<td>500.5016479</td>\n",
       "<td>0.0013963</td>\n",
       "<td>0.0007424</td></tr>\n",
       "<tr><td>weight</td>\n",
       "<td>191.1029205</td>\n",
       "<td>0.0005331</td>\n",
       "<td>0.0002834</td></tr>\n",
       "<tr><td>type</td>\n",
       "<td>0.0</td>\n",
       "<td>0.0</td>\n",
       "<td>0.0</td></tr></table></div>"
      ],
      "text/plain": [
       "variable    relative_importance    scaled_importance    percentage\n",
       "----------  ---------------------  -------------------  ------------\n",
       "sugars      358448                 1                    0.531657\n",
       "calories    167655                 0.467725             0.248669\n",
       "mfr         32043.9                0.0893963            0.0475282\n",
       "protein     28198.2                0.0786675            0.0418241\n",
       "potass      24467.7                0.0682601            0.036291\n",
       "fiber       16190.1                0.0451674            0.0240135\n",
       "sodium      16138.4                0.0450229            0.0239367\n",
       "carbo       12735.4                0.0355294            0.0188895\n",
       "fat         11254.6                0.0313982            0.0166931\n",
       "shelf       3377.12                0.00942151           0.00500901\n",
       "cups        3009.08                0.00839474           0.00446312\n",
       "vitamins    500.502                0.0013963            0.000742354\n",
       "weight      191.103                0.00053314           0.000283448\n",
       "type        0                      0                    0"
      ]
     },
     "metadata": {},
     "output_type": "display_data"
    },
    {
     "data": {
      "text/plain": [
       "<bound method ModelBase.summary of >"
      ]
     },
     "execution_count": 10,
     "metadata": {},
     "output_type": "execute_result"
    }
   ],
   "source": [
    "from h2o.estimators.gbm import H2OGradientBoostingEstimator\n",
    "\n",
    "param = {\n",
    "      \"ntrees\" : 500\n",
    "    , \"max_depth\" : 5\n",
    "    , \"learn_rate\" : 0.01\n",
    "    , \"sample_rate\" : 0.7\n",
    "    , \"col_sample_rate_per_tree\" : 0.9\n",
    "    , \"min_rows\" : 5\n",
    "    , \"seed\": 4241\n",
    "    , \"score_tree_interval\": 100\n",
    "    , \"nfolds\": 4\n",
    "    }\n",
    "\n",
    "model = H2OGradientBoostingEstimator(**param)\n",
    "model.train(x=train_cols,y=target,training_frame=train)\n",
    "model.summary"
   ]
  },
  {
   "cell_type": "code",
   "execution_count": 11,
   "metadata": {},
   "outputs": [
    {
     "name": "stdout",
     "output_type": "stream",
     "text": [
      "Model saved to /Users/maravenag/Desktop/kaggle/80-cereal/models/GBM_model_python_1545243703001_1.zip\n"
     ]
    }
   ],
   "source": [
    "modelfile = model.download_mojo(path=\"models/\", get_genmodel_jar=True)\n",
    "print(\"Model saved to \" + modelfile)"
   ]
  },
  {
   "cell_type": "code",
   "execution_count": null,
   "metadata": {},
   "outputs": [],
   "source": [
    "### using autoencoder for the data"
   ]
  },
  {
   "cell_type": "code",
   "execution_count": null,
   "metadata": {},
   "outputs": [],
   "source": [
    "from h2o.estimators import H2OAutoEncoderEstimator\n",
    "\n",
    "autoencoder = H2OAutoEncoderEstimator(activation=\"Tanh\",\n",
    "                              hidden=[25],\n",
    "                              ignore_const_cols=False,\n",
    "                              epochs=2000)\n",
    "\n",
    "autoencoder.train(x=train_cols, training_frame=data)"
   ]
  },
  {
   "cell_type": "code",
   "execution_count": null,
   "metadata": {},
   "outputs": [],
   "source": [
    "autoencoder._model_json[\"output\"][\"training_metrics\"]"
   ]
  },
  {
   "cell_type": "code",
   "execution_count": null,
   "metadata": {},
   "outputs": [],
   "source": [
    "train = data"
   ]
  },
  {
   "cell_type": "code",
   "execution_count": null,
   "metadata": {},
   "outputs": [],
   "source": [
    "train_deep_feats = autoencoder.predict(train)\n",
    "train_deep_feats = train_deep_feats.cbind(train['rating'])\n",
    "\n",
    "deep_cols = [x for x in train_deep_feats.col_names if x not in ['rating']]"
   ]
  },
  {
   "cell_type": "code",
   "execution_count": null,
   "metadata": {},
   "outputs": [],
   "source": [
    "from h2o.estimators import H2OXGBoostEstimator\n",
    "param = {\n",
    "      \"ntrees\" : 1000\n",
    "    , \"max_depth\" : 5\n",
    "    , \"learn_rate\" : 0.01\n",
    "    , \"sample_rate\" : 0.7\n",
    "    , \"col_sample_rate_per_tree\" : 0.9\n",
    "    , \"min_rows\" : 5\n",
    "    , \"seed\": 4241\n",
    "    , \"score_tree_interval\": 100\n",
    "    , \"nfolds\": 4\n",
    "    }\n",
    "\n",
    "model = H2OXGBoostEstimator(**param)\n",
    "model.train(x=deep_cols,y=target,training_frame=train_deep_feats)\n",
    "model.summary"
   ]
  },
  {
   "cell_type": "code",
   "execution_count": null,
   "metadata": {},
   "outputs": [],
   "source": []
  }
 ],
 "metadata": {
  "kernelspec": {
   "display_name": "Python [conda env:spike_basicoV2]",
   "language": "python",
   "name": "conda-env-spike_basicoV2-py"
  },
  "language_info": {
   "codemirror_mode": {
    "name": "ipython",
    "version": 3
   },
   "file_extension": ".py",
   "mimetype": "text/x-python",
   "name": "python",
   "nbconvert_exporter": "python",
   "pygments_lexer": "ipython3",
   "version": "3.6.7"
  }
 },
 "nbformat": 4,
 "nbformat_minor": 2
}
