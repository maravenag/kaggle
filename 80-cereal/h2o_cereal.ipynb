{
 "cells": [
  {
   "cell_type": "code",
   "execution_count": 1,
   "metadata": {},
   "outputs": [
    {
     "name": "stdout",
     "output_type": "stream",
     "text": [
      "Checking whether there is an H2O instance running at http://localhost:54321..... not found.\n",
      "Attempting to start a local H2O server...\n",
      "  Java Version: java version \"1.8.0_172\"; Java(TM) SE Runtime Environment (build 1.8.0_172-b11); Java HotSpot(TM) 64-Bit Server VM (build 25.172-b11, mixed mode)\n",
      "  Starting server from /anaconda2/envs/spike_basico/h2o_jar/h2o.jar\n",
      "  Ice root: /var/folders/3z/5qxln1rj4zjblz0l0hvy0n540000gn/T/tmpjed6i27v\n",
      "  JVM stdout: /var/folders/3z/5qxln1rj4zjblz0l0hvy0n540000gn/T/tmpjed6i27v/h2o_maravenag_started_from_python.out\n",
      "  JVM stderr: /var/folders/3z/5qxln1rj4zjblz0l0hvy0n540000gn/T/tmpjed6i27v/h2o_maravenag_started_from_python.err\n",
      "  Server is running at http://127.0.0.1:54321\n",
      "Connecting to H2O server at http://127.0.0.1:54321... successful.\n",
      "Warning: Your H2O cluster version is too old (7 months and 4 days)! Please download and install the latest version from http://h2o.ai/download/\n"
     ]
    },
    {
     "data": {
      "text/html": [
       "<div style=\"overflow:auto\"><table style=\"width:50%\"><tr><td>H2O cluster uptime:</td>\n",
       "<td>02 secs</td></tr>\n",
       "<tr><td>H2O cluster timezone:</td>\n",
       "<td>America/Santiago</td></tr>\n",
       "<tr><td>H2O data parsing timezone:</td>\n",
       "<td>UTC</td></tr>\n",
       "<tr><td>H2O cluster version:</td>\n",
       "<td>3.18.0.2</td></tr>\n",
       "<tr><td>H2O cluster version age:</td>\n",
       "<td>7 months and 4 days !!!</td></tr>\n",
       "<tr><td>H2O cluster name:</td>\n",
       "<td>H2O_from_python_maravenag_lbq9r3</td></tr>\n",
       "<tr><td>H2O cluster total nodes:</td>\n",
       "<td>1</td></tr>\n",
       "<tr><td>H2O cluster free memory:</td>\n",
       "<td>3.556 Gb</td></tr>\n",
       "<tr><td>H2O cluster total cores:</td>\n",
       "<td>8</td></tr>\n",
       "<tr><td>H2O cluster allowed cores:</td>\n",
       "<td>8</td></tr>\n",
       "<tr><td>H2O cluster status:</td>\n",
       "<td>accepting new members, healthy</td></tr>\n",
       "<tr><td>H2O connection url:</td>\n",
       "<td>http://127.0.0.1:54321</td></tr>\n",
       "<tr><td>H2O connection proxy:</td>\n",
       "<td>None</td></tr>\n",
       "<tr><td>H2O internal security:</td>\n",
       "<td>False</td></tr>\n",
       "<tr><td>H2O API Extensions:</td>\n",
       "<td>XGBoost, Algos, AutoML, Core V3, Core V4</td></tr>\n",
       "<tr><td>Python version:</td>\n",
       "<td>3.6.5 final</td></tr></table></div>"
      ],
      "text/plain": [
       "--------------------------  ----------------------------------------\n",
       "H2O cluster uptime:         02 secs\n",
       "H2O cluster timezone:       America/Santiago\n",
       "H2O data parsing timezone:  UTC\n",
       "H2O cluster version:        3.18.0.2\n",
       "H2O cluster version age:    7 months and 4 days !!!\n",
       "H2O cluster name:           H2O_from_python_maravenag_lbq9r3\n",
       "H2O cluster total nodes:    1\n",
       "H2O cluster free memory:    3.556 Gb\n",
       "H2O cluster total cores:    8\n",
       "H2O cluster allowed cores:  8\n",
       "H2O cluster status:         accepting new members, healthy\n",
       "H2O connection url:         http://127.0.0.1:54321\n",
       "H2O connection proxy:\n",
       "H2O internal security:      False\n",
       "H2O API Extensions:         XGBoost, Algos, AutoML, Core V3, Core V4\n",
       "Python version:             3.6.5 final\n",
       "--------------------------  ----------------------------------------"
      ]
     },
     "metadata": {},
     "output_type": "display_data"
    }
   ],
   "source": [
    "import h2o\n",
    "h2o.init()\n",
    "h2o.remove_all()"
   ]
  },
  {
   "cell_type": "code",
   "execution_count": 2,
   "metadata": {},
   "outputs": [
    {
     "name": "stdout",
     "output_type": "stream",
     "text": [
      "Parse progress: |█████████████████████████████████████████████████████████| 100%\n"
     ]
    }
   ],
   "source": [
    "data = h2o.upload_file(\"cereal.csv\", destination_frame=\"train\")"
   ]
  },
  {
   "cell_type": "code",
   "execution_count": 3,
   "metadata": {},
   "outputs": [],
   "source": [
    "data = data.drop(\"name\") #TODO w2v of names"
   ]
  },
  {
   "cell_type": "code",
   "execution_count": 4,
   "metadata": {},
   "outputs": [
    {
     "name": "stdout",
     "output_type": "stream",
     "text": [
      "Rows:77\n",
      "Cols:15\n",
      "\n",
      "\n"
     ]
    },
    {
     "data": {
      "text/html": [
       "<table>\n",
       "<thead>\n",
       "<tr><th>       </th><th>mfr  </th><th>type  </th><th>calories          </th><th>protein          </th><th>fat               </th><th>sodium            </th><th>fiber             </th><th>carbo             </th><th>sugars            </th><th>potass           </th><th>vitamins          </th><th>shelf             </th><th>weight             </th><th>cups               </th><th>rating            </th></tr>\n",
       "</thead>\n",
       "<tbody>\n",
       "<tr><td>type   </td><td>enum </td><td>enum  </td><td>int               </td><td>int              </td><td>int               </td><td>int               </td><td>real              </td><td>real              </td><td>int               </td><td>int              </td><td>int               </td><td>int               </td><td>real               </td><td>real               </td><td>real              </td></tr>\n",
       "<tr><td>mins   </td><td>     </td><td>      </td><td>50.0              </td><td>1.0              </td><td>0.0               </td><td>0.0               </td><td>0.0               </td><td>-1.0              </td><td>-1.0              </td><td>-1.0             </td><td>0.0               </td><td>1.0               </td><td>0.5                </td><td>0.25               </td><td>18.042851         </td></tr>\n",
       "<tr><td>mean   </td><td>     </td><td>      </td><td>106.8831168831169 </td><td>2.545454545454545</td><td>1.0129870129870129</td><td>159.67532467532473</td><td>2.1519480519480525</td><td>14.597402597402601</td><td>6.922077922077923 </td><td>96.07792207792208</td><td>28.246753246753244</td><td>2.2077922077922074</td><td>1.0296103896103896 </td><td>0.8210389610389608 </td><td>42.665704987012965</td></tr>\n",
       "<tr><td>maxs   </td><td>     </td><td>      </td><td>160.0             </td><td>6.0              </td><td>5.0               </td><td>320.0             </td><td>14.0              </td><td>23.0              </td><td>15.0              </td><td>330.0            </td><td>100.0             </td><td>3.0               </td><td>1.5                </td><td>1.5                </td><td>93.704912         </td></tr>\n",
       "<tr><td>sigma  </td><td>     </td><td>      </td><td>19.484119056820845</td><td>1.094789748445534</td><td>1.0064725594803927</td><td>83.83229524009316 </td><td>2.3833639643872226</td><td>4.278956280325907 </td><td>4.4448853924193585</td><td>71.2868125092621 </td><td>22.342522500566307</td><td>0.832524100135788 </td><td>0.15047679973689213</td><td>0.23271613844691388</td><td>14.047288743735217</td></tr>\n",
       "<tr><td>zeros  </td><td>     </td><td>      </td><td>0                 </td><td>0                </td><td>27                </td><td>9                 </td><td>19                </td><td>0                 </td><td>7                 </td><td>0                </td><td>8                 </td><td>0                 </td><td>0                  </td><td>0                  </td><td>0                 </td></tr>\n",
       "<tr><td>missing</td><td>0    </td><td>0     </td><td>0                 </td><td>0                </td><td>0                 </td><td>0                 </td><td>0                 </td><td>0                 </td><td>0                 </td><td>0                </td><td>0                 </td><td>0                 </td><td>0                  </td><td>0                  </td><td>0                 </td></tr>\n",
       "<tr><td>0      </td><td>N    </td><td>C     </td><td>70.0              </td><td>4.0              </td><td>1.0               </td><td>130.0             </td><td>10.0              </td><td>5.0               </td><td>6.0               </td><td>280.0            </td><td>25.0              </td><td>3.0               </td><td>1.0                </td><td>0.33               </td><td>68.402973         </td></tr>\n",
       "<tr><td>1      </td><td>Q    </td><td>C     </td><td>120.0             </td><td>3.0              </td><td>5.0               </td><td>15.0              </td><td>2.0               </td><td>8.0               </td><td>8.0               </td><td>135.0            </td><td>0.0               </td><td>3.0               </td><td>1.0                </td><td>1.0                </td><td>33.983679         </td></tr>\n",
       "<tr><td>2      </td><td>K    </td><td>C     </td><td>70.0              </td><td>4.0              </td><td>1.0               </td><td>260.0             </td><td>9.0               </td><td>7.0               </td><td>5.0               </td><td>320.0            </td><td>25.0              </td><td>3.0               </td><td>1.0                </td><td>0.33               </td><td>59.425505         </td></tr>\n",
       "<tr><td>3      </td><td>K    </td><td>C     </td><td>50.0              </td><td>4.0              </td><td>0.0               </td><td>140.0             </td><td>14.0              </td><td>8.0               </td><td>0.0               </td><td>330.0            </td><td>25.0              </td><td>3.0               </td><td>1.0                </td><td>0.5                </td><td>93.704912         </td></tr>\n",
       "<tr><td>4      </td><td>R    </td><td>C     </td><td>110.0             </td><td>2.0              </td><td>2.0               </td><td>200.0             </td><td>1.0               </td><td>14.0              </td><td>8.0               </td><td>-1.0             </td><td>25.0              </td><td>3.0               </td><td>1.0                </td><td>0.75               </td><td>34.384843         </td></tr>\n",
       "<tr><td>5      </td><td>G    </td><td>C     </td><td>110.0             </td><td>2.0              </td><td>2.0               </td><td>180.0             </td><td>1.5               </td><td>10.5              </td><td>10.0              </td><td>70.0             </td><td>25.0              </td><td>1.0               </td><td>1.0                </td><td>0.75               </td><td>29.509541         </td></tr>\n",
       "<tr><td>6      </td><td>K    </td><td>C     </td><td>110.0             </td><td>2.0              </td><td>0.0               </td><td>125.0             </td><td>1.0               </td><td>11.0              </td><td>14.0              </td><td>30.0             </td><td>25.0              </td><td>2.0               </td><td>1.0                </td><td>1.0                </td><td>33.174094         </td></tr>\n",
       "<tr><td>7      </td><td>G    </td><td>C     </td><td>130.0             </td><td>3.0              </td><td>2.0               </td><td>210.0             </td><td>2.0               </td><td>18.0              </td><td>8.0               </td><td>100.0            </td><td>25.0              </td><td>3.0               </td><td>1.33               </td><td>0.75               </td><td>37.038562         </td></tr>\n",
       "<tr><td>8      </td><td>R    </td><td>C     </td><td>90.0              </td><td>2.0              </td><td>1.0               </td><td>200.0             </td><td>4.0               </td><td>15.0              </td><td>6.0               </td><td>125.0            </td><td>25.0              </td><td>1.0               </td><td>1.0                </td><td>0.67               </td><td>49.120253         </td></tr>\n",
       "<tr><td>9      </td><td>P    </td><td>C     </td><td>90.0              </td><td>3.0              </td><td>0.0               </td><td>210.0             </td><td>5.0               </td><td>13.0              </td><td>5.0               </td><td>190.0            </td><td>25.0              </td><td>3.0               </td><td>1.0                </td><td>0.67               </td><td>53.313813         </td></tr>\n",
       "</tbody>\n",
       "</table>"
      ]
     },
     "metadata": {},
     "output_type": "display_data"
    }
   ],
   "source": [
    "data.describe()"
   ]
  },
  {
   "cell_type": "code",
   "execution_count": 5,
   "metadata": {},
   "outputs": [],
   "source": [
    "data['mfr'] = data['mfr'].asfactor()\n",
    "data['type'] = data['type'].asfactor()"
   ]
  },
  {
   "cell_type": "code",
   "execution_count": 6,
   "metadata": {},
   "outputs": [],
   "source": [
    "target = \"rating\""
   ]
  },
  {
   "cell_type": "code",
   "execution_count": 7,
   "metadata": {},
   "outputs": [],
   "source": [
    "train = data"
   ]
  },
  {
   "cell_type": "code",
   "execution_count": 8,
   "metadata": {},
   "outputs": [],
   "source": [
    "train_cols = [x for x in train.col_names if x not in ['rating']]"
   ]
  },
  {
   "cell_type": "code",
   "execution_count": 30,
   "metadata": {},
   "outputs": [
    {
     "name": "stdout",
     "output_type": "stream",
     "text": [
      "xgboost Model Build progress: |███████████████████████████████████████████| 100%\n",
      "Model Details\n",
      "=============\n",
      "H2OXGBoostEstimator :  XGBoost\n",
      "Model Key:  XGBoost_model_python_1539203830115_12\n",
      "\n",
      "\n",
      "ModelMetricsRegression: xgboost\n",
      "** Reported on train data. **\n",
      "\n",
      "MSE: 3.0463850192816184\n",
      "RMSE: 1.7453896468358057\n",
      "MAE: 0.7456626892089844\n",
      "RMSLE: 0.025406408640985898\n",
      "Mean Residual Deviance: 3.0463850192816184\n",
      "\n",
      "ModelMetricsRegression: xgboost\n",
      "** Reported on cross-validation data. **\n",
      "\n",
      "MSE: 35.38911416734118\n",
      "RMSE: 5.948875033764046\n",
      "MAE: 3.7132217853100267\n",
      "RMSLE: 0.11046380079652524\n",
      "Mean Residual Deviance: 35.38911416734118\n",
      "Cross-Validation Metrics Summary: \n"
     ]
    },
    {
     "data": {
      "text/html": [
       "<div style=\"overflow:auto\"><table style=\"width:50%\"><tr><td><b></b></td>\n",
       "<td><b>mean</b></td>\n",
       "<td><b>sd</b></td>\n",
       "<td><b>cv_1_valid</b></td>\n",
       "<td><b>cv_2_valid</b></td>\n",
       "<td><b>cv_3_valid</b></td>\n",
       "<td><b>cv_4_valid</b></td></tr>\n",
       "<tr><td>mae</td>\n",
       "<td>1.4843518</td>\n",
       "<td>0.1765503</td>\n",
       "<td>1.3779463</td>\n",
       "<td>1.8832344</td>\n",
       "<td>1.4725734</td>\n",
       "<td>1.2036527</td></tr>\n",
       "<tr><td>mean_residual_deviance</td>\n",
       "<td>11.088014</td>\n",
       "<td>5.4814773</td>\n",
       "<td>6.9769115</td>\n",
       "<td>24.506191</td>\n",
       "<td>6.6724415</td>\n",
       "<td>6.1965103</td></tr>\n",
       "<tr><td>mse</td>\n",
       "<td>11.088014</td>\n",
       "<td>5.4814773</td>\n",
       "<td>6.9769115</td>\n",
       "<td>24.506191</td>\n",
       "<td>6.6724415</td>\n",
       "<td>6.1965103</td></tr>\n",
       "<tr><td>r2</td>\n",
       "<td>0.9430694</td>\n",
       "<td>0.0281443</td>\n",
       "<td>0.9641776</td>\n",
       "<td>0.8741747</td>\n",
       "<td>0.9657408</td>\n",
       "<td>0.9681845</td></tr>\n",
       "<tr><td>residual_deviance</td>\n",
       "<td>11.088014</td>\n",
       "<td>5.4814773</td>\n",
       "<td>6.9769115</td>\n",
       "<td>24.506191</td>\n",
       "<td>6.6724415</td>\n",
       "<td>6.1965103</td></tr>\n",
       "<tr><td>rmse</td>\n",
       "<td>3.166036</td>\n",
       "<td>0.7294624</td>\n",
       "<td>2.6413844</td>\n",
       "<td>4.9503727</td>\n",
       "<td>2.583107</td>\n",
       "<td>2.489279</td></tr>\n",
       "<tr><td>rmsle</td>\n",
       "<td>0.0580605</td>\n",
       "<td>0.0100610</td>\n",
       "<td>0.0555494</td>\n",
       "<td>0.0820050</td>\n",
       "<td>0.0468680</td>\n",
       "<td>0.0478196</td></tr></table></div>"
      ],
      "text/plain": [
       "                        mean       sd         cv_1_valid    cv_2_valid    cv_3_valid    cv_4_valid\n",
       "----------------------  ---------  ---------  ------------  ------------  ------------  ------------\n",
       "mae                     1.48435    0.17655    1.37795       1.88323       1.47257       1.20365\n",
       "mean_residual_deviance  11.088     5.48148    6.97691       24.5062       6.67244       6.19651\n",
       "mse                     11.088     5.48148    6.97691       24.5062       6.67244       6.19651\n",
       "r2                      0.943069   0.0281443  0.964178      0.874175      0.965741      0.968185\n",
       "residual_deviance       11.088     5.48148    6.97691       24.5062       6.67244       6.19651\n",
       "rmse                    3.16604    0.729462   2.64138       4.95037       2.58311       2.48928\n",
       "rmsle                   0.0580605  0.010061   0.0555494     0.082005      0.046868      0.0478196"
      ]
     },
     "metadata": {},
     "output_type": "display_data"
    },
    {
     "name": "stdout",
     "output_type": "stream",
     "text": [
      "Scoring History: \n"
     ]
    },
    {
     "data": {
      "text/html": [
       "<div style=\"overflow:auto\"><table style=\"width:50%\"><tr><td><b></b></td>\n",
       "<td><b>timestamp</b></td>\n",
       "<td><b>duration</b></td>\n",
       "<td><b>number_of_trees</b></td>\n",
       "<td><b>training_rmse</b></td>\n",
       "<td><b>training_mae</b></td>\n",
       "<td><b>training_deviance</b></td></tr>\n",
       "<tr><td></td>\n",
       "<td>2018-10-10 17:48:10</td>\n",
       "<td> 7.913 sec</td>\n",
       "<td>0.0</td>\n",
       "<td>44.4152036</td>\n",
       "<td>42.1657050</td>\n",
       "<td>1972.7103148</td></tr>\n",
       "<tr><td></td>\n",
       "<td>2018-10-10 17:48:10</td>\n",
       "<td> 8.073 sec</td>\n",
       "<td>100.0</td>\n",
       "<td>16.9590856</td>\n",
       "<td>15.4659586</td>\n",
       "<td>287.6105859</td></tr>\n",
       "<tr><td></td>\n",
       "<td>2018-10-10 17:48:11</td>\n",
       "<td> 8.270 sec</td>\n",
       "<td>200.0</td>\n",
       "<td>7.1816429</td>\n",
       "<td>5.7562014</td>\n",
       "<td>51.5759954</td></tr>\n",
       "<tr><td></td>\n",
       "<td>2018-10-10 17:48:11</td>\n",
       "<td> 8.507 sec</td>\n",
       "<td>300.0</td>\n",
       "<td>3.9815551</td>\n",
       "<td>2.5291158</td>\n",
       "<td>15.8527810</td></tr>\n",
       "<tr><td></td>\n",
       "<td>2018-10-10 17:48:11</td>\n",
       "<td> 8.806 sec</td>\n",
       "<td>400.0</td>\n",
       "<td>2.9242516</td>\n",
       "<td>1.5058519</td>\n",
       "<td>8.5512477</td></tr>\n",
       "<tr><td></td>\n",
       "<td>2018-10-10 17:48:11</td>\n",
       "<td> 9.172 sec</td>\n",
       "<td>500.0</td>\n",
       "<td>2.5279305</td>\n",
       "<td>1.2179718</td>\n",
       "<td>6.3904325</td></tr>\n",
       "<tr><td></td>\n",
       "<td>2018-10-10 17:48:12</td>\n",
       "<td> 9.563 sec</td>\n",
       "<td>600.0</td>\n",
       "<td>2.3056938</td>\n",
       "<td>1.0842452</td>\n",
       "<td>5.3162240</td></tr>\n",
       "<tr><td></td>\n",
       "<td>2018-10-10 17:48:12</td>\n",
       "<td>10.000 sec</td>\n",
       "<td>700.0</td>\n",
       "<td>2.1387714</td>\n",
       "<td>0.9792090</td>\n",
       "<td>4.5743430</td></tr>\n",
       "<tr><td></td>\n",
       "<td>2018-10-10 17:48:13</td>\n",
       "<td>10.494 sec</td>\n",
       "<td>800.0</td>\n",
       "<td>1.9951047</td>\n",
       "<td>0.8890898</td>\n",
       "<td>3.9804427</td></tr>\n",
       "<tr><td></td>\n",
       "<td>2018-10-10 17:48:13</td>\n",
       "<td>11.026 sec</td>\n",
       "<td>900.0</td>\n",
       "<td>1.8657954</td>\n",
       "<td>0.8156268</td>\n",
       "<td>3.4811924</td></tr>\n",
       "<tr><td></td>\n",
       "<td>2018-10-10 17:48:14</td>\n",
       "<td>11.613 sec</td>\n",
       "<td>1000.0</td>\n",
       "<td>1.7453896</td>\n",
       "<td>0.7456627</td>\n",
       "<td>3.0463850</td></tr></table></div>"
      ],
      "text/plain": [
       "    timestamp            duration    number_of_trees    training_rmse    training_mae    training_deviance\n",
       "--  -------------------  ----------  -----------------  ---------------  --------------  -------------------\n",
       "    2018-10-10 17:48:10  7.913 sec   0                  44.4152          42.1657         1972.71\n",
       "    2018-10-10 17:48:10  8.073 sec   100                16.9591          15.466          287.611\n",
       "    2018-10-10 17:48:11  8.270 sec   200                7.18164          5.7562          51.576\n",
       "    2018-10-10 17:48:11  8.507 sec   300                3.98156          2.52912         15.8528\n",
       "    2018-10-10 17:48:11  8.806 sec   400                2.92425          1.50585         8.55125\n",
       "    2018-10-10 17:48:11  9.172 sec   500                2.52793          1.21797         6.39043\n",
       "    2018-10-10 17:48:12  9.563 sec   600                2.30569          1.08425         5.31622\n",
       "    2018-10-10 17:48:12  10.000 sec  700                2.13877          0.979209        4.57434\n",
       "    2018-10-10 17:48:13  10.494 sec  800                1.9951           0.88909         3.98044\n",
       "    2018-10-10 17:48:13  11.026 sec  900                1.8658           0.815627        3.48119\n",
       "    2018-10-10 17:48:14  11.613 sec  1000               1.74539          0.745663        3.04639"
      ]
     },
     "metadata": {},
     "output_type": "display_data"
    },
    {
     "name": "stdout",
     "output_type": "stream",
     "text": [
      "Variable Importances: \n"
     ]
    },
    {
     "data": {
      "text/html": [
       "<div style=\"overflow:auto\"><table style=\"width:50%\"><tr><td><b>variable</b></td>\n",
       "<td><b>relative_importance</b></td>\n",
       "<td><b>scaled_importance</b></td>\n",
       "<td><b>percentage</b></td></tr>\n",
       "<tr><td>sugars</td>\n",
       "<td>1127.0</td>\n",
       "<td>1.0</td>\n",
       "<td>0.1706800</td></tr>\n",
       "<tr><td>sodium</td>\n",
       "<td>932.0</td>\n",
       "<td>0.8269743</td>\n",
       "<td>0.1411480</td></tr>\n",
       "<tr><td>potass</td>\n",
       "<td>779.0</td>\n",
       "<td>0.6912156</td>\n",
       "<td>0.1179767</td></tr>\n",
       "<tr><td>carbo</td>\n",
       "<td>744.0</td>\n",
       "<td>0.6601597</td>\n",
       "<td>0.1126761</td></tr>\n",
       "<tr><td>fiber</td>\n",
       "<td>592.0</td>\n",
       "<td>0.5252884</td>\n",
       "<td>0.0896562</td></tr>\n",
       "<tr><td>calories</td>\n",
       "<td>486.0</td>\n",
       "<td>0.4312334</td>\n",
       "<td>0.0736029</td></tr>\n",
       "<tr><td>protein</td>\n",
       "<td>432.0</td>\n",
       "<td>0.3833185</td>\n",
       "<td>0.0654248</td></tr>\n",
       "<tr><td>fat</td>\n",
       "<td>381.0</td>\n",
       "<td>0.3380657</td>\n",
       "<td>0.0577010</td></tr>\n",
       "<tr><td>cups</td>\n",
       "<td>374.0</td>\n",
       "<td>0.3318545</td>\n",
       "<td>0.0566409</td></tr>\n",
       "<tr><td>shelf</td>\n",
       "<td>226.0</td>\n",
       "<td>0.2005324</td>\n",
       "<td>0.0342269</td></tr>\n",
       "<tr><td>mfr.K</td>\n",
       "<td>146.0</td>\n",
       "<td>0.1295475</td>\n",
       "<td>0.0221112</td></tr>\n",
       "<tr><td>vitamins</td>\n",
       "<td>126.0</td>\n",
       "<td>0.1118012</td>\n",
       "<td>0.0190822</td></tr>\n",
       "<tr><td>mfr.Q</td>\n",
       "<td>101.0</td>\n",
       "<td>0.0896185</td>\n",
       "<td>0.0152961</td></tr>\n",
       "<tr><td>mfr.G</td>\n",
       "<td>79.0</td>\n",
       "<td>0.0700976</td>\n",
       "<td>0.0119643</td></tr>\n",
       "<tr><td>weight</td>\n",
       "<td>34.0</td>\n",
       "<td>0.0301686</td>\n",
       "<td>0.0051492</td></tr>\n",
       "<tr><td>mfr.N</td>\n",
       "<td>33.0</td>\n",
       "<td>0.0292813</td>\n",
       "<td>0.0049977</td></tr>\n",
       "<tr><td>mfr.P</td>\n",
       "<td>7.0</td>\n",
       "<td>0.0062112</td>\n",
       "<td>0.0010601</td></tr>\n",
       "<tr><td>mfr.R</td>\n",
       "<td>4.0</td>\n",
       "<td>0.0035492</td>\n",
       "<td>0.0006058</td></tr></table></div>"
      ],
      "text/plain": [
       "variable    relative_importance    scaled_importance    percentage\n",
       "----------  ---------------------  -------------------  ------------\n",
       "sugars      1127                   1                    0.17068\n",
       "sodium      932                    0.826974             0.141148\n",
       "potass      779                    0.691216             0.117977\n",
       "carbo       744                    0.66016              0.112676\n",
       "fiber       592                    0.525288             0.0896562\n",
       "calories    486                    0.431233             0.0736029\n",
       "protein     432                    0.383319             0.0654248\n",
       "fat         381                    0.338066             0.057701\n",
       "cups        374                    0.331854             0.0566409\n",
       "shelf       226                    0.200532             0.0342269\n",
       "mfr.K       146                    0.129547             0.0221112\n",
       "vitamins    126                    0.111801             0.0190822\n",
       "mfr.Q       101                    0.0896185            0.0152961\n",
       "mfr.G       79                     0.0700976            0.0119643\n",
       "weight      34                     0.0301686            0.00514917\n",
       "mfr.N       33                     0.0292813            0.00499773\n",
       "mfr.P       7                      0.00621118           0.00106012\n",
       "mfr.R       4                      0.00354925           0.000605785"
      ]
     },
     "metadata": {},
     "output_type": "display_data"
    },
    {
     "data": {
      "text/plain": [
       "<bound method ModelBase.summary of >"
      ]
     },
     "execution_count": 30,
     "metadata": {},
     "output_type": "execute_result"
    }
   ],
   "source": [
    "from h2o.estimators import H2OXGBoostEstimator\n",
    "param = {\n",
    "      \"ntrees\" : 1000\n",
    "    , \"max_depth\" : 5\n",
    "    , \"learn_rate\" : 0.01\n",
    "    , \"sample_rate\" : 0.7\n",
    "    , \"col_sample_rate_per_tree\" : 0.9\n",
    "    , \"min_rows\" : 5\n",
    "    , \"seed\": 4241\n",
    "    , \"score_tree_interval\": 100\n",
    "    , \"nfolds\": 4\n",
    "    }\n",
    "\n",
    "model = H2OXGBoostEstimator(**param)\n",
    "model.train(x=train_cols,y=target,training_frame=train)\n",
    "model.summary"
   ]
  },
  {
   "cell_type": "code",
   "execution_count": 31,
   "metadata": {},
   "outputs": [],
   "source": [
    "### using autoencoder for the data"
   ]
  },
  {
   "cell_type": "code",
   "execution_count": 32,
   "metadata": {},
   "outputs": [
    {
     "name": "stdout",
     "output_type": "stream",
     "text": [
      "deeplearning Model Build progress: |██████████████████████████████████████| 100%\n"
     ]
    }
   ],
   "source": [
    "from h2o.estimators import H2OAutoEncoderEstimator\n",
    "\n",
    "autoencoder = H2OAutoEncoderEstimator(activation=\"Tanh\",\n",
    "                              hidden=[25],\n",
    "                              ignore_const_cols=False,\n",
    "                              epochs=2000)\n",
    "\n",
    "autoencoder.train(x=train_cols, training_frame=data)"
   ]
  },
  {
   "cell_type": "code",
   "execution_count": 33,
   "metadata": {},
   "outputs": [
    {
     "name": "stdout",
     "output_type": "stream",
     "text": [
      "\n",
      "ModelMetricsAutoEncoder: deeplearning\n",
      "** Reported on train data. **\n",
      "\n",
      "MSE: 0.0002812971503097929\n",
      "RMSE: 0.016771915522974495\n"
     ]
    },
    {
     "data": {
      "text/plain": []
     },
     "execution_count": 33,
     "metadata": {},
     "output_type": "execute_result"
    }
   ],
   "source": [
    "autoencoder._model_json[\"output\"][\"training_metrics\"]"
   ]
  },
  {
   "cell_type": "code",
   "execution_count": 34,
   "metadata": {},
   "outputs": [],
   "source": [
    "train = data"
   ]
  },
  {
   "cell_type": "code",
   "execution_count": 35,
   "metadata": {},
   "outputs": [
    {
     "name": "stdout",
     "output_type": "stream",
     "text": [
      "deeplearning prediction progress: |███████████████████████████████████████| 100%\n"
     ]
    }
   ],
   "source": [
    "train_deep_feats = autoencoder.predict(train)\n",
    "train_deep_feats = train_deep_feats.cbind(train['rating'])\n",
    "\n",
    "deep_cols = [x for x in train_deep_feats.col_names if x not in ['rating']]"
   ]
  },
  {
   "cell_type": "code",
   "execution_count": 36,
   "metadata": {},
   "outputs": [
    {
     "name": "stdout",
     "output_type": "stream",
     "text": [
      "xgboost Model Build progress: |███████████████████████████████████████████| 100%\n",
      "Model Details\n",
      "=============\n",
      "H2OXGBoostEstimator :  XGBoost\n",
      "Model Key:  XGBoost_model_python_1539203830115_14\n",
      "\n",
      "\n",
      "ModelMetricsRegression: xgboost\n",
      "** Reported on train data. **\n",
      "\n",
      "MSE: 2.2500614881919554\n",
      "RMSE: 1.5000204959239576\n",
      "MAE: 0.47433169476397624\n",
      "RMSLE: 0.020054750937468543\n",
      "Mean Residual Deviance: 2.2500614881919554\n",
      "\n",
      "ModelMetricsRegression: xgboost\n",
      "** Reported on cross-validation data. **\n",
      "\n",
      "MSE: 38.56179252843272\n",
      "RMSE: 6.209814210460142\n",
      "MAE: 4.110553642372032\n",
      "RMSLE: 0.11605827100477872\n",
      "Mean Residual Deviance: 38.56179252843272\n",
      "Cross-Validation Metrics Summary: \n"
     ]
    },
    {
     "data": {
      "text/html": [
       "<div style=\"overflow:auto\"><table style=\"width:50%\"><tr><td><b></b></td>\n",
       "<td><b>mean</b></td>\n",
       "<td><b>sd</b></td>\n",
       "<td><b>cv_1_valid</b></td>\n",
       "<td><b>cv_2_valid</b></td>\n",
       "<td><b>cv_3_valid</b></td>\n",
       "<td><b>cv_4_valid</b></td></tr>\n",
       "<tr><td>mae</td>\n",
       "<td>1.375283</td>\n",
       "<td>0.1585036</td>\n",
       "<td>1.3389386</td>\n",
       "<td>1.5866401</td>\n",
       "<td>1.552049</td>\n",
       "<td>1.0235044</td></tr>\n",
       "<tr><td>mean_residual_deviance</td>\n",
       "<td>11.279733</td>\n",
       "<td>4.900776</td>\n",
       "<td>7.72362</td>\n",
       "<td>23.072931</td>\n",
       "<td>8.962655</td>\n",
       "<td>5.359724</td></tr>\n",
       "<tr><td>mse</td>\n",
       "<td>11.279733</td>\n",
       "<td>4.900776</td>\n",
       "<td>7.72362</td>\n",
       "<td>23.072931</td>\n",
       "<td>8.962655</td>\n",
       "<td>5.359724</td></tr>\n",
       "<tr><td>r2</td>\n",
       "<td>0.942085</td>\n",
       "<td>0.0251627</td>\n",
       "<td>0.9603436</td>\n",
       "<td>0.8815337</td>\n",
       "<td>0.9539819</td>\n",
       "<td>0.9724809</td></tr>\n",
       "<tr><td>residual_deviance</td>\n",
       "<td>11.279733</td>\n",
       "<td>4.900776</td>\n",
       "<td>7.72362</td>\n",
       "<td>23.072931</td>\n",
       "<td>8.962655</td>\n",
       "<td>5.359724</td></tr>\n",
       "<tr><td>rmse</td>\n",
       "<td>3.2228615</td>\n",
       "<td>0.6681675</td>\n",
       "<td>2.77914</td>\n",
       "<td>4.803429</td>\n",
       "<td>2.9937694</td>\n",
       "<td>2.3151078</td></tr>\n",
       "<tr><td>rmsle</td>\n",
       "<td>0.0599288</td>\n",
       "<td>0.0072478</td>\n",
       "<td>0.0610392</td>\n",
       "<td>0.0756677</td>\n",
       "<td>0.0553353</td>\n",
       "<td>0.0476732</td></tr></table></div>"
      ],
      "text/plain": [
       "                        mean       sd          cv_1_valid    cv_2_valid    cv_3_valid    cv_4_valid\n",
       "----------------------  ---------  ----------  ------------  ------------  ------------  ------------\n",
       "mae                     1.37528    0.158504    1.33894       1.58664       1.55205       1.0235\n",
       "mean_residual_deviance  11.2797    4.90078     7.72362       23.0729       8.96265       5.35972\n",
       "mse                     11.2797    4.90078     7.72362       23.0729       8.96265       5.35972\n",
       "r2                      0.942085   0.0251627   0.960344      0.881534      0.953982      0.972481\n",
       "residual_deviance       11.2797    4.90078     7.72362       23.0729       8.96265       5.35972\n",
       "rmse                    3.22286    0.668168    2.77914       4.80343       2.99377       2.31511\n",
       "rmsle                   0.0599288  0.00724781  0.0610392     0.0756677     0.0553353     0.0476732"
      ]
     },
     "metadata": {},
     "output_type": "display_data"
    },
    {
     "name": "stdout",
     "output_type": "stream",
     "text": [
      "Scoring History: \n"
     ]
    },
    {
     "data": {
      "text/html": [
       "<div style=\"overflow:auto\"><table style=\"width:50%\"><tr><td><b></b></td>\n",
       "<td><b>timestamp</b></td>\n",
       "<td><b>duration</b></td>\n",
       "<td><b>number_of_trees</b></td>\n",
       "<td><b>training_rmse</b></td>\n",
       "<td><b>training_mae</b></td>\n",
       "<td><b>training_deviance</b></td></tr>\n",
       "<tr><td></td>\n",
       "<td>2018-10-10 17:48:33</td>\n",
       "<td> 8.150 sec</td>\n",
       "<td>0.0</td>\n",
       "<td>44.4152036</td>\n",
       "<td>42.1657050</td>\n",
       "<td>1972.7103148</td></tr>\n",
       "<tr><td></td>\n",
       "<td>2018-10-10 17:48:34</td>\n",
       "<td> 8.344 sec</td>\n",
       "<td>100.0</td>\n",
       "<td>16.8898243</td>\n",
       "<td>15.4771306</td>\n",
       "<td>285.2661641</td></tr>\n",
       "<tr><td></td>\n",
       "<td>2018-10-10 17:48:34</td>\n",
       "<td> 8.564 sec</td>\n",
       "<td>200.0</td>\n",
       "<td>6.9915813</td>\n",
       "<td>5.7036752</td>\n",
       "<td>48.8822090</td></tr>\n",
       "<tr><td></td>\n",
       "<td>2018-10-10 17:48:34</td>\n",
       "<td> 8.822 sec</td>\n",
       "<td>300.0</td>\n",
       "<td>3.7364926</td>\n",
       "<td>2.3019989</td>\n",
       "<td>13.9613769</td></tr>\n",
       "<tr><td></td>\n",
       "<td>2018-10-10 17:48:34</td>\n",
       "<td> 9.125 sec</td>\n",
       "<td>400.0</td>\n",
       "<td>2.6819822</td>\n",
       "<td>1.2095133</td>\n",
       "<td>7.1930288</td></tr>\n",
       "<tr><td></td>\n",
       "<td>2018-10-10 17:48:35</td>\n",
       "<td> 9.498 sec</td>\n",
       "<td>500.0</td>\n",
       "<td>2.3038664</td>\n",
       "<td>0.9097620</td>\n",
       "<td>5.3078003</td></tr>\n",
       "<tr><td></td>\n",
       "<td>2018-10-10 17:48:35</td>\n",
       "<td> 9.927 sec</td>\n",
       "<td>600.0</td>\n",
       "<td>2.0890664</td>\n",
       "<td>0.7690812</td>\n",
       "<td>4.3641986</td></tr>\n",
       "<tr><td></td>\n",
       "<td>2018-10-10 17:48:36</td>\n",
       "<td>10.386 sec</td>\n",
       "<td>700.0</td>\n",
       "<td>1.9110703</td>\n",
       "<td>0.6564965</td>\n",
       "<td>3.6521895</td></tr>\n",
       "<tr><td></td>\n",
       "<td>2018-10-10 17:48:36</td>\n",
       "<td>10.922 sec</td>\n",
       "<td>800.0</td>\n",
       "<td>1.7659607</td>\n",
       "<td>0.5880838</td>\n",
       "<td>3.1186170</td></tr>\n",
       "<tr><td></td>\n",
       "<td>2018-10-10 17:48:37</td>\n",
       "<td>11.466 sec</td>\n",
       "<td>900.0</td>\n",
       "<td>1.6192433</td>\n",
       "<td>0.5239608</td>\n",
       "<td>2.6219488</td></tr>\n",
       "<tr><td></td>\n",
       "<td>2018-10-10 17:48:37</td>\n",
       "<td>12.125 sec</td>\n",
       "<td>1000.0</td>\n",
       "<td>1.5000205</td>\n",
       "<td>0.4743317</td>\n",
       "<td>2.2500615</td></tr></table></div>"
      ],
      "text/plain": [
       "    timestamp            duration    number_of_trees    training_rmse    training_mae    training_deviance\n",
       "--  -------------------  ----------  -----------------  ---------------  --------------  -------------------\n",
       "    2018-10-10 17:48:33  8.150 sec   0                  44.4152          42.1657         1972.71\n",
       "    2018-10-10 17:48:34  8.344 sec   100                16.8898          15.4771         285.266\n",
       "    2018-10-10 17:48:34  8.564 sec   200                6.99158          5.70368         48.8822\n",
       "    2018-10-10 17:48:34  8.822 sec   300                3.73649          2.302           13.9614\n",
       "    2018-10-10 17:48:34  9.125 sec   400                2.68198          1.20951         7.19303\n",
       "    2018-10-10 17:48:35  9.498 sec   500                2.30387          0.909762        5.3078\n",
       "    2018-10-10 17:48:35  9.927 sec   600                2.08907          0.769081        4.3642\n",
       "    2018-10-10 17:48:36  10.386 sec  700                1.91107          0.656496        3.65219\n",
       "    2018-10-10 17:48:36  10.922 sec  800                1.76596          0.588084        3.11862\n",
       "    2018-10-10 17:48:37  11.466 sec  900                1.61924          0.523961        2.62195\n",
       "    2018-10-10 17:48:37  12.125 sec  1000               1.50002          0.474332        2.25006"
      ]
     },
     "metadata": {},
     "output_type": "display_data"
    },
    {
     "name": "stdout",
     "output_type": "stream",
     "text": [
      "Variable Importances: \n"
     ]
    },
    {
     "data": {
      "text/html": [
       "<div style=\"overflow:auto\"><table style=\"width:50%\"><tr><td><b>variable</b></td>\n",
       "<td><b>relative_importance</b></td>\n",
       "<td><b>scaled_importance</b></td>\n",
       "<td><b>percentage</b></td></tr>\n",
       "<tr><td>reconstr_sugars</td>\n",
       "<td>614.0</td>\n",
       "<td>1.0</td>\n",
       "<td>0.0957729</td></tr>\n",
       "<tr><td>reconstr_fiber</td>\n",
       "<td>473.0</td>\n",
       "<td>0.7703583</td>\n",
       "<td>0.0737794</td></tr>\n",
       "<tr><td>reconstr_type.C</td>\n",
       "<td>413.0</td>\n",
       "<td>0.6726384</td>\n",
       "<td>0.0644205</td></tr>\n",
       "<tr><td>reconstr_calories</td>\n",
       "<td>390.0</td>\n",
       "<td>0.6351792</td>\n",
       "<td>0.0608329</td></tr>\n",
       "<tr><td>reconstr_fat</td>\n",
       "<td>387.0</td>\n",
       "<td>0.6302932</td>\n",
       "<td>0.0603650</td></tr>\n",
       "<tr><td>---</td>\n",
       "<td>---</td>\n",
       "<td>---</td>\n",
       "<td>---</td></tr>\n",
       "<tr><td>reconstr_mfr.missing(NA)</td>\n",
       "<td>162.0</td>\n",
       "<td>0.2638436</td>\n",
       "<td>0.0252691</td></tr>\n",
       "<tr><td>reconstr_cups</td>\n",
       "<td>158.0</td>\n",
       "<td>0.2573290</td>\n",
       "<td>0.0246451</td></tr>\n",
       "<tr><td>reconstr_mfr.P</td>\n",
       "<td>151.0</td>\n",
       "<td>0.2459283</td>\n",
       "<td>0.0235533</td></tr>\n",
       "<tr><td>reconstr_mfr.K</td>\n",
       "<td>131.0</td>\n",
       "<td>0.2133550</td>\n",
       "<td>0.0204336</td></tr>\n",
       "<tr><td>reconstr_weight</td>\n",
       "<td>110.0</td>\n",
       "<td>0.1791531</td>\n",
       "<td>0.0171580</td></tr></table></div>"
      ],
      "text/plain": [
       "variable                  relative_importance    scaled_importance    percentage\n",
       "------------------------  ---------------------  -------------------  --------------------\n",
       "reconstr_sugars           614.0                  1.0                  0.09577289034472002\n",
       "reconstr_fiber            473.0                  0.7703583061889251   0.07377944158477616\n",
       "reconstr_type.C           413.0                  0.6726384364820847   0.06442052721884262\n",
       "reconstr_calories         390.0                  0.6351791530944625   0.06083294337856809\n",
       "reconstr_fat              387.0                  0.6302931596091205   0.06036499766027141\n",
       "---                       ---                    ---                  ---\n",
       "reconstr_mfr.missing(NA)  162.0                  0.26384364820846906  0.02526906878802059\n",
       "reconstr_cups             158.0                  0.25732899022801303  0.02464514116362502\n",
       "reconstr_mfr.P            151.0                  0.24592833876221498  0.023553267820932772\n",
       "reconstr_mfr.K            131.0                  0.21335504885993486  0.02043362969895492\n",
       "reconstr_weight           110.0                  0.1791530944625407   0.017158009670878178"
      ]
     },
     "metadata": {},
     "output_type": "display_data"
    },
    {
     "name": "stdout",
     "output_type": "stream",
     "text": [
      "\n",
      "See the whole table with table.as_data_frame()\n"
     ]
    },
    {
     "data": {
      "text/plain": [
       "<bound method ModelBase.summary of >"
      ]
     },
     "execution_count": 36,
     "metadata": {},
     "output_type": "execute_result"
    }
   ],
   "source": [
    "from h2o.estimators import H2OXGBoostEstimator\n",
    "param = {\n",
    "      \"ntrees\" : 1000\n",
    "    , \"max_depth\" : 5\n",
    "    , \"learn_rate\" : 0.01\n",
    "    , \"sample_rate\" : 0.7\n",
    "    , \"col_sample_rate_per_tree\" : 0.9\n",
    "    , \"min_rows\" : 5\n",
    "    , \"seed\": 4241\n",
    "    , \"score_tree_interval\": 100\n",
    "    , \"nfolds\": 4\n",
    "    }\n",
    "\n",
    "model = H2OXGBoostEstimator(**param)\n",
    "model.train(x=deep_cols,y=target,training_frame=train_deep_feats)\n",
    "model.summary"
   ]
  },
  {
   "cell_type": "code",
   "execution_count": null,
   "metadata": {},
   "outputs": [],
   "source": []
  }
 ],
 "metadata": {
  "kernelspec": {
   "display_name": "Python [conda env:spike_basico]",
   "language": "python",
   "name": "conda-env-spike_basico-py"
  },
  "language_info": {
   "codemirror_mode": {
    "name": "ipython",
    "version": 3
   },
   "file_extension": ".py",
   "mimetype": "text/x-python",
   "name": "python",
   "nbconvert_exporter": "python",
   "pygments_lexer": "ipython3",
   "version": "3.6.5"
  }
 },
 "nbformat": 4,
 "nbformat_minor": 2
}
