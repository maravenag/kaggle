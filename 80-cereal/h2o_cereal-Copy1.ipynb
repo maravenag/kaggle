{
 "cells": [
  {
   "cell_type": "code",
   "execution_count": 7,
   "metadata": {},
   "outputs": [
    {
     "name": "stdout",
     "output_type": "stream",
     "text": [
      "Checking whether there is an H2O instance running at http://localhost:54321. connected.\n"
     ]
    },
    {
     "data": {
      "text/html": [
       "<div style=\"overflow:auto\"><table style=\"width:50%\"><tr><td>H2O cluster uptime:</td>\n",
       "<td>5 days 20 hours 48 mins</td></tr>\n",
       "<tr><td>H2O cluster timezone:</td>\n",
       "<td>America/Santiago</td></tr>\n",
       "<tr><td>H2O data parsing timezone:</td>\n",
       "<td>UTC</td></tr>\n",
       "<tr><td>H2O cluster version:</td>\n",
       "<td>3.22.0.3</td></tr>\n",
       "<tr><td>H2O cluster version age:</td>\n",
       "<td>17 days </td></tr>\n",
       "<tr><td>H2O cluster name:</td>\n",
       "<td>H2O_from_python_maravenag_3wzuvj</td></tr>\n",
       "<tr><td>H2O cluster total nodes:</td>\n",
       "<td>1</td></tr>\n",
       "<tr><td>H2O cluster free memory:</td>\n",
       "<td>3.271 Gb</td></tr>\n",
       "<tr><td>H2O cluster total cores:</td>\n",
       "<td>8</td></tr>\n",
       "<tr><td>H2O cluster allowed cores:</td>\n",
       "<td>8</td></tr>\n",
       "<tr><td>H2O cluster status:</td>\n",
       "<td>locked, healthy</td></tr>\n",
       "<tr><td>H2O connection url:</td>\n",
       "<td>http://localhost:54321</td></tr>\n",
       "<tr><td>H2O connection proxy:</td>\n",
       "<td>None</td></tr>\n",
       "<tr><td>H2O internal security:</td>\n",
       "<td>False</td></tr>\n",
       "<tr><td>H2O API Extensions:</td>\n",
       "<td>XGBoost, Algos, AutoML, Core V3, Core V4</td></tr>\n",
       "<tr><td>Python version:</td>\n",
       "<td>3.6.7 final</td></tr></table></div>"
      ],
      "text/plain": [
       "--------------------------  ----------------------------------------\n",
       "H2O cluster uptime:         5 days 20 hours 48 mins\n",
       "H2O cluster timezone:       America/Santiago\n",
       "H2O data parsing timezone:  UTC\n",
       "H2O cluster version:        3.22.0.3\n",
       "H2O cluster version age:    17 days\n",
       "H2O cluster name:           H2O_from_python_maravenag_3wzuvj\n",
       "H2O cluster total nodes:    1\n",
       "H2O cluster free memory:    3.271 Gb\n",
       "H2O cluster total cores:    8\n",
       "H2O cluster allowed cores:  8\n",
       "H2O cluster status:         locked, healthy\n",
       "H2O connection url:         http://localhost:54321\n",
       "H2O connection proxy:\n",
       "H2O internal security:      False\n",
       "H2O API Extensions:         XGBoost, Algos, AutoML, Core V3, Core V4\n",
       "Python version:             3.6.7 final\n",
       "--------------------------  ----------------------------------------"
      ]
     },
     "metadata": {},
     "output_type": "display_data"
    }
   ],
   "source": [
    "import h2o\n",
    "h2o.init()\n",
    "h2o.remove_all()"
   ]
  },
  {
   "cell_type": "code",
   "execution_count": 8,
   "metadata": {},
   "outputs": [
    {
     "name": "stdout",
     "output_type": "stream",
     "text": [
      "Parse progress: |█████████████████████████████████████████████████████████| 100%\n"
     ]
    }
   ],
   "source": [
    "data = h2o.upload_file(\"cereal.csv\", destination_frame=\"train\")"
   ]
  },
  {
   "cell_type": "code",
   "execution_count": 9,
   "metadata": {},
   "outputs": [],
   "source": [
    "data = data.drop(\"name\")"
   ]
  },
  {
   "cell_type": "code",
   "execution_count": 10,
   "metadata": {},
   "outputs": [
    {
     "name": "stdout",
     "output_type": "stream",
     "text": [
      "Rows:77\n",
      "Cols:15\n",
      "\n",
      "\n"
     ]
    },
    {
     "data": {
      "text/html": [
       "<table>\n",
       "<thead>\n",
       "<tr><th>       </th><th>mfr  </th><th>type  </th><th>calories          </th><th>protein          </th><th>fat               </th><th>sodium            </th><th>fiber             </th><th>carbo             </th><th>sugars            </th><th>potass           </th><th>vitamins          </th><th>shelf             </th><th>weight             </th><th>cups               </th><th>rating            </th></tr>\n",
       "</thead>\n",
       "<tbody>\n",
       "<tr><td>type   </td><td>enum </td><td>enum  </td><td>int               </td><td>int              </td><td>int               </td><td>int               </td><td>real              </td><td>real              </td><td>int               </td><td>int              </td><td>int               </td><td>int               </td><td>real               </td><td>real               </td><td>real              </td></tr>\n",
       "<tr><td>mins   </td><td>     </td><td>      </td><td>50.0              </td><td>1.0              </td><td>0.0               </td><td>0.0               </td><td>0.0               </td><td>-1.0              </td><td>-1.0              </td><td>-1.0             </td><td>0.0               </td><td>1.0               </td><td>0.5                </td><td>0.25               </td><td>18.042851         </td></tr>\n",
       "<tr><td>mean   </td><td>     </td><td>      </td><td>106.8831168831169 </td><td>2.545454545454545</td><td>1.0129870129870129</td><td>159.67532467532473</td><td>2.1519480519480525</td><td>14.597402597402601</td><td>6.922077922077923 </td><td>96.07792207792208</td><td>28.246753246753244</td><td>2.2077922077922074</td><td>1.0296103896103896 </td><td>0.8210389610389608 </td><td>42.665704987012965</td></tr>\n",
       "<tr><td>maxs   </td><td>     </td><td>      </td><td>160.0             </td><td>6.0              </td><td>5.0               </td><td>320.0             </td><td>14.0              </td><td>23.0              </td><td>15.0              </td><td>330.0            </td><td>100.0             </td><td>3.0               </td><td>1.5                </td><td>1.5                </td><td>93.704912         </td></tr>\n",
       "<tr><td>sigma  </td><td>     </td><td>      </td><td>19.484119056820845</td><td>1.094789748445534</td><td>1.0064725594803927</td><td>83.83229524009316 </td><td>2.3833639643872226</td><td>4.278956280325907 </td><td>4.4448853924193585</td><td>71.2868125092621 </td><td>22.342522500566307</td><td>0.832524100135788 </td><td>0.15047679973689213</td><td>0.23271613844691388</td><td>14.047288743735217</td></tr>\n",
       "<tr><td>zeros  </td><td>     </td><td>      </td><td>0                 </td><td>0                </td><td>27                </td><td>9                 </td><td>19                </td><td>0                 </td><td>7                 </td><td>0                </td><td>8                 </td><td>0                 </td><td>0                  </td><td>0                  </td><td>0                 </td></tr>\n",
       "<tr><td>missing</td><td>0    </td><td>0     </td><td>0                 </td><td>0                </td><td>0                 </td><td>0                 </td><td>0                 </td><td>0                 </td><td>0                 </td><td>0                </td><td>0                 </td><td>0                 </td><td>0                  </td><td>0                  </td><td>0                 </td></tr>\n",
       "<tr><td>0      </td><td>N    </td><td>C     </td><td>70.0              </td><td>4.0              </td><td>1.0               </td><td>130.0             </td><td>10.0              </td><td>5.0               </td><td>6.0               </td><td>280.0            </td><td>25.0              </td><td>3.0               </td><td>1.0                </td><td>0.33               </td><td>68.402973         </td></tr>\n",
       "<tr><td>1      </td><td>Q    </td><td>C     </td><td>120.0             </td><td>3.0              </td><td>5.0               </td><td>15.0              </td><td>2.0               </td><td>8.0               </td><td>8.0               </td><td>135.0            </td><td>0.0               </td><td>3.0               </td><td>1.0                </td><td>1.0                </td><td>33.983679         </td></tr>\n",
       "<tr><td>2      </td><td>K    </td><td>C     </td><td>70.0              </td><td>4.0              </td><td>1.0               </td><td>260.0             </td><td>9.0               </td><td>7.0               </td><td>5.0               </td><td>320.0            </td><td>25.0              </td><td>3.0               </td><td>1.0                </td><td>0.33               </td><td>59.425505         </td></tr>\n",
       "<tr><td>3      </td><td>K    </td><td>C     </td><td>50.0              </td><td>4.0              </td><td>0.0               </td><td>140.0             </td><td>14.0              </td><td>8.0               </td><td>0.0               </td><td>330.0            </td><td>25.0              </td><td>3.0               </td><td>1.0                </td><td>0.5                </td><td>93.704912         </td></tr>\n",
       "<tr><td>4      </td><td>R    </td><td>C     </td><td>110.0             </td><td>2.0              </td><td>2.0               </td><td>200.0             </td><td>1.0               </td><td>14.0              </td><td>8.0               </td><td>-1.0             </td><td>25.0              </td><td>3.0               </td><td>1.0                </td><td>0.75               </td><td>34.384843         </td></tr>\n",
       "<tr><td>5      </td><td>G    </td><td>C     </td><td>110.0             </td><td>2.0              </td><td>2.0               </td><td>180.0             </td><td>1.5               </td><td>10.5              </td><td>10.0              </td><td>70.0             </td><td>25.0              </td><td>1.0               </td><td>1.0                </td><td>0.75               </td><td>29.509541         </td></tr>\n",
       "<tr><td>6      </td><td>K    </td><td>C     </td><td>110.0             </td><td>2.0              </td><td>0.0               </td><td>125.0             </td><td>1.0               </td><td>11.0              </td><td>14.0              </td><td>30.0             </td><td>25.0              </td><td>2.0               </td><td>1.0                </td><td>1.0                </td><td>33.174094         </td></tr>\n",
       "<tr><td>7      </td><td>G    </td><td>C     </td><td>130.0             </td><td>3.0              </td><td>2.0               </td><td>210.0             </td><td>2.0               </td><td>18.0              </td><td>8.0               </td><td>100.0            </td><td>25.0              </td><td>3.0               </td><td>1.33               </td><td>0.75               </td><td>37.038562         </td></tr>\n",
       "<tr><td>8      </td><td>R    </td><td>C     </td><td>90.0              </td><td>2.0              </td><td>1.0               </td><td>200.0             </td><td>4.0               </td><td>15.0              </td><td>6.0               </td><td>125.0            </td><td>25.0              </td><td>1.0               </td><td>1.0                </td><td>0.67               </td><td>49.120253         </td></tr>\n",
       "<tr><td>9      </td><td>P    </td><td>C     </td><td>90.0              </td><td>3.0              </td><td>0.0               </td><td>210.0             </td><td>5.0               </td><td>13.0              </td><td>5.0               </td><td>190.0            </td><td>25.0              </td><td>3.0               </td><td>1.0                </td><td>0.67               </td><td>53.313813         </td></tr>\n",
       "</tbody>\n",
       "</table>"
      ]
     },
     "metadata": {},
     "output_type": "display_data"
    }
   ],
   "source": [
    "data.describe()"
   ]
  },
  {
   "cell_type": "code",
   "execution_count": 11,
   "metadata": {},
   "outputs": [],
   "source": [
    "data['mfr'] = data['mfr'].asfactor()\n",
    "data['type'] = data['type'].asfactor()"
   ]
  },
  {
   "cell_type": "code",
   "execution_count": 12,
   "metadata": {},
   "outputs": [
    {
     "data": {
      "text/html": [
       "<table>\n",
       "<thead>\n",
       "<tr><th>mfr  </th><th>type  </th><th style=\"text-align: right;\">  calories</th><th style=\"text-align: right;\">  protein</th><th style=\"text-align: right;\">  fat</th><th style=\"text-align: right;\">  sodium</th><th style=\"text-align: right;\">  fiber</th><th style=\"text-align: right;\">  carbo</th><th style=\"text-align: right;\">  sugars</th><th style=\"text-align: right;\">  potass</th><th style=\"text-align: right;\">  vitamins</th><th style=\"text-align: right;\">  shelf</th><th style=\"text-align: right;\">  weight</th><th style=\"text-align: right;\">  cups</th><th style=\"text-align: right;\">  rating</th></tr>\n",
       "</thead>\n",
       "<tbody>\n",
       "<tr><td>N    </td><td>C     </td><td style=\"text-align: right;\">        70</td><td style=\"text-align: right;\">        4</td><td style=\"text-align: right;\">    1</td><td style=\"text-align: right;\">     130</td><td style=\"text-align: right;\">   10  </td><td style=\"text-align: right;\">    5  </td><td style=\"text-align: right;\">       6</td><td style=\"text-align: right;\">     280</td><td style=\"text-align: right;\">        25</td><td style=\"text-align: right;\">      3</td><td style=\"text-align: right;\">    1   </td><td style=\"text-align: right;\">  0.33</td><td style=\"text-align: right;\"> 68.403 </td></tr>\n",
       "<tr><td>Q    </td><td>C     </td><td style=\"text-align: right;\">       120</td><td style=\"text-align: right;\">        3</td><td style=\"text-align: right;\">    5</td><td style=\"text-align: right;\">      15</td><td style=\"text-align: right;\">    2  </td><td style=\"text-align: right;\">    8  </td><td style=\"text-align: right;\">       8</td><td style=\"text-align: right;\">     135</td><td style=\"text-align: right;\">         0</td><td style=\"text-align: right;\">      3</td><td style=\"text-align: right;\">    1   </td><td style=\"text-align: right;\">  1   </td><td style=\"text-align: right;\"> 33.9837</td></tr>\n",
       "<tr><td>K    </td><td>C     </td><td style=\"text-align: right;\">        70</td><td style=\"text-align: right;\">        4</td><td style=\"text-align: right;\">    1</td><td style=\"text-align: right;\">     260</td><td style=\"text-align: right;\">    9  </td><td style=\"text-align: right;\">    7  </td><td style=\"text-align: right;\">       5</td><td style=\"text-align: right;\">     320</td><td style=\"text-align: right;\">        25</td><td style=\"text-align: right;\">      3</td><td style=\"text-align: right;\">    1   </td><td style=\"text-align: right;\">  0.33</td><td style=\"text-align: right;\"> 59.4255</td></tr>\n",
       "<tr><td>K    </td><td>C     </td><td style=\"text-align: right;\">        50</td><td style=\"text-align: right;\">        4</td><td style=\"text-align: right;\">    0</td><td style=\"text-align: right;\">     140</td><td style=\"text-align: right;\">   14  </td><td style=\"text-align: right;\">    8  </td><td style=\"text-align: right;\">       0</td><td style=\"text-align: right;\">     330</td><td style=\"text-align: right;\">        25</td><td style=\"text-align: right;\">      3</td><td style=\"text-align: right;\">    1   </td><td style=\"text-align: right;\">  0.5 </td><td style=\"text-align: right;\"> 93.7049</td></tr>\n",
       "<tr><td>R    </td><td>C     </td><td style=\"text-align: right;\">       110</td><td style=\"text-align: right;\">        2</td><td style=\"text-align: right;\">    2</td><td style=\"text-align: right;\">     200</td><td style=\"text-align: right;\">    1  </td><td style=\"text-align: right;\">   14  </td><td style=\"text-align: right;\">       8</td><td style=\"text-align: right;\">      -1</td><td style=\"text-align: right;\">        25</td><td style=\"text-align: right;\">      3</td><td style=\"text-align: right;\">    1   </td><td style=\"text-align: right;\">  0.75</td><td style=\"text-align: right;\"> 34.3848</td></tr>\n",
       "<tr><td>G    </td><td>C     </td><td style=\"text-align: right;\">       110</td><td style=\"text-align: right;\">        2</td><td style=\"text-align: right;\">    2</td><td style=\"text-align: right;\">     180</td><td style=\"text-align: right;\">    1.5</td><td style=\"text-align: right;\">   10.5</td><td style=\"text-align: right;\">      10</td><td style=\"text-align: right;\">      70</td><td style=\"text-align: right;\">        25</td><td style=\"text-align: right;\">      1</td><td style=\"text-align: right;\">    1   </td><td style=\"text-align: right;\">  0.75</td><td style=\"text-align: right;\"> 29.5095</td></tr>\n",
       "<tr><td>K    </td><td>C     </td><td style=\"text-align: right;\">       110</td><td style=\"text-align: right;\">        2</td><td style=\"text-align: right;\">    0</td><td style=\"text-align: right;\">     125</td><td style=\"text-align: right;\">    1  </td><td style=\"text-align: right;\">   11  </td><td style=\"text-align: right;\">      14</td><td style=\"text-align: right;\">      30</td><td style=\"text-align: right;\">        25</td><td style=\"text-align: right;\">      2</td><td style=\"text-align: right;\">    1   </td><td style=\"text-align: right;\">  1   </td><td style=\"text-align: right;\"> 33.1741</td></tr>\n",
       "<tr><td>G    </td><td>C     </td><td style=\"text-align: right;\">       130</td><td style=\"text-align: right;\">        3</td><td style=\"text-align: right;\">    2</td><td style=\"text-align: right;\">     210</td><td style=\"text-align: right;\">    2  </td><td style=\"text-align: right;\">   18  </td><td style=\"text-align: right;\">       8</td><td style=\"text-align: right;\">     100</td><td style=\"text-align: right;\">        25</td><td style=\"text-align: right;\">      3</td><td style=\"text-align: right;\">    1.33</td><td style=\"text-align: right;\">  0.75</td><td style=\"text-align: right;\"> 37.0386</td></tr>\n",
       "<tr><td>R    </td><td>C     </td><td style=\"text-align: right;\">        90</td><td style=\"text-align: right;\">        2</td><td style=\"text-align: right;\">    1</td><td style=\"text-align: right;\">     200</td><td style=\"text-align: right;\">    4  </td><td style=\"text-align: right;\">   15  </td><td style=\"text-align: right;\">       6</td><td style=\"text-align: right;\">     125</td><td style=\"text-align: right;\">        25</td><td style=\"text-align: right;\">      1</td><td style=\"text-align: right;\">    1   </td><td style=\"text-align: right;\">  0.67</td><td style=\"text-align: right;\"> 49.1203</td></tr>\n",
       "<tr><td>P    </td><td>C     </td><td style=\"text-align: right;\">        90</td><td style=\"text-align: right;\">        3</td><td style=\"text-align: right;\">    0</td><td style=\"text-align: right;\">     210</td><td style=\"text-align: right;\">    5  </td><td style=\"text-align: right;\">   13  </td><td style=\"text-align: right;\">       5</td><td style=\"text-align: right;\">     190</td><td style=\"text-align: right;\">        25</td><td style=\"text-align: right;\">      3</td><td style=\"text-align: right;\">    1   </td><td style=\"text-align: right;\">  0.67</td><td style=\"text-align: right;\"> 53.3138</td></tr>\n",
       "</tbody>\n",
       "</table>"
      ]
     },
     "metadata": {},
     "output_type": "display_data"
    },
    {
     "data": {
      "text/plain": []
     },
     "execution_count": 12,
     "metadata": {},
     "output_type": "execute_result"
    }
   ],
   "source": [
    "data.head()"
   ]
  },
  {
   "cell_type": "code",
   "execution_count": 13,
   "metadata": {},
   "outputs": [],
   "source": [
    "target = \"rating\""
   ]
  },
  {
   "cell_type": "code",
   "execution_count": 14,
   "metadata": {},
   "outputs": [],
   "source": [
    "train = data"
   ]
  },
  {
   "cell_type": "code",
   "execution_count": 15,
   "metadata": {},
   "outputs": [],
   "source": [
    "train_cols = [x for x in train.col_names if x not in ['rating']]"
   ]
  },
  {
   "cell_type": "code",
   "execution_count": 17,
   "metadata": {},
   "outputs": [],
   "source": [
    "### using autoencoder for the data"
   ]
  },
  {
   "cell_type": "code",
   "execution_count": 18,
   "metadata": {},
   "outputs": [
    {
     "name": "stdout",
     "output_type": "stream",
     "text": [
      "deeplearning Model Build progress: |██████████████████████████████████████| 100%\n"
     ]
    }
   ],
   "source": [
    "from h2o.estimators import H2OAutoEncoderEstimator\n",
    "\n",
    "autoencoder = H2OAutoEncoderEstimator(activation=\"Tanh\",\n",
    "                              hidden=[25],\n",
    "                              ignore_const_cols=False,\n",
    "                              epochs=2000)\n",
    "\n",
    "autoencoder.train(x=train_cols, training_frame=data)"
   ]
  },
  {
   "cell_type": "code",
   "execution_count": 19,
   "metadata": {},
   "outputs": [
    {
     "name": "stdout",
     "output_type": "stream",
     "text": [
      "\n",
      "ModelMetricsAutoEncoder: deeplearning\n",
      "** Reported on train data. **\n",
      "\n",
      "MSE: 0.00021819916412538058\n",
      "RMSE: 0.014771566068815472\n"
     ]
    },
    {
     "data": {
      "text/plain": []
     },
     "execution_count": 19,
     "metadata": {},
     "output_type": "execute_result"
    }
   ],
   "source": [
    "autoencoder._model_json[\"output\"][\"training_metrics\"]"
   ]
  },
  {
   "cell_type": "code",
   "execution_count": 20,
   "metadata": {},
   "outputs": [],
   "source": [
    "train = data"
   ]
  },
  {
   "cell_type": "code",
   "execution_count": 21,
   "metadata": {},
   "outputs": [
    {
     "name": "stdout",
     "output_type": "stream",
     "text": [
      "deeplearning prediction progress: |███████████████████████████████████████| 100%\n"
     ]
    }
   ],
   "source": [
    "train_deep_feats = autoencoder.predict(train)\n",
    "train_deep_feats = train_deep_feats.cbind(train['rating'])\n",
    "\n",
    "deep_cols = [x for x in train_deep_feats.col_names if x not in ['rating']]"
   ]
  },
  {
   "cell_type": "code",
   "execution_count": 22,
   "metadata": {},
   "outputs": [
    {
     "data": {
      "text/html": [
       "<table>\n",
       "<thead>\n",
       "<tr><th style=\"text-align: right;\">  reconstr_mfr.A</th><th style=\"text-align: right;\">  reconstr_mfr.G</th><th style=\"text-align: right;\">  reconstr_mfr.K</th><th style=\"text-align: right;\">  reconstr_mfr.N</th><th style=\"text-align: right;\">  reconstr_mfr.P</th><th style=\"text-align: right;\">  reconstr_mfr.Q</th><th style=\"text-align: right;\">  reconstr_mfr.R</th><th style=\"text-align: right;\">  reconstr_mfr.missing(NA)</th><th style=\"text-align: right;\">  reconstr_type.C</th><th style=\"text-align: right;\">  reconstr_type.H</th><th style=\"text-align: right;\">  reconstr_type.missing(NA)</th><th style=\"text-align: right;\">  reconstr_calories</th><th style=\"text-align: right;\">  reconstr_protein</th><th style=\"text-align: right;\">  reconstr_fat</th><th style=\"text-align: right;\">  reconstr_sodium</th><th style=\"text-align: right;\">  reconstr_fiber</th><th style=\"text-align: right;\">  reconstr_carbo</th><th style=\"text-align: right;\">  reconstr_sugars</th><th style=\"text-align: right;\">  reconstr_potass</th><th style=\"text-align: right;\">  reconstr_vitamins</th><th style=\"text-align: right;\">  reconstr_shelf</th><th style=\"text-align: right;\">  reconstr_weight</th><th style=\"text-align: right;\">  reconstr_cups</th><th style=\"text-align: right;\">  rating</th></tr>\n",
       "</thead>\n",
       "<tbody>\n",
       "<tr><td style=\"text-align: right;\">     -0.00497518</td><td style=\"text-align: right;\">      0.00311861</td><td style=\"text-align: right;\">     -0.00200944</td><td style=\"text-align: right;\">     0.998809   </td><td style=\"text-align: right;\">     0.000871987</td><td style=\"text-align: right;\">     -0.0056628 </td><td style=\"text-align: right;\">      0.00549959</td><td style=\"text-align: right;\">               0.000718734</td><td style=\"text-align: right;\">         0.999898</td><td style=\"text-align: right;\">       0.00469437</td><td style=\"text-align: right;\">               -3.36617e-06</td><td style=\"text-align: right;\">            69.9097</td><td style=\"text-align: right;\">           3.98599</td><td style=\"text-align: right;\">     1.06699  </td><td style=\"text-align: right;\">         130.467 </td><td style=\"text-align: right;\">       10.0114  </td><td style=\"text-align: right;\">         4.99246</td><td style=\"text-align: right;\">         5.97063 </td><td style=\"text-align: right;\">        282.369  </td><td style=\"text-align: right;\">          24.8075  </td><td style=\"text-align: right;\">         2.99971</td><td style=\"text-align: right;\">         1.00265 </td><td style=\"text-align: right;\">       0.330342</td><td style=\"text-align: right;\"> 68.403 </td></tr>\n",
       "<tr><td style=\"text-align: right;\">     -0.00210131</td><td style=\"text-align: right;\">      0.00510326</td><td style=\"text-align: right;\">     -0.00393941</td><td style=\"text-align: right;\">     3.79452e-05</td><td style=\"text-align: right;\">     0.00293618 </td><td style=\"text-align: right;\">      0.997899  </td><td style=\"text-align: right;\">      0.00351094</td><td style=\"text-align: right;\">               0.000128251</td><td style=\"text-align: right;\">         0.999961</td><td style=\"text-align: right;\">       0.00496302</td><td style=\"text-align: right;\">               -3.51908e-05</td><td style=\"text-align: right;\">           120.235 </td><td style=\"text-align: right;\">           3.00038</td><td style=\"text-align: right;\">     4.90159  </td><td style=\"text-align: right;\">          14.9967</td><td style=\"text-align: right;\">        2.01315 </td><td style=\"text-align: right;\">         8.00843</td><td style=\"text-align: right;\">         7.96968 </td><td style=\"text-align: right;\">        135.941  </td><td style=\"text-align: right;\">          -0.203811</td><td style=\"text-align: right;\">         2.99807</td><td style=\"text-align: right;\">         1.0031  </td><td style=\"text-align: right;\">       0.998671</td><td style=\"text-align: right;\"> 33.9837</td></tr>\n",
       "<tr><td style=\"text-align: right;\">     -0.0030804 </td><td style=\"text-align: right;\">      0.00117463</td><td style=\"text-align: right;\">      0.999797  </td><td style=\"text-align: right;\">    -0.00224186 </td><td style=\"text-align: right;\">    -0.00107014 </td><td style=\"text-align: right;\">     -0.00550317</td><td style=\"text-align: right;\">     -0.00264055</td><td style=\"text-align: right;\">               0.00081694 </td><td style=\"text-align: right;\">         0.99999 </td><td style=\"text-align: right;\">      -0.00216336</td><td style=\"text-align: right;\">               -5.01668e-05</td><td style=\"text-align: right;\">            70.1627</td><td style=\"text-align: right;\">           4.02397</td><td style=\"text-align: right;\">     0.964114 </td><td style=\"text-align: right;\">         259.803 </td><td style=\"text-align: right;\">        9.13272 </td><td style=\"text-align: right;\">         6.99415</td><td style=\"text-align: right;\">         4.99585 </td><td style=\"text-align: right;\">        316.615  </td><td style=\"text-align: right;\">          24.656   </td><td style=\"text-align: right;\">         2.99407</td><td style=\"text-align: right;\">         1.00243 </td><td style=\"text-align: right;\">       0.332678</td><td style=\"text-align: right;\"> 59.4255</td></tr>\n",
       "<tr><td style=\"text-align: right;\">      0.00951971</td><td style=\"text-align: right;\">     -0.0013626 </td><td style=\"text-align: right;\">      0.999791  </td><td style=\"text-align: right;\">     0.018725   </td><td style=\"text-align: right;\">     0.00353472 </td><td style=\"text-align: right;\">      0.0174875 </td><td style=\"text-align: right;\">      0.0110954 </td><td style=\"text-align: right;\">               0.00233181 </td><td style=\"text-align: right;\">         0.999994</td><td style=\"text-align: right;\">      -0.00434593</td><td style=\"text-align: right;\">                0.00160106 </td><td style=\"text-align: right;\">            51.4392</td><td style=\"text-align: right;\">           3.89587</td><td style=\"text-align: right;\">     0.0187613</td><td style=\"text-align: right;\">         138.942 </td><td style=\"text-align: right;\">       13.1123  </td><td style=\"text-align: right;\">         7.97928</td><td style=\"text-align: right;\">         0.139951</td><td style=\"text-align: right;\">        327.827  </td><td style=\"text-align: right;\">          24.5963  </td><td style=\"text-align: right;\">         3.00427</td><td style=\"text-align: right;\">         0.994691</td><td style=\"text-align: right;\">       0.486307</td><td style=\"text-align: right;\"> 93.7049</td></tr>\n",
       "<tr><td style=\"text-align: right;\">     -0.00308796</td><td style=\"text-align: right;\">     -1.2433e-05</td><td style=\"text-align: right;\">     -0.00435196</td><td style=\"text-align: right;\">    -0.0133778  </td><td style=\"text-align: right;\">    -0.00594969 </td><td style=\"text-align: right;\">      0.0125269 </td><td style=\"text-align: right;\">      0.998037  </td><td style=\"text-align: right;\">              -0.000128077</td><td style=\"text-align: right;\">         0.99999 </td><td style=\"text-align: right;\">      -0.00465225</td><td style=\"text-align: right;\">                0.00149461 </td><td style=\"text-align: right;\">           110.07  </td><td style=\"text-align: right;\">           1.96617</td><td style=\"text-align: right;\">     2.02511  </td><td style=\"text-align: right;\">         195.467 </td><td style=\"text-align: right;\">        0.958447</td><td style=\"text-align: right;\">        14.1117 </td><td style=\"text-align: right;\">         7.93642 </td><td style=\"text-align: right;\">         -2.92344</td><td style=\"text-align: right;\">          24.3854  </td><td style=\"text-align: right;\">         2.99905</td><td style=\"text-align: right;\">         0.996452</td><td style=\"text-align: right;\">       0.771298</td><td style=\"text-align: right;\"> 34.3848</td></tr>\n",
       "<tr><td style=\"text-align: right;\">     -0.0158275 </td><td style=\"text-align: right;\">      0.999437  </td><td style=\"text-align: right;\">     -0.00612284</td><td style=\"text-align: right;\">    -0.00991643 </td><td style=\"text-align: right;\">    -0.000334404</td><td style=\"text-align: right;\">      0.01519   </td><td style=\"text-align: right;\">      0.0159494 </td><td style=\"text-align: right;\">              -0.00078266 </td><td style=\"text-align: right;\">         0.999995</td><td style=\"text-align: right;\">       0.00946054</td><td style=\"text-align: right;\">                0.000740783</td><td style=\"text-align: right;\">           110.286 </td><td style=\"text-align: right;\">           2.02147</td><td style=\"text-align: right;\">     2.1181   </td><td style=\"text-align: right;\">         177.179 </td><td style=\"text-align: right;\">        1.43181 </td><td style=\"text-align: right;\">        10.3592 </td><td style=\"text-align: right;\">         9.92023 </td><td style=\"text-align: right;\">         70.9617 </td><td style=\"text-align: right;\">          23.2755  </td><td style=\"text-align: right;\">         1.00975</td><td style=\"text-align: right;\">         1.01422 </td><td style=\"text-align: right;\">       0.74914 </td><td style=\"text-align: right;\"> 29.5095</td></tr>\n",
       "<tr><td style=\"text-align: right;\">      0.00265424</td><td style=\"text-align: right;\">      0.00716189</td><td style=\"text-align: right;\">      0.999803  </td><td style=\"text-align: right;\">     0.00943574 </td><td style=\"text-align: right;\">     0.00490115 </td><td style=\"text-align: right;\">     -0.0100473 </td><td style=\"text-align: right;\">      0.0016962 </td><td style=\"text-align: right;\">               0.00124943 </td><td style=\"text-align: right;\">         0.999997</td><td style=\"text-align: right;\">      -0.00497173</td><td style=\"text-align: right;\">                0.000165166</td><td style=\"text-align: right;\">           111.227 </td><td style=\"text-align: right;\">           1.96239</td><td style=\"text-align: right;\">     0.0222576</td><td style=\"text-align: right;\">         125.06  </td><td style=\"text-align: right;\">        0.7638  </td><td style=\"text-align: right;\">        11.1524 </td><td style=\"text-align: right;\">        13.9897  </td><td style=\"text-align: right;\">         29.7961 </td><td style=\"text-align: right;\">          25.7943  </td><td style=\"text-align: right;\">         2.01504</td><td style=\"text-align: right;\">         1.00826 </td><td style=\"text-align: right;\">       0.990922</td><td style=\"text-align: right;\"> 33.1741</td></tr>\n",
       "<tr><td style=\"text-align: right;\">     -0.00639129</td><td style=\"text-align: right;\">      0.999489  </td><td style=\"text-align: right;\">     -0.0138927 </td><td style=\"text-align: right;\">     0.00487907 </td><td style=\"text-align: right;\">     0.00100911 </td><td style=\"text-align: right;\">     -0.00200827</td><td style=\"text-align: right;\">      0.00379103</td><td style=\"text-align: right;\">              -0.000603487</td><td style=\"text-align: right;\">         0.999997</td><td style=\"text-align: right;\">       0.0124217 </td><td style=\"text-align: right;\">                0.00123721 </td><td style=\"text-align: right;\">           131.328 </td><td style=\"text-align: right;\">           2.99061</td><td style=\"text-align: right;\">     2.02186  </td><td style=\"text-align: right;\">         214.209 </td><td style=\"text-align: right;\">        2.02308 </td><td style=\"text-align: right;\">        18.2274 </td><td style=\"text-align: right;\">         7.81467 </td><td style=\"text-align: right;\">         97.0209 </td><td style=\"text-align: right;\">          24.5649  </td><td style=\"text-align: right;\">         3.00329</td><td style=\"text-align: right;\">         1.3302  </td><td style=\"text-align: right;\">       0.755329</td><td style=\"text-align: right;\"> 37.0386</td></tr>\n",
       "<tr><td style=\"text-align: right;\">     -0.00243767</td><td style=\"text-align: right;\">      0.00720204</td><td style=\"text-align: right;\">     -0.00530003</td><td style=\"text-align: right;\">     0.0045142  </td><td style=\"text-align: right;\">     0.00555463 </td><td style=\"text-align: right;\">     -0.0027644 </td><td style=\"text-align: right;\">      0.998108  </td><td style=\"text-align: right;\">               0.000879148</td><td style=\"text-align: right;\">         0.999966</td><td style=\"text-align: right;\">       0.00963978</td><td style=\"text-align: right;\">                0.000143329</td><td style=\"text-align: right;\">            90.1656</td><td style=\"text-align: right;\">           1.9853 </td><td style=\"text-align: right;\">     1.01991  </td><td style=\"text-align: right;\">         201.444 </td><td style=\"text-align: right;\">        4.03015 </td><td style=\"text-align: right;\">        15.071  </td><td style=\"text-align: right;\">         5.95534 </td><td style=\"text-align: right;\">        125.56   </td><td style=\"text-align: right;\">          24.7659  </td><td style=\"text-align: right;\">         1.01269</td><td style=\"text-align: right;\">         0.993367</td><td style=\"text-align: right;\">       0.668377</td><td style=\"text-align: right;\"> 49.1203</td></tr>\n",
       "<tr><td style=\"text-align: right;\">     -0.0488307 </td><td style=\"text-align: right;\">      0.0204212 </td><td style=\"text-align: right;\">     -0.00730144</td><td style=\"text-align: right;\">     0.017686   </td><td style=\"text-align: right;\">     0.998735   </td><td style=\"text-align: right;\">     -0.0229389 </td><td style=\"text-align: right;\">      0.0334541 </td><td style=\"text-align: right;\">              -0.000403359</td><td style=\"text-align: right;\">         0.999961</td><td style=\"text-align: right;\">      -0.00624784</td><td style=\"text-align: right;\">               -0.000685631</td><td style=\"text-align: right;\">            89.5214</td><td style=\"text-align: right;\">           2.95138</td><td style=\"text-align: right;\">     0.0296167</td><td style=\"text-align: right;\">         203.186 </td><td style=\"text-align: right;\">        4.86451 </td><td style=\"text-align: right;\">        12.6987 </td><td style=\"text-align: right;\">         5.17153 </td><td style=\"text-align: right;\">        192.331  </td><td style=\"text-align: right;\">          24.6472  </td><td style=\"text-align: right;\">         2.97099</td><td style=\"text-align: right;\">         1.00953 </td><td style=\"text-align: right;\">       0.668167</td><td style=\"text-align: right;\"> 53.3138</td></tr>\n",
       "</tbody>\n",
       "</table>"
      ]
     },
     "metadata": {},
     "output_type": "display_data"
    },
    {
     "data": {
      "text/plain": []
     },
     "execution_count": 22,
     "metadata": {},
     "output_type": "execute_result"
    }
   ],
   "source": [
    "train_deep_feats.head()"
   ]
  },
  {
   "cell_type": "code",
   "execution_count": null,
   "metadata": {},
   "outputs": [],
   "source": []
  }
 ],
 "metadata": {
  "kernelspec": {
   "display_name": "Python [conda env:spike_basicoV2]",
   "language": "python",
   "name": "conda-env-spike_basicoV2-py"
  },
  "language_info": {
   "codemirror_mode": {
    "name": "ipython",
    "version": 3
   },
   "file_extension": ".py",
   "mimetype": "text/x-python",
   "name": "python",
   "nbconvert_exporter": "python",
   "pygments_lexer": "ipython3",
   "version": "3.6.7"
  }
 },
 "nbformat": 4,
 "nbformat_minor": 2
}
